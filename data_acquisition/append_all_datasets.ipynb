{
 "cells": [
  {
   "cell_type": "code",
   "execution_count": 8,
   "metadata": {
    "collapsed": true
   },
   "outputs": [],
   "source": [
    "import pandas as pd\n",
    "import pathlib\n",
    "REPO_ROOT = pathlib.Path.cwd().parent\n",
    "EXPECTED_COLUMN_ORDER = ['track_id', 'artist_name', 'track_name', 'duration_ms', 'danceability', 'energy', 'key',\n",
    "                         'loudness', 'mode', 'speechiness', 'acousticness', 'instrumentalness', 'liveness', 'valence',\n",
    "                         'tempo', 'time_signature', 'genres', 'artist_popularity']"
   ]
  },
  {
   "cell_type": "code",
   "execution_count": 9,
   "outputs": [],
   "source": [
    "scraped_df = pd.read_csv(\"./data/final/scraped_dataset.csv\")\n",
    "big_dataset_1 = pd.read_csv(REPO_ROOT / 'data/song_data/song_dataset_with_jojos_music.csv')\n",
    "big_dataset_2 = pd.read_csv(REPO_ROOT / 'data/song_data/combined_data_1.csv')\n",
    "big_dataset_3 = pd.read_csv(REPO_ROOT / 'data/song_data/combined_data_2.csv')\n",
    "big_song_df = pd.concat([scraped_df, big_dataset_1, big_dataset_2, big_dataset_3])\n",
    "big_song_df = big_song_df.drop_duplicates(subset='track_id')\n",
    "big_song_df = big_song_df.drop(columns='Unnamed: 0')\n",
    "big_song_df = big_song_df[EXPECTED_COLUMN_ORDER]"
   ],
   "metadata": {
    "collapsed": false
   }
  },
  {
   "cell_type": "code",
   "execution_count": 10,
   "outputs": [
    {
     "data": {
      "text/plain": "                    track_id      artist_name track_name  duration_ms  \\\n0     1vLmMU3gTq7TyGgeUqIzoX              NaN        NaN     200080.0   \n1     2dOKarSO816XQ5QQlXxoHQ              NaN        NaN     175093.0   \n2     0r8qWJiBR9OFhcUYqPby6L              NaN        NaN     112253.0   \n3     7mwqRokxzb7HcudJMXPMVz              NaN        NaN     115690.0   \n4     7t3ZjXq8XIekeGuiuVtEZD              NaN        NaN     110653.0   \n...                      ...              ...        ...          ...   \n2098  6eF8X3wXM9mrwmLPprYEe6  Geir Gudmundson        NaN     256000.0   \n2099  1hdSvBsFEw1I5ZOLOoxf3Y       Rhys Lewis        NaN     199307.0   \n2100  52okn5MNA47tk87PeZJLEL               NF        NaN     212120.0   \n2101  6asF91q5vpDNxgcxlA6ElD           Rimzee        NaN     174667.0   \n2102  3uyiN34ShlO6b1ksuGcqya         Benyhana        NaN     179317.0   \n\n      danceability  energy   key  loudness  mode  speechiness  acousticness  \\\n0            0.157  0.9020   2.0    -5.335   1.0       0.0586      0.000121   \n1            0.303  0.8200   4.0    -6.004   1.0       0.0599      0.001340   \n2            0.145  0.9580   4.0    -4.484   0.0       0.0697      0.000096   \n3            0.355  0.9960  11.0    -4.935   1.0       0.0827      0.000096   \n4            0.341  0.7480   4.0    -4.955   1.0       0.0413      0.001350   \n...            ...     ...   ...       ...   ...          ...           ...   \n2098         0.639  0.0808   2.0   -29.056   1.0       0.0638      0.995000   \n2099         0.756  0.3740   1.0    -7.555   1.0       0.0368      0.575000   \n2100         0.662  0.7140   5.0    -5.680   0.0       0.1210      0.312000   \n2101         0.664  0.6260  10.0    -8.834   0.0       0.3690      0.174000   \n2102         0.877  0.4800   4.0    -7.778   1.0       0.2750      0.291000   \n\n      instrumentalness  liveness  valence    tempo  time_signature  \\\n0             0.001770    0.2040    0.356  180.477             4.0   \n1             0.000016    0.7080    0.905  180.748             4.0   \n2             0.000000    0.0587    0.553  192.806             4.0   \n3             0.005380    0.3350    0.278  112.375             4.0   \n4             0.000022    0.2810    0.664  166.896             4.0   \n...                ...       ...      ...      ...             ...   \n2098          0.932000    0.1060    0.384   77.538             3.0   \n2099          0.000000    0.1090    0.551   84.975             4.0   \n2100          0.000000    0.1790    0.464  147.997             4.0   \n2101          0.000000    0.1030    0.434   89.344             4.0   \n2102          0.000000    0.0823    0.531  139.987             4.0   \n\n                               genres  artist_popularity  \n0                                 NaN                4.0  \n1                                 NaN                4.0  \n2                                 NaN                4.0  \n3                                 NaN                4.0  \n4                                 NaN                4.0  \n...                               ...                ...  \n2098             ['background piano']               38.0  \n2099  ['neo mellow', 'pop', 'uk pop']               60.0  \n2100    ['hip hop', 'pop rap', 'rap']               78.0  \n2101       ['uk drill', 'uk hip hop']               53.0  \n2102                               []               18.0  \n\n[311730 rows x 18 columns]",
      "text/html": "<div>\n<style scoped>\n    .dataframe tbody tr th:only-of-type {\n        vertical-align: middle;\n    }\n\n    .dataframe tbody tr th {\n        vertical-align: top;\n    }\n\n    .dataframe thead th {\n        text-align: right;\n    }\n</style>\n<table border=\"1\" class=\"dataframe\">\n  <thead>\n    <tr style=\"text-align: right;\">\n      <th></th>\n      <th>track_id</th>\n      <th>artist_name</th>\n      <th>track_name</th>\n      <th>duration_ms</th>\n      <th>danceability</th>\n      <th>energy</th>\n      <th>key</th>\n      <th>loudness</th>\n      <th>mode</th>\n      <th>speechiness</th>\n      <th>acousticness</th>\n      <th>instrumentalness</th>\n      <th>liveness</th>\n      <th>valence</th>\n      <th>tempo</th>\n      <th>time_signature</th>\n      <th>genres</th>\n      <th>artist_popularity</th>\n    </tr>\n  </thead>\n  <tbody>\n    <tr>\n      <th>0</th>\n      <td>1vLmMU3gTq7TyGgeUqIzoX</td>\n      <td>NaN</td>\n      <td>NaN</td>\n      <td>200080.0</td>\n      <td>0.157</td>\n      <td>0.9020</td>\n      <td>2.0</td>\n      <td>-5.335</td>\n      <td>1.0</td>\n      <td>0.0586</td>\n      <td>0.000121</td>\n      <td>0.001770</td>\n      <td>0.2040</td>\n      <td>0.356</td>\n      <td>180.477</td>\n      <td>4.0</td>\n      <td>NaN</td>\n      <td>4.0</td>\n    </tr>\n    <tr>\n      <th>1</th>\n      <td>2dOKarSO816XQ5QQlXxoHQ</td>\n      <td>NaN</td>\n      <td>NaN</td>\n      <td>175093.0</td>\n      <td>0.303</td>\n      <td>0.8200</td>\n      <td>4.0</td>\n      <td>-6.004</td>\n      <td>1.0</td>\n      <td>0.0599</td>\n      <td>0.001340</td>\n      <td>0.000016</td>\n      <td>0.7080</td>\n      <td>0.905</td>\n      <td>180.748</td>\n      <td>4.0</td>\n      <td>NaN</td>\n      <td>4.0</td>\n    </tr>\n    <tr>\n      <th>2</th>\n      <td>0r8qWJiBR9OFhcUYqPby6L</td>\n      <td>NaN</td>\n      <td>NaN</td>\n      <td>112253.0</td>\n      <td>0.145</td>\n      <td>0.9580</td>\n      <td>4.0</td>\n      <td>-4.484</td>\n      <td>0.0</td>\n      <td>0.0697</td>\n      <td>0.000096</td>\n      <td>0.000000</td>\n      <td>0.0587</td>\n      <td>0.553</td>\n      <td>192.806</td>\n      <td>4.0</td>\n      <td>NaN</td>\n      <td>4.0</td>\n    </tr>\n    <tr>\n      <th>3</th>\n      <td>7mwqRokxzb7HcudJMXPMVz</td>\n      <td>NaN</td>\n      <td>NaN</td>\n      <td>115690.0</td>\n      <td>0.355</td>\n      <td>0.9960</td>\n      <td>11.0</td>\n      <td>-4.935</td>\n      <td>1.0</td>\n      <td>0.0827</td>\n      <td>0.000096</td>\n      <td>0.005380</td>\n      <td>0.3350</td>\n      <td>0.278</td>\n      <td>112.375</td>\n      <td>4.0</td>\n      <td>NaN</td>\n      <td>4.0</td>\n    </tr>\n    <tr>\n      <th>4</th>\n      <td>7t3ZjXq8XIekeGuiuVtEZD</td>\n      <td>NaN</td>\n      <td>NaN</td>\n      <td>110653.0</td>\n      <td>0.341</td>\n      <td>0.7480</td>\n      <td>4.0</td>\n      <td>-4.955</td>\n      <td>1.0</td>\n      <td>0.0413</td>\n      <td>0.001350</td>\n      <td>0.000022</td>\n      <td>0.2810</td>\n      <td>0.664</td>\n      <td>166.896</td>\n      <td>4.0</td>\n      <td>NaN</td>\n      <td>4.0</td>\n    </tr>\n    <tr>\n      <th>...</th>\n      <td>...</td>\n      <td>...</td>\n      <td>...</td>\n      <td>...</td>\n      <td>...</td>\n      <td>...</td>\n      <td>...</td>\n      <td>...</td>\n      <td>...</td>\n      <td>...</td>\n      <td>...</td>\n      <td>...</td>\n      <td>...</td>\n      <td>...</td>\n      <td>...</td>\n      <td>...</td>\n      <td>...</td>\n      <td>...</td>\n    </tr>\n    <tr>\n      <th>2098</th>\n      <td>6eF8X3wXM9mrwmLPprYEe6</td>\n      <td>Geir Gudmundson</td>\n      <td>NaN</td>\n      <td>256000.0</td>\n      <td>0.639</td>\n      <td>0.0808</td>\n      <td>2.0</td>\n      <td>-29.056</td>\n      <td>1.0</td>\n      <td>0.0638</td>\n      <td>0.995000</td>\n      <td>0.932000</td>\n      <td>0.1060</td>\n      <td>0.384</td>\n      <td>77.538</td>\n      <td>3.0</td>\n      <td>['background piano']</td>\n      <td>38.0</td>\n    </tr>\n    <tr>\n      <th>2099</th>\n      <td>1hdSvBsFEw1I5ZOLOoxf3Y</td>\n      <td>Rhys Lewis</td>\n      <td>NaN</td>\n      <td>199307.0</td>\n      <td>0.756</td>\n      <td>0.3740</td>\n      <td>1.0</td>\n      <td>-7.555</td>\n      <td>1.0</td>\n      <td>0.0368</td>\n      <td>0.575000</td>\n      <td>0.000000</td>\n      <td>0.1090</td>\n      <td>0.551</td>\n      <td>84.975</td>\n      <td>4.0</td>\n      <td>['neo mellow', 'pop', 'uk pop']</td>\n      <td>60.0</td>\n    </tr>\n    <tr>\n      <th>2100</th>\n      <td>52okn5MNA47tk87PeZJLEL</td>\n      <td>NF</td>\n      <td>NaN</td>\n      <td>212120.0</td>\n      <td>0.662</td>\n      <td>0.7140</td>\n      <td>5.0</td>\n      <td>-5.680</td>\n      <td>0.0</td>\n      <td>0.1210</td>\n      <td>0.312000</td>\n      <td>0.000000</td>\n      <td>0.1790</td>\n      <td>0.464</td>\n      <td>147.997</td>\n      <td>4.0</td>\n      <td>['hip hop', 'pop rap', 'rap']</td>\n      <td>78.0</td>\n    </tr>\n    <tr>\n      <th>2101</th>\n      <td>6asF91q5vpDNxgcxlA6ElD</td>\n      <td>Rimzee</td>\n      <td>NaN</td>\n      <td>174667.0</td>\n      <td>0.664</td>\n      <td>0.6260</td>\n      <td>10.0</td>\n      <td>-8.834</td>\n      <td>0.0</td>\n      <td>0.3690</td>\n      <td>0.174000</td>\n      <td>0.000000</td>\n      <td>0.1030</td>\n      <td>0.434</td>\n      <td>89.344</td>\n      <td>4.0</td>\n      <td>['uk drill', 'uk hip hop']</td>\n      <td>53.0</td>\n    </tr>\n    <tr>\n      <th>2102</th>\n      <td>3uyiN34ShlO6b1ksuGcqya</td>\n      <td>Benyhana</td>\n      <td>NaN</td>\n      <td>179317.0</td>\n      <td>0.877</td>\n      <td>0.4800</td>\n      <td>4.0</td>\n      <td>-7.778</td>\n      <td>1.0</td>\n      <td>0.2750</td>\n      <td>0.291000</td>\n      <td>0.000000</td>\n      <td>0.0823</td>\n      <td>0.531</td>\n      <td>139.987</td>\n      <td>4.0</td>\n      <td>[]</td>\n      <td>18.0</td>\n    </tr>\n  </tbody>\n</table>\n<p>311730 rows × 18 columns</p>\n</div>"
     },
     "execution_count": 10,
     "metadata": {},
     "output_type": "execute_result"
    }
   ],
   "source": [
    "big_song_df"
   ],
   "metadata": {
    "collapsed": false
   }
  },
  {
   "cell_type": "code",
   "execution_count": 11,
   "outputs": [],
   "source": [
    "big_song_df.to_csv(REPO_ROOT / \"data/song_data/final_song_dataset.csv\")"
   ],
   "metadata": {
    "collapsed": false
   }
  }
 ],
 "metadata": {
  "kernelspec": {
   "display_name": "Python 3",
   "language": "python",
   "name": "python3"
  },
  "language_info": {
   "codemirror_mode": {
    "name": "ipython",
    "version": 2
   },
   "file_extension": ".py",
   "mimetype": "text/x-python",
   "name": "python",
   "nbconvert_exporter": "python",
   "pygments_lexer": "ipython2",
   "version": "2.7.6"
  }
 },
 "nbformat": 4,
 "nbformat_minor": 0
}
