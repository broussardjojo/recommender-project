{
 "cells": [
  {
   "cell_type": "code",
   "execution_count": 7,
   "metadata": {
    "collapsed": true
   },
   "outputs": [],
   "source": [
    "import asyncio\n",
    "import base64\n",
    "from typing import List\n",
    "\n",
    "import requests\n",
    "from aiohttp import ClientSession\n",
    "import api_setup\n",
    "\n",
    "env_vars = api_setup.parse_api_kvs(\"../api-keys\")\n",
    "\n",
    "def get_header_with_token(client_id: str, client_secret: str):\n",
    "    creds = f\"{env_vars['client_id']}:{env_vars['client_secret']}\"\n",
    "    creds_b64 = base64.b64encode(creds.encode())\n",
    "    headers= {\"Authorization\": f\"Basic {creds_b64.decode()}\"}\n",
    "    data= {\"grant_type\": \"client_credentials\"}\n",
    "    token = requests.post(\"https://accounts.spotify.com/api/token\", headers=headers, data=data)\n",
    "    token = token.json()['access_token']\n",
    "    return {\"Accept\": \"application/json\", \"Content-Type\": \"application/json\", \"Authorization\": f\"Bearer {token}\"}\n",
    "\n",
    "async def get_audio_features(session: ClientSession, track_uris: str) -> dict:\n",
    "    \"\"\"\n",
    "    Return the audio features of the song with the given uri.\n",
    "    \"\"\"\n",
    "    sublist = [uri.split(\":\")[-1] for uri in track_uris]\n",
    "    endpoint = f\"https://api.spotify.com/v1/audio-features/\"\n",
    "\n",
    "    async with session.request(\"get\", endpoint, data={'ids': \",\".join(sublist)}) as response:\n",
    "        response = await(response.content)\n",
    "    return response\n",
    "\n",
    "\n",
    "async def featurize_song_list(client_id:str, client_secret: str, song_uris: List[List[str]]) -> List[dict]:\n",
    "    # TODO: This can be chunked >.>\n",
    "    # https://developer.spotify.com/documentation/web-api/reference/#/operations/get-several-audio-features\n",
    "    request_headers = get_header_with_token(client_id, client_secret)\n",
    "    async with ClientSession(headers=request_headers) as session:\n",
    "        tasks = [asyncio.ensure_future(get_audio_features(session, uri)) for uri in song_uris]\n",
    "        features = await(asyncio.gather(*tasks))\n",
    "    return features\n",
    "\n",
    "def split_into_sublists(input_list, chunk_size=50):\n",
    "    upto = 0\n",
    "    output_lists = []\n",
    "    while True:\n",
    "        if upto + chunk_size >= len(input_list):\n",
    "            output_lists.append(input_list[upto:-1])\n",
    "            break\n",
    "        else:\n",
    "            output_lists.append(input_list[upto:upto+chunk_size])\n",
    "            upto += chunk_size\n",
    "    return output_lists\n"
   ]
  },
  {
   "cell_type": "code",
   "execution_count": 8,
   "outputs": [
    {
     "name": "stdout",
     "output_type": "stream",
     "text": [
      "Reading data...\n"
     ]
    },
    {
     "ename": "TypeError",
     "evalue": "object StreamReader can't be used in 'await' expression",
     "output_type": "error",
     "traceback": [
      "\u001B[1;31m---------------------------------------------------------------------------\u001B[0m",
      "\u001B[1;31mTypeError\u001B[0m                                 Traceback (most recent call last)",
      "Cell \u001B[1;32mIn [8], line 8\u001B[0m\n\u001B[0;32m      5\u001B[0m track_uris \u001B[38;5;241m=\u001B[39m track_uris[:\u001B[38;5;241m300\u001B[39m] \u001B[38;5;66;03m# Don't do the whole thing at once\u001B[39;00m\n\u001B[0;32m      6\u001B[0m track_uris_sublist \u001B[38;5;241m=\u001B[39m split_into_sublists(track_uris, \u001B[38;5;241m100\u001B[39m)\n\u001B[1;32m----> 8\u001B[0m results \u001B[38;5;241m=\u001B[39m \u001B[38;5;28;01mawait\u001B[39;00m featurize_song_list(env_vars[\u001B[38;5;124m'\u001B[39m\u001B[38;5;124mclient_id\u001B[39m\u001B[38;5;124m'\u001B[39m], env_vars[\u001B[38;5;124m'\u001B[39m\u001B[38;5;124mclient_secret\u001B[39m\u001B[38;5;124m'\u001B[39m], track_uris_sublist)\n\u001B[0;32m     10\u001B[0m \u001B[38;5;28mprint\u001B[39m(results)\n",
      "Cell \u001B[1;32mIn [7], line 38\u001B[0m, in \u001B[0;36mfeaturize_song_list\u001B[1;34m(client_id, client_secret, song_uris)\u001B[0m\n\u001B[0;32m     36\u001B[0m \u001B[38;5;28;01masync\u001B[39;00m \u001B[38;5;28;01mwith\u001B[39;00m ClientSession(headers\u001B[38;5;241m=\u001B[39mrequest_headers) \u001B[38;5;28;01mas\u001B[39;00m session:\n\u001B[0;32m     37\u001B[0m     tasks \u001B[38;5;241m=\u001B[39m [asyncio\u001B[38;5;241m.\u001B[39mensure_future(get_audio_features(session, uri)) \u001B[38;5;28;01mfor\u001B[39;00m uri \u001B[38;5;129;01min\u001B[39;00m song_uris]\n\u001B[1;32m---> 38\u001B[0m     features \u001B[38;5;241m=\u001B[39m \u001B[38;5;28;01mawait\u001B[39;00m(asyncio\u001B[38;5;241m.\u001B[39mgather(\u001B[38;5;241m*\u001B[39mtasks))\n\u001B[0;32m     39\u001B[0m \u001B[38;5;28;01mreturn\u001B[39;00m features\n",
      "Cell \u001B[1;32mIn [7], line 28\u001B[0m, in \u001B[0;36mget_audio_features\u001B[1;34m(session, track_uris)\u001B[0m\n\u001B[0;32m     25\u001B[0m endpoint \u001B[38;5;241m=\u001B[39m \u001B[38;5;124mf\u001B[39m\u001B[38;5;124m\"\u001B[39m\u001B[38;5;124mhttps://api.spotify.com/v1/audio-features/\u001B[39m\u001B[38;5;124m\"\u001B[39m\n\u001B[0;32m     27\u001B[0m \u001B[38;5;28;01masync\u001B[39;00m \u001B[38;5;28;01mwith\u001B[39;00m session\u001B[38;5;241m.\u001B[39mrequest(\u001B[38;5;124m\"\u001B[39m\u001B[38;5;124mget\u001B[39m\u001B[38;5;124m\"\u001B[39m, endpoint, data\u001B[38;5;241m=\u001B[39m{\u001B[38;5;124m'\u001B[39m\u001B[38;5;124mids\u001B[39m\u001B[38;5;124m'\u001B[39m: \u001B[38;5;124m\"\u001B[39m\u001B[38;5;124m,\u001B[39m\u001B[38;5;124m\"\u001B[39m\u001B[38;5;241m.\u001B[39mjoin(sublist)}) \u001B[38;5;28;01mas\u001B[39;00m response:\n\u001B[1;32m---> 28\u001B[0m     response \u001B[38;5;241m=\u001B[39m \u001B[38;5;28;01mawait\u001B[39;00m(response\u001B[38;5;241m.\u001B[39mcontent)\n\u001B[0;32m     29\u001B[0m \u001B[38;5;28;01mreturn\u001B[39;00m response\n",
      "\u001B[1;31mTypeError\u001B[0m: object StreamReader can't be used in 'await' expression"
     ]
    }
   ],
   "source": [
    "print(\"Reading data...\")\n",
    "with open(\"./data/tracks/track_uris.txt\", \"r\") as artist_data:\n",
    "\ttrack_uris = [uri.strip() for uri in artist_data.readlines()]\n",
    "\n",
    "track_uris = track_uris[:300] # Don't do the whole thing at once\n",
    "track_uris_sublist = split_into_sublists(track_uris, 100)\n",
    "\n",
    "results = await featurize_song_list(env_vars['client_id'], env_vars['client_secret'], track_uris_sublist)\n",
    "\n",
    "print(results)"
   ],
   "metadata": {
    "collapsed": false
   }
  }
 ],
 "metadata": {
  "kernelspec": {
   "display_name": "Python 3",
   "language": "python",
   "name": "python3"
  },
  "language_info": {
   "codemirror_mode": {
    "name": "ipython",
    "version": 2
   },
   "file_extension": ".py",
   "mimetype": "text/x-python",
   "name": "python",
   "nbconvert_exporter": "python",
   "pygments_lexer": "ipython2",
   "version": "2.7.6"
  }
 },
 "nbformat": 4,
 "nbformat_minor": 0
}
