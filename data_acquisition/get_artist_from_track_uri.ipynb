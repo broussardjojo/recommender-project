{
 "cells": [
  {
   "cell_type": "code",
   "execution_count": 13,
   "outputs": [],
   "source": [
    "from aiohttp import ClientSession\n",
    "import api_setup\n",
    "import base64\n",
    "import requests\n",
    "import asyncio\n",
    "import json\n",
    "\n",
    "env_vars = api_setup.parse_api_kvs(\"./../api-keys\")"
   ],
   "metadata": {
    "collapsed": false
   }
  },
  {
   "cell_type": "code",
   "execution_count": 14,
   "outputs": [],
   "source": [
    "def get_header_with_token(client_id: str, client_secret: str):\n",
    "    creds = f\"{env_vars['client_id']}:{env_vars['client_secret']}\"\n",
    "    creds_b64 = base64.b64encode(creds.encode())\n",
    "    headers= {\"Authorization\": f\"Basic {creds_b64.decode()}\"}\n",
    "    data= {\"grant_type\": \"client_credentials\"}\n",
    "    token = requests.post(\"https://accounts.spotify.com/api/token\", headers=headers, data=data)\n",
    "    token = token.json()['access_token']\n",
    "    return {\"Accept\": \"application/json\", \"Content-Type\": \"application/json\", \"Authorization\": f\"Bearer {token}\"}\n",
    "\n",
    "async def get_artist(session: ClientSession, artist_uri: str) -> dict:\n",
    "    \"\"\"\n",
    "    Given an artist's URI, return their info.\n",
    "    \"\"\"\n",
    "    uri = artist_uri.split(\":\")[-1]\n",
    "    endpoint = f\"https://api.spotify.com/v1/artists/{uri}\"\n",
    "\n",
    "    async with session.get(endpoint) as response:\n",
    "        response = await(response.json())\n",
    "\n",
    "    return response"
   ],
   "metadata": {
    "collapsed": false
   }
  },
  {
   "cell_type": "code",
   "execution_count": 15,
   "outputs": [
    {
     "ename": "ContentTypeError",
     "evalue": "0, message='Attempt to decode JSON with unexpected mimetype: ', url=URL('https://api.spotify.com/v1/artists/6rVWskb8AOPPak8qg6dh4e')",
     "output_type": "error",
     "traceback": [
      "\u001B[1;31m---------------------------------------------------------------------------\u001B[0m",
      "\u001B[1;31mContentTypeError\u001B[0m                          Traceback (most recent call last)",
      "Cell \u001B[1;32mIn [15], line 5\u001B[0m\n\u001B[0;32m      3\u001B[0m \u001B[38;5;28;01masync\u001B[39;00m \u001B[38;5;28;01mwith\u001B[39;00m ClientSession(headers\u001B[38;5;241m=\u001B[39mget_header_with_token(env_vars[\u001B[38;5;124m'\u001B[39m\u001B[38;5;124mclient_id\u001B[39m\u001B[38;5;124m'\u001B[39m], env_vars)) \u001B[38;5;28;01mas\u001B[39;00m session:\n\u001B[0;32m      4\u001B[0m     tasks \u001B[38;5;241m=\u001B[39m [asyncio\u001B[38;5;241m.\u001B[39mensure_future(get_artist(session, uri)) \u001B[38;5;28;01mfor\u001B[39;00m uri \u001B[38;5;129;01min\u001B[39;00m artist_uris]\n\u001B[1;32m----> 5\u001B[0m     artist_info \u001B[38;5;241m=\u001B[39m \u001B[38;5;28;01mawait\u001B[39;00m(asyncio\u001B[38;5;241m.\u001B[39mgather(\u001B[38;5;241m*\u001B[39mtasks))\n\u001B[0;32m      6\u001B[0m artist_info\n",
      "Cell \u001B[1;32mIn [14], line 18\u001B[0m, in \u001B[0;36mget_artist\u001B[1;34m(session, artist_uri)\u001B[0m\n\u001B[0;32m     15\u001B[0m endpoint \u001B[38;5;241m=\u001B[39m \u001B[38;5;124mf\u001B[39m\u001B[38;5;124m\"\u001B[39m\u001B[38;5;124mhttps://api.spotify.com/v1/artists/\u001B[39m\u001B[38;5;132;01m{\u001B[39;00muri\u001B[38;5;132;01m}\u001B[39;00m\u001B[38;5;124m\"\u001B[39m\n\u001B[0;32m     17\u001B[0m \u001B[38;5;28;01masync\u001B[39;00m \u001B[38;5;28;01mwith\u001B[39;00m session\u001B[38;5;241m.\u001B[39mget(endpoint) \u001B[38;5;28;01mas\u001B[39;00m response:\n\u001B[1;32m---> 18\u001B[0m     response \u001B[38;5;241m=\u001B[39m \u001B[38;5;28;01mawait\u001B[39;00m(response\u001B[38;5;241m.\u001B[39mjson())\n\u001B[0;32m     20\u001B[0m \u001B[38;5;28;01mreturn\u001B[39;00m response\n",
      "File \u001B[1;32m~\\PycharmProjects\\recommender-project\\venv\\lib\\site-packages\\aiohttp\\client_reqrep.py:1104\u001B[0m, in \u001B[0;36mClientResponse.json\u001B[1;34m(self, encoding, loads, content_type)\u001B[0m\n\u001B[0;32m   1102\u001B[0m     ctype \u001B[38;5;241m=\u001B[39m \u001B[38;5;28mself\u001B[39m\u001B[38;5;241m.\u001B[39mheaders\u001B[38;5;241m.\u001B[39mget(hdrs\u001B[38;5;241m.\u001B[39mCONTENT_TYPE, \u001B[38;5;124m\"\u001B[39m\u001B[38;5;124m\"\u001B[39m)\u001B[38;5;241m.\u001B[39mlower()\n\u001B[0;32m   1103\u001B[0m     \u001B[38;5;28;01mif\u001B[39;00m \u001B[38;5;129;01mnot\u001B[39;00m _is_expected_content_type(ctype, content_type):\n\u001B[1;32m-> 1104\u001B[0m         \u001B[38;5;28;01mraise\u001B[39;00m ContentTypeError(\n\u001B[0;32m   1105\u001B[0m             \u001B[38;5;28mself\u001B[39m\u001B[38;5;241m.\u001B[39mrequest_info,\n\u001B[0;32m   1106\u001B[0m             \u001B[38;5;28mself\u001B[39m\u001B[38;5;241m.\u001B[39mhistory,\n\u001B[0;32m   1107\u001B[0m             message\u001B[38;5;241m=\u001B[39m(\n\u001B[0;32m   1108\u001B[0m                 \u001B[38;5;124m\"\u001B[39m\u001B[38;5;124mAttempt to decode JSON with \u001B[39m\u001B[38;5;124m\"\u001B[39m \u001B[38;5;124m\"\u001B[39m\u001B[38;5;124munexpected mimetype: \u001B[39m\u001B[38;5;132;01m%s\u001B[39;00m\u001B[38;5;124m\"\u001B[39m \u001B[38;5;241m%\u001B[39m ctype\n\u001B[0;32m   1109\u001B[0m             ),\n\u001B[0;32m   1110\u001B[0m             headers\u001B[38;5;241m=\u001B[39m\u001B[38;5;28mself\u001B[39m\u001B[38;5;241m.\u001B[39mheaders,\n\u001B[0;32m   1111\u001B[0m         )\n\u001B[0;32m   1113\u001B[0m stripped \u001B[38;5;241m=\u001B[39m \u001B[38;5;28mself\u001B[39m\u001B[38;5;241m.\u001B[39m_body\u001B[38;5;241m.\u001B[39mstrip()  \u001B[38;5;66;03m# type: ignore[union-attr]\u001B[39;00m\n\u001B[0;32m   1114\u001B[0m \u001B[38;5;28;01mif\u001B[39;00m \u001B[38;5;129;01mnot\u001B[39;00m stripped:\n",
      "\u001B[1;31mContentTypeError\u001B[0m: 0, message='Attempt to decode JSON with unexpected mimetype: ', url=URL('https://api.spotify.com/v1/artists/6rVWskb8AOPPak8qg6dh4e')"
     ]
    }
   ],
   "source": [
    "with open(\"./data/artists/artist_uris.txt\", \"r\") as artist_data:\n",
    "    artist_uris = [uri.strip() for uri in artist_data.readlines()]\n",
    "async with ClientSession(headers=get_header_with_token(env_vars['client_id'], env_vars)) as session:\n",
    "    tasks = [asyncio.ensure_future(get_artist(session, uri)) for uri in artist_uris]\n",
    "    artist_info = await(asyncio.gather(*tasks))\n",
    "artist_info"
   ],
   "metadata": {
    "collapsed": false
   }
  },
  {
   "cell_type": "code",
   "execution_count": null,
   "outputs": [],
   "source": [
    "# import json\n",
    "#\n",
    "# with open(\"./artists/artist_popularity_data.txt\", \"w\") as f:\n",
    "#     json.dump(artist_info, f)"
   ],
   "metadata": {
    "collapsed": false
   }
  }
 ],
 "metadata": {
  "kernelspec": {
   "display_name": "Python 3",
   "language": "python",
   "name": "python3"
  },
  "language_info": {
   "codemirror_mode": {
    "name": "ipython",
    "version": 2
   },
   "file_extension": ".py",
   "mimetype": "text/x-python",
   "name": "python",
   "nbconvert_exporter": "python",
   "pygments_lexer": "ipython2",
   "version": "2.7.6"
  }
 },
 "nbformat": 4,
 "nbformat_minor": 0
}
