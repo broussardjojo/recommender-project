{
 "cells": [
  {
   "cell_type": "code",
   "execution_count": 57,
   "metadata": {
    "collapsed": true
   },
   "outputs": [],
   "source": [
    "import pathlib\n",
    "import pandas as pd\n",
    "REPO_ROOT = pathlib.Path.cwd().parent"
   ]
  },
  {
   "cell_type": "code",
   "execution_count": 85,
   "outputs": [],
   "source": [
    "jojo_features = pd.read_csv(REPO_ROOT / \"data/intermediate/jojo/all_listened_to_features.csv\")\n",
    "music_dataset = pd.read_csv(REPO_ROOT / \"data/song_data/song_dataset.csv\")"
   ],
   "metadata": {
    "collapsed": false
   }
  },
  {
   "cell_type": "code",
   "execution_count": 59,
   "outputs": [
    {
     "name": "stdout",
     "output_type": "stream",
     "text": [
      "['type', 'id', 'uri', 'track_href', 'analysis_url', 'error', 'master_metadata_album_artist_name', 'master_metadata_album_album_name']\n",
      "['Unnamed: 0', 'track_id', 'artist_name', 'track_name']\n"
     ]
    }
   ],
   "source": [
    "print([column for column in jojo_features.columns if column not in music_dataset.columns])\n",
    "print([column for column in music_dataset.columns if column not in jojo_features.columns])"
   ],
   "metadata": {
    "collapsed": false
   }
  },
  {
   "cell_type": "code",
   "execution_count": 60,
   "outputs": [
    {
     "data": {
      "text/plain": "   danceability  energy   key  loudness  mode  speechiness  acousticness  \\\n0         0.543  0.9280   0.0    -5.206   1.0       0.0755      0.000329   \n1         0.401  0.9990   2.0    -0.467   1.0       0.0997      0.000079   \n2         0.000  0.0214   0.0   -13.288   1.0       0.0000      0.000000   \n3         0.733  0.8620   7.0    -5.736   1.0       0.1970      0.374000   \n4         0.604  0.8250   0.0    -5.373   1.0       0.0429      0.056400   \n5         0.388  0.1770   1.0   -14.061   0.0       0.0351      0.438000   \n6         0.805  0.7890  11.0    -4.404   0.0       0.4970      0.032900   \n7         0.737  0.8930   2.0    -4.151   1.0       0.0687      0.003130   \n8         0.617  0.7170  10.0    -7.858   0.0       0.1530      0.005640   \n9         0.274  0.5560  11.0    -5.507   0.0       0.0414      0.389000   \n\n   instrumentalness  liveness  valence  ...  \\\n0          0.567000    0.0328    0.358  ...   \n1          0.771000    0.1550    0.595  ...   \n2          1.000000    0.0000    0.000  ...   \n3          0.002470    0.1310    0.536  ...   \n4          0.000058    0.1920    0.707  ...   \n5          0.879000    0.0977    0.467  ...   \n6          0.000001    0.1800    0.539  ...   \n7          0.000000    0.2450    0.534  ...   \n8          0.000000    0.4080    0.490  ...   \n9          0.000111    0.1600    0.082  ...   \n\n                                    uri  \\\n0  spotify:track:1Qpyt7U1yu4tfuJc4LKuzF   \n1  spotify:track:0hB42rb9ZbfJN231AbDnfe   \n2  spotify:track:6AwKyBU2ymb7zJ6PeUmKdo   \n3  spotify:track:0CsR9Y9SnC6ZWmekmVqSHz   \n4  spotify:track:5JtPGzRgrWxkXX9LoROq3d   \n5  spotify:track:5N3hv6QgFViEOoZMmIvS8j   \n6  spotify:track:54FgTS1O5kbZLaPjsCFY6x   \n7  spotify:track:5bltTpT0HIaEQzlGvxabWy   \n8  spotify:track:4fzsfWzRhPawzqhX8Qt9F3   \n9  spotify:track:3eYAdEgUyFQEmQgofs2NEt   \n\n                                          track_href  \\\n0  https://api.spotify.com/v1/tracks/1Qpyt7U1yu4t...   \n1  https://api.spotify.com/v1/tracks/0hB42rb9ZbfJ...   \n2  https://api.spotify.com/v1/tracks/6AwKyBU2ymb7...   \n3  https://api.spotify.com/v1/tracks/0CsR9Y9SnC6Z...   \n4  https://api.spotify.com/v1/tracks/5JtPGzRgrWxk...   \n5  https://api.spotify.com/v1/tracks/5N3hv6QgFViE...   \n6  https://api.spotify.com/v1/tracks/54FgTS1O5kbZ...   \n7  https://api.spotify.com/v1/tracks/5bltTpT0HIaE...   \n8  https://api.spotify.com/v1/tracks/4fzsfWzRhPaw...   \n9  https://api.spotify.com/v1/tracks/3eYAdEgUyFQE...   \n\n                                        analysis_url duration_ms  \\\n0  https://api.spotify.com/v1/audio-analysis/1Qpy...    182333.0   \n1  https://api.spotify.com/v1/audio-analysis/0hB4...    164496.0   \n2  https://api.spotify.com/v1/audio-analysis/6AwK...      5027.0   \n3  https://api.spotify.com/v1/audio-analysis/0CsR...    223560.0   \n4  https://api.spotify.com/v1/audio-analysis/5JtP...    193107.0   \n5  https://api.spotify.com/v1/audio-analysis/5N3h...    171837.0   \n6  https://api.spotify.com/v1/audio-analysis/54Fg...    176210.0   \n7  https://api.spotify.com/v1/audio-analysis/5blt...    228040.0   \n8  https://api.spotify.com/v1/audio-analysis/4fzs...    311867.0   \n9  https://api.spotify.com/v1/audio-analysis/3eYA...    188281.0   \n\n  time_signature error  master_metadata_album_artist_name  \\\n0            4.0   NaN                   Sharon Van Etten   \n1            4.0   NaN                           Goreshit   \n2            0.0   NaN                  Masakazu Sugimori   \n3            4.0   NaN                           Doja Cat   \n4            4.0   NaN                            Phoenix   \n5            4.0   NaN                       mt. fujitive   \n6            4.0   NaN                               Shou   \n7            4.0   NaN                          Lady Gaga   \n8            4.0   NaN                         Kanye West   \n9            3.0   NaN                         Sofya Wang   \n\n   master_metadata_album_album_name  \\\n0                Remind Me Tomorrow   \n1                       splitshit 2   \n2          逆転裁判 蘇る逆転 オリジナル・サウンドトラック   \n3                        Planet Her   \n4          Wolfgang Amadeus Phoenix   \n5                     ventures - EP   \n6                     Tasty Carrots   \n7                            ARTPOP   \n8                        Graduation   \n9                    Great Big Show   \n\n                                              genres artist_popularity  \n0  ['art pop', 'chamber pop', 'dream pop', 'indie...              56.0  \n1                                    ['glitchbreak']              47.0  \n2                                                NaN               NaN  \n3                               ['dance pop', 'pop']              86.0  \n4  ['alternative dance', 'indie rock', 'modern ro...              65.0  \n5                        ['chillhop', 'lo-fi beats']              51.0  \n6                                      ['rave funk']              33.0  \n7                    ['art pop', 'dance pop', 'pop']              84.0  \n8                             ['chicago rap', 'rap']              90.0  \n9                                                 []              25.0  \n\n[10 rows x 23 columns]",
      "text/html": "<div>\n<style scoped>\n    .dataframe tbody tr th:only-of-type {\n        vertical-align: middle;\n    }\n\n    .dataframe tbody tr th {\n        vertical-align: top;\n    }\n\n    .dataframe thead th {\n        text-align: right;\n    }\n</style>\n<table border=\"1\" class=\"dataframe\">\n  <thead>\n    <tr style=\"text-align: right;\">\n      <th></th>\n      <th>danceability</th>\n      <th>energy</th>\n      <th>key</th>\n      <th>loudness</th>\n      <th>mode</th>\n      <th>speechiness</th>\n      <th>acousticness</th>\n      <th>instrumentalness</th>\n      <th>liveness</th>\n      <th>valence</th>\n      <th>...</th>\n      <th>uri</th>\n      <th>track_href</th>\n      <th>analysis_url</th>\n      <th>duration_ms</th>\n      <th>time_signature</th>\n      <th>error</th>\n      <th>master_metadata_album_artist_name</th>\n      <th>master_metadata_album_album_name</th>\n      <th>genres</th>\n      <th>artist_popularity</th>\n    </tr>\n  </thead>\n  <tbody>\n    <tr>\n      <th>0</th>\n      <td>0.543</td>\n      <td>0.9280</td>\n      <td>0.0</td>\n      <td>-5.206</td>\n      <td>1.0</td>\n      <td>0.0755</td>\n      <td>0.000329</td>\n      <td>0.567000</td>\n      <td>0.0328</td>\n      <td>0.358</td>\n      <td>...</td>\n      <td>spotify:track:1Qpyt7U1yu4tfuJc4LKuzF</td>\n      <td>https://api.spotify.com/v1/tracks/1Qpyt7U1yu4t...</td>\n      <td>https://api.spotify.com/v1/audio-analysis/1Qpy...</td>\n      <td>182333.0</td>\n      <td>4.0</td>\n      <td>NaN</td>\n      <td>Sharon Van Etten</td>\n      <td>Remind Me Tomorrow</td>\n      <td>['art pop', 'chamber pop', 'dream pop', 'indie...</td>\n      <td>56.0</td>\n    </tr>\n    <tr>\n      <th>1</th>\n      <td>0.401</td>\n      <td>0.9990</td>\n      <td>2.0</td>\n      <td>-0.467</td>\n      <td>1.0</td>\n      <td>0.0997</td>\n      <td>0.000079</td>\n      <td>0.771000</td>\n      <td>0.1550</td>\n      <td>0.595</td>\n      <td>...</td>\n      <td>spotify:track:0hB42rb9ZbfJN231AbDnfe</td>\n      <td>https://api.spotify.com/v1/tracks/0hB42rb9ZbfJ...</td>\n      <td>https://api.spotify.com/v1/audio-analysis/0hB4...</td>\n      <td>164496.0</td>\n      <td>4.0</td>\n      <td>NaN</td>\n      <td>Goreshit</td>\n      <td>splitshit 2</td>\n      <td>['glitchbreak']</td>\n      <td>47.0</td>\n    </tr>\n    <tr>\n      <th>2</th>\n      <td>0.000</td>\n      <td>0.0214</td>\n      <td>0.0</td>\n      <td>-13.288</td>\n      <td>1.0</td>\n      <td>0.0000</td>\n      <td>0.000000</td>\n      <td>1.000000</td>\n      <td>0.0000</td>\n      <td>0.000</td>\n      <td>...</td>\n      <td>spotify:track:6AwKyBU2ymb7zJ6PeUmKdo</td>\n      <td>https://api.spotify.com/v1/tracks/6AwKyBU2ymb7...</td>\n      <td>https://api.spotify.com/v1/audio-analysis/6AwK...</td>\n      <td>5027.0</td>\n      <td>0.0</td>\n      <td>NaN</td>\n      <td>Masakazu Sugimori</td>\n      <td>逆転裁判 蘇る逆転 オリジナル・サウンドトラック</td>\n      <td>NaN</td>\n      <td>NaN</td>\n    </tr>\n    <tr>\n      <th>3</th>\n      <td>0.733</td>\n      <td>0.8620</td>\n      <td>7.0</td>\n      <td>-5.736</td>\n      <td>1.0</td>\n      <td>0.1970</td>\n      <td>0.374000</td>\n      <td>0.002470</td>\n      <td>0.1310</td>\n      <td>0.536</td>\n      <td>...</td>\n      <td>spotify:track:0CsR9Y9SnC6ZWmekmVqSHz</td>\n      <td>https://api.spotify.com/v1/tracks/0CsR9Y9SnC6Z...</td>\n      <td>https://api.spotify.com/v1/audio-analysis/0CsR...</td>\n      <td>223560.0</td>\n      <td>4.0</td>\n      <td>NaN</td>\n      <td>Doja Cat</td>\n      <td>Planet Her</td>\n      <td>['dance pop', 'pop']</td>\n      <td>86.0</td>\n    </tr>\n    <tr>\n      <th>4</th>\n      <td>0.604</td>\n      <td>0.8250</td>\n      <td>0.0</td>\n      <td>-5.373</td>\n      <td>1.0</td>\n      <td>0.0429</td>\n      <td>0.056400</td>\n      <td>0.000058</td>\n      <td>0.1920</td>\n      <td>0.707</td>\n      <td>...</td>\n      <td>spotify:track:5JtPGzRgrWxkXX9LoROq3d</td>\n      <td>https://api.spotify.com/v1/tracks/5JtPGzRgrWxk...</td>\n      <td>https://api.spotify.com/v1/audio-analysis/5JtP...</td>\n      <td>193107.0</td>\n      <td>4.0</td>\n      <td>NaN</td>\n      <td>Phoenix</td>\n      <td>Wolfgang Amadeus Phoenix</td>\n      <td>['alternative dance', 'indie rock', 'modern ro...</td>\n      <td>65.0</td>\n    </tr>\n    <tr>\n      <th>5</th>\n      <td>0.388</td>\n      <td>0.1770</td>\n      <td>1.0</td>\n      <td>-14.061</td>\n      <td>0.0</td>\n      <td>0.0351</td>\n      <td>0.438000</td>\n      <td>0.879000</td>\n      <td>0.0977</td>\n      <td>0.467</td>\n      <td>...</td>\n      <td>spotify:track:5N3hv6QgFViEOoZMmIvS8j</td>\n      <td>https://api.spotify.com/v1/tracks/5N3hv6QgFViE...</td>\n      <td>https://api.spotify.com/v1/audio-analysis/5N3h...</td>\n      <td>171837.0</td>\n      <td>4.0</td>\n      <td>NaN</td>\n      <td>mt. fujitive</td>\n      <td>ventures - EP</td>\n      <td>['chillhop', 'lo-fi beats']</td>\n      <td>51.0</td>\n    </tr>\n    <tr>\n      <th>6</th>\n      <td>0.805</td>\n      <td>0.7890</td>\n      <td>11.0</td>\n      <td>-4.404</td>\n      <td>0.0</td>\n      <td>0.4970</td>\n      <td>0.032900</td>\n      <td>0.000001</td>\n      <td>0.1800</td>\n      <td>0.539</td>\n      <td>...</td>\n      <td>spotify:track:54FgTS1O5kbZLaPjsCFY6x</td>\n      <td>https://api.spotify.com/v1/tracks/54FgTS1O5kbZ...</td>\n      <td>https://api.spotify.com/v1/audio-analysis/54Fg...</td>\n      <td>176210.0</td>\n      <td>4.0</td>\n      <td>NaN</td>\n      <td>Shou</td>\n      <td>Tasty Carrots</td>\n      <td>['rave funk']</td>\n      <td>33.0</td>\n    </tr>\n    <tr>\n      <th>7</th>\n      <td>0.737</td>\n      <td>0.8930</td>\n      <td>2.0</td>\n      <td>-4.151</td>\n      <td>1.0</td>\n      <td>0.0687</td>\n      <td>0.003130</td>\n      <td>0.000000</td>\n      <td>0.2450</td>\n      <td>0.534</td>\n      <td>...</td>\n      <td>spotify:track:5bltTpT0HIaEQzlGvxabWy</td>\n      <td>https://api.spotify.com/v1/tracks/5bltTpT0HIaE...</td>\n      <td>https://api.spotify.com/v1/audio-analysis/5blt...</td>\n      <td>228040.0</td>\n      <td>4.0</td>\n      <td>NaN</td>\n      <td>Lady Gaga</td>\n      <td>ARTPOP</td>\n      <td>['art pop', 'dance pop', 'pop']</td>\n      <td>84.0</td>\n    </tr>\n    <tr>\n      <th>8</th>\n      <td>0.617</td>\n      <td>0.7170</td>\n      <td>10.0</td>\n      <td>-7.858</td>\n      <td>0.0</td>\n      <td>0.1530</td>\n      <td>0.005640</td>\n      <td>0.000000</td>\n      <td>0.4080</td>\n      <td>0.490</td>\n      <td>...</td>\n      <td>spotify:track:4fzsfWzRhPawzqhX8Qt9F3</td>\n      <td>https://api.spotify.com/v1/tracks/4fzsfWzRhPaw...</td>\n      <td>https://api.spotify.com/v1/audio-analysis/4fzs...</td>\n      <td>311867.0</td>\n      <td>4.0</td>\n      <td>NaN</td>\n      <td>Kanye West</td>\n      <td>Graduation</td>\n      <td>['chicago rap', 'rap']</td>\n      <td>90.0</td>\n    </tr>\n    <tr>\n      <th>9</th>\n      <td>0.274</td>\n      <td>0.5560</td>\n      <td>11.0</td>\n      <td>-5.507</td>\n      <td>0.0</td>\n      <td>0.0414</td>\n      <td>0.389000</td>\n      <td>0.000111</td>\n      <td>0.1600</td>\n      <td>0.082</td>\n      <td>...</td>\n      <td>spotify:track:3eYAdEgUyFQEmQgofs2NEt</td>\n      <td>https://api.spotify.com/v1/tracks/3eYAdEgUyFQE...</td>\n      <td>https://api.spotify.com/v1/audio-analysis/3eYA...</td>\n      <td>188281.0</td>\n      <td>3.0</td>\n      <td>NaN</td>\n      <td>Sofya Wang</td>\n      <td>Great Big Show</td>\n      <td>[]</td>\n      <td>25.0</td>\n    </tr>\n  </tbody>\n</table>\n<p>10 rows × 23 columns</p>\n</div>"
     },
     "execution_count": 60,
     "metadata": {},
     "output_type": "execute_result"
    }
   ],
   "source": [
    "# Standardizing\n",
    "jojo_features.head(10)"
   ],
   "metadata": {
    "collapsed": false
   }
  },
  {
   "cell_type": "code",
   "execution_count": 61,
   "outputs": [
    {
     "data": {
      "text/plain": "   Unnamed: 0                track_id        artist_name  \\\n0           0  5SuOikwiRyPMVoIQDJUgSV        Gen Hoshino   \n1           1  4qPNDBW1i3p13qLCt0Ki3A       Ben Woodward   \n2           2  1iJBSr7s7jYXzM8EGcbK5b  Ingrid Michaelson   \n3           3  6lfxq3CG4xtTiEg7opyCyx       Kina Grannis   \n4           4  5vjLSffimiIP26QG5WcN2K   Chord Overstreet   \n5           5  01MVOl9KtVTNfFiBU9I7dc       Tyrone Wells   \n6           6  6Vc5wAMmXdKIAM7WUoEb7N  A Great Big World   \n7           7  1EzrEOXmMH3G43AXT1y7pA         Jason Mraz   \n8           8  0IktbUcnAGrvD03AWnz3Q8         Jason Mraz   \n9           9  7k9GuJYLp2AzqokyEdwEw2     Ross Copperman   \n\n                   track_name  duration_ms  danceability  energy  key  \\\n0                      Comedy       230666         0.676  0.4610    1   \n1            Ghost - Acoustic       149610         0.420  0.1660    1   \n2              To Begin Again       210826         0.438  0.3590    0   \n3  Can't Help Falling In Love       201933         0.266  0.0596    0   \n4                     Hold On       198853         0.618  0.4430    2   \n5        Days I Will Remember       214240         0.688  0.4810    6   \n6               Say Something       229400         0.407  0.1470    2   \n7                   I'm Yours       242946         0.703  0.4440   11   \n8                       Lucky       189613         0.625  0.4140    0   \n9                      Hunger       205594         0.442  0.6320    1   \n\n   loudness  mode  speechiness  acousticness  instrumentalness  liveness  \\\n0    -6.746     0       0.1430        0.0322          0.000001    0.3580   \n1   -17.235     1       0.0763        0.9240          0.000006    0.1010   \n2    -9.734     1       0.0557        0.2100          0.000000    0.1170   \n3   -18.515     1       0.0363        0.9050          0.000071    0.1320   \n4    -9.681     1       0.0526        0.4690          0.000000    0.0829   \n5    -8.807     1       0.1050        0.2890          0.000000    0.1890   \n6    -8.822     1       0.0355        0.8570          0.000003    0.0913   \n7    -9.331     1       0.0417        0.5590          0.000000    0.0973   \n8    -8.700     1       0.0369        0.2940          0.000000    0.1510   \n9    -6.770     1       0.0295        0.4260          0.004190    0.0735   \n\n   valence    tempo  time_signature  \\\n0   0.7150   87.917               4   \n1   0.2670   77.489               4   \n2   0.1200   76.332               4   \n3   0.1430  181.740               3   \n4   0.1670  119.949               4   \n5   0.6660   98.017               4   \n6   0.0765  141.284               3   \n7   0.7120  150.960               4   \n8   0.6690  130.088               4   \n9   0.1960   78.899               4   \n\n                                              genres  artist_popularity  \n0  ['j-acoustic', 'j-pop', 'japanese singer-songw...               63.0  \n1                                 ['acoustic chill']               49.0  \n2  ['acoustic pop', 'ectofolk', 'lilith', 'neo me...               59.0  \n3        ['acoustic pop', 'neo mellow', 'viral pop']               62.0  \n4                                   ['acoustic pop']               64.0  \n5  ['acoustic pop', 'indiecoustica', 'neo mellow'...               48.0  \n6  ['neo mellow', 'piano rock', 'pop rock', 'post...               61.0  \n7  ['acoustic pop', 'neo mellow', 'pop', 'pop rock']               72.0  \n8  ['acoustic pop', 'neo mellow', 'pop', 'pop rock']               72.0  \n9       ['acoustic pop', 'neo mellow', 'piano rock']               45.0  ",
      "text/html": "<div>\n<style scoped>\n    .dataframe tbody tr th:only-of-type {\n        vertical-align: middle;\n    }\n\n    .dataframe tbody tr th {\n        vertical-align: top;\n    }\n\n    .dataframe thead th {\n        text-align: right;\n    }\n</style>\n<table border=\"1\" class=\"dataframe\">\n  <thead>\n    <tr style=\"text-align: right;\">\n      <th></th>\n      <th>Unnamed: 0</th>\n      <th>track_id</th>\n      <th>artist_name</th>\n      <th>track_name</th>\n      <th>duration_ms</th>\n      <th>danceability</th>\n      <th>energy</th>\n      <th>key</th>\n      <th>loudness</th>\n      <th>mode</th>\n      <th>speechiness</th>\n      <th>acousticness</th>\n      <th>instrumentalness</th>\n      <th>liveness</th>\n      <th>valence</th>\n      <th>tempo</th>\n      <th>time_signature</th>\n      <th>genres</th>\n      <th>artist_popularity</th>\n    </tr>\n  </thead>\n  <tbody>\n    <tr>\n      <th>0</th>\n      <td>0</td>\n      <td>5SuOikwiRyPMVoIQDJUgSV</td>\n      <td>Gen Hoshino</td>\n      <td>Comedy</td>\n      <td>230666</td>\n      <td>0.676</td>\n      <td>0.4610</td>\n      <td>1</td>\n      <td>-6.746</td>\n      <td>0</td>\n      <td>0.1430</td>\n      <td>0.0322</td>\n      <td>0.000001</td>\n      <td>0.3580</td>\n      <td>0.7150</td>\n      <td>87.917</td>\n      <td>4</td>\n      <td>['j-acoustic', 'j-pop', 'japanese singer-songw...</td>\n      <td>63.0</td>\n    </tr>\n    <tr>\n      <th>1</th>\n      <td>1</td>\n      <td>4qPNDBW1i3p13qLCt0Ki3A</td>\n      <td>Ben Woodward</td>\n      <td>Ghost - Acoustic</td>\n      <td>149610</td>\n      <td>0.420</td>\n      <td>0.1660</td>\n      <td>1</td>\n      <td>-17.235</td>\n      <td>1</td>\n      <td>0.0763</td>\n      <td>0.9240</td>\n      <td>0.000006</td>\n      <td>0.1010</td>\n      <td>0.2670</td>\n      <td>77.489</td>\n      <td>4</td>\n      <td>['acoustic chill']</td>\n      <td>49.0</td>\n    </tr>\n    <tr>\n      <th>2</th>\n      <td>2</td>\n      <td>1iJBSr7s7jYXzM8EGcbK5b</td>\n      <td>Ingrid Michaelson</td>\n      <td>To Begin Again</td>\n      <td>210826</td>\n      <td>0.438</td>\n      <td>0.3590</td>\n      <td>0</td>\n      <td>-9.734</td>\n      <td>1</td>\n      <td>0.0557</td>\n      <td>0.2100</td>\n      <td>0.000000</td>\n      <td>0.1170</td>\n      <td>0.1200</td>\n      <td>76.332</td>\n      <td>4</td>\n      <td>['acoustic pop', 'ectofolk', 'lilith', 'neo me...</td>\n      <td>59.0</td>\n    </tr>\n    <tr>\n      <th>3</th>\n      <td>3</td>\n      <td>6lfxq3CG4xtTiEg7opyCyx</td>\n      <td>Kina Grannis</td>\n      <td>Can't Help Falling In Love</td>\n      <td>201933</td>\n      <td>0.266</td>\n      <td>0.0596</td>\n      <td>0</td>\n      <td>-18.515</td>\n      <td>1</td>\n      <td>0.0363</td>\n      <td>0.9050</td>\n      <td>0.000071</td>\n      <td>0.1320</td>\n      <td>0.1430</td>\n      <td>181.740</td>\n      <td>3</td>\n      <td>['acoustic pop', 'neo mellow', 'viral pop']</td>\n      <td>62.0</td>\n    </tr>\n    <tr>\n      <th>4</th>\n      <td>4</td>\n      <td>5vjLSffimiIP26QG5WcN2K</td>\n      <td>Chord Overstreet</td>\n      <td>Hold On</td>\n      <td>198853</td>\n      <td>0.618</td>\n      <td>0.4430</td>\n      <td>2</td>\n      <td>-9.681</td>\n      <td>1</td>\n      <td>0.0526</td>\n      <td>0.4690</td>\n      <td>0.000000</td>\n      <td>0.0829</td>\n      <td>0.1670</td>\n      <td>119.949</td>\n      <td>4</td>\n      <td>['acoustic pop']</td>\n      <td>64.0</td>\n    </tr>\n    <tr>\n      <th>5</th>\n      <td>5</td>\n      <td>01MVOl9KtVTNfFiBU9I7dc</td>\n      <td>Tyrone Wells</td>\n      <td>Days I Will Remember</td>\n      <td>214240</td>\n      <td>0.688</td>\n      <td>0.4810</td>\n      <td>6</td>\n      <td>-8.807</td>\n      <td>1</td>\n      <td>0.1050</td>\n      <td>0.2890</td>\n      <td>0.000000</td>\n      <td>0.1890</td>\n      <td>0.6660</td>\n      <td>98.017</td>\n      <td>4</td>\n      <td>['acoustic pop', 'indiecoustica', 'neo mellow'...</td>\n      <td>48.0</td>\n    </tr>\n    <tr>\n      <th>6</th>\n      <td>6</td>\n      <td>6Vc5wAMmXdKIAM7WUoEb7N</td>\n      <td>A Great Big World</td>\n      <td>Say Something</td>\n      <td>229400</td>\n      <td>0.407</td>\n      <td>0.1470</td>\n      <td>2</td>\n      <td>-8.822</td>\n      <td>1</td>\n      <td>0.0355</td>\n      <td>0.8570</td>\n      <td>0.000003</td>\n      <td>0.0913</td>\n      <td>0.0765</td>\n      <td>141.284</td>\n      <td>3</td>\n      <td>['neo mellow', 'piano rock', 'pop rock', 'post...</td>\n      <td>61.0</td>\n    </tr>\n    <tr>\n      <th>7</th>\n      <td>7</td>\n      <td>1EzrEOXmMH3G43AXT1y7pA</td>\n      <td>Jason Mraz</td>\n      <td>I'm Yours</td>\n      <td>242946</td>\n      <td>0.703</td>\n      <td>0.4440</td>\n      <td>11</td>\n      <td>-9.331</td>\n      <td>1</td>\n      <td>0.0417</td>\n      <td>0.5590</td>\n      <td>0.000000</td>\n      <td>0.0973</td>\n      <td>0.7120</td>\n      <td>150.960</td>\n      <td>4</td>\n      <td>['acoustic pop', 'neo mellow', 'pop', 'pop rock']</td>\n      <td>72.0</td>\n    </tr>\n    <tr>\n      <th>8</th>\n      <td>8</td>\n      <td>0IktbUcnAGrvD03AWnz3Q8</td>\n      <td>Jason Mraz</td>\n      <td>Lucky</td>\n      <td>189613</td>\n      <td>0.625</td>\n      <td>0.4140</td>\n      <td>0</td>\n      <td>-8.700</td>\n      <td>1</td>\n      <td>0.0369</td>\n      <td>0.2940</td>\n      <td>0.000000</td>\n      <td>0.1510</td>\n      <td>0.6690</td>\n      <td>130.088</td>\n      <td>4</td>\n      <td>['acoustic pop', 'neo mellow', 'pop', 'pop rock']</td>\n      <td>72.0</td>\n    </tr>\n    <tr>\n      <th>9</th>\n      <td>9</td>\n      <td>7k9GuJYLp2AzqokyEdwEw2</td>\n      <td>Ross Copperman</td>\n      <td>Hunger</td>\n      <td>205594</td>\n      <td>0.442</td>\n      <td>0.6320</td>\n      <td>1</td>\n      <td>-6.770</td>\n      <td>1</td>\n      <td>0.0295</td>\n      <td>0.4260</td>\n      <td>0.004190</td>\n      <td>0.0735</td>\n      <td>0.1960</td>\n      <td>78.899</td>\n      <td>4</td>\n      <td>['acoustic pop', 'neo mellow', 'piano rock']</td>\n      <td>45.0</td>\n    </tr>\n  </tbody>\n</table>\n</div>"
     },
     "execution_count": 61,
     "metadata": {},
     "output_type": "execute_result"
    }
   ],
   "source": [
    "music_dataset.head(10)"
   ],
   "metadata": {
    "collapsed": false
   }
  },
  {
   "cell_type": "code",
   "execution_count": 86,
   "outputs": [],
   "source": [
    "# Morph the schema of my data into that of the dataset\n",
    "# Drop unused columns\n",
    "jojo_features = jojo_features.drop(columns=[\"error\", \"uri\", \"track_href\", \"analysis_url\", \"master_metadata_album_album_name\", \"type\"])"
   ],
   "metadata": {
    "collapsed": false
   }
  },
  {
   "cell_type": "code",
   "execution_count": 87,
   "outputs": [],
   "source": [
    "# Renaming columns\n",
    "jojo_features = jojo_features.rename(mapper={'id': 'track_id', 'master_metadata_album_artist_name': 'artist_name'}, axis=1)"
   ],
   "metadata": {
    "collapsed": false
   }
  },
  {
   "cell_type": "code",
   "execution_count": 64,
   "outputs": [
    {
     "name": "stdout",
     "output_type": "stream",
     "text": [
      "[]\n",
      "['Unnamed: 0', 'track_name']\n"
     ]
    }
   ],
   "source": [
    "print([column for column in jojo_features.columns if column not in music_dataset.columns])\n",
    "print([column for column in music_dataset.columns if column not in jojo_features.columns])"
   ],
   "metadata": {
    "collapsed": false
   }
  },
  {
   "cell_type": "code",
   "execution_count": 65,
   "outputs": [],
   "source": [
    "# >:( I removed the song names in my dataset - let me add those\n",
    "from typing import List\n",
    "import spotipy\n",
    "import api_setup"
   ],
   "metadata": {
    "collapsed": false
   }
  },
  {
   "cell_type": "code",
   "execution_count": 66,
   "outputs": [],
   "source": [
    "# API Auth\n",
    "env_vars = api_setup.parse_api_kvs(pathlib.Path.cwd().parent / \"api-keys\")\n",
    "auth_manager = spotipy.SpotifyClientCredentials(env_vars['client_id'], env_vars['client_secret'])\n",
    "spotify = spotipy.Spotify(client_credentials_manager=auth_manager, backoff_factor=2)"
   ],
   "metadata": {
    "collapsed": false
   }
  },
  {
   "cell_type": "code",
   "execution_count": 67,
   "outputs": [],
   "source": [
    "def split_into_sublists(input_list, chunk_size=50):\n",
    "\tupto = 0\n",
    "\toutput_lists = []\n",
    "\twhile True:\n",
    "\t\tif upto + chunk_size >= len(input_list):\n",
    "\t\t\toutput_lists.append(input_list[upto:-1])\n",
    "\t\t\tbreak\n",
    "\t\telse:\n",
    "\t\t\toutput_lists.append(input_list[upto:upto+chunk_size])\n",
    "\t\t\tupto += chunk_size\n",
    "\treturn output_lists\n",
    "\n",
    "def get_tracks_info(track_uris: List[List[str]]) -> List:\n",
    "\tout=[]\n",
    "\tfor idx, sublist in enumerate(track_uris):\n",
    "\t\tresult = spotify.tracks(sublist)\n",
    "\t\tout.append(result)\n",
    "\t\tprint(f\"Completed chunk {idx+1} / {len(track_uris)}\")\n",
    "\n",
    "\treturn out"
   ],
   "metadata": {
    "collapsed": false
   }
  },
  {
   "cell_type": "code",
   "execution_count": 68,
   "outputs": [
    {
     "name": "stdout",
     "output_type": "stream",
     "text": [
      "Completed chunk 1 / 465\n",
      "Completed chunk 2 / 465\n",
      "Completed chunk 3 / 465\n",
      "Completed chunk 4 / 465\n",
      "Completed chunk 5 / 465\n",
      "Completed chunk 6 / 465\n",
      "Completed chunk 7 / 465\n",
      "Completed chunk 8 / 465\n",
      "Completed chunk 9 / 465\n",
      "Completed chunk 10 / 465\n",
      "Completed chunk 11 / 465\n",
      "Completed chunk 12 / 465\n",
      "Completed chunk 13 / 465\n",
      "Completed chunk 14 / 465\n",
      "Completed chunk 15 / 465\n",
      "Completed chunk 16 / 465\n",
      "Completed chunk 17 / 465\n",
      "Completed chunk 18 / 465\n",
      "Completed chunk 19 / 465\n",
      "Completed chunk 20 / 465\n",
      "Completed chunk 21 / 465\n",
      "Completed chunk 22 / 465\n",
      "Completed chunk 23 / 465\n",
      "Completed chunk 24 / 465\n",
      "Completed chunk 25 / 465\n",
      "Completed chunk 26 / 465\n",
      "Completed chunk 27 / 465\n",
      "Completed chunk 28 / 465\n",
      "Completed chunk 29 / 465\n",
      "Completed chunk 30 / 465\n",
      "Completed chunk 31 / 465\n",
      "Completed chunk 32 / 465\n",
      "Completed chunk 33 / 465\n",
      "Completed chunk 34 / 465\n",
      "Completed chunk 35 / 465\n",
      "Completed chunk 36 / 465\n",
      "Completed chunk 37 / 465\n",
      "Completed chunk 38 / 465\n",
      "Completed chunk 39 / 465\n",
      "Completed chunk 40 / 465\n",
      "Completed chunk 41 / 465\n",
      "Completed chunk 42 / 465\n",
      "Completed chunk 43 / 465\n",
      "Completed chunk 44 / 465\n",
      "Completed chunk 45 / 465\n",
      "Completed chunk 46 / 465\n",
      "Completed chunk 47 / 465\n",
      "Completed chunk 48 / 465\n",
      "Completed chunk 49 / 465\n",
      "Completed chunk 50 / 465\n",
      "Completed chunk 51 / 465\n",
      "Completed chunk 52 / 465\n",
      "Completed chunk 53 / 465\n",
      "Completed chunk 54 / 465\n",
      "Completed chunk 55 / 465\n",
      "Completed chunk 56 / 465\n",
      "Completed chunk 57 / 465\n",
      "Completed chunk 58 / 465\n",
      "Completed chunk 59 / 465\n",
      "Completed chunk 60 / 465\n",
      "Completed chunk 61 / 465\n",
      "Completed chunk 62 / 465\n",
      "Completed chunk 63 / 465\n",
      "Completed chunk 64 / 465\n",
      "Completed chunk 65 / 465\n",
      "Completed chunk 66 / 465\n",
      "Completed chunk 67 / 465\n",
      "Completed chunk 68 / 465\n",
      "Completed chunk 69 / 465\n",
      "Completed chunk 70 / 465\n",
      "Completed chunk 71 / 465\n",
      "Completed chunk 72 / 465\n",
      "Completed chunk 73 / 465\n",
      "Completed chunk 74 / 465\n",
      "Completed chunk 75 / 465\n",
      "Completed chunk 76 / 465\n",
      "Completed chunk 77 / 465\n",
      "Completed chunk 78 / 465\n",
      "Completed chunk 79 / 465\n",
      "Completed chunk 80 / 465\n",
      "Completed chunk 81 / 465\n",
      "Completed chunk 82 / 465\n",
      "Completed chunk 83 / 465\n",
      "Completed chunk 84 / 465\n",
      "Completed chunk 85 / 465\n",
      "Completed chunk 86 / 465\n",
      "Completed chunk 87 / 465\n",
      "Completed chunk 88 / 465\n",
      "Completed chunk 89 / 465\n",
      "Completed chunk 90 / 465\n",
      "Completed chunk 91 / 465\n",
      "Completed chunk 92 / 465\n",
      "Completed chunk 93 / 465\n",
      "Completed chunk 94 / 465\n",
      "Completed chunk 95 / 465\n",
      "Completed chunk 96 / 465\n",
      "Completed chunk 97 / 465\n",
      "Completed chunk 98 / 465\n",
      "Completed chunk 99 / 465\n",
      "Completed chunk 100 / 465\n",
      "Completed chunk 101 / 465\n",
      "Completed chunk 102 / 465\n",
      "Completed chunk 103 / 465\n",
      "Completed chunk 104 / 465\n",
      "Completed chunk 105 / 465\n",
      "Completed chunk 106 / 465\n",
      "Completed chunk 107 / 465\n",
      "Completed chunk 108 / 465\n",
      "Completed chunk 109 / 465\n",
      "Completed chunk 110 / 465\n",
      "Completed chunk 111 / 465\n",
      "Completed chunk 112 / 465\n",
      "Completed chunk 113 / 465\n",
      "Completed chunk 114 / 465\n",
      "Completed chunk 115 / 465\n",
      "Completed chunk 116 / 465\n",
      "Completed chunk 117 / 465\n",
      "Completed chunk 118 / 465\n",
      "Completed chunk 119 / 465\n",
      "Completed chunk 120 / 465\n",
      "Completed chunk 121 / 465\n",
      "Completed chunk 122 / 465\n",
      "Completed chunk 123 / 465\n",
      "Completed chunk 124 / 465\n",
      "Completed chunk 125 / 465\n",
      "Completed chunk 126 / 465\n",
      "Completed chunk 127 / 465\n",
      "Completed chunk 128 / 465\n",
      "Completed chunk 129 / 465\n",
      "Completed chunk 130 / 465\n",
      "Completed chunk 131 / 465\n",
      "Completed chunk 132 / 465\n",
      "Completed chunk 133 / 465\n",
      "Completed chunk 134 / 465\n",
      "Completed chunk 135 / 465\n",
      "Completed chunk 136 / 465\n",
      "Completed chunk 137 / 465\n",
      "Completed chunk 138 / 465\n",
      "Completed chunk 139 / 465\n",
      "Completed chunk 140 / 465\n",
      "Completed chunk 141 / 465\n",
      "Completed chunk 142 / 465\n",
      "Completed chunk 143 / 465\n",
      "Completed chunk 144 / 465\n",
      "Completed chunk 145 / 465\n",
      "Completed chunk 146 / 465\n",
      "Completed chunk 147 / 465\n",
      "Completed chunk 148 / 465\n",
      "Completed chunk 149 / 465\n",
      "Completed chunk 150 / 465\n",
      "Completed chunk 151 / 465\n",
      "Completed chunk 152 / 465\n",
      "Completed chunk 153 / 465\n",
      "Completed chunk 154 / 465\n",
      "Completed chunk 155 / 465\n",
      "Completed chunk 156 / 465\n",
      "Completed chunk 157 / 465\n",
      "Completed chunk 158 / 465\n",
      "Completed chunk 159 / 465\n",
      "Completed chunk 160 / 465\n",
      "Completed chunk 161 / 465\n",
      "Completed chunk 162 / 465\n",
      "Completed chunk 163 / 465\n",
      "Completed chunk 164 / 465\n",
      "Completed chunk 165 / 465\n",
      "Completed chunk 166 / 465\n",
      "Completed chunk 167 / 465\n",
      "Completed chunk 168 / 465\n",
      "Completed chunk 169 / 465\n",
      "Completed chunk 170 / 465\n",
      "Completed chunk 171 / 465\n",
      "Completed chunk 172 / 465\n",
      "Completed chunk 173 / 465\n",
      "Completed chunk 174 / 465\n",
      "Completed chunk 175 / 465\n",
      "Completed chunk 176 / 465\n",
      "Completed chunk 177 / 465\n",
      "Completed chunk 178 / 465\n",
      "Completed chunk 179 / 465\n",
      "Completed chunk 180 / 465\n",
      "Completed chunk 181 / 465\n",
      "Completed chunk 182 / 465\n",
      "Completed chunk 183 / 465\n",
      "Completed chunk 184 / 465\n",
      "Completed chunk 185 / 465\n",
      "Completed chunk 186 / 465\n",
      "Completed chunk 187 / 465\n",
      "Completed chunk 188 / 465\n",
      "Completed chunk 189 / 465\n",
      "Completed chunk 190 / 465\n",
      "Completed chunk 191 / 465\n",
      "Completed chunk 192 / 465\n",
      "Completed chunk 193 / 465\n",
      "Completed chunk 194 / 465\n",
      "Completed chunk 195 / 465\n",
      "Completed chunk 196 / 465\n",
      "Completed chunk 197 / 465\n",
      "Completed chunk 198 / 465\n",
      "Completed chunk 199 / 465\n",
      "Completed chunk 200 / 465\n",
      "Completed chunk 201 / 465\n",
      "Completed chunk 202 / 465\n",
      "Completed chunk 203 / 465\n",
      "Completed chunk 204 / 465\n",
      "Completed chunk 205 / 465\n",
      "Completed chunk 206 / 465\n",
      "Completed chunk 207 / 465\n",
      "Completed chunk 208 / 465\n",
      "Completed chunk 209 / 465\n",
      "Completed chunk 210 / 465\n",
      "Completed chunk 211 / 465\n",
      "Completed chunk 212 / 465\n",
      "Completed chunk 213 / 465\n",
      "Completed chunk 214 / 465\n",
      "Completed chunk 215 / 465\n",
      "Completed chunk 216 / 465\n",
      "Completed chunk 217 / 465\n",
      "Completed chunk 218 / 465\n",
      "Completed chunk 219 / 465\n",
      "Completed chunk 220 / 465\n",
      "Completed chunk 221 / 465\n",
      "Completed chunk 222 / 465\n",
      "Completed chunk 223 / 465\n",
      "Completed chunk 224 / 465\n",
      "Completed chunk 225 / 465\n",
      "Completed chunk 226 / 465\n",
      "Completed chunk 227 / 465\n",
      "Completed chunk 228 / 465\n",
      "Completed chunk 229 / 465\n",
      "Completed chunk 230 / 465\n",
      "Completed chunk 231 / 465\n",
      "Completed chunk 232 / 465\n",
      "Completed chunk 233 / 465\n",
      "Completed chunk 234 / 465\n",
      "Completed chunk 235 / 465\n",
      "Completed chunk 236 / 465\n",
      "Completed chunk 237 / 465\n",
      "Completed chunk 238 / 465\n",
      "Completed chunk 239 / 465\n",
      "Completed chunk 240 / 465\n",
      "Completed chunk 241 / 465\n",
      "Completed chunk 242 / 465\n",
      "Completed chunk 243 / 465\n",
      "Completed chunk 244 / 465\n",
      "Completed chunk 245 / 465\n",
      "Completed chunk 246 / 465\n",
      "Completed chunk 247 / 465\n",
      "Completed chunk 248 / 465\n",
      "Completed chunk 249 / 465\n",
      "Completed chunk 250 / 465\n",
      "Completed chunk 251 / 465\n",
      "Completed chunk 252 / 465\n",
      "Completed chunk 253 / 465\n",
      "Completed chunk 254 / 465\n",
      "Completed chunk 255 / 465\n",
      "Completed chunk 256 / 465\n",
      "Completed chunk 257 / 465\n",
      "Completed chunk 258 / 465\n",
      "Completed chunk 259 / 465\n",
      "Completed chunk 260 / 465\n",
      "Completed chunk 261 / 465\n",
      "Completed chunk 262 / 465\n",
      "Completed chunk 263 / 465\n",
      "Completed chunk 264 / 465\n",
      "Completed chunk 265 / 465\n",
      "Completed chunk 266 / 465\n",
      "Completed chunk 267 / 465\n",
      "Completed chunk 268 / 465\n",
      "Completed chunk 269 / 465\n",
      "Completed chunk 270 / 465\n",
      "Completed chunk 271 / 465\n",
      "Completed chunk 272 / 465\n",
      "Completed chunk 273 / 465\n",
      "Completed chunk 274 / 465\n",
      "Completed chunk 275 / 465\n",
      "Completed chunk 276 / 465\n",
      "Completed chunk 277 / 465\n",
      "Completed chunk 278 / 465\n",
      "Completed chunk 279 / 465\n",
      "Completed chunk 280 / 465\n",
      "Completed chunk 281 / 465\n",
      "Completed chunk 282 / 465\n",
      "Completed chunk 283 / 465\n",
      "Completed chunk 284 / 465\n",
      "Completed chunk 285 / 465\n",
      "Completed chunk 286 / 465\n",
      "Completed chunk 287 / 465\n",
      "Completed chunk 288 / 465\n",
      "Completed chunk 289 / 465\n",
      "Completed chunk 290 / 465\n",
      "Completed chunk 291 / 465\n",
      "Completed chunk 292 / 465\n",
      "Completed chunk 293 / 465\n",
      "Completed chunk 294 / 465\n",
      "Completed chunk 295 / 465\n",
      "Completed chunk 296 / 465\n",
      "Completed chunk 297 / 465\n",
      "Completed chunk 298 / 465\n",
      "Completed chunk 299 / 465\n",
      "Completed chunk 300 / 465\n",
      "Completed chunk 301 / 465\n",
      "Completed chunk 302 / 465\n",
      "Completed chunk 303 / 465\n",
      "Completed chunk 304 / 465\n",
      "Completed chunk 305 / 465\n",
      "Completed chunk 306 / 465\n",
      "Completed chunk 307 / 465\n",
      "Completed chunk 308 / 465\n",
      "Completed chunk 309 / 465\n",
      "Completed chunk 310 / 465\n",
      "Completed chunk 311 / 465\n",
      "Completed chunk 312 / 465\n",
      "Completed chunk 313 / 465\n",
      "Completed chunk 314 / 465\n",
      "Completed chunk 315 / 465\n",
      "Completed chunk 316 / 465\n",
      "Completed chunk 317 / 465\n",
      "Completed chunk 318 / 465\n",
      "Completed chunk 319 / 465\n",
      "Completed chunk 320 / 465\n",
      "Completed chunk 321 / 465\n",
      "Completed chunk 322 / 465\n",
      "Completed chunk 323 / 465\n",
      "Completed chunk 324 / 465\n",
      "Completed chunk 325 / 465\n",
      "Completed chunk 326 / 465\n",
      "Completed chunk 327 / 465\n",
      "Completed chunk 328 / 465\n",
      "Completed chunk 329 / 465\n",
      "Completed chunk 330 / 465\n",
      "Completed chunk 331 / 465\n",
      "Completed chunk 332 / 465\n",
      "Completed chunk 333 / 465\n",
      "Completed chunk 334 / 465\n",
      "Completed chunk 335 / 465\n",
      "Completed chunk 336 / 465\n",
      "Completed chunk 337 / 465\n",
      "Completed chunk 338 / 465\n",
      "Completed chunk 339 / 465\n",
      "Completed chunk 340 / 465\n",
      "Completed chunk 341 / 465\n",
      "Completed chunk 342 / 465\n",
      "Completed chunk 343 / 465\n",
      "Completed chunk 344 / 465\n",
      "Completed chunk 345 / 465\n",
      "Completed chunk 346 / 465\n",
      "Completed chunk 347 / 465\n",
      "Completed chunk 348 / 465\n",
      "Completed chunk 349 / 465\n",
      "Completed chunk 350 / 465\n",
      "Completed chunk 351 / 465\n",
      "Completed chunk 352 / 465\n",
      "Completed chunk 353 / 465\n",
      "Completed chunk 354 / 465\n",
      "Completed chunk 355 / 465\n",
      "Completed chunk 356 / 465\n",
      "Completed chunk 357 / 465\n",
      "Completed chunk 358 / 465\n",
      "Completed chunk 359 / 465\n",
      "Completed chunk 360 / 465\n",
      "Completed chunk 361 / 465\n",
      "Completed chunk 362 / 465\n",
      "Completed chunk 363 / 465\n",
      "Completed chunk 364 / 465\n",
      "Completed chunk 365 / 465\n",
      "Completed chunk 366 / 465\n",
      "Completed chunk 367 / 465\n",
      "Completed chunk 368 / 465\n",
      "Completed chunk 369 / 465\n",
      "Completed chunk 370 / 465\n",
      "Completed chunk 371 / 465\n",
      "Completed chunk 372 / 465\n",
      "Completed chunk 373 / 465\n",
      "Completed chunk 374 / 465\n",
      "Completed chunk 375 / 465\n",
      "Completed chunk 376 / 465\n",
      "Completed chunk 377 / 465\n",
      "Completed chunk 378 / 465\n",
      "Completed chunk 379 / 465\n",
      "Completed chunk 380 / 465\n",
      "Completed chunk 381 / 465\n",
      "Completed chunk 382 / 465\n",
      "Completed chunk 383 / 465\n",
      "Completed chunk 384 / 465\n",
      "Completed chunk 385 / 465\n",
      "Completed chunk 386 / 465\n",
      "Completed chunk 387 / 465\n",
      "Completed chunk 388 / 465\n",
      "Completed chunk 389 / 465\n",
      "Completed chunk 390 / 465\n",
      "Completed chunk 391 / 465\n",
      "Completed chunk 392 / 465\n",
      "Completed chunk 393 / 465\n",
      "Completed chunk 394 / 465\n",
      "Completed chunk 395 / 465\n",
      "Completed chunk 396 / 465\n",
      "Completed chunk 397 / 465\n",
      "Completed chunk 398 / 465\n",
      "Completed chunk 399 / 465\n",
      "Completed chunk 400 / 465\n",
      "Completed chunk 401 / 465\n",
      "Completed chunk 402 / 465\n",
      "Completed chunk 403 / 465\n",
      "Completed chunk 404 / 465\n",
      "Completed chunk 405 / 465\n",
      "Completed chunk 406 / 465\n",
      "Completed chunk 407 / 465\n",
      "Completed chunk 408 / 465\n",
      "Completed chunk 409 / 465\n",
      "Completed chunk 410 / 465\n",
      "Completed chunk 411 / 465\n",
      "Completed chunk 412 / 465\n",
      "Completed chunk 413 / 465\n",
      "Completed chunk 414 / 465\n",
      "Completed chunk 415 / 465\n",
      "Completed chunk 416 / 465\n",
      "Completed chunk 417 / 465\n",
      "Completed chunk 418 / 465\n",
      "Completed chunk 419 / 465\n",
      "Completed chunk 420 / 465\n",
      "Completed chunk 421 / 465\n",
      "Completed chunk 422 / 465\n",
      "Completed chunk 423 / 465\n",
      "Completed chunk 424 / 465\n",
      "Completed chunk 425 / 465\n",
      "Completed chunk 426 / 465\n",
      "Completed chunk 427 / 465\n",
      "Completed chunk 428 / 465\n",
      "Completed chunk 429 / 465\n",
      "Completed chunk 430 / 465\n",
      "Completed chunk 431 / 465\n",
      "Completed chunk 432 / 465\n",
      "Completed chunk 433 / 465\n",
      "Completed chunk 434 / 465\n",
      "Completed chunk 435 / 465\n",
      "Completed chunk 436 / 465\n",
      "Completed chunk 437 / 465\n",
      "Completed chunk 438 / 465\n",
      "Completed chunk 439 / 465\n",
      "Completed chunk 440 / 465\n",
      "Completed chunk 441 / 465\n",
      "Completed chunk 442 / 465\n",
      "Completed chunk 443 / 465\n",
      "Completed chunk 444 / 465\n",
      "Completed chunk 445 / 465\n",
      "Completed chunk 446 / 465\n",
      "Completed chunk 447 / 465\n",
      "Completed chunk 448 / 465\n",
      "Completed chunk 449 / 465\n",
      "Completed chunk 450 / 465\n",
      "Completed chunk 451 / 465\n",
      "Completed chunk 452 / 465\n",
      "Completed chunk 453 / 465\n",
      "Completed chunk 454 / 465\n",
      "Completed chunk 455 / 465\n",
      "Completed chunk 456 / 465\n",
      "Completed chunk 457 / 465\n",
      "Completed chunk 458 / 465\n",
      "Completed chunk 459 / 465\n",
      "Completed chunk 460 / 465\n",
      "Completed chunk 461 / 465\n",
      "Completed chunk 462 / 465\n",
      "Completed chunk 463 / 465\n",
      "Completed chunk 464 / 465\n",
      "Completed chunk 465 / 465\n"
     ]
    }
   ],
   "source": [
    "track_uris = jojo_features['track_id'].dropna().values\n",
    "chunked_track_uris = split_into_sublists(track_uris)\n",
    "tracks_info = get_tracks_info(chunked_track_uris)"
   ],
   "metadata": {
    "collapsed": false
   }
  },
  {
   "cell_type": "code",
   "execution_count": 88,
   "outputs": [],
   "source": [
    "track_uri_to_song_name = {}\n",
    "for tracks in tracks_info:\n",
    "\titracks = tracks['tracks']\n",
    "\tfor track in itracks:\n",
    "\t\ttrack_uri_to_song_name[track['id']] = track['name']"
   ],
   "metadata": {
    "collapsed": false
   }
  },
  {
   "cell_type": "code",
   "execution_count": 89,
   "outputs": [
    {
     "data": {
      "text/plain": "{'1Qpyt7U1yu4tfuJc4LKuzF': 'Comeback Kid',\n '0hB42rb9ZbfJN231AbDnfe': 'gay ass vampire shit',\n '6AwKyBU2ymb7zJ6PeUmKdo': 'ジングル 〜こんなところで終われない',\n '0CsR9Y9SnC6ZWmekmVqSHz': 'Naked',\n '5JtPGzRgrWxkXX9LoROq3d': '1901',\n '5N3hv6QgFViEOoZMmIvS8j': 'kuma',\n '54FgTS1O5kbZLaPjsCFY6x': 'Tasty Carrots',\n '5bltTpT0HIaEQzlGvxabWy': \"Jewels N' Drugs\",\n '4fzsfWzRhPawzqhX8Qt9F3': 'Stronger',\n '3eYAdEgUyFQEmQgofs2NEt': 'Great Big Show',\n '6VLTel8dIRU2Jr5qat1TJG': 'Siren',\n '2Ch7LmS7r2Gy2kc64wv3Bz': 'Die For You',\n '4YMqbFcDIFiCBd02PzUBcM': 'Thrift Shop (feat. Wanz)',\n '15DFeFyhOGyqbSVveuE3wp': 'Melanin',\n '7bsrxWD78NPHkQGdWDtVKA': \"I've Never Been in Love Before\",\n '0r5u9i2GzrqzU2Pv0eIvVq': 'Superwoman',\n '6DOep8Fgl0BUeOeUi8Ug7w': 'Title',\n '26dfLcCVJUdscPvmUmkuSI': 'Side B [Dope Song]',\n '4Q5deMn3CXLzjsHgj0AnYq': 'Above the Clouds',\n '20oko5N4xL2LZK1Mj5BfMk': '04.wav',\n '2kJqNHHGOzLNahukdvlDWN': 'Drive',\n '3P4gLPPOHIRQ5j6PC1hNa5': 'Tomorrow',\n '34vfgWxlPpSXghcRusmFrZ': 'Love in Passing',\n '27vJ34Stsi20C79zSw39E7': 'My Dearest Friends',\n '54Cv78I7DxfvXjPL0I2r3d': 'Moonlight',\n '5dJjpT4Z6ozSfzN0r1FdGP': 'fuck Teeth',\n '6ViHIEWmHqTt4Ov9cBORCb': 'Intense',\n '2W0Wz0NzO7u5kcb7dGvv5w': 'Comme Des Garçons (Like The Boys)',\n '5eFco20Tz7a2xiDbPPjOUD': 'Shadow Play',\n '7pu8Kq3nIMhBjbnEPkz2QD': 'In Love',\n '0QkWikH5Z3U0f79T9iuF6c': 'Judas',\n '18ARUyYMqmBfXbp1EX1K7f': 'Astoria',\n '4KTtYhxFtFL7mBwnjkKfLm': 'Glamorous',\n '5mIOsPuQdXchVY0jB5NO9Q': '4EVER',\n '1011y7A6PTOuitZSPlN5an': 'tropic',\n '2sHwSBNDZN2yjCtgwStYt1': 'Crush Culture',\n '4euxYgIl5XEqUj5WB9lHNq': 'The Home Depot Beat',\n '4Q3N4Ct4zCuIHuZ65E3BD4': 'Tunnel Vision',\n '0dqJjKKxuKD5Dt3QH2n4CG': 'Hands Down',\n '4VmCLzNBm11YSdyy623xd0': 'Hundred Thousand Hearts',\n '6PDPy2HspcDoiSAxRSmhug': 'Black Heart',\n '04cbTMfVZYQB6nFzpuXKcg': 'Doctor',\n '6Y846kJRifTaJpPlHf4TfC': 'Jazz Music, Pt. 12',\n '6L7WfQd7AOF4cyVITJbKQq': 'Goodmorningme',\n '77G0k1La0c5Dw8bAFANcyp': 'Sports',\n '0jdny0dhgjUwoIp5GkqEaA': 'Praying',\n '2ACOWPLUe4A4KuQ5ioD2od': \"That's My Girl\",\n '4cAgkb0ifwn0FSHGXnr4F6': 'New Slaves',\n '27DbLUyeQa4I2vMdZhQQ73': 'cozy winter',\n '7B3z0ySL9Rr0XvZEAjWZzM': 'Sofia',\n '6EJiVf7U0p1BBfs0qqeb1f': 'Cut To The Feeling',\n '77FQf4Hf3BOCV6YhJbg9ue': 'Work',\n '7noel9mKBqjn6D0OWA3qmK': \"Cuz You're My Girl\",\n '24Jk4wYlLRXI9TUMdkHoMN': 'Again',\n '7Me0wUETwuY3OqnyBPNlNb': 'Jazz Music, Pt. 112',\n '7gOw0OUDsfqjTULYZsQtMc': 'Nothing Wrong with Me',\n '2SZI4t2AgJYquRPZ60QeXL': 'Chips',\n '74n118P9h9Sz2AwDSc3f8N': 'Jupiter 4',\n '5nc3zP5ZOYstTpQ2laknci': 'Donatella',\n '3aTkDDyak1EKsMqtSudyCt': 'Jazz Music, Pt. 74',\n '5DWaEpFT3vqOrr3fTaOhA6': 'Broken Sleep',\n '4irRSYEXVsqX1cQddWXY18': 'Xanax',\n '2HqIsxXupkZX6x01rBLSfm': 'STFU!',\n '6UFG7GbMAeeMijEyrp6f1D': \"Countin' Up\",\n '2FFQiCmu3ya3XldWQbQZOF': 'Chirp',\n '0GjEhVFGZW8afUYGChu3Rr': 'Dancing Queen',\n '46aopTu45teng25ROkoeXk': 'Invitation (feat. Kodie Shane)',\n '0A6dTlWYD2magT5bqUyZLM': \"i'm tired of feeling this way\",\n '7d56WYqFkqL7y9V7PnMj7W': 'Galaxy',\n '03UrZgTINDqvnUMbbIMhql': 'Gangnam Style (강남스타일)',\n '7hI3bRmffmrzm7spNvUaSc': 'sex money feelings die REMIX (feat. Lil Baby & snowsa)',\n '0mAHmcI9Ghc6C9WIZtETIV': 'Battle! - Greens',\n '6O8aBIlhEl1wEoj4MuBXuo': 'Full Body Mirror',\n '6JSNx1XNeA96BwootZVi7f': 'Memories with Her',\n '7H0ya83CMmgFcOhw0UB6ow': 'Space Song',\n '0DwVfCYLrVXgvejYbWwZAd': 'Break It Off',\n '7vhXQtcsA4enprGM6QvJqc': 'Uptown Express',\n '1PLUHhDbSiVHRImD3gAg2s': 'feel',\n '6UuWEqdRJIgNcoLd8WggYV': 'Walk in the Park',\n '3TGRqZ0a2l1LRblBkJoaDx': 'Call Me Maybe',\n '6CKMbke67ujzy1R7xYdQz2': 'Soulful',\n '429NtPmr12aypzFH3FkN9l': 'Coffee',\n '6qXM63MqfsATteIuCVMXvu': \"Man's World\",\n '73SBAGI4fPFm4VkB3NjXq8': 'I Want You To Love Me',\n '7ErpB5eISelTBvjg6WH8Ov': '1969dime',\n '7p4vHnYXkxlzvfePJVpcTr': 'Feels Like Summer',\n '1XoFL2IOCBOd4pTZR2xwi4': 'Slip Away (Mura Masa Remix)',\n '3ED4EgQVsQjWMAjXoby6DH': 'galaxy jumping',\n '7vMENgdWQAAYyu0SLztoSp': 'Atlantic',\n '0150LSsZrpksYFj3nbynwj': 'Golden',\n '3cHyrEgdyYRjgJKSOiOtcS': 'Timber (feat. Ke$ha)',\n '4pRqrKiiCPrGKJ1AnG4jOU': 'そなちね',\n '007dXHL6jt0Z1Vs2ilhoIs': 'Red mountain',\n '733hyyG8U8kxxebds98nc6': 'First Date',\n '5vI43dLZ4bVYU9Fw6eohQx': 'old habits',\n '1OiEyOhzqSVy88ZO6Gzqxf': 'PARDON?',\n '0qU3XhIH9xczYPUWV6OopS': 'Forgive Me',\n '5CMjjywI0eZMixPeqNd75R': 'Lose Yourself to Dance (feat. Pharrell Williams)',\n '6413UUgINHbZsCJeJBFlmT': \"I'm Just Snacking\",\n '0wXuerDYiBnERgIpbb3JBR': 'Redbone',\n '2as0SjHe6BVgirrR7GMqzY': 'Well Rested',\n '0FCECeOtvMAGosjKB08s28': 'Harley Quinn',\n '7BGZ27yeaKR5OZOIxyegZi': 'Death By Glamour',\n '3PFaFVWq5wucLu6s4baj9D': 'Girl (feat. KAYTRANADA)',\n '3DarAbFujv6eYNliUTyqtz': 'Kiss Me More (feat. SZA)',\n '5AabqkMATMr8zsfPS5yJnr': 'Bells Ring',\n '09LOrSenEZicFy6U5SIhfa': 'Sweetie',\n '52NmkyHsGsHGb1UX8fTkMg': \"I'm In It\",\n '0rHCbvcGS3GkcU92lw0546': 'Pussycat Doll',\n '293NOngXH4mJbWLJlH1Ji5': 'Driving Home in the Rain',\n '6ztOsvtb6MjOYgOOnBmVfd': 'Scroll of Sorrow',\n '554xU22obJs3W7TR7gR0De': 'Lightly',\n '1rj4gE9sg9ZHqjwqVJhG3B': 'Loser (feat. Splash Daddy)',\n '3hRscFKSDw08iBB9H2IESI': \"Sizzlin' Sands\",\n '6yO3ptFYgeTaMxUUGYy5TA': 'Nice Girl',\n '0MXwuLvZU9cauIEXlMZcdC': 'I Wish I Was Stephen Malkmus',\n '7nCONy10IHp7XD3oYZ0lcx': \"I've Seen Footage\",\n '4J6dN4totHFv9aadxFk2Lj': 'rosemary',\n '628Btf2AY0aDYclqQ8VQ9d': 'ずっと前',\n '5Y42u37PlyQXegnuI1Hpo1': 'Funeral Singers',\n '78lO1KFo4JxiFfaz6IEPXo': 'Happyface',\n '22L7bfCiAkJo5xGSQgmiIO': 'All Of The Lights',\n '1YcOjtjiwwiwlrzmeueQ45': 'Crazy Beautiful Life',\n '1X9v9B7knRbg9OVhc2K8us': 'Blur',\n '2aI2k39nfa3KFsa4JclQzw': 'DDU-DU DDU-DU',\n '2YU0rhpPlceGoHBPFjq8ae': 'at the park',\n '4S60298JoboRkLVxYiDEq4': 'Bubblegum K.K. (From \"Animal Crossing: New Leaf\")',\n '7vS5G09f4MlLA7byezcmI2': 'u mean (Tiny Room Sessions)',\n '2I88NEWpKrAPZuapXNV5G6': 'Belong to You (feat. 6LACK)',\n '11AzB3x9q4QtLnZVxpeWKb': 'Cherry Bomb',\n '171PWhxgdrIOgcAiBPO3Gr': 'The Count (feat. Wiz Khalifa)',\n '4Tp7GqV0ZwPllg07HH25Sv': 'Footsteps',\n '03O63VG4vSb5DXRQppuUbt': 'Blissed Out',\n '2zOYl04XUopa77rhOj2lg7': 'awake w/ Hanz',\n '6yrty0k7oZkwAkKB6onsIW': 'Viscasity',\n '6gpSU2C1VJq0xaVIGtQPVi': 'Francis Forever',\n '7ItFoQDmQIh3MAPsxiP6Vt': \"Ain't it Funny\",\n '2xDCiVbsG43WWOxbyIYvzd': 'TRUDAYYY!',\n '4MQIDIQjNWkUvpXe5Je7TO': 'APOLOGIZE',\n '4lAisgs1htk7HC6sVHCWef': 'Take Care',\n '0wtX3P1RkVdfDuCjxH6cJR': 'Bip Burger',\n '1MayFYhQQvVD4IzD7dqBBj': 'Quiet On Set',\n '7LgamO7NmPQ5daOknt4SWl': 'Part of the Universe',\n '2QmU4B8fsyWcTQLVDl06Pk': 'Spice - EP Version',\n '1venpPIzDTmjPBSVsM1IhB': 'Out of Body (feat. Kilo Kish, Zebra Katz & Imani Vonshà)',\n '0xfdG2n1zrephk64xqQC1q': 'Electric Church',\n '5jd6XPyXSY4jQVG3SlXP1b': 'How Long?',\n '7qwt4xUIqQWCu1DJf96g2k': 'Hello?',\n '6Ww2sVKm8i3ONuCmZomqft': 'Popstar',\n '7CH99b2i1TXS5P8UUyWtnM': 'Them Changes',\n '57gfWnvoMmnXBdghubxWrg': 'Brutus',\n '6nng0eZWVUqw6jjJzEdOH1': 'Perfect Sweet Blue',\n '65D95SmygxGCQGiI64eaZf': \"Independent (feat. Lil' Boosie and Lil' Phat)\",\n '7FWBpcfcsWhlfpcE2xomDr': 'Mistaken',\n '4SwZkXp1aWNQ3avEIR3EOd': 'Pryzhki - 2019 Remaster',\n '1WDAs6e8rC7DauurybUPZa': 'Inanimate Sensation',\n '3hmdpvFGNiTRHQPjsng1Kz': 'Hydrangeas',\n '1rRwwqteLePmi70PGaC8ah': 'Arms Tonite',\n '5WDtzvhiuJ7PvUvYeTowiI': 'Its Late and It Just Stopped Raining.',\n '3KkuifVUBNXGyMHuUMKy2O': 'the jamming interlude',\n '5LXg8cfq5hyegv2AwFlkV7': 'Heavenward',\n '2VZF36Q1LNN94W25Cdw6r7': 'Who Knows?',\n '7rvuykfOYtBmNxW2HuhuO7': 'Queen of Kings (Outro)',\n '0Qd0X8VIMCpt0NnqvY9tmb': 'Everyone',\n '5Nb6X2X9CJZHhBWtaIF6bo': 'All Must Pass',\n '6dxm3Z8U4lOJTWo6cGVDCR': 'Billy Not Really',\n '4N2ibi4kcH4D5ZYYvMiKsg': 'Class of 2013',\n '751x6FLRCdXDP5HMnUNQZb': 'iced tea for breakfast',\n '3FLazwxIsNIWPmND1t1RIx': 'Oh No',\n '2E01rRrzaz6TuwCdm27m4m': 'How Was Your Day?',\n '4vHNeBWDQpVCmGbaccrRzi': 'Goodie Bag',\n '5kkxyqYSQrnHpfsmkjKi81': 'NEW ORLEANS',\n '3lKKyTq43iPPcAg9ntcMBL': 'Gucci',\n '56nka7s20QlkXm2cVWSES3': 'Dusk',\n '62aOYUWnWQtWvWLAvvWBZi': 'Masterpiece',\n '73EAAWXJWqjisguv0DfGDv': 'I Wonder',\n '3bA30uvYoSwHYFW4IOO2O4': 'Root Beer Float',\n '4t9PBD27dndlf6YMBK2ROc': 'Track 10',\n '5PTpamIgmhhvqkQaYyADu0': 'Distant',\n '2Vr5fwiyXJLWojtuzluKCS': 'Hideaway',\n '7GlZhPkCA259c3ICFU0eaG': 'Where The Bag At',\n '781V2Y5LPtcpgONEOadadE': 'Get Got',\n '7B1rQSwng82S0DOtqqSNMq': \"Baby I'm Dyin'\",\n '2PwNBKhJI9IXkemHLw2R25': 'Valerians',\n '5Apvsk0suoivI1H8CmBglv': 'Almost (Sweet Music)',\n '4hpfKpKo3j2e91iK69Wazb': 'Delights',\n '4Sw4lblE6aXpoOJma6Mlx5': 'Drunk and Hot Girls',\n '3LCb6fZ8VZaeXfXfHgEt1j': 'Down Low',\n '70Tf2nUzVd9UfyJHwM5lic': 'Come Over',\n '58e7V70Em6FABOiln4jNoZ': 'Mauvais présage',\n '2Y40huo5ewaKYxsFintYtF': 'Heaven and Hell',\n '2nC3QhMI9reBIOWutbU3Tj': 'Moral of the Story',\n '1IVXTGFwXrkzvKUKvySZS1': 'Inside',\n '6s3x9zSwfzgi1IY9iDXjYh': 'Gotsta Get Paid',\n '2Ab2xJJw3hcXBi7LZM3PC5': 'Ba$$in',\n '3lTUQEQ0YqdTtMShZDu95C': 'Caffè',\n '4WYlewJtfeVhAoPlApq5fu': 'Respite',\n '3aEKk4GaNhRAlpj2XSZQUm': 'Lunch Box',\n '77lHSh6eoMiKWRxczAPQ1k': 'Big Titties (feat. Baauer and EarthGang)',\n '41DBopd0o6IX2N8sjTE0AJ': 'Birthday Suit',\n '0K1KOCeJBj3lpDYxEX9qP2': 'Sleeping With A Friend',\n '4NWtKUMtc30gaiSXtic0k4': 'I Got Lies',\n '1OEIsjH8IxGMxu8AZEZKCe': 'Fake Nice',\n '7EsFlP6Id6T7jOMdgdtGMZ': 'Squealing Pigs',\n '3tJ4y2Zqx6gM9xOAuFfsSF': 'Cool Girl',\n '3FdsBa4h5VcDDKuEiEoMzL': 'If U Wanna',\n '4U9HOSPA26wiY9N8houElW': 'The First Time',\n '1kJtfldK9F7XmsSiSNlbth': 'Woman (feat. The Dap-Kings Horns)',\n '2a7wQIlbcHmeVrkalRbIjI': 'faces',\n '0CfmNX2TXk7yoJqHJiixnp': 'She Bad',\n '6WrI0LAC5M1Rw2MnX2ZvEg': \"Don't Start Now\",\n '1yMeuYLMOvY0GwMKGS79U4': 'seasonal depression',\n '7qdFz1dTJqgdVe6NA4F4DP': 'Beef FloMix',\n '20fcvmSDxFfoAbPWZdUgr2': 'Geisha',\n '7LaYjv3Wnbvf0t7uMAQ7Q2': 'BIG BOI',\n '6LOZws7T3jqZz78unPgFF9': 'Dead To Me',\n '10I3CmmwT0BkOVhduDy53o': 'Really Really',\n '3LT6nj4tnT0j0XbA25rYAt': 'Alone Time',\n '0aGbjADuRz7IUuZD5MZ4F6': 'Heatwave',\n '1Uf09GGlf7Nq4iCfCbaGKf': 'Glue (feat. RAYE)',\n '6hrHoJmuISU9FhbFxGgrr1': 'Give Her Some Money',\n '5RxpYHVbGJPOvSEATQyg9P': 'Lucy',\n '1CGQTaQVVfA0CNae8IwPyC': 'Bad as the Boys (feat. ALMA)',\n '6b6XsG3JEwqqRqx69M3nhg': \"Margaret's Hymn\",\n '220sIHpwxlsg441qsFRlEk': '9:01 am',\n '6q0wu4qjc9XVyqqRv7vlMZ': 'Love Can Be...',\n '7uqRFlTZQ7vL1YKGSWmu7h': \"Je T'aime\",\n '7rgvhF2a3WjRkRtx2lndyc': 'Close 2 U',\n '09Q3a76Fao9rJuSlSIcJ9u': 'Making Love and Sweet Noodles',\n '6dQ3LO5ZvuLA4odFqgy2Vt': '独房 〜闇のテーマ',\n '1Go9q6KaCpAsQ0wkZFGzY2': 'Chandelier',\n '1BSAmxkrz2H8v5kpTfAT6v': 'like that',\n '3nVDOYBJpdCkRR6r1DbZum': 'Wedding Crashers',\n '0oxYB9GoOIDrdzniNdKC44': 'When the Sun Hits',\n '18L5VERD6h5q6PVjQAVVa2': 'Casanova',\n '7DcvwMAiqKJQD1rrdfxSDx': 'The London (feat. J. Cole & Travis Scott)',\n '3hpEeg0kRTUopgRPEciHKG': 'her',\n '7Cp69rNBwU0gaFT8zxExlE': 'Ymca',\n '3bs9cgGM9p5XCaNG46y5n2': 'Winter',\n '184QrVUdBuDdrfxFqff9gf': 'Welcome to VA-11 Hall-A',\n '0LbK1bodGLc9xmV1cS9jvL': 'Will You Still Love Me Tomorrow? - 2011',\n '4FvqAI5GwPspJE3TkMGnEb': 'Idaho',\n '6WB8OCCytrzFugPGYugsor': 'Gently',\n '5hVghJ4KaYES3BFUATCYn0': 'EARFQUAKE',\n '6ocbgoVGwYJhOv1GgI9NsF': '7 rings',\n '2nFlFFuG5NXPKzf6B9qFbL': \"I'm in Love\",\n '6Nj7fiQsU9yX1knVNUc6uB': \"Lovin' Is Bible\",\n '3FtYbEfBqAlGO46NUDQSAt': 'Electric Feel',\n '503OTo2dSqe7qk76rgsbep': 'Still D.R.E.',\n '1xNknVNOolLB4oQeEtNBX2': 'Hello Hello Hello',\n '7BdazOnsFvAkQGyrp2djJM': 'long ago.',\n '25lc9sie8BUr9vsGiQA11x': 'Slowly',\n '4jyU03J2YOhRxgOHit2auK': 'If Only',\n '3dBE30R12dDxc1jBDaqmo3': 'Psychopath - Recorded at Spotify Studios NYC',\n '2nWB8ZpA1lxulicEUzTQ6W': 'Pressure In My Palms (feat. slowthai, Vince Staples)',\n '04aS1pMxAlaeONYGQPFd0H': 'Caméléon',\n '3Wk4qCyx4m5aoafRxftp43': 'Hatin',\n '5szPcyUvZ5B2P4LnzFz2Au': 'Dutches',\n '2VGD6mGeuv6aORaU0vKsHB': 'Tic Toc (with Tory Lanez)',\n '1fMIomiIqQUSLynNzU4y1w': 'I <3 Harajuku',\n '5XjfPbRbD2W245d2qsDVqU': 'Schools out, Lets Go Get Some Ice Cream',\n '7IpDQcksaT8SxS7vOX4SRm': 'What You Need',\n '3tCCH9aaiKRmwOjvIKq76d': 'Shawty',\n '4MNu1bSmyV3S4Y2MJMGrrP': 'Headaches',\n '0Eu5SrReZzaJX0NLKI8tQS': 'Bossy Featuring Too $hort (feat. Too $hort)',\n '0w5Bdu51Ka25Pf3hojsKHh': 'Hard Times',\n '0b9oOr2ZgvyQu88wzixux9': 'This Is America',\n '0rNoUsW3uieBxXfqdCCYoN': 'High',\n '5Pt83OUaK3K9C2if4C5JOk': 'Gotta Have It',\n '6pVW5LRWgeLaHudxauOTJU': \"Jingle Bell Rock - Daryl's Version\",\n '43XJiiKsIKn9G56GJUBfM9': 'Tunnel Vision',\n '5TcGBswdHw1Ng9UcQSl0nd': 'Ashamed',\n '4HpBhhx0uXNGi864qDiKbV': 'A Day at the Lake',\n '2gxqozTaq2NYylvS8jd57G': 'Into It',\n '2zhOjOH2DvARkRcCvCo7DC': 'Valentine',\n '2xhGZ3WzOa3tir28y7Cb88': 'Falling for U',\n '00P1RGdQvHcyuW1ililPdI': 'SNOWCONE',\n '0w2piYWj1F2bzUftzGJgK9': 'Paranoid',\n '2le8xbpMJ1aA0SpJZRMbRw': 'Not Friendly',\n '5GKwq4sO5ZHKuWaDmdwMQc': 'Bad Boy',\n '5pXfTSZ03ImQ5M50VilQGW': 'Velcro',\n '0uMjEPM3NajfxOZrmHcjV6': 'All Mine (feat. Eleven)',\n '7cfvP13Bqb1EyCZQiYsLum': 'Can’t Take A Joke',\n '3LUWWox8YYykohBbHUrrxd': 'We R Who We R',\n '57L717A1hFNTGcMrEXtvgr': 'Trashopedia',\n '4Wkf6p5HzZ59jsX2u225ct': 'pesky bird!',\n '6TnNgmrEq5814PVvz9yQzZ': 'Here We Go-01',\n '7f5o7afMziVh2QUSKAcz1n': 'abusive',\n '1rJRb5A6ZfqOuqLCwpD7Ld': 'Calvaire',\n '13CncIo5SjhyyDGsGrMwwX': 'Onatd',\n '1bRjwdtScY2eMe9uMmsOkG': 'Do It',\n '54SQMXLXKeWY4AdDWtEGpF': 'Goodnight - Interlude',\n '6CoH2HgpHBhUnrWtOutPSR': 'haiku',\n '7lV3EItl079wZzadtjnQgR': 'Social Jungle',\n '4cqYUqmKMcb3q1tdImVpGW': 'Weightless',\n '2RycgtfFQZOPgEGrzBGE0j': 'Getsomerest/sleepwell',\n '0IaiJbZebXLqfetAkMEZzU': 'Body',\n '7zoZd2MuTaQEdF1rlq6Vv1': 'Like That Bitch',\n '42lQlyLSQR3qLTu4FOMqHY': \"I Don't Smoke\",\n '6P7mu8woCxMcSHrqKIPcap': 'STUPID (feat. Yung Baby Tate) - Dolphin Edit',\n '7ByqqqK0hrYWwnFYm1mhVl': 'Squid x jhfly',\n '54z3RmcOd1zkkfvHMcmGMb': 'Moonsetter',\n '1Cd8NflZKY5kmQdPdhSJwI': 'Stomp and Grind (feat. Rico Nasty)',\n '1R6knwr1q0ylkanX1mBe75': 'お猿',\n '3N7AOCvKEKL9IEejj7TBIv': 'Bonfire',\n '1eyl2vYwfsXV9mbHuwPWN7': 'Amethyst',\n '0ISoKjo9JVUB97JMgygRZP': 'Sleeping With the Enemy',\n '3BlEj2VpVkyalEypmk6lwb': 'Bxtch',\n '4qspFwHsFN9cpkbOrwaR0b': 'Darling',\n '37oeplukPtBPPewiuvp5gX': 'Locket',\n '5LD0J56vLd4bK50BTGfJ36': 'skyline',\n '4s5984sZ4jO7whQligqo1Z': 'Stuck In a Closet With Vanna White',\n '56JcHvg7W4cCs6fQEOz2gW': \"I'd Rather Sleep\",\n '556l9P7WVZVyYUBjT1YFTT': \"When I'm Down\",\n '4KW1lqgSr8TKrvBII0Brf8': 'Father Stretch My Hands Pt. 1',\n '3A2jJaOKYhmKEy9IyyEJF6': 'lovesick',\n '4iSN72L6xCM7vQZR2I9Suz': 'Liability',\n '6QckhIlLnahn7lKagtIFdg': 'Night Swim',\n '1GcXzijYzyfMq6wryZjYW5': 'May I',\n '4j2gIkUvqUWq92QG1pwO6R': 'What up Doe (Instrumental)',\n '2XizvxDAomTbA3KOnOgGcc': \"Let's Walk Across This Forest, I Can Feel Everything Being Real Again\",\n '7ch43KlH3JhQJoSdQUAqjK': 'religion (u can lay your hands on me) - Edit',\n '62R6tHMZLTzqEvnNaqDXkz': 'Talk',\n '1aBouZtfICZ1PRNCtPcdVL': 'Reverse Cowgirl',\n '7te8KmPRNtKd1iScZEQMjR': 'Jumped Out the Whip (feat. A$AP Rocky)',\n '0lARvYQl2oAZhj53WtD72i': 'Metamorphosis',\n '1wHZx0LgzFHyeIZkUydNXq': 'Antidote',\n '08R0UATC6bzZst68bkuAXk': 'Black Dice',\n '0rJwELsbciX5DqkNsTOWdl': 'Pills :-(',\n '7Coulic7di20MlW1bEytkQ': 'Dreamer - Compound Version',\n '6K8VQ84MqhsoakN5MjrnVR': 'Supercut',\n '5kxinzQqkSJhL7QDdvkDFM': 'Meet the Frownies',\n '3UPBYd4oGa7D7DZKU2ACYd': 'girlfriend',\n '4e0MD4jeoElII1IpnKCBjB': 'Jazz Music, Pt. 66',\n '1v14ZHAZmzAXdbPDZtdseX': 'For The Fans',\n '4EndPA8b6FDWYp1RgsnLEB': 'Blame Game',\n '5kqCLhxa4JxCLjDfrj4JuN': 'gardenia',\n '3vZUaZWwro6GdNNBFhiKV6': 'Chrome Vox',\n '6itvzZXIzy74G2vWy1ltdk': \"Don't Think About Tomorrow.\",\n '6KsFSrVS3DwG4xNAPQvznC': 'Winter Wonderland',\n '6zsk6uF3MxfIeHPlubKBvR': 'Get Ur Freak On',\n '4YhG0wYSsxcpe3RGeXgj9v': '<demons>',\n '0GxbglYySl18aZDIaGu1RU': \"I'm Yer Dad\",\n '4iYRa2btalAzPZoSYfROqF': 'XXX. FEAT. U2.',\n '0HPD5WQqrq7wPWR7P7Dw1i': 'TiK ToK',\n '3cOJNhq5mDHnySvVZGAw37': 'Omterlude, Pt. 1. - Edit',\n '3aUFrxO1B8EW63QchEl3wX': 'Feel The Love',\n '6042XJOCOw3U90tCNGBIPz': 'feel u',\n '3pMTFpbool5GOxvoc2QJth': 'Flower of Blood',\n '4FyARzLH6emzF0gWv7OX1t': 'Moncler (feat. Young Thug)',\n '2gZUPNdnz5Y45eiGxpHGSc': 'POWER',\n '3HSDK8QVbLETNF8p5AqyR2': 'Jazz Music, Pt. 36',\n '7rAOIiVhiD3vklTrCUpfYo': 'Celestial Angel',\n '125U9Ok6RD3jG5aLzyvxnY': 'Versace Hottie',\n '47XB9VJuYVEYeWqDM4Rijr': 'winter is nice here.',\n '0S0rlh59DhpPheILyXYX76': 'bitches (feat. Charli XCX, Icona Pop, Elliphant, ALMA)',\n '7d9212orrSfVHQaSdesffl': 'Powder',\n '6qwlA0caBeRjIlaqnucLrC': 'Pockets Bigger',\n '7or26qS3BfpTtWO3BFw5GE': 'Addicted',\n '0g4fzRkbLeCDUCoe5iUOcf': 'sex money feelings die',\n '6b6liLOZhXdOfFBFVN5KNK': \"Tweakin'\",\n '2woCC5hiuPTDAonxhEojP0': \"Give Me All Your Luvin'\",\n '2fsQGg0FeTVHdaIkKIxSFF': 'Warm Honey',\n '64DxdXTNY58CVu2j5QjCIk': \"Does Your Mother Know - From 'Mamma Mia!' Original Motion Picture Soundtrack\",\n '1ihV0P2xVejTHdkerWhaji': 'Jazz Music, Pt. 83',\n '5pb39nk7Wr8e0aMQ6VUdlr': 'Start Menu',\n '281LgXuFjmSadO4TF52d3L': 'Daddy',\n '6ACiYjq5Q7e6BlhZEHz7cd': 'Garden Shed (feat. Estelle)',\n '2q4F6OpQgx9umNB9uGFPYo': 'RATCHET SATURN GIRL',\n '3paiJuTRVivZxBnlXkOHF1': 'Supercut',\n '5GiU9fRvGFicYOaEiq9fOA': 'Float',\n '3X79t87FTGuDbrA6g2ke5R': 'Masochism',\n '2I3dW2dCBZAJGj5X21E53k': 'Kids See Ghosts',\n '7pJtGSLFOE0l9FnLan18Xe': \"Summer's Day Interlude\",\n '54ijM3PLfwmflMzL3gTXMe': \"please don't give up on me\",\n '3nAq2hCr1oWsIU54tS98pL': 'Waves',\n '2FNyFVAQ7DXSLztDi6iQdx': 'Exactly',\n '6xPn5m9gUIDqhe8EBvdRIP': 'okinawa bbq',\n '2NFVwZTWMfuKQED00jeg6e': 'Ninetyfour',\n '0M21XDC80WxxyPK7nI58u5': 'Katamari On The Rocks',\n '3BDDArQHWvj9y0kuP1qPH4': 'Sleeptime Computing',\n '7zgGrCPf90ofUqWmROtm2w': 'URL IRL',\n '36RGU7buus2UUtrPZ78hkR': 'Cherry',\n '3NuN59jpH3B5cNa2M4r7XG': 'BOOGIE',\n '2L47m9erkB5KBZcaqWtYen': 'Big Brother',\n '7r5T6XCpDjcLXohuKTUBaV': 'indigo',\n '7LqYqe7uhDc1pw9urRoGq6': 'This Was a Home Once',\n '7fhg7ofLpD5Maiy9Iy2PJC': 'Time Goes By',\n '2OmYZVnn751zw6iESV6jLw': 'Xandinha',\n '7AppWYIm98qFOGVMbNHJSB': 'Cute Thing',\n '0OSkkfKiaPnmlL9ocLVgs9': 'WIGGLECORE',\n '4mPNvmI2lgZvHqgttoN49K': 'Desire',\n '66TRwr5uJwPt15mfFkzhbi': 'Crank That (Soulja Boy)',\n '1HjZDqiaUrq46GHhHXE4vG': 'Get Your Wish',\n '2nKzhen7U2hJqZSKJcg8Ei': 'Altar',\n '1yxbAP2Q68GvJss6IaMES7': 'Dirty old fart is waiting for my reaction',\n '6DJhF4BgwFDJ9ACoDA26of': 'Wii Shop Channel',\n '5cebO43kTVqpKkYbOy9W2j': 'Learn to Float',\n '5IJ72kTLXstuSarGSLiDog': 'Jazz Music, Pt. 162',\n '0ldOjxAtxvncOrVWmg6xcw': 'Slip',\n '7itVpAaR0GetOcb2DZwxkL': 'awe',\n '29kYqYz5LI8KJii4gW3BH0': 'Love Rework',\n '7gv17SdKVg6RgENOjEKV5m': 'Tobacco',\n '68CAOhFrKd8c41asvSvJDQ': 'I Cannot Sleep at Night',\n '7syFr4jwwUitOqIk5JQPWz': 'Dancing Trees',\n '1DkjqnjgbbpT7cYL2D2ma4': 'Home (Music Box)',\n '60Ru2LVg7HmfGcxNYfTgY5': 'Storming the Thunder',\n '4dhARBZ8YLvm8oRDnCIeXr': 'Necessary Evil',\n '3cowlJ4DjtFnWUgg6NDk9Q': 'H8R',\n '3UChNf9rb9hJZvOcU9HCTb': 'Liquid Smooth',\n '7MoKXLQeI0Bh2QodCjDO4K': \"Can't Get You out of My Head\",\n '10xNdYXvRdgkQYbS0VGpCJ': 'With Her',\n '2dLM3m5D0XOyWjdASFbHl1': 'Hub World',\n '4OCIlCHE1m6aHCxr6CbCZH': 'Gimme all your money',\n '13YePtJtWMzVlLflz2NhIF': 'Bathroom Bitch',\n '05tCaHe9yHLjO2qnXScDNV': 'STFU2',\n '3PXTIwwI5dmlgrY0iYQq4J': 'Brand New City',\n '0vnsOSvEko26QNLxsnmYQk': 'Riverside',\n '6mXwoyzrpb4T5Iveoo4k5G': 'Lift Me Up',\n '2O1bAhJCHW0E3uuoWzRrGi': 'Crush',\n '5e7uwXMt0ztC3CeZNeMBMU': 'Hey QT',\n '66dJPaXRy1X5vFzPnGWb3k': \"i drove her home, and now we're dating.\",\n '3PUIguYpwKFXmfGD6uU7Jl': \"Glad He's Gone\",\n '12giVEtls4j4qoyg8aKRYo': 'never doubt the love i give',\n '4RVbK6cV0VqWdpCDcx3hiT': 'Reborn',\n '5I3czuFf3qK8Y5NLTuMJNm': 'eternal.summer',\n '3cC4CmUQzQZpWgKFjsYxrE': 'Brush',\n '5c2YD738H9Jwmfw44J2N2g': 'Sombre',\n '62CeNjGbvQnpQvyyGXeeDU': 'Silk Sonic Intro',\n '3snyBXJHEgvRZqB08ePiTa': 'red fairy lights',\n '6oVxXO5oQ4pTpO8RSnkzvv': 'Dress',\n '6jEZLz3YpnEBRpVkv35AmP': 'Gasolina',\n '6cufomJu4w7bQEUGctpDf9': 'dont say a word',\n '4AZdhSWmNLsJeh9jiZAXlR': 'Dan the Dancer',\n '4YpdiZChdldyfMwr5al42j': 'Pretty - Shacob Remix',\n '2U42jVkNgEU6DoM64eFD7i': 'viola',\n '0ZpgDIYEJ7H2g8zkIEDQJz': 'Talk to Her',\n '7eZb1znu03MDtTFS4bSwGR': 'tsuyu',\n '3m3IcXx0tjp9tgkisn60YE': 'bouquet of balloons',\n '7hCr1IIEbIZGG3fR7Gaptc': 'Tequilawine',\n '5Oq4KDHCqCpbo2E8PBqTAA': 'Dog Problems',\n '3M3N9Br6OACiu9fDtXUhbt': 'I See You',\n '5IVuqXILoxVWvWEPm82Jxr': 'Crazy In Love (feat. Jay-Z)',\n '1f63Xt6GIODqPjX1fdIZ2N': 'Snow Flakes',\n '2W4yTO3qHdqyvbz2UxfIPh': 'Submission (feat. Danny Brown & Kelela)',\n '0UYJSeEojhYWkM91DTR80p': 'Jazz Music, Pt. 108',\n '6w6SW8zyEcyxwSR7Wya45a': 'Blue Suede',\n '0utGQ35g3RZIdJ53DZhWy0': 'Weird Awakenings',\n '3LqzLNgQZZ1Pq8Y5j5cyRO': 'Affective',\n '1ynRabP8jaySeRvHBejfCT': 'Dogbass',\n '6WYFFSnAClbCSDCfPdYcso': 'WhatsThePoint',\n '70SfQj2pVrfqgE4wvnIcwV': 'No Way Back',\n '3Ad7QOWha9pwu0L0gx6fz8': 'Wannabe',\n '5tuFvWX2ty6McUcj9CPVa9': 'Summer Sky',\n '4MPTj8lMMvxLwT3EwuXFop': 'Call Out My Name',\n '27fX7qVg3MCQ6DEqgB4Rro': 'Soul Finding',\n '0QKwm5aEod2VFVZ0LzeOyO': \"Someday, I'll Be with You (feat. Jnna)\",\n '2iy7acAvg8SxlMyPuYgX4J': 'Lake (From \"Pokémon DPPt\")',\n '6PGoSes0D9eUDeeAafB2As': 'LOVE. FEAT. ZACARI.',\n '0XQHz5C8PknyrEhyrKxVKa': 'Down (feat. Gucci Mane)',\n '6NeSiZokIiQwJaqAID41Vy': \"S'il vous plait\",\n '3zyDIwW648fnTr1rhn2NLH': 'Cauliflower',\n '4Li2WHPkuyCdtmokzW2007': 'Ni**as In Paris',\n '6sxC60o8WH61J97qieAVOD': 'Mayoral Theme',\n '3WTfgJO3Fz4VlYmA8E1RFx': 'A Friend Named Paul',\n '5G2WXMIfTQ1ovm544sB3zh': 'Losing Time',\n '70VjMtwhm3Q2HBQeJnPfmh': 'Hung Up',\n '6aESAPmAzYNfUAv8gp6F8j': 'PLASTIC',\n '1cjYtL6yMFDLyZYn9bDkGo': 'Chirp',\n '5w9c2J52mkdntKOmRLeM2m': 'Con Calma',\n '7s61CkW9KFKc4E4R0BVoiq': 'Panic Cord - Hucci Remix',\n '2xmUs1zrhgbxWcb4iZOqY6': 'Get Me High',\n '4rBTZHW4NLYwo9ghB06i9I': 'Dawn in Pandora Beach',\n '0SwNZINSaXhZ2KwbvxUCyx': 'Bouquet of Love - millic Remix',\n '3cl3hxVIzn6ZZ2sp21mt9l': 'A Noite',\n '6NZSZMsHuu2cM3kn2RsjR3': 'Side Eye',\n '4uSFT6zNWJDtR9aGDHscSJ': \"You're Really Pretty\",\n '0oiKDZUxZn9i4jCCDmbTM2': 'Uh Huh',\n '18C38zObsOM359wD9v9pE6': 'Lil Green Car',\n '0KcVcKmXRv7BpWk4mRHQec': 'Equinox',\n '5Q7AE2cDrLQeRYsW4evb5N': 'Whatever U Want - Main',\n '6yHZ09mUcQRZtWBYW73OoQ': 'Like It Is',\n '4uPBXF1JnMQhnqSGgBNhd8': 'Coming of Age',\n '7I1kle4TNmkfednJDKo8GR': 'If You Want To',\n '6fvIzrJ6boUDFF19fH4S2s': 'Gotta Get Up',\n '1emmOTQMwJHb2ebLvzXSiw': 'Larry Pockets',\n '0iwsQWgtjSq2kUXuZwTDAL': 'Home with You',\n '3yaYgjEFkRw3PVjW9mV1TO': 'Over The Top (feat. Drake)',\n '4O76joQmZKoZm78s0vOHTJ': 'The Book Lovers',\n '3XCzyLM9kgBYQsuSg05cos': 'Albatros',\n '1jkEorRvoRQNo1WZfD1X5q': 'Hey Julie! (feat. Lil Yachty)',\n '171MQC0BsHcSFwWyiEora1': 'Victory Fanfare',\n '71OvX5NNLrmz7rpq1ANTQn': 'Daddy Lessons',\n '7ejvJkknxsIWzzZ9aPbAsM': 'Homecoming // Memories',\n '6x4tKaOzfNJpEJHySoiJcs': 'Mambo No. 5 (a Little Bit of...)',\n '7sw544QR3eAN1zTnF4evlk': 'Miracle Gro',\n '5xz9GcQI6wDVjSFneT8J6n': \"Don't Trust Me\",\n '6Wax6CtWkRCvyHeN7YTQOD': 'Are You Bored Yet? (feat. Clairo) - Sachi of Joy Again Remix',\n '5q5gzmbBS5yQzos2BvVr1t': 'Nights With You',\n '5HQEmiV2lKnSO6qa2fsR7x': \"I'm Not In Love\",\n '5uVWUVURlxz2t8AAzZHKDN': 'warm up',\n '4NeOWqHmlrGRuBvsLJC9rL': 'My Love (feat. T.I.)',\n '3gVnJfv4D11blFoUjZ6Jro': \"It's Like Love\",\n '33kKcOJoyNduHwXhEnga8X': 'Sea of Love',\n '6Ai9mjtlm46bnEmk8Ejjrc': 'Metro',\n '4mZXOtp4EKpfJnJq7fh8qL': 'Azahar',\n '0bMjuR1CjVBTDySBGSDQm9': 'blankets and donnie darko.',\n '4DTpngLjoHj5gFxEZFeD3J': 'Codeine Dreaming (feat. Lil Wayne)',\n '6IeTqR1lUypC7wBB0LmLyj': 'Thinking of You',\n '0PQsrLxPbOBBwwmXCnGvcF': 'Diamonds (with Normani)',\n '3rSv6B7qY7KW9hR5lMwCWX': 'Focus',\n '4Onanh2sbZQKTGH8KvWzxS': 'Cold',\n '5u431x19PX588bk9XGlwN8': 'Bad Idea (feat. Chance the Rapper)',\n '7mTgsbq7n8jgnwLswpgugB': 'On Your Side',\n '2bVMo5478evu0jBKb1oTq7': 'CC (feat. Shygirl)',\n '5CW7imVWfd4l5Eo2aIFjTL': 'Nublado',\n '6pXcDMr10gh902gPlKuSLv': 'Freedom (feat. Kendrick Lamar)',\n '0OBIHrjv88N4SEtf2INos5': 'Heavy',\n '4xUT7WNyp738VCZa4E6aaf': 'Good Night (From \"Pokémon Mystery Dungeon: Explorers of Time/Darkness\")',\n '4JmfsMVpU6xCokLlWfHzVd': 'Daydream',\n '3htJKHlAjUoRmNLheJ8uTV': 'Tantrum',\n '5hxPPuXySqgCTEUwNGHQdz': 'Nickel',\n '5N5eDeqI0bRGUMPB1aEczU': \"Give 'n' Take\",\n '4MVk79dmYqi7HQs0bMgboy': 'Ghost Duet',\n '3PgU3cywMIrqswJ9A3PGFe': 'Sunday Fog',\n '4alDuC9zWb3LyxdDEiPMoz': 'Where It All Goes',\n '46atoAQG3M60AQW2I4B9rm': 'Stardew Valley Fair Theme',\n '6dHrWj35HXTGvlCasE5VAA': \"You're the Best\",\n '2EjXfH91m7f8HiJN1yQg97': \"Rockin' Around The Christmas Tree\",\n '2DW6jrjcyrXApHpdBg9icV': 'Jazz Music, Pt. 130',\n '06ioYJ99HHjzRk8HrGfkKS': 'Drugs',\n '5XbtJ6LBLlKrBYFfbhw1k9': 'Affection',\n '6dHatCnuOb1TdBIeJTK3Y0': 'Really Doe',\n '1IqxqG6JTno5fpBr0PkkAp': 'Next Blue',\n '00bWqt93aqLXqKtzZoq7Jw': 'MOOO!',\n '5z7aFiU5cDVhWXxAUo9S21': 'Glass Peach',\n '226sq19uLZhnN6UzU0ZN04': 'Lost U 2 the Boys',\n '4D8KWoUe3oTaQSQq928X7B': 'B.O.M.B.S.',\n '4orMsymF399H3xKBc0AIhx': 'Ghost',\n '63OB8oKmBUUYiRtrRtFCvX': 'Girl',\n '5oJAaPRS2EzNIc8EWIbucE': 'Miami (feat. BIA)',\n '1Tt4sE4pXi57mTD1GCzsqm': 'Needed Me',\n '2OoLIJNxpsNs9wIHqWQrED': 'Donatella',\n '1TfqLAPs4K3s2rJMoCokcS': 'Sweet Dreams (Are Made of This) - Remastered',\n '23TPP1eeElFfvYVznskwCY': 'Glitter',\n '3LbbliB1ia5WfyFqwxF9pX': \"Ain't Leavin' without You\",\n '1oOD1pV43cV9sHg97aBdLs': 'Dean Town',\n '2k4yzd3YejgP3kqOo0FOnS': 'Lies',\n '7r2vvsMQYowwVrQp4lHKAG': 'Edo',\n '2MIBAmYwiuGoKUlpq9B9sZ': \"Can't Tell Me Nothing\",\n '7r1vMKvaKeR5hxRGFEujaH': 'Spitting Glass',\n '30tie454RN2304xzAu5Din': 'Where U Are',\n '33SGhp4QaGuTrFlsMPoPkn': 'Strike the Earth! (Plains of Passage)',\n '4cxa4jTtDzk7eTMHoeM4GC': 'Easy Dreamer',\n '4TWgQn3CjlyVFX797CqUk1': 'Start Menu',\n '55jQMevNp7aWtiW5LPlPoa': '1997 DIANA',\n '739vCwA3EpBSkk3uDsI2wB': 'Lemon (feat. Drake) - Drake Remix',\n '4ztMK77LitOVFN6rOjTAI6': 'Faraway',\n '0cnR7d3VZCgAIemWVvtHlO': 'Bugs',\n '7wgxq27uOvfydLunYkcmAU': 'Cry',\n '1clKbPcDdAyAhNE6DxHvdB': 'a moment of silence',\n '371akJ9fYgSkrAFMyWoTdL': \"No One's Gonna Love You (Stockholm Version)\",\n '4Q3ikbp3CWt0Gp4iYDt4lV': 'Lost Boys',\n '0hRRNHeSZv2x6pHCcXPAct': 'Experience',\n '6K7ikDukY9j3p5EhNM2zYj': 'RUUUN',\n '01k24g94i1JvkFLQmVEdCd': \"If You're Over Me\",\n '1vlBi0s11E34l51MhZ63f1': '3000 Shots',\n '6axvnGwB3rtoriGI1lPhTz': 'Chinese New Year',\n '55zlp5o9PPlJm0sa6tck4x': 'Open Arms',\n '0NrtwAmRAdLxua31SzHvXr': 'Everything I Am',\n '4luBGXcgpFQPPAtcF4zEdv': 'Erase',\n '0TlBuH1azntROo6SCNe3Kb': 'Darkseid',\n '5vdFIiNPUofaKIatZU4Zz8': 'Moonshine',\n '45iMwUi9OBJlEIsTJ4AStR': 'Not A Love Song',\n '70pZIQqQ37SrNCADx0FiPN': 'Jet Black (feat. Brandy)',\n '5TfgNJxlB1przEjZEaVA1T': 'Lazy Afternoons',\n '03ZkvqZOANKndGXfAAPywG': 'Drown',\n '53jbdPQBaH6WaQvW0zmGBs': 'Talia',\n '6DybvqYRfqBxHqQrBHajyM': 'Jazz Music, Pt. 145',\n '4BPUZIW2wwnttxqxmD2fNI': 'BIPP',\n '5EzL7hGT9g2Tvqsy158Lu9': 'Pussy Talk',\n '56qGgWoxbbeqFARbZCix3b': 'De Coeur',\n '65W1Qwn5MHidrr2tLran2v': 'Thotnite',\n '3UOpHDkypBXNEIccrurBvG': 'Laura',\n '2rItExC2Ht8PcgMV0lqbf8': 'Not Okay - Alone Mix',\n '244nUC8shDAlJVplZ5j3Lk': 'Feed the Streets (feat. Project Pat & A$AP Rocky)',\n '0BQypWN2REbB7nDCxOFA00': 'Save My Soul',\n '6bTn1ovliI0OkjUNkiMBJq': 'Nobody',\n '2kLI3WeOPoP5rLP1lXr6nH': 'SAMO',\n '3ZB8WOTt7p9cSia9iG0TMz': \"Echo's Answer\",\n '4gUDdUr5yK0JGlR49zSRVt': 'Sea Of Love',\n '6c7l5gpEyCNGr86jsWneGy': 'Awkward',\n '7DTTn7aeCENliHGmsWkMFo': '18',\n '6h2wpo2pshM8QnAvRySEO0': 'Soulmate',\n '3RiwDuXFqS1N19NKYrk5Ya': 'Nights Like This (feat. Ty Dolla $ign) - HONNE Remix',\n '3QvMi91kAClRjIqgRCLWGW': 'night dive',\n '6cAmmW37tXpfUtbhJcEnTv': 'Prime',\n '2TLlFL6dpycifLqKtTE7UZ': 'Sundays',\n '3qMJ7Ek4Al0BeMnMAI6Ves': 'Iron Mike',\n '3iGNoYKIabGohB9A0C7dKU': 'MICHUUL.',\n '0HAqq2GcQKyi3s87GuN7jU': 'Amoeba',\n '5p0UXw8VPvtgGEgBltcIwU': 'Do You Feel This Way (feat. Whethan)',\n '52ojopYMUzeNcudsoz7O9D': 'New Person, Same Old Mistakes',\n '1F35Dmog9pekyCVnH1eQpl': 'Photo ID (with Dominic Fike)',\n '2uww1QnLJtNgP5xXlqfNx0': 'Itty Bitty Bitches - Asian Doll Remix',\n '6vFsBXYczYsP0H3lgunZOm': 'Cloud 9',\n '4tnYQiLWvNDPCS0wi8is1I': 'Pastels',\n '0dcu28YT8cXZH7JTIraszp': 'Starting Over',\n '0DFR86YAil9V2OQMUFwBZk': 'Mr.Toast',\n '7yNK27ZTpHew0c55VvIJgm': 'Dark Fantasy',\n '5dEJc0rHuTVxtl1xljDbRv': 'oh my love',\n '0TIjhvcvL0FV1NhOKMW4kd': 'Bird of Paradise',\n '4mLmtIHXfOLJGh11QvsQOj': 'Sunrise over Snaktooth Island',\n '4neipBD8hA1q2g1FS9hgAC': 'No Angel',\n '1YT1zLUNAy4qtdlAFX078j': 'slumpin',\n '3uxhyRdWVXp7GQvERQl6fA': 'Videotape',\n '0SVvyfRMFMRJzc0L2odX20': 'Fill in the Blank',\n '5SeRgzC0LGn44yT7kJ3y2W': \"Wish You'd Make Me Cry\",\n '5XHgo8eXtKTK0xLKMNiOll': 'Out for the Night - Live',\n '0ZHGvuTzVMZATXV5n7e5LP': 'Loving Love',\n '5hnOzmFuGltDDAm008jFDh': 'Relay',\n '612lI0nfXSgUDsjemO2OyS': 'Peaches',\n '4HAeSvW8x9GQjDwn2RwAdU': 'Vedette',\n '1zbTIdIbLYlXjtOqlHALh4': 'The Girl Is Mine',\n '44GGlBDU6eJwglGCvWZOrb': '50/50',\n '7bgwME1OmdDy9iUwYYwzts': 'Cyber Stockholm Syndrome',\n '5b5wCUEao71E5iME5fPl93': 'Never Meant To Call',\n '4JrkGHBZ2CUyT7SiTF50S2': \"Blunt'd\",\n '5gIJVkHksTbIbNnB3IMUfK': 'Seegarn',\n '4Ue9SU2BerH82xC3QQNSEl': 'Jazz Music, Pt. 15',\n '0RCpze7hmowZIGUJs9Dm7w': 'Marceline',\n '4xb8JHIN56xixSl6vkSPjm': 'Siren',\n '23VciRIsKDL6JjfhQzTKiY': 'I Thought We Were Lovers (feat. Basil)',\n '6Z2jgMpqSzKsZkyBWqYkv8': 'Same Ol’ Mistakes',\n '4NIvhPupMOjeTl0FPhVl3t': 'The Moon Song - Live',\n '2VUg97CDYC6HngLCslSpqn': \"Don't Waste Your Talent\",\n '7ovhahwrGWnhcDuUalzcjE': 'Sirens',\n '6kOHjAOLz9IvUiRGf72Kec': 'Sober to Death',\n '74lV5FmHUsOobeO2LhvK2R': 'So They Say',\n '1ZuPyYbZTFjCadmDJJgT1Y': 'The Crate, Co-Op 1',\n '795LIYKphBOsvyMh5hZaPk': 'The Glory',\n '7vs4gQZ1EFQkfsMQNWiyT9': 'treehouse',\n '6acpqYKhJ6Vmu1TFwwAjOe': 'Lemon Haze',\n '56RfNBJGUgL1ZFCB1KEJrQ': 'Django Jane',\n '1h2LHhmyAXi8tPNLi806JA': 'Shadow Man (feat. Phoelix, Smino & Saba)',\n '0CFtlafteObzOEuJdESQkb': 'Eat The Rich',\n '0oNRbup4TIJfv730LL2tS2': 'Another Promising One',\n '5cA7UbST1kkhCyynSchTYg': 'Paul Pierce',\n '1kQhi22kyluRCnIPAXtxEZ': 'I Found You (with Calvin Harris)',\n '2uQhUCJiSfqVAsDptMSvLL': 'in time',\n '2TXMsGsDbTBPTqwCoKzMl7': 'Gasolina (with Pitbull, Lil Jon, Noriega, Dj Buddha) - Dj Buddha Remix',\n '4rYLpaNFzt6pkQnrCvVHUw': 'G.U.Y.',\n '054hQgiHkYgHZzHjIDj7ch': '12,000 Lines',\n '190WzVuLms9YUO0sx3RD9N': 'Pool Party',\n '0y0c0Ir8Bs75lnONQPscKG': 'Top Knot Turn Up',\n '3sZfQB5uYTJmA4QnB8dv7P': 'White Blood',\n '3HEn14GqygLCNfroOnYiZb': 'Free Room (feat. Appleby)',\n '4zjJq4wguDLlEuiNn3D4aN': 'Orange',\n '2zeHX4bX8RxeaLDgdn90RA': 'Eat It Up',\n '7AHDZEsTkwNP2MWtMYPVVV': '24K',\n '4cfDvkOV4oay0EGqg21ZNM': 'Tonister',\n '1dIFUbrU6HEjCu0C0y3s0I': 'snooze',\n '43bprpnhdZb6TuJpHpuxJL': 'Bones',\n '2xCGBWfzTe8l2kvHpgvB6M': 'prom dress',\n '3aW0ds4A4tSQDIp75FqWTo': 'FAKE LOVE',\n '52gLDr0NBYKuTeEhECHDuJ': 'let one go',\n '7bvfjQbmFVKWh92TYtUtsv': 'Angelic',\n '3NoJYV1A1aDWZIxJORdVh2': 'deja',\n '7bINjFKpbYkjUR7VJDjMkD': 'Bottomless Pit',\n '1p8CngklA6R7XXLCyrFWHE': 'Jerome',\n '36ONiya0OANYknz0GgJmwB': 'Don’t Matter To Me',\n '43PuMrRfbyyuz4QpZ3oAwN': 'Exchange',\n '6gDtza0jw9aQWxWtlHOKoJ': 'Izzo - Instrumental',\n '3dZh0j86w0sOmZQEzYcplC': 'stars',\n '5wmn1zWhSSDLUmLLwYO9Rj': 'Old Friend',\n '7uxlLKlY5FIYymJF3tU7ai': 'Baby Pillz',\n '5LCKQ7PXZRIKnBbABb7ed0': 'Call Me Mother',\n '3lIxtCaROdRDuTnNBDm3n2': \"She's My Collar (feat. Kali Uchis)\",\n '4broGZ43zMFKiCyIjpFair': 'Notice',\n '18190jS9db6xIkdt6HkgXj': 'Yummy - Country Remix',\n '2uxnPcTJa2UExlj1LwYZp6': 'Sweetie',\n '7JVfDagtyWy9bYsaf37H9K': 'OctaHate',\n '27aQH9DIJ3ozx3dC91Hhjg': 'Beach Life-In-Death',\n '2jdw2tc29bqJwToyGvKgJm': 'Ninety',\n '2KjJhGtseXQBI5Cg6ZZdc9': 'Ce jeu',\n '6IWQArAqcjGhBKnyom2b1G': \"Who's Gonna Get Fucked First?\",\n '70SnF1RJLB3blEDBWjrig3': 'Real Love',\n '0MIWDzdXFHFIe7B1Unp6yi': 'You Say Run',\n '0HIXq9nz3N6XaKUf9eWOPy': 'Rotation',\n '6IIcLzR05sN1gk4ngzz7Kk': 'Supercut',\n '0Y5nfKx3OnZWPIO0vHbinL': 'Demons',\n '1kusepF3AacIEtUTYrw4GV': 'Paper Planes',\n '1HqmusbSIGDyCC7O4EGZ5w': 'Die 4 U',\n '4s6RY5kHbiUNRhzqGKsCoo': 'Duality',\n '0GD39aIdx8AdViz1RFFZWh': 'Vampire - 1300 Remix',\n '1iBoEceLHIzp9dwxR7o5oA': 'Two Slow Dancers',\n '2KDBl0Ax8PNYfIK4qSwXgM': \"I Got It Goin' On\",\n '3WrIsXM196pQz95nZyxSDD': 'Pretty Thoughts - FKJ Remix',\n '5qC17VMNoZdF2gAw28FtsV': 'Monday Loop',\n '00s8dO3RWrFkBqC9JIy6ag': 'Right Back Where We Started From',\n '4YpSq0z25XLV2MFTXZ4x7Q': 'Where It Never Rains',\n '1Ac5BDsGUMQ3tsW2vnc52x': 'First Love / Late Spring',\n '3FF9wbD0NhvitcpIl4475p': 'Introducing Pikuniku Again, Trailer 2',\n '6WregxleiZLMNsca60QVv6': 'Leon',\n '0ObzbR5uD7GKZzxhQ28DX9': 'Girlfriend',\n '4CUTUsBGjHslu2Bd3AOXGg': 'Basta Ya',\n '2uIz4Meb75jH3CEtrEc6it': 'taurus',\n '530YPWoV9QJrYYpb2o0R1G': 'Night Isle',\n '0QV83q2vzzOM4uODVyXf7i': 'TONYA',\n '61ieuzY3byepkO7TZows2F': 'Sunset',\n '1VBMwGHIe0dsPU5Rn2ELU3': 'Thrust',\n '3uKxZJwm352HfpWUvkOZU0': 'Personal Hell',\n '5jQQDwJosT89Wy5vOLCafm': 'Open Arms',\n '3kR2cKaf7WHtUtkJWewKxW': 'Cats and Magical Girls',\n '5uKIiBGYPdt2kBEMo8DpYF': 'Dusk',\n '6H0AwSQ20mo62jGlPGB8S6': \"It's A Vibe\",\n '2yCXeYXbH49SPkwhKmXP0M': 'Standing Next To You',\n '73OX8GdpOeGzKC6OvGSbsv': 'A Place in this World',\n '0At2qAoaVjIwWNAqrscXli': \"Boo'd Up\",\n '3Yh9VF9S8zXpDfiTzHXep3': \"I Can't Go on Without You\",\n '55vo6aUFx7en3lD2uX6O9B': 'nightshift (red wine and cigs)',\n '6glGUkhkNjV98OMUAwws5J': 'Casablanca',\n '7iKz1nqbTrNVq7a454jc1t': 'Self-Medicating',\n '20Befu2qTvZv19YMJinWL2': 'Post That',\n '5W3cjX2J3tjhG8zb6u0qHn': 'Harder, Better, Faster, Stronger',\n '5WVWQQpBJqljbZtxo19CxS': 'Calling U Back',\n '4gEAYcaZPHpFFelzdt7pBX': 'Solitude',\n '3WDIhWoRWVcaHdRwMEHkkS': 'Mama (feat. Ellie Goulding)',\n '3MBxHkSwWCqhGeBxGyOUnb': \"You're So Beautiful\",\n '47ppDXfsQc3Uav5XCiCvHw': 'Jazz Music, Pt. 23',\n '3SH5v9qTRBqRlLYvIOBJTu': 'Quiver',\n '5jY2UZjWdu2TbKFGFxfW0L': 'Away Above',\n '1ZHYJ2Wwgxes4m8Ba88PeK': 'Monster',\n '44spdItKKM7rOtKswbBG0U': 'Graceland Too',\n '5AD8DWoQa4NGe2WagH4YF2': 'FMU (feat. Rico Nasty & Boys Noize)',\n '3u1ovYhQVXyh2qKgFr9PLc': 'azalea',\n '6VU4Ys4rbbbwJ84g1ZuYA5': 'On I Go',\n '0IxaCNvw0KGeS6UefuShGj': 'Stars Across the Sky',\n '19YKaevk2bce4odJkP5L22': 'Nikes',\n '5s1VKglR9uPZL6H3VVNK9P': 'Hello',\n '1kjHcsfGh4EXxslR8TxEcX': '100 Sunny',\n '25EgaBai9ozYbPtHVbsu8M': 'Memories Fade',\n '4ii5AJRcId7tDMnINw31NQ': 'EDGE-GIRL',\n '7cXHAx8o7tLLwxZgzXNfiV': 'Elephant',\n '1To829onYmL63wLNtU7Zm8': '4 Leaf Clover (feat. Steve Lacy)',\n '7axSEVsXKAYNSvxh1R1mwy': 'Nasty World (Skit)',\n '25oOaleife6E2MIKmFkPvg': 'Relationship (feat. Future)',\n '2sk6lDQxUtz2M37ZjdzjFb': \"I'm Tired\",\n '50yMxaPeUM0zyFCRfIqja7': 'October',\n '5tEQYuCE9vJ6WDcuX8h5Dn': 'Clarity',\n '4KfZSdlJ2YYZA4Q1p9WzUK': 'Time',\n '6iOvnACn4ChlAw4lWUU4dd': 'Go To Town',\n '0De8H4o9xzPtjRp9dns0L5': 'Boyish',\n '4PMLEEYw4mblYsPlDSHKyu': 'Get Stüpid',\n '0JIdBrXGSJXS72zjF9ss9u': \"I'm Only Me When I'm With You\",\n '671XaUBmifTMXDbZK5CB1M': 'Mercy.1',\n '4dTVgHZFPlaq9nPbLVVLSG': 'Closer',\n '3X3FzrA32EbYvu3n3526w4': 'Play Destroy',\n '7qZ6MFXzyHMg1OA8iSvS1M': 'arpia (ft. cresce)',\n '34oB5r0lcN3fYWCs2uA1k5': 'The Cure',\n '1FcPNWGbtcBJ4Igg0uMKy9': 'Crashed My Car',\n '5SoJfm3g2jm2FM6A75LkER': 'Pictochat',\n '2TSKqTxpjy5TWR3MalNFEZ': 'Moon Rocks',\n '3SO5iPrvbgXz2XUwjOExDs': 'I Know (feat. Fiona Apple) - RISE Recording',\n '4BzId1Z16ts0Yp9T3oMwur': \"Ain't No Party\",\n '2YApH2iZyOPLT0ZSj4MEXm': 'BATTY BOYZ',\n '06isorc1FNKspyhpsm1INY': \"I've Been Doing Well\",\n '6qWitlJBWOQBXyumtDBZAV': 'I Miss You',\n '3xo7Naog2pQ67EFliajuNh': 'Kiwi',\n '59RSrxkSKSixEWBAIvE5Wa': 'Starships',\n '40opYfiPi2qXfYsB1Mbd3s': 'Jazz Music, Pt. 84',\n '5T1dKpqD31a3HQinlBzotE': 'Walking to School Can Be Hard',\n '6cWZQNgaL8yLtezJvag9Y9': 'Pacing',\n '1u7YoIlNxanPdGU9SOsgef': 'Til You Say',\n '5uSG2qFsXcAG1QV5D5jmML': 'FIGHT! - Flyday Chinatown',\n '4vxm2gnST3bQer60vY1pJp': 'Smile More',\n '3SnGymj6ijE2iuUfWxLo1q': \"I'm Coming Out\",\n '629TRAVD61y1ZVNl9EOfEE': 'THE BROWN STAINS OF DARKEESE LATIFAH PART 6-12 (REMIX) (feat. ScHoolboy Q)',\n '6z4Bjl18JuEgSQsukBLccn': 'Insomniac',\n '6gIPjfVx0TRu7OQYgGAS9M': 'The Best Moment',\n '2VxeLyX666F8uXCJ0dZF8B': 'Shallow',\n '3Vm6yiTPfhFeUHD4gt42cZ': 'I Like It',\n '5NBb5bidtCJWq8oI1n6E08': 'You Fuckers Were Asking for This One',\n '0yq6J8t1Dulzvlg0GyALjy': \"Isabel's Moment (feat. Tobias Jesso, Jr.)\",\n '5oO3drDxtziYU2H1X23ZIp': 'Love On The Brain',\n '5zzUWCX3lLn4DPSMhgpYkc': 'Jazz Music, Pt. 57',\n '0idjTHGhGRBdWTmsalq3tF': 'Radio',\n '4J2NxCNqehE0MiZhbu97Jx': 'Beef FloMix',\n '0imNNpS1VIovUxle2OnvrW': 'Instead of Midterms',\n '1lAGdqI4Wwa8G0XTP6VqHl': 'Girl Blunt',\n '56DA4s7Dp5nL6RnJO57PCc': '.sleep',\n '7lxWzjZCSkXndL8eYKfFWU': \"Don't\",\n '6VbGL3ZvXfJyLONUFI8GDc': 'Kalimba Love',\n '1XXA4Lok0sIaeHdCPkkCxD': 'Jobless Monday',\n '7LBU1h8q0kpzkQnipzzEZ4': \"Coastin' (feat. Tk Kravitz)\",\n '6JyEh4kl9DLwmSAoNDRn5b': '4th Dimension',\n '45dZbNz1sanDXVENijqb58': \"Grandpa's Theme\",\n '2WmXEru8PHpfgQrnDNNF4k': 'Not So Bad In LA',\n '172rW45GEnGoJUuWfm1drt': 'Your Best American Girl',\n '44lusH2vzc4sRAwsooRhPh': 'NICE',\n '6fJhF2zdKgCSO3E4JcvVER': 'Abbey',\n '1bZmbsNqOkfvGGAikytuW2': 'Ashamed',\n '6WVheb5G29cbDOzF4qMfli': 'Road Head',\n '6d5gyiRHXyyjnpqiVi2PCe': 'Playboy Girl',\n '4qOK6urHxHxrCtGipXHZPD': 'Wear Me',\n '1GlQm4YTsfecRx5cKApfvw': 'Make You Hers',\n '7DPKumvNXs9YFK9u5HvH0u': 'Tried to Tell You',\n '4Dn4S9ZvIaOKIcXSfIMJTn': 'Duck Duck Goose',\n '2G8tfTExxzpRKssKzKwDYV': 'Simple And Clean',\n '6GWoHvFQCFHKZQuzSrrWNT': 'Almost Home',\n '7hMUEYcx1aApliI6CAqvBS': 'Moon Shoes',\n '5UFcHtAicYedNDcYTEvcXe': 'Snow',\n '4Iuokgqhv86n75PrVQKnbo': 'Grand & Stately',\n '7qwiyFyXDTp7aqxboN4bqO': 'Hollywood',\n '0jKSgX3JXG7kAW80nohtlG': \"drip'n\",\n '3mgXQdh7cXbBS0W1WzTHLc': 'Used to Be Better',\n '0uHl5YfXmJc9FcIyz6oGVl': 'Scrambled Inside',\n '2q4rjDy9WhaN3o9MvDbO21': 'Kiss Me Thru The Phone',\n '1dXYBALYTj3AMxa8hgiQhA': 'DEATHCAMP (feat. Cole Alexander)',\n '4cIPBRZVBcsk7yiNYgAnqR': 'Fools',\n '4HApk5nMI625YPnuNeYjtU': 'Rooftop Luv',\n '3OzwuqlBU5IInWGKhIDhTq': 'CANTU',\n '2ovQ5MCx91XVjgVWEPfvks': 'Homecoming',\n '7uoFMmxln0GPXQ0AcCBXRq': 'Snowman',\n '7nu0Lc0jJltztDxsGeoPiG': 'When I Rule the World',\n '1eYTN19ZXz0i9iuIX2TD5U': 'Wildflower',\n '3rZhRBdVQ2fTEM2ULOAwUL': 'Broccoli',\n '1hxIVN8LTdCTDHpBatzWIf': 'Moon Theme',\n '5pTpFp9wr8X7uddedE7uJS': 'Downhill Lullaby',\n '46cWr45cjDcXEQpkYp9jFT': 'We Appreciate Power',\n '5hNjnwtaRgah02aenlpkrA': 'Me and U in a Winter Day',\n '5E0bcIeO3IZncMXgPkpNsX': 'How I Get Myself Killed',\n '1kbs85kOuh0Vqw6e5tnwBK': \"Spirit's Eve Festival\",\n '11dxtPJKR4E0wlSr0A0t47': 'Potential Breakup Song',\n '5gqLY5H1ZyT3BScVr0nDMs': 'Sway With Me (with GALXARA)',\n '2U2Z1IXnmJIvlknWizFykZ': 'High Horse',\n '0S3Jl69WSrfGAZ5FdOK4EZ': 'Beach Life',\n '2OFrAsP5Vrcb0DtsPNsm54': 'My Kind of Woman',\n '5XLXrm5JVMdOus1fWmTOFw': 'Beneath the Mask',\n '1cY8zNcNnngeVGHCZk7hlp': 'Yours Truly',\n '17Yq72h0p15OhCbZ5lJ5gd': 'Bickenhead',\n '3wiB2Tp9ytXPysd8RdY86p': 'Bunnies',\n '3GPVWPA7FGwt9Zg7QVDKGl': 'Cynthia: Champion Cynthia (From \"Pokémon Diamond and Pearl\") / Battle! Champion (From \"Pokémon Diamond and Pearl\")',\n '5HuOQHBDbb0UJjEE2fw6Uq': 'BIPP',\n '5ZBabAFfRVFjxMvbmGadqL': 'Starjump',\n '1PS1QMdUqOal0ai3Gt7sDQ': 'Gold Digger',\n '4k4jcjH4Nhb12opH1QzNtN': 'Dontyouknow',\n '4SExof7SNMmYgTmgE8TBrE': 'Fruit',\n '3I4QOvltiKcMu3xmnQjEct': 'Green Light',\n '4oGDV4yPssIUzVn7gkIWio': 'Youth (feat. Satica)',\n '6OhkOasd2Mume69b87jwbN': 'Oh My God',\n '54FjEo0Fvf9tRL90MUqz5x': 'early moon',\n '4EcYqXGZ1MOl7gBLcRO9Ya': 'still feel.',\n '0Le6eKaJMFDVlk2vxm7nHP': 'Contact',\n '0e0BS4zwbHHI5jTS6pSlJg': 'Steps',\n '32tUYhAygMdx9XxFxxj3It': 'Susie Save Your Love',\n '2R7lVLICVW6lsmnsFBNRoN': 'Chronic - The Knocks High in Harajuku Remix',\n '3EOE4H6f4Xx4kpBHVjKabu': 'jungles',\n '0aoeXTnNGLMnIlvxcyAS1M': 'Summer Rain',\n '4eO45qgSrPSozyPfwdLXpT': 'light strands',\n '0PZL2rOSACINyykpq8040w': 'Rico Acid',\n '4UO1pfxi5fDbxshrwwznJ2': 'Woodpecker No. 1',\n '3PIch19Ly5hNPPGf1PJefy': 'Dumb Bitch Juice',\n '5PDLtrTRNJAZu8dTKEfMff': 'Party All the Time (Glee Cast Version) (feat. Gwyneth Paltrow)',\n '3IALkdFSd1jc2isEjNsMI2': 'Early Ocean',\n '36JxYYdDjdUkQ3RdbAS9mJ': 'Danube Blues',\n '5t2v9Ii6P8R3pC69quVefi': 'Want It All',\n '69gfeOMgY5AMcUdzknOIlX': 'Lake.Serene',\n '7JyaABzNBjvXzLvxipcjdI': \"You're the Nico to My Velvet Underground\",\n '4nE17X9sHIOYw7Dt7sRQHo': 'Sand & Lead',\n '1nwkSqzTyXBk6XF796EOav': 'Yonkers',\n '0KQXI0M9Xt0mPMc5cFK896': 'my boo',\n '6vNVFtRWqWj0DBRg7gmaYX': 'Fewer Words',\n '6vqvv9UAAixdpTjWaNgEWH': 'Starlight',\n '4J1O1ERHhqtkOfdF9L6zyG': 'bored',\n '4Efa4ddivxS03OPlpZIYhf': 'holding hands and making wishes',\n '06EAtSDu3KSoi4fbA3ZjoB': 'Crazy, Classic, Life',\n '2FNPJWVdGxYhWaotd6rULS': 'Sandcastles',\n '2CzXAeABCmbEB52ZziuMsH': 'Seeing Stars',\n '3WRIaWsws011vHMd9uzPjG': 'First Off (feat. Travis Scott)',\n '3Tc57t9l2O8FwQZtQOvPXK': 'my strange addiction',\n '1Xe5FfC6zb0ExE4lBB8OlM': 'OMG!!!',\n '6lMMiFxOnNZBEJFc4UQPwS': 'Geyser',\n '45QA2Dlp5PD8xPcFvk5FrD': 'Jazz Music, Pt. 104',\n '5qZ0z0kNQ4SKt8EHVxgPH8': 'Play Palette',\n '1naqrWNoxyi6PEXz3NOXW0': 'Anything Like Her (feat. Tiffi)',\n '0qwa6Mm9oZWLhGitD2Jfnq': 'Digital Love (feat. Hailee Steinfeld)',\n '5HXcT5LOENFrqshJC2yX28': 'Dragons',\n '3pAodxg6pppHSGadyQcf4M': 'Herewego',\n '1x1BKrrpq7CfOZPBeUsx16': 'Grey Luh',\n '54OkZltlupE2xB0i0lAfzi': 'Nothing Compares 2 U',\n '2hY02TQrE8TP31CoKtMJoU': 'Siren',\n '08M1S4uwtmPM0jIO1qNyhx': 'NOTHIN LIKE U (feat. Ty Dolla $ign)',\n '1uX18gfpzbP8iLaOjy6p3V': 'Roof',\n '1kmFdSFT6kcyzdIq445Iww': '¡aquí yo mando!',\n '7JckggfMaTeVLMRrmG8MFh': 'Starbolt',\n '1CwcA1e96dsV05iQ8AbArm': 'For You',\n '6LsAAHotRLMOHfCsSfYCsz': \"If I Can't Have You\",\n '2zyC5WU79wxwfnM8MRlra5': 'On My Mind',\n '7mrEpwmQJ7qK1ik7ZjjcdD': 'Clueless',\n '7n8ZZoNLVtHA5GXvyZLIGa': 'Airport Dreams',\n '7tgcK2OCxIDlf3g5vjRsPV': 'Hello There',\n '43dBDwPskkedkUJYcVvvjs': 'main menu',\n '5MISpOLjlHo6BO6sZD54hp': 'No Good',\n '2eAevbEFvzOnrd0wMNXa8y': 'Look Around',\n '6lGX6NF5I541hyYFLB6VUN': \"You're on My Mind\",\n '3JWimEBxUR1VS3mgAXSSka': \"I'm a Fool to Want You\",\n '1NOP25DohSJVjVNEfDqBW0': \"I'm Your Doll\",\n '3udJxehBCZ27wRO9gSum4B': 'I Don’t Think I Can Do This Again (with Clairo)',\n '5BHQG3Ibf7qZUlhWFaXqDa': \"break up with your girlfriend, i'm bored\",\n '3b8l8g7UMJRTCKUEnZiRCF': 'Creature Comforts',\n '4YKGVOUdC38bbUbH7t5gCH': 'Valley of the Dolls',\n '6r639TM0j9JWM4jWJB1cVR': \"Tweakin' Together\",\n '5WMePb6TFEQmi0SXHRKYdb': 'In the Mirror',\n '3U19GVybWYwG0wMXzrgL2h': 'Bebop',\n '6nzXkCBOhb2mxctNihOqbb': 'Bad Girls',\n '6KAmYbn7QsJ3OKTueR7R4U': 'Charmed',\n '5g1vtHqi9uV7xtYeCcFOBx': 'Jesus Walks',\n '3kPJzO1NQ5ysAzy3nGPjTU': 'better friends',\n '2Im64pIz6m0EJKdUe6eZ8r': 'Lost In The World',\n '5YSI1311X8t31PBjkBG4CZ': 'Wuthering Heights',\n '2WQ8hYSvQrE2cJZjH60Fdh': 'Jazz Music, Pt. 37',\n '6ahcprEQ414ecRGODsVCU6': 'Tell Meeeee',\n '2sCMZJOgQSMDWL1so9726y': 'Taste',\n '1tNpRWu5tHylrVuMAhzvNz': 'Oracle Night',\n '6hDJWLmPebVbFrDC9hw1Ry': 'benny!',\n '5nuGaTAKjCcVSEdo4lx3Bb': 'datsu . hikage no onna',\n '1UvWZXzJx8hfMUXB7ZCNb3': 'Visions',\n '3DK6m7It6Pw857FcQftMds': 'Runaway',\n '3tp8oVdBEvRw0pM1DuITYi': 'Win You Over',\n '6NgBiZKYX52IGZvT92025F': 'Rest',\n '18JrT46fkTWSj6HBq9xFuK': 'The Mom Song',\n '1K3Ra4tOkAEkRYT3M8bDZO': 'Salami Rose',\n '4fZNHT9xCMtpWbLNrMXH44': 'Just Close Your Eyes',\n '3GpbwCm3YxiWDvy29Uo3vP': 'Right Round',\n '5DfO2pmRHm9G2nALP7gBOm': 'Nostalgic',\n '2Fxmhks0bxGSBdJ92vM42m': 'bad guy',\n '3TwgZ3wCKwObhP8qNkbLYR': \"I Can't Help\",\n '38YuwNZvCHCMgju2Z1EbO4': 'heart of the woods (ending theme)',\n '0gUh90GtFh5hEUzxLNRD0l': 'True Love',\n '5zqbd0EGgNQg8e1mjdoJOo': 'The Room',\n '3WWAvWDBQANpJeNbvVbjMg': 'Heartbeat',\n '6D5zOotZNjLN98bXOfhAYm': 'selfish',\n '6d5KjyeBSbzh6bbczubWko': 'Waking Up',\n '1Bu2sGIK0oPfqTRRUm1GuX': 'After Party',\n '01TyFEZu6mHbffsVfxgrFn': 'Show Me How',\n '7ELVcBLNQWgseHIqgfhpCS': 'Bad Love',\n '36GBFPY75lJpxk7GugxhL7': 'ok on your own (feat. Carly Rae Jepsen)',\n '4cRtsgJHnz4UaUnHGfDrxB': 'savacu',\n '005lwxGU1tms6HGELIcUv9': 'I Kissed A Girl',\n '1pbbsI2KGPOMu0HmuGccBu': 'WILSHIRE',\n '4LQoxlwjxveit5eNT4tphX': 'Binge eating binge drinking bulimia',\n '2Kerz9H9IejzeIpjhDJoYG': 'Love',\n '78ZbxZUzAKEyfLLBVEqEl5': 'Greens',\n '2wxeIeofgy4AHaOhtePamJ': 'Miku',\n '1aCfoneu2bw27xw3oi1I1b': 'Need Ya',\n '40xhyfAPDoMtv494MfPevP': 'XO',\n '3hdtox1ZVmJBF9YjcEUy1o': 'Brand New (feat. Kayne West) - Dirty',\n '1YHHXbj91wgP4zUh1N2RFe': 'Nautical',\n '3ou5xfUbChcJHMIN8jZ8C9': 'Rolling Papers',\n '5LKXxwgll43fxe1lPF7sze': 'If You Let Me',\n '6rrP1mBTbBkJCP7FsBe0SM': 'YAKWTFGO (feat. Kali Uchis)',\n '5KtmHyFLE4RXW9i87NBKwH': 'restless (Feat. philanthrope)',\n '47k1Ox90yk7EicCAd3QDhc': 'NICE OUT',\n '7er0EUMY653mxZ1NVD9mwQ': 'FIND YOUR WINGS (feat. Roy Ayers, Sydney Bennett & Kali Uchis)',\n '11UDaT4rI30odiallp4of8': 'Blue Pills',\n '6IsX4N6M7i9OrYc4t70Swv': 'The Burn Marks on My Epiano Wont Go Away',\n '4am1gcD1rrK5WKsEB09Yju': 'Care Less More',\n '2Gbn381XOa2QNVxxDQzKNK': 'A Friend Named Paul',\n '4MsC3bu5B8WQGHQjOoH2NG': 'First Steps',\n '4kUZvXB3LC3an3HX6h0s17': 'Cudi Montage',\n '7uX3gufAoBVqKVoD3dBLLD': '&burn (with Vince Staples)',\n '5PNa1MjGan22iWil3F4zv6': 'Body',\n '3dJs5MJFrX2TCtE2jRKQr8': 'Party with Vibes',\n '5sHjSpCf52Rd67byJVe4jv': 'Jazzhop Smoke',\n '0ji4r3bCvNM9RLXpmrKcfx': 'Home Away from Home',\n '7kqasIR4W0bPjBsezqjQLk': 'Mines (Danger!)',\n '2ORVHijyYA8bAOCVaIbmdS': 'Working for the Knife',\n '4aGvs7y4hQIbGss7zmEXKf': \"Ain't Together\",\n '2aCNhpLwUWyL6VEmkV2Tq5': 'Osaka Evening Walk',\n '01SQkj1DNUpVJmrd505kUY': 'Wumpa Fruit',\n '47fYfyfbrH1Fk9HqIbT1Lk': 'got it like that',\n '6MCU7EJ155Ukx2Q6gbScNN': 'Slider (From \"Super Mario 64 GMB Cinematic Soundtrack\")',\n '7G7zCzvyqz39BFE7TqPM3O': 'All Your Love',\n '1PPbPeWfeKwiBZUzugIehD': 'Flirting in Space',\n '4qV3FpOX5NQbghsnmx3wKX': 'WHY?',\n '2fGRJzoiYJYAzlQAyBONMb': 'Morning Sex',\n '6Ge9ylH2GpLiDPXvqOJLzU': 'Moon and Star',\n '2OIpR6Ey3eAYEQDoEVuDW1': 'Fashion, But Kinda Sad',\n '2qcnaiJsaZ0fCcFKMxDbh1': 'Tokyo (feat. Lontalius)',\n '6LYZJO63vymjB7oAdefzC2': 'Mola',\n '7G6vEhuSJqAht3Q22WUe2u': 'The Hamptons',\n '7IaLy0JzlCZxYNfY3Y53LU': 'Flight Simulator',\n '688iitLNSV6Iik1QESqvth': 'Rise',\n '6YdQgWSpsxhVeX6Xmv3IFJ': 'Cuz I Love You',\n '7zXWaCJa0THIqVnRRCn0sB': 'lullabies',\n '24ygFQ5BdtZwqHjBPKRdf0': 'landrace',\n '6RtzmszGXs32TRhv5zTKNM': 'Same Ol’ Mistakes',\n '6a00sB0Lhxq6Yk8RjyG894': 'Coalescence',\n '5hgX8pSZSOcKhsvzldsgWy': 'for you',\n ...}"
     },
     "execution_count": 89,
     "metadata": {},
     "output_type": "execute_result"
    }
   ],
   "source": [
    "track_uri_to_song_name"
   ],
   "metadata": {
    "collapsed": false
   }
  },
  {
   "cell_type": "code",
   "execution_count": 90,
   "outputs": [
    {
     "data": {
      "text/plain": "                                           0\n1Qpyt7U1yu4tfuJc4LKuzF          Comeback Kid\n0hB42rb9ZbfJN231AbDnfe  gay ass vampire shit\n6AwKyBU2ymb7zJ6PeUmKdo    ジングル 〜こんなところで終われない\n0CsR9Y9SnC6ZWmekmVqSHz                 Naked\n5JtPGzRgrWxkXX9LoROq3d                  1901\n5N3hv6QgFViEOoZMmIvS8j                  kuma\n54FgTS1O5kbZLaPjsCFY6x         Tasty Carrots\n5bltTpT0HIaEQzlGvxabWy       Jewels N' Drugs\n4fzsfWzRhPawzqhX8Qt9F3              Stronger\n3eYAdEgUyFQEmQgofs2NEt        Great Big Show",
      "text/html": "<div>\n<style scoped>\n    .dataframe tbody tr th:only-of-type {\n        vertical-align: middle;\n    }\n\n    .dataframe tbody tr th {\n        vertical-align: top;\n    }\n\n    .dataframe thead th {\n        text-align: right;\n    }\n</style>\n<table border=\"1\" class=\"dataframe\">\n  <thead>\n    <tr style=\"text-align: right;\">\n      <th></th>\n      <th>0</th>\n    </tr>\n  </thead>\n  <tbody>\n    <tr>\n      <th>1Qpyt7U1yu4tfuJc4LKuzF</th>\n      <td>Comeback Kid</td>\n    </tr>\n    <tr>\n      <th>0hB42rb9ZbfJN231AbDnfe</th>\n      <td>gay ass vampire shit</td>\n    </tr>\n    <tr>\n      <th>6AwKyBU2ymb7zJ6PeUmKdo</th>\n      <td>ジングル 〜こんなところで終われない</td>\n    </tr>\n    <tr>\n      <th>0CsR9Y9SnC6ZWmekmVqSHz</th>\n      <td>Naked</td>\n    </tr>\n    <tr>\n      <th>5JtPGzRgrWxkXX9LoROq3d</th>\n      <td>1901</td>\n    </tr>\n    <tr>\n      <th>5N3hv6QgFViEOoZMmIvS8j</th>\n      <td>kuma</td>\n    </tr>\n    <tr>\n      <th>54FgTS1O5kbZLaPjsCFY6x</th>\n      <td>Tasty Carrots</td>\n    </tr>\n    <tr>\n      <th>5bltTpT0HIaEQzlGvxabWy</th>\n      <td>Jewels N' Drugs</td>\n    </tr>\n    <tr>\n      <th>4fzsfWzRhPawzqhX8Qt9F3</th>\n      <td>Stronger</td>\n    </tr>\n    <tr>\n      <th>3eYAdEgUyFQEmQgofs2NEt</th>\n      <td>Great Big Show</td>\n    </tr>\n  </tbody>\n</table>\n</div>"
     },
     "execution_count": 90,
     "metadata": {},
     "output_type": "execute_result"
    }
   ],
   "source": [
    "uri_to_song_name_df = pd.DataFrame.from_dict(track_uri_to_song_name, orient=\"index\")\n",
    "uri_to_song_name_df.head(10)"
   ],
   "metadata": {
    "collapsed": false
   }
  },
  {
   "cell_type": "code",
   "execution_count": 91,
   "outputs": [
    {
     "data": {
      "text/plain": "   danceability  energy   key  loudness  mode  speechiness  acousticness  \\\n0         0.543  0.9280   0.0    -5.206   1.0       0.0755      0.000329   \n1         0.401  0.9990   2.0    -0.467   1.0       0.0997      0.000079   \n2         0.000  0.0214   0.0   -13.288   1.0       0.0000      0.000000   \n3         0.733  0.8620   7.0    -5.736   1.0       0.1970      0.374000   \n4         0.604  0.8250   0.0    -5.373   1.0       0.0429      0.056400   \n5         0.388  0.1770   1.0   -14.061   0.0       0.0351      0.438000   \n6         0.805  0.7890  11.0    -4.404   0.0       0.4970      0.032900   \n7         0.737  0.8930   2.0    -4.151   1.0       0.0687      0.003130   \n8         0.617  0.7170  10.0    -7.858   0.0       0.1530      0.005640   \n9         0.274  0.5560  11.0    -5.507   0.0       0.0414      0.389000   \n\n   instrumentalness  liveness  valence    tempo                track_id  \\\n0          0.567000    0.0328    0.358  120.102  1Qpyt7U1yu4tfuJc4LKuzF   \n1          0.771000    0.1550    0.595   98.494  0hB42rb9ZbfJN231AbDnfe   \n2          1.000000    0.0000    0.000    0.000  6AwKyBU2ymb7zJ6PeUmKdo   \n3          0.002470    0.1310    0.536  111.076  0CsR9Y9SnC6ZWmekmVqSHz   \n4          0.000058    0.1920    0.707  144.085  5JtPGzRgrWxkXX9LoROq3d   \n5          0.879000    0.0977    0.467  209.711  5N3hv6QgFViEOoZMmIvS8j   \n6          0.000001    0.1800    0.539  140.006  54FgTS1O5kbZLaPjsCFY6x   \n7          0.000000    0.2450    0.534  136.039  5bltTpT0HIaEQzlGvxabWy   \n8          0.000000    0.4080    0.490  103.992  4fzsfWzRhPawzqhX8Qt9F3   \n9          0.000111    0.1600    0.082  179.194  3eYAdEgUyFQEmQgofs2NEt   \n\n   duration_ms  time_signature        artist_name  \\\n0     182333.0             4.0   Sharon Van Etten   \n1     164496.0             4.0           Goreshit   \n2       5027.0             0.0  Masakazu Sugimori   \n3     223560.0             4.0           Doja Cat   \n4     193107.0             4.0            Phoenix   \n5     171837.0             4.0       mt. fujitive   \n6     176210.0             4.0               Shou   \n7     228040.0             4.0          Lady Gaga   \n8     311867.0             4.0         Kanye West   \n9     188281.0             3.0         Sofya Wang   \n\n                                              genres  artist_popularity  \\\n0  ['art pop', 'chamber pop', 'dream pop', 'indie...               56.0   \n1                                    ['glitchbreak']               47.0   \n2                                                NaN                NaN   \n3                               ['dance pop', 'pop']               86.0   \n4  ['alternative dance', 'indie rock', 'modern ro...               65.0   \n5                        ['chillhop', 'lo-fi beats']               51.0   \n6                                      ['rave funk']               33.0   \n7                    ['art pop', 'dance pop', 'pop']               84.0   \n8                             ['chicago rap', 'rap']               90.0   \n9                                                 []               25.0   \n\n             track_name  \n0          Comeback Kid  \n1  gay ass vampire shit  \n2    ジングル 〜こんなところで終われない  \n3                 Naked  \n4                  1901  \n5                  kuma  \n6         Tasty Carrots  \n7       Jewels N' Drugs  \n8              Stronger  \n9        Great Big Show  ",
      "text/html": "<div>\n<style scoped>\n    .dataframe tbody tr th:only-of-type {\n        vertical-align: middle;\n    }\n\n    .dataframe tbody tr th {\n        vertical-align: top;\n    }\n\n    .dataframe thead th {\n        text-align: right;\n    }\n</style>\n<table border=\"1\" class=\"dataframe\">\n  <thead>\n    <tr style=\"text-align: right;\">\n      <th></th>\n      <th>danceability</th>\n      <th>energy</th>\n      <th>key</th>\n      <th>loudness</th>\n      <th>mode</th>\n      <th>speechiness</th>\n      <th>acousticness</th>\n      <th>instrumentalness</th>\n      <th>liveness</th>\n      <th>valence</th>\n      <th>tempo</th>\n      <th>track_id</th>\n      <th>duration_ms</th>\n      <th>time_signature</th>\n      <th>artist_name</th>\n      <th>genres</th>\n      <th>artist_popularity</th>\n      <th>track_name</th>\n    </tr>\n  </thead>\n  <tbody>\n    <tr>\n      <th>0</th>\n      <td>0.543</td>\n      <td>0.9280</td>\n      <td>0.0</td>\n      <td>-5.206</td>\n      <td>1.0</td>\n      <td>0.0755</td>\n      <td>0.000329</td>\n      <td>0.567000</td>\n      <td>0.0328</td>\n      <td>0.358</td>\n      <td>120.102</td>\n      <td>1Qpyt7U1yu4tfuJc4LKuzF</td>\n      <td>182333.0</td>\n      <td>4.0</td>\n      <td>Sharon Van Etten</td>\n      <td>['art pop', 'chamber pop', 'dream pop', 'indie...</td>\n      <td>56.0</td>\n      <td>Comeback Kid</td>\n    </tr>\n    <tr>\n      <th>1</th>\n      <td>0.401</td>\n      <td>0.9990</td>\n      <td>2.0</td>\n      <td>-0.467</td>\n      <td>1.0</td>\n      <td>0.0997</td>\n      <td>0.000079</td>\n      <td>0.771000</td>\n      <td>0.1550</td>\n      <td>0.595</td>\n      <td>98.494</td>\n      <td>0hB42rb9ZbfJN231AbDnfe</td>\n      <td>164496.0</td>\n      <td>4.0</td>\n      <td>Goreshit</td>\n      <td>['glitchbreak']</td>\n      <td>47.0</td>\n      <td>gay ass vampire shit</td>\n    </tr>\n    <tr>\n      <th>2</th>\n      <td>0.000</td>\n      <td>0.0214</td>\n      <td>0.0</td>\n      <td>-13.288</td>\n      <td>1.0</td>\n      <td>0.0000</td>\n      <td>0.000000</td>\n      <td>1.000000</td>\n      <td>0.0000</td>\n      <td>0.000</td>\n      <td>0.000</td>\n      <td>6AwKyBU2ymb7zJ6PeUmKdo</td>\n      <td>5027.0</td>\n      <td>0.0</td>\n      <td>Masakazu Sugimori</td>\n      <td>NaN</td>\n      <td>NaN</td>\n      <td>ジングル 〜こんなところで終われない</td>\n    </tr>\n    <tr>\n      <th>3</th>\n      <td>0.733</td>\n      <td>0.8620</td>\n      <td>7.0</td>\n      <td>-5.736</td>\n      <td>1.0</td>\n      <td>0.1970</td>\n      <td>0.374000</td>\n      <td>0.002470</td>\n      <td>0.1310</td>\n      <td>0.536</td>\n      <td>111.076</td>\n      <td>0CsR9Y9SnC6ZWmekmVqSHz</td>\n      <td>223560.0</td>\n      <td>4.0</td>\n      <td>Doja Cat</td>\n      <td>['dance pop', 'pop']</td>\n      <td>86.0</td>\n      <td>Naked</td>\n    </tr>\n    <tr>\n      <th>4</th>\n      <td>0.604</td>\n      <td>0.8250</td>\n      <td>0.0</td>\n      <td>-5.373</td>\n      <td>1.0</td>\n      <td>0.0429</td>\n      <td>0.056400</td>\n      <td>0.000058</td>\n      <td>0.1920</td>\n      <td>0.707</td>\n      <td>144.085</td>\n      <td>5JtPGzRgrWxkXX9LoROq3d</td>\n      <td>193107.0</td>\n      <td>4.0</td>\n      <td>Phoenix</td>\n      <td>['alternative dance', 'indie rock', 'modern ro...</td>\n      <td>65.0</td>\n      <td>1901</td>\n    </tr>\n    <tr>\n      <th>5</th>\n      <td>0.388</td>\n      <td>0.1770</td>\n      <td>1.0</td>\n      <td>-14.061</td>\n      <td>0.0</td>\n      <td>0.0351</td>\n      <td>0.438000</td>\n      <td>0.879000</td>\n      <td>0.0977</td>\n      <td>0.467</td>\n      <td>209.711</td>\n      <td>5N3hv6QgFViEOoZMmIvS8j</td>\n      <td>171837.0</td>\n      <td>4.0</td>\n      <td>mt. fujitive</td>\n      <td>['chillhop', 'lo-fi beats']</td>\n      <td>51.0</td>\n      <td>kuma</td>\n    </tr>\n    <tr>\n      <th>6</th>\n      <td>0.805</td>\n      <td>0.7890</td>\n      <td>11.0</td>\n      <td>-4.404</td>\n      <td>0.0</td>\n      <td>0.4970</td>\n      <td>0.032900</td>\n      <td>0.000001</td>\n      <td>0.1800</td>\n      <td>0.539</td>\n      <td>140.006</td>\n      <td>54FgTS1O5kbZLaPjsCFY6x</td>\n      <td>176210.0</td>\n      <td>4.0</td>\n      <td>Shou</td>\n      <td>['rave funk']</td>\n      <td>33.0</td>\n      <td>Tasty Carrots</td>\n    </tr>\n    <tr>\n      <th>7</th>\n      <td>0.737</td>\n      <td>0.8930</td>\n      <td>2.0</td>\n      <td>-4.151</td>\n      <td>1.0</td>\n      <td>0.0687</td>\n      <td>0.003130</td>\n      <td>0.000000</td>\n      <td>0.2450</td>\n      <td>0.534</td>\n      <td>136.039</td>\n      <td>5bltTpT0HIaEQzlGvxabWy</td>\n      <td>228040.0</td>\n      <td>4.0</td>\n      <td>Lady Gaga</td>\n      <td>['art pop', 'dance pop', 'pop']</td>\n      <td>84.0</td>\n      <td>Jewels N' Drugs</td>\n    </tr>\n    <tr>\n      <th>8</th>\n      <td>0.617</td>\n      <td>0.7170</td>\n      <td>10.0</td>\n      <td>-7.858</td>\n      <td>0.0</td>\n      <td>0.1530</td>\n      <td>0.005640</td>\n      <td>0.000000</td>\n      <td>0.4080</td>\n      <td>0.490</td>\n      <td>103.992</td>\n      <td>4fzsfWzRhPawzqhX8Qt9F3</td>\n      <td>311867.0</td>\n      <td>4.0</td>\n      <td>Kanye West</td>\n      <td>['chicago rap', 'rap']</td>\n      <td>90.0</td>\n      <td>Stronger</td>\n    </tr>\n    <tr>\n      <th>9</th>\n      <td>0.274</td>\n      <td>0.5560</td>\n      <td>11.0</td>\n      <td>-5.507</td>\n      <td>0.0</td>\n      <td>0.0414</td>\n      <td>0.389000</td>\n      <td>0.000111</td>\n      <td>0.1600</td>\n      <td>0.082</td>\n      <td>179.194</td>\n      <td>3eYAdEgUyFQEmQgofs2NEt</td>\n      <td>188281.0</td>\n      <td>3.0</td>\n      <td>Sofya Wang</td>\n      <td>[]</td>\n      <td>25.0</td>\n      <td>Great Big Show</td>\n    </tr>\n  </tbody>\n</table>\n</div>"
     },
     "execution_count": 91,
     "metadata": {},
     "output_type": "execute_result"
    }
   ],
   "source": [
    "jojo_features = jojo_features.join(uri_to_song_name_df, on=\"track_id\")\n",
    "jojo_features = jojo_features.rename(mapper={0: 'track_name'}, axis=1)\n",
    "jojo_features.head(10)"
   ],
   "metadata": {
    "collapsed": false
   }
  },
  {
   "cell_type": "code",
   "execution_count": 92,
   "outputs": [
    {
     "name": "stdout",
     "output_type": "stream",
     "text": [
      "[]\n",
      "['Unnamed: 0']\n"
     ]
    }
   ],
   "source": [
    "print([column for column in jojo_features.columns if column not in music_dataset.columns])\n",
    "print([column for column in music_dataset.columns if column not in jojo_features.columns])"
   ],
   "metadata": {
    "collapsed": false
   }
  },
  {
   "cell_type": "code",
   "execution_count": 94,
   "outputs": [],
   "source": [
    "# Drop unused index column in music dataset\n",
    "music_dataset = music_dataset.drop(columns=\"Unnamed: 0\")"
   ],
   "metadata": {
    "collapsed": false
   }
  },
  {
   "cell_type": "code",
   "execution_count": 95,
   "outputs": [],
   "source": [
    "# Concat datasets together!\n",
    "music_dataset_with_personal_history = pd.concat([music_dataset, jojo_features])"
   ],
   "metadata": {
    "collapsed": false
   }
  },
  {
   "cell_type": "code",
   "execution_count": 96,
   "outputs": [
    {
     "data": {
      "text/plain": "                 track_id        artist_name                  track_name  \\\n0  5SuOikwiRyPMVoIQDJUgSV        Gen Hoshino                      Comedy   \n1  4qPNDBW1i3p13qLCt0Ki3A       Ben Woodward            Ghost - Acoustic   \n2  1iJBSr7s7jYXzM8EGcbK5b  Ingrid Michaelson              To Begin Again   \n3  6lfxq3CG4xtTiEg7opyCyx       Kina Grannis  Can't Help Falling In Love   \n4  5vjLSffimiIP26QG5WcN2K   Chord Overstreet                     Hold On   \n5  01MVOl9KtVTNfFiBU9I7dc       Tyrone Wells        Days I Will Remember   \n6  6Vc5wAMmXdKIAM7WUoEb7N  A Great Big World               Say Something   \n7  1EzrEOXmMH3G43AXT1y7pA         Jason Mraz                   I'm Yours   \n8  0IktbUcnAGrvD03AWnz3Q8         Jason Mraz                       Lucky   \n9  7k9GuJYLp2AzqokyEdwEw2     Ross Copperman                      Hunger   \n\n   duration_ms  danceability  energy   key  loudness  mode  speechiness  \\\n0     230666.0         0.676  0.4610   1.0    -6.746   0.0       0.1430   \n1     149610.0         0.420  0.1660   1.0   -17.235   1.0       0.0763   \n2     210826.0         0.438  0.3590   0.0    -9.734   1.0       0.0557   \n3     201933.0         0.266  0.0596   0.0   -18.515   1.0       0.0363   \n4     198853.0         0.618  0.4430   2.0    -9.681   1.0       0.0526   \n5     214240.0         0.688  0.4810   6.0    -8.807   1.0       0.1050   \n6     229400.0         0.407  0.1470   2.0    -8.822   1.0       0.0355   \n7     242946.0         0.703  0.4440  11.0    -9.331   1.0       0.0417   \n8     189613.0         0.625  0.4140   0.0    -8.700   1.0       0.0369   \n9     205594.0         0.442  0.6320   1.0    -6.770   1.0       0.0295   \n\n   acousticness  instrumentalness  liveness  valence    tempo  time_signature  \\\n0        0.0322          0.000001    0.3580   0.7150   87.917             4.0   \n1        0.9240          0.000006    0.1010   0.2670   77.489             4.0   \n2        0.2100          0.000000    0.1170   0.1200   76.332             4.0   \n3        0.9050          0.000071    0.1320   0.1430  181.740             3.0   \n4        0.4690          0.000000    0.0829   0.1670  119.949             4.0   \n5        0.2890          0.000000    0.1890   0.6660   98.017             4.0   \n6        0.8570          0.000003    0.0913   0.0765  141.284             3.0   \n7        0.5590          0.000000    0.0973   0.7120  150.960             4.0   \n8        0.2940          0.000000    0.1510   0.6690  130.088             4.0   \n9        0.4260          0.004190    0.0735   0.1960   78.899             4.0   \n\n                                              genres  artist_popularity  \n0  ['j-acoustic', 'j-pop', 'japanese singer-songw...               63.0  \n1                                 ['acoustic chill']               49.0  \n2  ['acoustic pop', 'ectofolk', 'lilith', 'neo me...               59.0  \n3        ['acoustic pop', 'neo mellow', 'viral pop']               62.0  \n4                                   ['acoustic pop']               64.0  \n5  ['acoustic pop', 'indiecoustica', 'neo mellow'...               48.0  \n6  ['neo mellow', 'piano rock', 'pop rock', 'post...               61.0  \n7  ['acoustic pop', 'neo mellow', 'pop', 'pop rock']               72.0  \n8  ['acoustic pop', 'neo mellow', 'pop', 'pop rock']               72.0  \n9       ['acoustic pop', 'neo mellow', 'piano rock']               45.0  ",
      "text/html": "<div>\n<style scoped>\n    .dataframe tbody tr th:only-of-type {\n        vertical-align: middle;\n    }\n\n    .dataframe tbody tr th {\n        vertical-align: top;\n    }\n\n    .dataframe thead th {\n        text-align: right;\n    }\n</style>\n<table border=\"1\" class=\"dataframe\">\n  <thead>\n    <tr style=\"text-align: right;\">\n      <th></th>\n      <th>track_id</th>\n      <th>artist_name</th>\n      <th>track_name</th>\n      <th>duration_ms</th>\n      <th>danceability</th>\n      <th>energy</th>\n      <th>key</th>\n      <th>loudness</th>\n      <th>mode</th>\n      <th>speechiness</th>\n      <th>acousticness</th>\n      <th>instrumentalness</th>\n      <th>liveness</th>\n      <th>valence</th>\n      <th>tempo</th>\n      <th>time_signature</th>\n      <th>genres</th>\n      <th>artist_popularity</th>\n    </tr>\n  </thead>\n  <tbody>\n    <tr>\n      <th>0</th>\n      <td>5SuOikwiRyPMVoIQDJUgSV</td>\n      <td>Gen Hoshino</td>\n      <td>Comedy</td>\n      <td>230666.0</td>\n      <td>0.676</td>\n      <td>0.4610</td>\n      <td>1.0</td>\n      <td>-6.746</td>\n      <td>0.0</td>\n      <td>0.1430</td>\n      <td>0.0322</td>\n      <td>0.000001</td>\n      <td>0.3580</td>\n      <td>0.7150</td>\n      <td>87.917</td>\n      <td>4.0</td>\n      <td>['j-acoustic', 'j-pop', 'japanese singer-songw...</td>\n      <td>63.0</td>\n    </tr>\n    <tr>\n      <th>1</th>\n      <td>4qPNDBW1i3p13qLCt0Ki3A</td>\n      <td>Ben Woodward</td>\n      <td>Ghost - Acoustic</td>\n      <td>149610.0</td>\n      <td>0.420</td>\n      <td>0.1660</td>\n      <td>1.0</td>\n      <td>-17.235</td>\n      <td>1.0</td>\n      <td>0.0763</td>\n      <td>0.9240</td>\n      <td>0.000006</td>\n      <td>0.1010</td>\n      <td>0.2670</td>\n      <td>77.489</td>\n      <td>4.0</td>\n      <td>['acoustic chill']</td>\n      <td>49.0</td>\n    </tr>\n    <tr>\n      <th>2</th>\n      <td>1iJBSr7s7jYXzM8EGcbK5b</td>\n      <td>Ingrid Michaelson</td>\n      <td>To Begin Again</td>\n      <td>210826.0</td>\n      <td>0.438</td>\n      <td>0.3590</td>\n      <td>0.0</td>\n      <td>-9.734</td>\n      <td>1.0</td>\n      <td>0.0557</td>\n      <td>0.2100</td>\n      <td>0.000000</td>\n      <td>0.1170</td>\n      <td>0.1200</td>\n      <td>76.332</td>\n      <td>4.0</td>\n      <td>['acoustic pop', 'ectofolk', 'lilith', 'neo me...</td>\n      <td>59.0</td>\n    </tr>\n    <tr>\n      <th>3</th>\n      <td>6lfxq3CG4xtTiEg7opyCyx</td>\n      <td>Kina Grannis</td>\n      <td>Can't Help Falling In Love</td>\n      <td>201933.0</td>\n      <td>0.266</td>\n      <td>0.0596</td>\n      <td>0.0</td>\n      <td>-18.515</td>\n      <td>1.0</td>\n      <td>0.0363</td>\n      <td>0.9050</td>\n      <td>0.000071</td>\n      <td>0.1320</td>\n      <td>0.1430</td>\n      <td>181.740</td>\n      <td>3.0</td>\n      <td>['acoustic pop', 'neo mellow', 'viral pop']</td>\n      <td>62.0</td>\n    </tr>\n    <tr>\n      <th>4</th>\n      <td>5vjLSffimiIP26QG5WcN2K</td>\n      <td>Chord Overstreet</td>\n      <td>Hold On</td>\n      <td>198853.0</td>\n      <td>0.618</td>\n      <td>0.4430</td>\n      <td>2.0</td>\n      <td>-9.681</td>\n      <td>1.0</td>\n      <td>0.0526</td>\n      <td>0.4690</td>\n      <td>0.000000</td>\n      <td>0.0829</td>\n      <td>0.1670</td>\n      <td>119.949</td>\n      <td>4.0</td>\n      <td>['acoustic pop']</td>\n      <td>64.0</td>\n    </tr>\n    <tr>\n      <th>5</th>\n      <td>01MVOl9KtVTNfFiBU9I7dc</td>\n      <td>Tyrone Wells</td>\n      <td>Days I Will Remember</td>\n      <td>214240.0</td>\n      <td>0.688</td>\n      <td>0.4810</td>\n      <td>6.0</td>\n      <td>-8.807</td>\n      <td>1.0</td>\n      <td>0.1050</td>\n      <td>0.2890</td>\n      <td>0.000000</td>\n      <td>0.1890</td>\n      <td>0.6660</td>\n      <td>98.017</td>\n      <td>4.0</td>\n      <td>['acoustic pop', 'indiecoustica', 'neo mellow'...</td>\n      <td>48.0</td>\n    </tr>\n    <tr>\n      <th>6</th>\n      <td>6Vc5wAMmXdKIAM7WUoEb7N</td>\n      <td>A Great Big World</td>\n      <td>Say Something</td>\n      <td>229400.0</td>\n      <td>0.407</td>\n      <td>0.1470</td>\n      <td>2.0</td>\n      <td>-8.822</td>\n      <td>1.0</td>\n      <td>0.0355</td>\n      <td>0.8570</td>\n      <td>0.000003</td>\n      <td>0.0913</td>\n      <td>0.0765</td>\n      <td>141.284</td>\n      <td>3.0</td>\n      <td>['neo mellow', 'piano rock', 'pop rock', 'post...</td>\n      <td>61.0</td>\n    </tr>\n    <tr>\n      <th>7</th>\n      <td>1EzrEOXmMH3G43AXT1y7pA</td>\n      <td>Jason Mraz</td>\n      <td>I'm Yours</td>\n      <td>242946.0</td>\n      <td>0.703</td>\n      <td>0.4440</td>\n      <td>11.0</td>\n      <td>-9.331</td>\n      <td>1.0</td>\n      <td>0.0417</td>\n      <td>0.5590</td>\n      <td>0.000000</td>\n      <td>0.0973</td>\n      <td>0.7120</td>\n      <td>150.960</td>\n      <td>4.0</td>\n      <td>['acoustic pop', 'neo mellow', 'pop', 'pop rock']</td>\n      <td>72.0</td>\n    </tr>\n    <tr>\n      <th>8</th>\n      <td>0IktbUcnAGrvD03AWnz3Q8</td>\n      <td>Jason Mraz</td>\n      <td>Lucky</td>\n      <td>189613.0</td>\n      <td>0.625</td>\n      <td>0.4140</td>\n      <td>0.0</td>\n      <td>-8.700</td>\n      <td>1.0</td>\n      <td>0.0369</td>\n      <td>0.2940</td>\n      <td>0.000000</td>\n      <td>0.1510</td>\n      <td>0.6690</td>\n      <td>130.088</td>\n      <td>4.0</td>\n      <td>['acoustic pop', 'neo mellow', 'pop', 'pop rock']</td>\n      <td>72.0</td>\n    </tr>\n    <tr>\n      <th>9</th>\n      <td>7k9GuJYLp2AzqokyEdwEw2</td>\n      <td>Ross Copperman</td>\n      <td>Hunger</td>\n      <td>205594.0</td>\n      <td>0.442</td>\n      <td>0.6320</td>\n      <td>1.0</td>\n      <td>-6.770</td>\n      <td>1.0</td>\n      <td>0.0295</td>\n      <td>0.4260</td>\n      <td>0.004190</td>\n      <td>0.0735</td>\n      <td>0.1960</td>\n      <td>78.899</td>\n      <td>4.0</td>\n      <td>['acoustic pop', 'neo mellow', 'piano rock']</td>\n      <td>45.0</td>\n    </tr>\n  </tbody>\n</table>\n</div>"
     },
     "execution_count": 96,
     "metadata": {},
     "output_type": "execute_result"
    }
   ],
   "source": [
    "music_dataset_with_personal_history.head(10)"
   ],
   "metadata": {
    "collapsed": false
   }
  },
  {
   "cell_type": "code",
   "execution_count": 97,
   "outputs": [
    {
     "data": {
      "text/plain": "                     track_id            artist_name  \\\n23193  7GzBqSFBo4NtO6VbtmUsyE             Lena Raine   \n23194  41V4vXgD7ZaLUwf4MisXlY            less.people   \n23195  0I0ZackSSk90oGUJtfKnJd  Dream Easy Collective   \n23196  2ftuoAGu9MXl07iHdhx1Ce                Knowsum   \n23197  6u7WoLDmBz5apGzhOMXI1A                DIAL UP   \n23198  2JCdUwmGDO3SBkhwkfRaLr                KIRINJI   \n23199  2e7Aud4N56k3UrhiUrgWPC      Basslovers United   \n23200  5DjNHQmn16Wxh2TjTphmkq           Lo-Fi Tigers   \n23201  0nKpHGrnuejevp6openGaF             Rich Brian   \n23202  1BpAKG4TNBqkgtv33pQySC          Claes Nilsson   \n\n                                   track_name  duration_ms  danceability  \\\n23193                           A Fresh Start     168707.0         0.673   \n23194                                 Firefly     181131.0         0.768   \n23195                              Ultimately     142028.0         0.734   \n23196                              Inner View     131707.0         0.682   \n23197                                  Dipset     176875.0         0.834   \n23198                    killer tune kills me     250600.0         0.787   \n23199  Undeniable - Scoon & Delore Radio Edit     246263.0         0.560   \n23200                      Your Eyes My Ocean     171000.0         0.607   \n23201                                    Cold     228433.0         0.648   \n23202                                     NaN     159071.0         0.178   \n\n        energy   key  loudness  mode  speechiness  acousticness  \\\n23193  0.43300   8.0   -12.697   0.0       0.0355       0.76700   \n23194  0.20500   7.0   -12.752   1.0       0.0812       0.38600   \n23195  0.22000   5.0   -17.295   1.0       0.2260       0.89600   \n23196  0.42400   0.0   -11.363   1.0       0.0720       0.62500   \n23197  0.48200   1.0    -7.303   1.0       0.3060       0.05220   \n23198  0.41400   1.0    -8.745   1.0       0.0379       0.39900   \n23199  0.93700   7.0    -5.558   0.0       0.0891       0.00803   \n23200  0.56700  10.0   -13.696   0.0       0.0271       0.00840   \n23201  0.73400   0.0    -6.289   1.0       0.2980       0.36800   \n23202  0.00986   0.0   -24.757   1.0       0.0403       0.99300   \n\n       instrumentalness  liveness  valence    tempo  time_signature  \\\n23193          0.775000    0.2290   0.4710  119.969             4.0   \n23194          0.891000    0.0984   0.6370   84.062             4.0   \n23195          0.000000    0.3390   0.6250  106.977             4.0   \n23196          0.143000    0.2370   0.6950   82.095             4.0   \n23197          0.004070    0.0886   0.4140   90.004             4.0   \n23198          0.587000    0.1400   0.0486  104.999             4.0   \n23199          0.000098    0.4350   0.1940  144.009             4.0   \n23200          0.859000    0.6940   0.3060  140.012             4.0   \n23201          0.000000    0.0938   0.1960  167.044             4.0   \n23202          0.802000    0.1120   0.0911   92.709             1.0   \n\n                                               genres  artist_popularity  \n23193            ['indie game soundtrack', 'spectra']               56.0  \n23194                                 ['lo-fi beats']               47.0  \n23195                                              []               39.0  \n23196  ['chillhop', 'jazz boom bap', 'lo-fi jazzhop']               42.0  \n23197                                              []               12.0  \n23198                                             NaN                NaN  \n23199                    ['german dance', 'hands up']               42.0  \n23200                                              []               39.0  \n23201                          ['indonesian hip hop']               70.0  \n23202                                             NaN                NaN  ",
      "text/html": "<div>\n<style scoped>\n    .dataframe tbody tr th:only-of-type {\n        vertical-align: middle;\n    }\n\n    .dataframe tbody tr th {\n        vertical-align: top;\n    }\n\n    .dataframe thead th {\n        text-align: right;\n    }\n</style>\n<table border=\"1\" class=\"dataframe\">\n  <thead>\n    <tr style=\"text-align: right;\">\n      <th></th>\n      <th>track_id</th>\n      <th>artist_name</th>\n      <th>track_name</th>\n      <th>duration_ms</th>\n      <th>danceability</th>\n      <th>energy</th>\n      <th>key</th>\n      <th>loudness</th>\n      <th>mode</th>\n      <th>speechiness</th>\n      <th>acousticness</th>\n      <th>instrumentalness</th>\n      <th>liveness</th>\n      <th>valence</th>\n      <th>tempo</th>\n      <th>time_signature</th>\n      <th>genres</th>\n      <th>artist_popularity</th>\n    </tr>\n  </thead>\n  <tbody>\n    <tr>\n      <th>23193</th>\n      <td>7GzBqSFBo4NtO6VbtmUsyE</td>\n      <td>Lena Raine</td>\n      <td>A Fresh Start</td>\n      <td>168707.0</td>\n      <td>0.673</td>\n      <td>0.43300</td>\n      <td>8.0</td>\n      <td>-12.697</td>\n      <td>0.0</td>\n      <td>0.0355</td>\n      <td>0.76700</td>\n      <td>0.775000</td>\n      <td>0.2290</td>\n      <td>0.4710</td>\n      <td>119.969</td>\n      <td>4.0</td>\n      <td>['indie game soundtrack', 'spectra']</td>\n      <td>56.0</td>\n    </tr>\n    <tr>\n      <th>23194</th>\n      <td>41V4vXgD7ZaLUwf4MisXlY</td>\n      <td>less.people</td>\n      <td>Firefly</td>\n      <td>181131.0</td>\n      <td>0.768</td>\n      <td>0.20500</td>\n      <td>7.0</td>\n      <td>-12.752</td>\n      <td>1.0</td>\n      <td>0.0812</td>\n      <td>0.38600</td>\n      <td>0.891000</td>\n      <td>0.0984</td>\n      <td>0.6370</td>\n      <td>84.062</td>\n      <td>4.0</td>\n      <td>['lo-fi beats']</td>\n      <td>47.0</td>\n    </tr>\n    <tr>\n      <th>23195</th>\n      <td>0I0ZackSSk90oGUJtfKnJd</td>\n      <td>Dream Easy Collective</td>\n      <td>Ultimately</td>\n      <td>142028.0</td>\n      <td>0.734</td>\n      <td>0.22000</td>\n      <td>5.0</td>\n      <td>-17.295</td>\n      <td>1.0</td>\n      <td>0.2260</td>\n      <td>0.89600</td>\n      <td>0.000000</td>\n      <td>0.3390</td>\n      <td>0.6250</td>\n      <td>106.977</td>\n      <td>4.0</td>\n      <td>[]</td>\n      <td>39.0</td>\n    </tr>\n    <tr>\n      <th>23196</th>\n      <td>2ftuoAGu9MXl07iHdhx1Ce</td>\n      <td>Knowsum</td>\n      <td>Inner View</td>\n      <td>131707.0</td>\n      <td>0.682</td>\n      <td>0.42400</td>\n      <td>0.0</td>\n      <td>-11.363</td>\n      <td>1.0</td>\n      <td>0.0720</td>\n      <td>0.62500</td>\n      <td>0.143000</td>\n      <td>0.2370</td>\n      <td>0.6950</td>\n      <td>82.095</td>\n      <td>4.0</td>\n      <td>['chillhop', 'jazz boom bap', 'lo-fi jazzhop']</td>\n      <td>42.0</td>\n    </tr>\n    <tr>\n      <th>23197</th>\n      <td>6u7WoLDmBz5apGzhOMXI1A</td>\n      <td>DIAL UP</td>\n      <td>Dipset</td>\n      <td>176875.0</td>\n      <td>0.834</td>\n      <td>0.48200</td>\n      <td>1.0</td>\n      <td>-7.303</td>\n      <td>1.0</td>\n      <td>0.3060</td>\n      <td>0.05220</td>\n      <td>0.004070</td>\n      <td>0.0886</td>\n      <td>0.4140</td>\n      <td>90.004</td>\n      <td>4.0</td>\n      <td>[]</td>\n      <td>12.0</td>\n    </tr>\n    <tr>\n      <th>23198</th>\n      <td>2JCdUwmGDO3SBkhwkfRaLr</td>\n      <td>KIRINJI</td>\n      <td>killer tune kills me</td>\n      <td>250600.0</td>\n      <td>0.787</td>\n      <td>0.41400</td>\n      <td>1.0</td>\n      <td>-8.745</td>\n      <td>1.0</td>\n      <td>0.0379</td>\n      <td>0.39900</td>\n      <td>0.587000</td>\n      <td>0.1400</td>\n      <td>0.0486</td>\n      <td>104.999</td>\n      <td>4.0</td>\n      <td>NaN</td>\n      <td>NaN</td>\n    </tr>\n    <tr>\n      <th>23199</th>\n      <td>2e7Aud4N56k3UrhiUrgWPC</td>\n      <td>Basslovers United</td>\n      <td>Undeniable - Scoon &amp; Delore Radio Edit</td>\n      <td>246263.0</td>\n      <td>0.560</td>\n      <td>0.93700</td>\n      <td>7.0</td>\n      <td>-5.558</td>\n      <td>0.0</td>\n      <td>0.0891</td>\n      <td>0.00803</td>\n      <td>0.000098</td>\n      <td>0.4350</td>\n      <td>0.1940</td>\n      <td>144.009</td>\n      <td>4.0</td>\n      <td>['german dance', 'hands up']</td>\n      <td>42.0</td>\n    </tr>\n    <tr>\n      <th>23200</th>\n      <td>5DjNHQmn16Wxh2TjTphmkq</td>\n      <td>Lo-Fi Tigers</td>\n      <td>Your Eyes My Ocean</td>\n      <td>171000.0</td>\n      <td>0.607</td>\n      <td>0.56700</td>\n      <td>10.0</td>\n      <td>-13.696</td>\n      <td>0.0</td>\n      <td>0.0271</td>\n      <td>0.00840</td>\n      <td>0.859000</td>\n      <td>0.6940</td>\n      <td>0.3060</td>\n      <td>140.012</td>\n      <td>4.0</td>\n      <td>[]</td>\n      <td>39.0</td>\n    </tr>\n    <tr>\n      <th>23201</th>\n      <td>0nKpHGrnuejevp6openGaF</td>\n      <td>Rich Brian</td>\n      <td>Cold</td>\n      <td>228433.0</td>\n      <td>0.648</td>\n      <td>0.73400</td>\n      <td>0.0</td>\n      <td>-6.289</td>\n      <td>1.0</td>\n      <td>0.2980</td>\n      <td>0.36800</td>\n      <td>0.000000</td>\n      <td>0.0938</td>\n      <td>0.1960</td>\n      <td>167.044</td>\n      <td>4.0</td>\n      <td>['indonesian hip hop']</td>\n      <td>70.0</td>\n    </tr>\n    <tr>\n      <th>23202</th>\n      <td>1BpAKG4TNBqkgtv33pQySC</td>\n      <td>Claes Nilsson</td>\n      <td>NaN</td>\n      <td>159071.0</td>\n      <td>0.178</td>\n      <td>0.00986</td>\n      <td>0.0</td>\n      <td>-24.757</td>\n      <td>1.0</td>\n      <td>0.0403</td>\n      <td>0.99300</td>\n      <td>0.802000</td>\n      <td>0.1120</td>\n      <td>0.0911</td>\n      <td>92.709</td>\n      <td>1.0</td>\n      <td>NaN</td>\n      <td>NaN</td>\n    </tr>\n  </tbody>\n</table>\n</div>"
     },
     "execution_count": 97,
     "metadata": {},
     "output_type": "execute_result"
    }
   ],
   "source": [
    "music_dataset_with_personal_history.tail(10)"
   ],
   "metadata": {
    "collapsed": false
   }
  },
  {
   "cell_type": "code",
   "execution_count": 99,
   "outputs": [],
   "source": [
    "music_dataset_with_personal_history.to_csv(REPO_ROOT / \"data/song_data/song_dataset_with_jojos_music.csv\", index=False)"
   ],
   "metadata": {
    "collapsed": false
   }
  }
 ],
 "metadata": {
  "kernelspec": {
   "display_name": "Python 3",
   "language": "python",
   "name": "python3"
  },
  "language_info": {
   "codemirror_mode": {
    "name": "ipython",
    "version": 2
   },
   "file_extension": ".py",
   "mimetype": "text/x-python",
   "name": "python",
   "nbconvert_exporter": "python",
   "pygments_lexer": "ipython2",
   "version": "2.7.6"
  }
 },
 "nbformat": 4,
 "nbformat_minor": 0
}
