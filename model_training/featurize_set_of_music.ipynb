{
 "cells": [
  {
   "cell_type": "code",
   "execution_count": 6,
   "metadata": {
    "pycharm": {
     "name": "#%%\n"
    }
   },
   "outputs": [],
   "source": [
    "import pathlib\n",
    "import pandas as pd\n",
    "import api_setup\n",
    "import spotipy\n",
    "REPO_ROOT = pathlib.Path.cwd().parent"
   ]
  },
  {
   "cell_type": "code",
   "execution_count": 7,
   "metadata": {
    "pycharm": {
     "name": "#%%\n"
    }
   },
   "outputs": [],
   "source": [
    "# API Auth\n",
    "env_vars = api_setup.parse_api_kvs(pathlib.Path.cwd().parent / \"api-keys\")\n",
    "auth_manager = spotipy.SpotifyClientCredentials(env_vars['client_id'], env_vars['client_secret'])\n",
    "spotify = spotipy.Spotify(client_credentials_manager=auth_manager, backoff_factor=2)"
   ]
  },
  {
   "cell_type": "code",
   "execution_count": 8,
   "metadata": {
    "pycharm": {
     "name": "#%%\n"
    }
   },
   "outputs": [],
   "source": [
    "from typing import List"
   ]
  },
  {
   "cell_type": "code",
   "execution_count": 9,
   "metadata": {
    "pycharm": {
     "name": "#%%\n"
    }
   },
   "outputs": [
    {
     "data": {
      "text/plain": "['7yl0ItOwlAnALSctbUiavO',\n '4LpUpiYoZ2M3Z1kmhn4EQo',\n '1OuN92HcVG6NVpWbeESNB3',\n '44SO1hMPfH9xUvmI7bjhou',\n '58e7V70Em6FABOiln4jNoZ',\n '2Xl2dfsBQYaPP5I2viTVr9',\n '7L4G39PVgMfaeHRyi1ML7y',\n '1GpZofCtuWj4adPQLqpeFw',\n '3q6ygCZID0OKj6MUxInB48']"
     },
     "execution_count": 9,
     "metadata": {},
     "output_type": "execute_result"
    }
   ],
   "source": [
    "def get_songs_from_playlist(spotify_client: spotipy.Spotify, playlist_uri: str) -> List[str]:\n",
    "    \"\"\"\n",
    "    Return a list of strings of the URIs of the tracks in this playlist.\n",
    "    \"\"\"\n",
    "    tracks_json = spotify_client.playlist_items(playlist_uri)\n",
    "    return [track['track']['uri'][14:] for track in tracks_json['items']]\n",
    "\n",
    "get_songs_from_playlist(spotify, \"spotify:playlist:76S2ElS2cyzY624wGBGKpB\")"
   ]
  },
  {
   "cell_type": "code",
   "execution_count": 10,
   "metadata": {
    "pycharm": {
     "name": "#%%\n"
    }
   },
   "outputs": [
    {
     "ename": "NameError",
     "evalue": "name 'ClientSession' is not defined",
     "output_type": "error",
     "traceback": [
      "\u001B[1;31m---------------------------------------------------------------------------\u001B[0m",
      "\u001B[1;31mNameError\u001B[0m                                 Traceback (most recent call last)",
      "Cell \u001B[1;32mIn[10], line 2\u001B[0m\n\u001B[0;32m      1\u001B[0m \u001B[38;5;66;03m# async api calls\u001B[39;00m\n\u001B[1;32m----> 2\u001B[0m \u001B[38;5;28;01masync\u001B[39;00m \u001B[38;5;28;01mdef\u001B[39;00m \u001B[38;5;21mget_audio_features\u001B[39m(session: \u001B[43mClientSession\u001B[49m, uri: \u001B[38;5;28mstr\u001B[39m) \u001B[38;5;241m-\u001B[39m\u001B[38;5;241m>\u001B[39m \u001B[38;5;28mdict\u001B[39m:\n\u001B[0;32m      3\u001B[0m     \u001B[38;5;124;03m\"\"\"\u001B[39;00m\n\u001B[0;32m      4\u001B[0m \u001B[38;5;124;03m    Return the audio features of the song with the given uri.\u001B[39;00m\n\u001B[0;32m      5\u001B[0m \u001B[38;5;124;03m    \"\"\"\u001B[39;00m\n\u001B[0;32m      6\u001B[0m     endpoint \u001B[38;5;241m=\u001B[39m \u001B[38;5;124mf\u001B[39m\u001B[38;5;124m\"\u001B[39m\u001B[38;5;124mhttps://api.spotify.com/v1/audio-features/\u001B[39m\u001B[38;5;132;01m{\u001B[39;00muri\u001B[38;5;132;01m}\u001B[39;00m\u001B[38;5;124m\"\u001B[39m\n",
      "\u001B[1;31mNameError\u001B[0m: name 'ClientSession' is not defined"
     ]
    }
   ],
   "source": [
    "# async api calls\n",
    "async def get_audio_features(session: ClientSession, uri: str) -> dict:\n",
    "    \"\"\"\n",
    "    Return the audio features of the song with the given uri.\n",
    "    \"\"\"\n",
    "    endpoint = f\"https://api.spotify.com/v1/audio-features/{uri}\"\n",
    "\n",
    "    async with session.get(endpoint) as response:\n",
    "        response = await(response.json())\n",
    "    return uri, response\n",
    "\n",
    "def get_header_with_token(client_id: str, client_secret: str):\n",
    "    creds = f\"{env_vars['client_id']}:{env_vars['client_secret']}\"\n",
    "    creds_b64 = base64.b64encode(creds.encode())\n",
    "    headers= {\"Authorization\": f\"Basic {creds_b64.decode()}\"}\n",
    "    data= {\"grant_type\": \"client_credentials\"}\n",
    "    token = requests.post(\"https://accounts.spotify.com/api/token\", headers=headers, data=data)\n",
    "    token = token.json()['access_token']\n",
    "    return {\"Accept\": \"application/json\", \"Content-Type\": \"application/json\", \"Authorization\": f\"Bearer {token}\"}\n",
    "\n",
    "\n",
    "async def featurize_song_list(client_id:str, client_secret: str, song_uris: List[str]) -> dict:\n",
    "    request_headers = get_header_with_token(client_id, client_secret)\n",
    "    async with ClientSession(headers=request_headers) as session:\n",
    "        tasks = [asyncio.ensure_future(get_audio_features(session, uri)) for uri in song_uris]\n",
    "        features = await(asyncio.gather(*tasks))\n",
    "    return features\n",
    "\n",
    "async def featurize_playlist(spotify_client: spotipy.Spotify, client_id:str, client_secret: str, playlist_uri: str) -> dict:\n",
    "    song_uris = get_songs_from_playlist(spotify_client, playlist_uri)\n",
    "    playlist_song_features = await(featurize_song_list(client_id, client_secret, song_uris))\n",
    "    return playlist_song_features\n",
    "\n",
    "features = await(featurize_playlist(spotify, env_vars['client_id'], env_vars['client_secret'], \"spotify:playlist:76S2ElS2cyzY624wGBGKpB\"))\n",
    "features"
   ]
  }
 ],
 "metadata": {
  "kernelspec": {
   "display_name": "Python 3 (ipykernel)",
   "language": "python",
   "name": "python3"
  },
  "language_info": {
   "codemirror_mode": {
    "name": "ipython",
    "version": 3
   },
   "file_extension": ".py",
   "mimetype": "text/x-python",
   "name": "python",
   "nbconvert_exporter": "python",
   "pygments_lexer": "ipython3",
   "version": "3.8.5"
  }
 },
 "nbformat": 4,
 "nbformat_minor": 1
}