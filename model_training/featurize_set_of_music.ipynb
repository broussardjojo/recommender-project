{
 "cells": [
  {
   "cell_type": "code",
   "execution_count": 8,
   "metadata": {},
   "outputs": [],
   "source": [
    "import pathlib\n",
    "import pandas as pd\n",
    "import asyncio\n",
    "from aiohttp import ClientSession\n",
    "import requests\n",
    "import base64\n",
    "import api_setup\n",
    "import spotipy\n",
    "REPO_ROOT = pathlib.Path.cwd().parent"
   ]
  },
  {
   "cell_type": "code",
   "execution_count": 9,
   "metadata": {},
   "outputs": [],
   "source": [
    "# API Auth\n",
    "env_vars = api_setup.parse_api_kvs(pathlib.Path.cwd().parent / \"api-keys\")\n",
    "auth_manager = spotipy.SpotifyClientCredentials(env_vars['client_id'], env_vars['client_secret'])\n",
    "spotify = spotipy.Spotify(client_credentials_manager=auth_manager, backoff_factor=2)"
   ]
  },
  {
   "cell_type": "code",
   "execution_count": 10,
   "metadata": {},
   "outputs": [],
   "source": [
    "from typing import List"
   ]
  },
  {
   "cell_type": "code",
   "execution_count": 11,
   "metadata": {},
   "outputs": [
    {
     "data": {
      "text/plain": "['7yl0ItOwlAnALSctbUiavO',\n '4LpUpiYoZ2M3Z1kmhn4EQo',\n '1OuN92HcVG6NVpWbeESNB3',\n '44SO1hMPfH9xUvmI7bjhou',\n '58e7V70Em6FABOiln4jNoZ',\n '2Xl2dfsBQYaPP5I2viTVr9',\n '7L4G39PVgMfaeHRyi1ML7y',\n '1GpZofCtuWj4adPQLqpeFw',\n '3q6ygCZID0OKj6MUxInB48']"
     },
     "execution_count": 11,
     "metadata": {},
     "output_type": "execute_result"
    }
   ],
   "source": [
    "def get_songs_from_playlist(spotify_client: spotipy.Spotify, playlist_uri: str) -> List[str]:\n",
    "    \"\"\"\n",
    "    Return a list of strings of the URIs of the tracks in this playlist.\n",
    "    \"\"\"\n",
    "    tracks_json = spotify_client.playlist_items(playlist_uri)\n",
    "    return [track['track']['uri'][14:] for track in tracks_json['items']]\n",
    "\n",
    "get_songs_from_playlist(spotify, \"spotify:playlist:76S2ElS2cyzY624wGBGKpB\")"
   ]
  },
  {
   "cell_type": "code",
   "execution_count": 15,
   "metadata": {},
   "outputs": [
    {
     "name": "stdout",
     "output_type": "stream",
     "text": [
      "                            artist_name  artist_popularity  \\\n",
      "track_uri                                                    \n",
      "7yl0ItOwlAnALSctbUiavO       Triathalon                 42   \n",
      "4LpUpiYoZ2M3Z1kmhn4EQo      Mac DeMarco                 76   \n",
      "1OuN92HcVG6NVpWbeESNB3       Mac Miller                 83   \n",
      "44SO1hMPfH9xUvmI7bjhou    Sniffle Party                 32   \n",
      "58e7V70Em6FABOiln4jNoZ   Requin Chagrin                 40   \n",
      "2Xl2dfsBQYaPP5I2viTVr9     Snoh Aalegra                 65   \n",
      "7L4G39PVgMfaeHRyi1ML7y  Aretha Franklin                 69   \n",
      "1GpZofCtuWj4adPQLqpeFw  Lone, the Ghost                 26   \n",
      "3q6ygCZID0OKj6MUxInB48     Knox Fortune                 48   \n",
      "\n",
      "                                                            artist_genres  \\\n",
      "track_uri                                                                   \n",
      "7yl0ItOwlAnALSctbUiavO                                [indie garage rock]   \n",
      "4LpUpiYoZ2M3Z1kmhn4EQo                      [edmonton indie, lo-fi indie]   \n",
      "1OuN92HcVG6NVpWbeESNB3                     [hip hop, pittsburgh rap, rap]   \n",
      "44SO1hMPfH9xUvmI7bjhou                                 [eau claire indie]   \n",
      "58e7V70Em6FABOiln4jNoZ  [french indie pop, french indietronica, french...   \n",
      "2Xl2dfsBQYaPP5I2viTVr9  [alternative r&b, neo soul, r&b, scandinavian ...   \n",
      "7L4G39PVgMfaeHRyi1ML7y  [classic soul, jazz blues, memphis soul, soul,...   \n",
      "1GpZofCtuWj4adPQLqpeFw                                                 []   \n",
      "3q6ygCZID0OKj6MUxInB48                                    [chicago indie]   \n",
      "\n",
      "                             track_name  \n",
      "track_uri                                \n",
      "7yl0ItOwlAnALSctbUiavO     Take It Easy  \n",
      "4LpUpiYoZ2M3Z1kmhn4EQo    Still Beating  \n",
      "1OuN92HcVG6NVpWbeESNB3        Everybody  \n",
      "44SO1hMPfH9xUvmI7bjhou      Peach Dream  \n",
      "58e7V70Em6FABOiln4jNoZ  Mauvais présage  \n",
      "2Xl2dfsBQYaPP5I2viTVr9    Nothing to Me  \n",
      "7L4G39PVgMfaeHRyi1ML7y     Day Dreaming  \n",
      "1GpZofCtuWj4adPQLqpeFw            LIVIN  \n",
      "3q6ygCZID0OKj6MUxInB48        Lil Thing  \n"
     ]
    }
   ],
   "source": [
    "# async api calls\n",
    "from pprint import PrettyPrinter\n",
    "pp = PrettyPrinter()\n",
    "\n",
    "EXPECTED_COLUMN_ORDER = ['track_id','artist_name','track_name','duration_ms','danceability','energy','key','loudness','mode','speechiness','acousticness','instrumentalness','liveness','valence','tempo','time_signature','genres','artist_popularity']\n",
    "\n",
    "async def get_audio_features(session: ClientSession, track_uri: str) -> dict:\n",
    "    \"\"\"\n",
    "    Return the audio features of the song with the given uri.\n",
    "    \"\"\"\n",
    "    uri = track_uri.split(\":\")[-1]\n",
    "    endpoint = f\"https://api.spotify.com/v1/audio-features/{uri}\"\n",
    "\n",
    "    async with session.get(endpoint) as response:\n",
    "        response = await(response.json())\n",
    "    return response\n",
    "\n",
    "async def get_artist(session: ClientSession, artist_uri: str) -> dict:\n",
    "    \"\"\"\n",
    "    Given an artist's URI, return their info.\n",
    "    \"\"\"\n",
    "    uri = artist_uri.split(\":\")[-1]\n",
    "    endpoint = f\"https://api.spotify.com/v1/artists/{uri}\"\n",
    "    \n",
    "    async with session.get(endpoint) as response:\n",
    "        response = await(response.json())\n",
    "    \n",
    "    return response\n",
    "\n",
    "async def get_artist_from_track_uri(session: ClientSession, track_uri: str) -> dict:\n",
    "    \"\"\"\n",
    "    Given a track URI, return its artist's name and their popularity.\n",
    "    \"\"\"\n",
    "    uri = track_uri.split(\":\")[-1]\n",
    "    endpoint = f\"https://api.spotify.com/v1/tracks/{uri}\"\n",
    "    \n",
    "    async with session.get(endpoint) as response:\n",
    "        response = await(response.json())\n",
    "        track_name = response['name']\n",
    "        artist_uri = response['artists'][0]['uri']\n",
    "        artist_info = await(get_artist(session, artist_uri))\n",
    "    artist_name, artist_popularity, artist_genres = artist_info['name'], artist_info['popularity'], artist_info['genres']\n",
    "    return {'track_uri': uri, 'artist_name': artist_name, 'artist_popularity': artist_popularity, 'artist_genres': artist_genres, 'track_name': track_name}\n",
    "\n",
    "def get_header_with_token(client_id: str, client_secret: str):\n",
    "    creds = f\"{env_vars['client_id']}:{env_vars['client_secret']}\"\n",
    "    creds_b64 = base64.b64encode(creds.encode())\n",
    "    headers= {\"Authorization\": f\"Basic {creds_b64.decode()}\"}\n",
    "    data= {\"grant_type\": \"client_credentials\"}\n",
    "    token = requests.post(\"https://accounts.spotify.com/api/token\", headers=headers, data=data)\n",
    "    token = token.json()['access_token']\n",
    "    return {\"Accept\": \"application/json\", \"Content-Type\": \"application/json\", \"Authorization\": f\"Bearer {token}\"}\n",
    "\n",
    "async def featurize_song_list(client_id:str, client_secret: str, song_uris: List[str]) -> List[dict]:\n",
    "    # TODO: This can be chunked >.>\n",
    "    # https://developer.spotify.com/documentation/web-api/reference/#/operations/get-several-audio-features\n",
    "    request_headers = get_header_with_token(client_id, client_secret)\n",
    "    async with ClientSession(headers=request_headers) as session:\n",
    "        tasks = [asyncio.ensure_future(get_audio_features(session, uri)) for uri in song_uris]\n",
    "        features = await(asyncio.gather(*tasks))\n",
    "    return features\n",
    "\n",
    "async def get_playlist_song_features(spotify_client: spotipy.Spotify, client_id:str, client_secret: str, playlist_uri: str) -> dict:\n",
    "    song_uris = get_songs_from_playlist(spotify_client, playlist_uri)\n",
    "    playlist_song_features = await(featurize_song_list(client_id, client_secret, song_uris))\n",
    "    return playlist_song_features\n",
    "\n",
    "async def dataframe_from_playlist(spotify_client: spotipy.Spotify, client_id:str, client_secret: str, playlist_uri: str) -> pd.DataFrame:\n",
    "    # Get the song features and URIs from a playlist\n",
    "    playlist_song_features = await(get_playlist_song_features(spotify_client, client_id, client_secret, playlist_uri))\n",
    "    playlist_song_uris = [features['uri'] for features in playlist_song_features]\n",
    "    # Get those songs' artists and their popularity\n",
    "    async with ClientSession(headers=get_header_with_token(client_id, client_secret)) as session:\n",
    "        tasks = [asyncio.ensure_future(get_artist_from_track_uri(session, uri)) for uri in playlist_song_uris]\n",
    "        artist_info = await(asyncio.gather(*tasks))\n",
    "    \n",
    "    # Create the dataframe we expect >:(\n",
    "    song_features_df = pd.DataFrame.from_records(playlist_song_features)\n",
    "    track_uri_artist_popularity_df = pd.DataFrame.from_records(artist_info).set_index('track_uri')\n",
    "    print(track_uri_artist_popularity_df)\n",
    "    \n",
    "    song_features_df = song_features_df.join(track_uri_artist_popularity_df, on='id')\n",
    "    song_features_df = song_features_df.drop(columns=[\"type\", \"uri\", \"track_href\", \"analysis_url\"])\n",
    "\n",
    "    song_features_df = song_features_df.rename(mapper={\"artist_genres\": \"genres\", \"id\": \"track_id\"}, axis=1)\n",
    "\n",
    "    song_features_df = song_features_df[EXPECTED_COLUMN_ORDER]\n",
    "    \n",
    "    return song_features_df\n",
    "    \n",
    "    \n",
    "    \n",
    "\n",
    "args = (spotify, env_vars['client_id'], env_vars['client_secret'], \"spotify:playlist:76S2ElS2cyzY624wGBGKpB\")\n",
    "t = await(dataframe_from_playlist(*args))"
   ]
  },
  {
   "cell_type": "code",
   "execution_count": 16,
   "metadata": {},
   "outputs": [
    {
     "data": {
      "text/plain": "                 track_id      artist_name       track_name  duration_ms  \\\n0  7yl0ItOwlAnALSctbUiavO       Triathalon     Take It Easy       199708   \n1  4LpUpiYoZ2M3Z1kmhn4EQo      Mac DeMarco    Still Beating       181587   \n2  1OuN92HcVG6NVpWbeESNB3       Mac Miller        Everybody       256507   \n3  44SO1hMPfH9xUvmI7bjhou    Sniffle Party      Peach Dream       222067   \n4  58e7V70Em6FABOiln4jNoZ   Requin Chagrin  Mauvais présage       340880   \n5  2Xl2dfsBQYaPP5I2viTVr9     Snoh Aalegra    Nothing to Me       204480   \n6  7L4G39PVgMfaeHRyi1ML7y  Aretha Franklin     Day Dreaming       239960   \n7  1GpZofCtuWj4adPQLqpeFw  Lone, the Ghost            LIVIN       157637   \n8  3q6ygCZID0OKj6MUxInB48     Knox Fortune        Lil Thing       206968   \n\n   danceability  energy  key  loudness  mode  speechiness  acousticness  \\\n0         0.411   0.134   11   -17.251     0       0.0309        0.9760   \n1         0.709   0.496    1   -10.528     0       0.0417        0.5810   \n2         0.875   0.599    9    -9.077     0       0.1380        0.0333   \n3         0.692   0.637   10    -6.449     1       0.1500        0.2860   \n4         0.528   0.740    0    -8.211     0       0.0347        0.4180   \n5         0.743   0.676    5   -10.249     1       0.2020        0.2500   \n6         0.463   0.273    0   -15.364     0       0.0740        0.9070   \n7         0.389   0.740    6   -11.740     0       0.4790        0.7110   \n8         0.713   0.755    7    -4.577     1       0.1510        0.2620   \n\n   instrumentalness  liveness  valence    tempo  time_signature  \\\n0          0.939000    0.0919   0.0658   69.061               3   \n1          0.191000    0.1510   0.4690   78.477               4   \n2          0.014300    0.1130   0.1120  152.061               4   \n3          0.000022    0.2310   0.4290  121.990               4   \n4          0.232000    0.3180   0.3420  141.922               4   \n5          0.000000    0.1410   0.8590  173.942               4   \n6          0.000367    0.1010   0.2930  146.426               4   \n7          0.000227    0.3390   0.6000  175.932               4   \n8          0.000114    0.0947   0.6250  155.939               4   \n\n                                              genres  artist_popularity  \n0                                [indie garage rock]                 42  \n1                      [edmonton indie, lo-fi indie]                 76  \n2                     [hip hop, pittsburgh rap, rap]                 83  \n3                                 [eau claire indie]                 32  \n4  [french indie pop, french indietronica, french...                 40  \n5  [alternative r&b, neo soul, r&b, scandinavian ...                 65  \n6  [classic soul, jazz blues, memphis soul, soul,...                 69  \n7                                                 []                 26  \n8                                    [chicago indie]                 48  ",
      "text/html": "<div>\n<style scoped>\n    .dataframe tbody tr th:only-of-type {\n        vertical-align: middle;\n    }\n\n    .dataframe tbody tr th {\n        vertical-align: top;\n    }\n\n    .dataframe thead th {\n        text-align: right;\n    }\n</style>\n<table border=\"1\" class=\"dataframe\">\n  <thead>\n    <tr style=\"text-align: right;\">\n      <th></th>\n      <th>track_id</th>\n      <th>artist_name</th>\n      <th>track_name</th>\n      <th>duration_ms</th>\n      <th>danceability</th>\n      <th>energy</th>\n      <th>key</th>\n      <th>loudness</th>\n      <th>mode</th>\n      <th>speechiness</th>\n      <th>acousticness</th>\n      <th>instrumentalness</th>\n      <th>liveness</th>\n      <th>valence</th>\n      <th>tempo</th>\n      <th>time_signature</th>\n      <th>genres</th>\n      <th>artist_popularity</th>\n    </tr>\n  </thead>\n  <tbody>\n    <tr>\n      <th>0</th>\n      <td>7yl0ItOwlAnALSctbUiavO</td>\n      <td>Triathalon</td>\n      <td>Take It Easy</td>\n      <td>199708</td>\n      <td>0.411</td>\n      <td>0.134</td>\n      <td>11</td>\n      <td>-17.251</td>\n      <td>0</td>\n      <td>0.0309</td>\n      <td>0.9760</td>\n      <td>0.939000</td>\n      <td>0.0919</td>\n      <td>0.0658</td>\n      <td>69.061</td>\n      <td>3</td>\n      <td>[indie garage rock]</td>\n      <td>42</td>\n    </tr>\n    <tr>\n      <th>1</th>\n      <td>4LpUpiYoZ2M3Z1kmhn4EQo</td>\n      <td>Mac DeMarco</td>\n      <td>Still Beating</td>\n      <td>181587</td>\n      <td>0.709</td>\n      <td>0.496</td>\n      <td>1</td>\n      <td>-10.528</td>\n      <td>0</td>\n      <td>0.0417</td>\n      <td>0.5810</td>\n      <td>0.191000</td>\n      <td>0.1510</td>\n      <td>0.4690</td>\n      <td>78.477</td>\n      <td>4</td>\n      <td>[edmonton indie, lo-fi indie]</td>\n      <td>76</td>\n    </tr>\n    <tr>\n      <th>2</th>\n      <td>1OuN92HcVG6NVpWbeESNB3</td>\n      <td>Mac Miller</td>\n      <td>Everybody</td>\n      <td>256507</td>\n      <td>0.875</td>\n      <td>0.599</td>\n      <td>9</td>\n      <td>-9.077</td>\n      <td>0</td>\n      <td>0.1380</td>\n      <td>0.0333</td>\n      <td>0.014300</td>\n      <td>0.1130</td>\n      <td>0.1120</td>\n      <td>152.061</td>\n      <td>4</td>\n      <td>[hip hop, pittsburgh rap, rap]</td>\n      <td>83</td>\n    </tr>\n    <tr>\n      <th>3</th>\n      <td>44SO1hMPfH9xUvmI7bjhou</td>\n      <td>Sniffle Party</td>\n      <td>Peach Dream</td>\n      <td>222067</td>\n      <td>0.692</td>\n      <td>0.637</td>\n      <td>10</td>\n      <td>-6.449</td>\n      <td>1</td>\n      <td>0.1500</td>\n      <td>0.2860</td>\n      <td>0.000022</td>\n      <td>0.2310</td>\n      <td>0.4290</td>\n      <td>121.990</td>\n      <td>4</td>\n      <td>[eau claire indie]</td>\n      <td>32</td>\n    </tr>\n    <tr>\n      <th>4</th>\n      <td>58e7V70Em6FABOiln4jNoZ</td>\n      <td>Requin Chagrin</td>\n      <td>Mauvais présage</td>\n      <td>340880</td>\n      <td>0.528</td>\n      <td>0.740</td>\n      <td>0</td>\n      <td>-8.211</td>\n      <td>0</td>\n      <td>0.0347</td>\n      <td>0.4180</td>\n      <td>0.232000</td>\n      <td>0.3180</td>\n      <td>0.3420</td>\n      <td>141.922</td>\n      <td>4</td>\n      <td>[french indie pop, french indietronica, french...</td>\n      <td>40</td>\n    </tr>\n    <tr>\n      <th>5</th>\n      <td>2Xl2dfsBQYaPP5I2viTVr9</td>\n      <td>Snoh Aalegra</td>\n      <td>Nothing to Me</td>\n      <td>204480</td>\n      <td>0.743</td>\n      <td>0.676</td>\n      <td>5</td>\n      <td>-10.249</td>\n      <td>1</td>\n      <td>0.2020</td>\n      <td>0.2500</td>\n      <td>0.000000</td>\n      <td>0.1410</td>\n      <td>0.8590</td>\n      <td>173.942</td>\n      <td>4</td>\n      <td>[alternative r&amp;b, neo soul, r&amp;b, scandinavian ...</td>\n      <td>65</td>\n    </tr>\n    <tr>\n      <th>6</th>\n      <td>7L4G39PVgMfaeHRyi1ML7y</td>\n      <td>Aretha Franklin</td>\n      <td>Day Dreaming</td>\n      <td>239960</td>\n      <td>0.463</td>\n      <td>0.273</td>\n      <td>0</td>\n      <td>-15.364</td>\n      <td>0</td>\n      <td>0.0740</td>\n      <td>0.9070</td>\n      <td>0.000367</td>\n      <td>0.1010</td>\n      <td>0.2930</td>\n      <td>146.426</td>\n      <td>4</td>\n      <td>[classic soul, jazz blues, memphis soul, soul,...</td>\n      <td>69</td>\n    </tr>\n    <tr>\n      <th>7</th>\n      <td>1GpZofCtuWj4adPQLqpeFw</td>\n      <td>Lone, the Ghost</td>\n      <td>LIVIN</td>\n      <td>157637</td>\n      <td>0.389</td>\n      <td>0.740</td>\n      <td>6</td>\n      <td>-11.740</td>\n      <td>0</td>\n      <td>0.4790</td>\n      <td>0.7110</td>\n      <td>0.000227</td>\n      <td>0.3390</td>\n      <td>0.6000</td>\n      <td>175.932</td>\n      <td>4</td>\n      <td>[]</td>\n      <td>26</td>\n    </tr>\n    <tr>\n      <th>8</th>\n      <td>3q6ygCZID0OKj6MUxInB48</td>\n      <td>Knox Fortune</td>\n      <td>Lil Thing</td>\n      <td>206968</td>\n      <td>0.713</td>\n      <td>0.755</td>\n      <td>7</td>\n      <td>-4.577</td>\n      <td>1</td>\n      <td>0.1510</td>\n      <td>0.2620</td>\n      <td>0.000114</td>\n      <td>0.0947</td>\n      <td>0.6250</td>\n      <td>155.939</td>\n      <td>4</td>\n      <td>[chicago indie]</td>\n      <td>48</td>\n    </tr>\n  </tbody>\n</table>\n</div>"
     },
     "execution_count": 16,
     "metadata": {},
     "output_type": "execute_result"
    }
   ],
   "source": [
    "t"
   ]
  },
  {
   "cell_type": "code",
   "execution_count": 13,
   "metadata": {},
   "outputs": [],
   "source": []
  }
 ],
 "metadata": {
  "kernelspec": {
   "display_name": "Python 3 (ipykernel)",
   "language": "python",
   "name": "python3"
  },
  "language_info": {
   "codemirror_mode": {
    "name": "ipython",
    "version": 3
   },
   "file_extension": ".py",
   "mimetype": "text/x-python",
   "name": "python",
   "nbconvert_exporter": "python",
   "pygments_lexer": "ipython3",
   "version": "3.8.5"
  }
 },
 "nbformat": 4,
 "nbformat_minor": 1
}
