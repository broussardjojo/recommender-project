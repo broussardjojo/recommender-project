{
 "cells": [
  {
   "cell_type": "code",
   "execution_count": 1,
   "metadata": {},
   "outputs": [],
   "source": [
    "import pathlib\n",
    "import pandas as pd\n",
    "import asyncio\n",
    "from aiohttp import ClientSession\n",
    "import requests\n",
    "import base64\n",
    "import api_setup\n",
    "import spotipy\n",
    "REPO_ROOT = pathlib.Path.cwd().parent"
   ]
  },
  {
   "cell_type": "code",
   "execution_count": 2,
   "metadata": {},
   "outputs": [],
   "source": [
    "# API Auth\n",
    "env_vars = api_setup.parse_api_kvs(pathlib.Path.cwd().parent / \"api-keys\")\n",
    "auth_manager = spotipy.SpotifyClientCredentials(env_vars['client_id'], env_vars['client_secret'])\n",
    "spotify = spotipy.Spotify(client_credentials_manager=auth_manager, backoff_factor=2)"
   ]
  },
  {
   "cell_type": "code",
   "execution_count": 3,
   "metadata": {},
   "outputs": [],
   "source": [
    "from typing import List"
   ]
  },
  {
   "cell_type": "code",
   "execution_count": 4,
   "metadata": {},
   "outputs": [
    {
     "data": {
      "text/plain": "['7yl0ItOwlAnALSctbUiavO',\n '4LpUpiYoZ2M3Z1kmhn4EQo',\n '1OuN92HcVG6NVpWbeESNB3',\n '44SO1hMPfH9xUvmI7bjhou',\n '58e7V70Em6FABOiln4jNoZ',\n '2Xl2dfsBQYaPP5I2viTVr9',\n '7L4G39PVgMfaeHRyi1ML7y',\n '1GpZofCtuWj4adPQLqpeFw',\n '3q6ygCZID0OKj6MUxInB48']"
     },
     "execution_count": 4,
     "metadata": {},
     "output_type": "execute_result"
    }
   ],
   "source": [
    "def get_songs_from_playlist(spotify_client: spotipy.Spotify, playlist_uri: str) -> List[str]:\n",
    "    \"\"\"\n",
    "    Return a list of strings of the URIs of the tracks in this playlist.\n",
    "    \"\"\"\n",
    "    tracks_json = spotify_client.playlist_items(playlist_uri)\n",
    "    return [track['track']['uri'][14:] for track in tracks_json['items']]\n",
    "\n",
    "get_songs_from_playlist(spotify, \"spotify:playlist:76S2ElS2cyzY624wGBGKpB\")"
   ]
  },
  {
   "cell_type": "code",
   "execution_count": 5,
   "metadata": {},
   "outputs": [
    {
     "ename": "ContentTypeError",
     "evalue": "0, message='Attempt to decode JSON with unexpected mimetype: ', url=URL('https://api.spotify.com/v1/tracks/1OuN92HcVG6NVpWbeESNB3')",
     "output_type": "error",
     "traceback": [
      "\u001B[1;31m---------------------------------------------------------------------------\u001B[0m",
      "\u001B[1;31mContentTypeError\u001B[0m                          Traceback (most recent call last)",
      "Cell \u001B[1;32mIn [5], line 95\u001B[0m\n\u001B[0;32m     89\u001B[0m     \u001B[38;5;28;01mreturn\u001B[39;00m song_features_df\n\u001B[0;32m     94\u001B[0m args \u001B[38;5;241m=\u001B[39m (spotify, env_vars[\u001B[38;5;124m'\u001B[39m\u001B[38;5;124mclient_id\u001B[39m\u001B[38;5;124m'\u001B[39m], env_vars[\u001B[38;5;124m'\u001B[39m\u001B[38;5;124mclient_secret\u001B[39m\u001B[38;5;124m'\u001B[39m], \u001B[38;5;124m\"\u001B[39m\u001B[38;5;124mspotify:playlist:76S2ElS2cyzY624wGBGKpB\u001B[39m\u001B[38;5;124m\"\u001B[39m)\n\u001B[1;32m---> 95\u001B[0m t \u001B[38;5;241m=\u001B[39m \u001B[38;5;28;01mawait\u001B[39;00m(dataframe_from_playlist(\u001B[38;5;241m*\u001B[39margs))\n",
      "Cell \u001B[1;32mIn [5], line 75\u001B[0m, in \u001B[0;36mdataframe_from_playlist\u001B[1;34m(spotify_client, client_id, client_secret, playlist_uri)\u001B[0m\n\u001B[0;32m     73\u001B[0m \u001B[38;5;28;01masync\u001B[39;00m \u001B[38;5;28;01mwith\u001B[39;00m ClientSession(headers\u001B[38;5;241m=\u001B[39mget_header_with_token(client_id, client_secret)) \u001B[38;5;28;01mas\u001B[39;00m session:\n\u001B[0;32m     74\u001B[0m     tasks \u001B[38;5;241m=\u001B[39m [asyncio\u001B[38;5;241m.\u001B[39mensure_future(get_artist_from_track_uri(session, uri)) \u001B[38;5;28;01mfor\u001B[39;00m uri \u001B[38;5;129;01min\u001B[39;00m playlist_song_uris]\n\u001B[1;32m---> 75\u001B[0m     artist_info \u001B[38;5;241m=\u001B[39m \u001B[38;5;28;01mawait\u001B[39;00m(asyncio\u001B[38;5;241m.\u001B[39mgather(\u001B[38;5;241m*\u001B[39mtasks))\n\u001B[0;32m     77\u001B[0m \u001B[38;5;66;03m# Create the dataframe we expect >:(\u001B[39;00m\n\u001B[0;32m     78\u001B[0m song_features_df \u001B[38;5;241m=\u001B[39m pd\u001B[38;5;241m.\u001B[39mDataFrame\u001B[38;5;241m.\u001B[39mfrom_records(playlist_song_features)\n",
      "Cell \u001B[1;32mIn [5], line 38\u001B[0m, in \u001B[0;36mget_artist_from_track_uri\u001B[1;34m(session, track_uri)\u001B[0m\n\u001B[0;32m     35\u001B[0m endpoint \u001B[38;5;241m=\u001B[39m \u001B[38;5;124mf\u001B[39m\u001B[38;5;124m\"\u001B[39m\u001B[38;5;124mhttps://api.spotify.com/v1/tracks/\u001B[39m\u001B[38;5;132;01m{\u001B[39;00muri\u001B[38;5;132;01m}\u001B[39;00m\u001B[38;5;124m\"\u001B[39m\n\u001B[0;32m     37\u001B[0m \u001B[38;5;28;01masync\u001B[39;00m \u001B[38;5;28;01mwith\u001B[39;00m session\u001B[38;5;241m.\u001B[39mget(endpoint) \u001B[38;5;28;01mas\u001B[39;00m response:\n\u001B[1;32m---> 38\u001B[0m     response \u001B[38;5;241m=\u001B[39m \u001B[38;5;28;01mawait\u001B[39;00m(response\u001B[38;5;241m.\u001B[39mjson())\n\u001B[0;32m     39\u001B[0m     track_name \u001B[38;5;241m=\u001B[39m response[\u001B[38;5;124m'\u001B[39m\u001B[38;5;124mname\u001B[39m\u001B[38;5;124m'\u001B[39m]\n\u001B[0;32m     40\u001B[0m     artist_uri \u001B[38;5;241m=\u001B[39m response[\u001B[38;5;124m'\u001B[39m\u001B[38;5;124martists\u001B[39m\u001B[38;5;124m'\u001B[39m][\u001B[38;5;241m0\u001B[39m][\u001B[38;5;124m'\u001B[39m\u001B[38;5;124muri\u001B[39m\u001B[38;5;124m'\u001B[39m]\n",
      "File \u001B[1;32m~\\PycharmProjects\\recommender-project\\venv\\lib\\site-packages\\aiohttp\\client_reqrep.py:1104\u001B[0m, in \u001B[0;36mClientResponse.json\u001B[1;34m(self, encoding, loads, content_type)\u001B[0m\n\u001B[0;32m   1102\u001B[0m     ctype \u001B[38;5;241m=\u001B[39m \u001B[38;5;28mself\u001B[39m\u001B[38;5;241m.\u001B[39mheaders\u001B[38;5;241m.\u001B[39mget(hdrs\u001B[38;5;241m.\u001B[39mCONTENT_TYPE, \u001B[38;5;124m\"\u001B[39m\u001B[38;5;124m\"\u001B[39m)\u001B[38;5;241m.\u001B[39mlower()\n\u001B[0;32m   1103\u001B[0m     \u001B[38;5;28;01mif\u001B[39;00m \u001B[38;5;129;01mnot\u001B[39;00m _is_expected_content_type(ctype, content_type):\n\u001B[1;32m-> 1104\u001B[0m         \u001B[38;5;28;01mraise\u001B[39;00m ContentTypeError(\n\u001B[0;32m   1105\u001B[0m             \u001B[38;5;28mself\u001B[39m\u001B[38;5;241m.\u001B[39mrequest_info,\n\u001B[0;32m   1106\u001B[0m             \u001B[38;5;28mself\u001B[39m\u001B[38;5;241m.\u001B[39mhistory,\n\u001B[0;32m   1107\u001B[0m             message\u001B[38;5;241m=\u001B[39m(\n\u001B[0;32m   1108\u001B[0m                 \u001B[38;5;124m\"\u001B[39m\u001B[38;5;124mAttempt to decode JSON with \u001B[39m\u001B[38;5;124m\"\u001B[39m \u001B[38;5;124m\"\u001B[39m\u001B[38;5;124munexpected mimetype: \u001B[39m\u001B[38;5;132;01m%s\u001B[39;00m\u001B[38;5;124m\"\u001B[39m \u001B[38;5;241m%\u001B[39m ctype\n\u001B[0;32m   1109\u001B[0m             ),\n\u001B[0;32m   1110\u001B[0m             headers\u001B[38;5;241m=\u001B[39m\u001B[38;5;28mself\u001B[39m\u001B[38;5;241m.\u001B[39mheaders,\n\u001B[0;32m   1111\u001B[0m         )\n\u001B[0;32m   1113\u001B[0m stripped \u001B[38;5;241m=\u001B[39m \u001B[38;5;28mself\u001B[39m\u001B[38;5;241m.\u001B[39m_body\u001B[38;5;241m.\u001B[39mstrip()  \u001B[38;5;66;03m# type: ignore[union-attr]\u001B[39;00m\n\u001B[0;32m   1114\u001B[0m \u001B[38;5;28;01mif\u001B[39;00m \u001B[38;5;129;01mnot\u001B[39;00m stripped:\n",
      "\u001B[1;31mContentTypeError\u001B[0m: 0, message='Attempt to decode JSON with unexpected mimetype: ', url=URL('https://api.spotify.com/v1/tracks/1OuN92HcVG6NVpWbeESNB3')"
     ]
    }
   ],
   "source": [
    "# async api calls\n",
    "from pprint import PrettyPrinter\n",
    "pp = PrettyPrinter()\n",
    "\n",
    "EXPECTED_COLUMN_ORDER = ['track_id','artist_name','track_name','duration_ms','danceability','energy','key','loudness','mode','speechiness','acousticness','instrumentalness','liveness','valence','tempo','time_signature','genres','artist_popularity']\n",
    "\n",
    "async def get_audio_features(session: ClientSession, track_uri: str) -> dict:\n",
    "    \"\"\"\n",
    "    Return the audio features of the song with the given uri.\n",
    "    \"\"\"\n",
    "    uri = track_uri.split(\":\")[-1]\n",
    "    endpoint = f\"https://api.spotify.com/v1/audio-features/{uri}\"\n",
    "\n",
    "    async with session.get(endpoint) as response:\n",
    "        response = await(response.json())\n",
    "    return response\n",
    "\n",
    "async def get_artist(session: ClientSession, artist_uri: str) -> dict:\n",
    "    \"\"\"\n",
    "    Given an artist's URI, return their info.\n",
    "    \"\"\"\n",
    "    uri = artist_uri.split(\":\")[-1]\n",
    "    endpoint = f\"https://api.spotify.com/v1/artists/{uri}\"\n",
    "    \n",
    "    async with session.get(endpoint) as response:\n",
    "        response = await(response.json())\n",
    "    \n",
    "    return response\n",
    "\n",
    "async def get_artist_from_track_uri(session: ClientSession, track_uri: str) -> dict:\n",
    "    \"\"\"\n",
    "    Given a track URI, return its artist's name and their popularity.\n",
    "    \"\"\"\n",
    "    uri = track_uri.split(\":\")[-1]\n",
    "    endpoint = f\"https://api.spotify.com/v1/tracks/{uri}\"\n",
    "    \n",
    "    async with session.get(endpoint) as response:\n",
    "        response = await(response.json())\n",
    "        track_name = response['name']\n",
    "        artist_uri = response['artists'][0]['uri']\n",
    "        artist_info = await(get_artist(session, artist_uri))\n",
    "    artist_name, artist_popularity, artist_genres = artist_info['name'], artist_info['popularity'], artist_info['genres']\n",
    "    return {'track_uri': uri, 'artist_name': artist_name, 'artist_popularity': artist_popularity, 'artist_genres': artist_genres, 'track_name': track_name}\n",
    "\n",
    "def get_header_with_token(client_id: str, client_secret: str):\n",
    "    creds = f\"{env_vars['client_id']}:{env_vars['client_secret']}\"\n",
    "    creds_b64 = base64.b64encode(creds.encode())\n",
    "    headers= {\"Authorization\": f\"Basic {creds_b64.decode()}\"}\n",
    "    data= {\"grant_type\": \"client_credentials\"}\n",
    "    token = requests.post(\"https://accounts.spotify.com/api/token\", headers=headers, data=data)\n",
    "    token = token.json()['access_token']\n",
    "    return {\"Accept\": \"application/json\", \"Content-Type\": \"application/json\", \"Authorization\": f\"Bearer {token}\"}\n",
    "\n",
    "async def featurize_song_list(client_id:str, client_secret: str, song_uris: List[str]) -> List[dict]:\n",
    "    # TODO: This can be chunked >.>\n",
    "    # https://developer.spotify.com/documentation/web-api/reference/#/operations/get-several-audio-features\n",
    "    request_headers = get_header_with_token(client_id, client_secret)\n",
    "    async with ClientSession(headers=request_headers) as session:\n",
    "        tasks = [asyncio.ensure_future(get_audio_features(session, uri)) for uri in song_uris]\n",
    "        features = await(asyncio.gather(*tasks))\n",
    "    return features\n",
    "\n",
    "async def get_playlist_song_features(spotify_client: spotipy.Spotify, client_id:str, client_secret: str, playlist_uri: str) -> dict:\n",
    "    song_uris = get_songs_from_playlist(spotify_client, playlist_uri)\n",
    "    playlist_song_features = await(featurize_song_list(client_id, client_secret, song_uris))\n",
    "    return playlist_song_features\n",
    "\n",
    "async def dataframe_from_playlist(spotify_client: spotipy.Spotify, client_id:str, client_secret: str, playlist_uri: str) -> pd.DataFrame:\n",
    "    # Get the song features and URIs from a playlist\n",
    "    playlist_song_features = await(get_playlist_song_features(spotify_client, client_id, client_secret, playlist_uri))\n",
    "    playlist_song_uris = [features['uri'] for features in playlist_song_features]\n",
    "    # Get those songs' artists and their popularity\n",
    "    async with ClientSession(headers=get_header_with_token(client_id, client_secret)) as session:\n",
    "        tasks = [asyncio.ensure_future(get_artist_from_track_uri(session, uri)) for uri in playlist_song_uris]\n",
    "        artist_info = await(asyncio.gather(*tasks))\n",
    "    \n",
    "    # Create the dataframe we expect >:(\n",
    "    song_features_df = pd.DataFrame.from_records(playlist_song_features)\n",
    "    track_uri_artist_popularity_df = pd.DataFrame.from_records(artist_info).set_index('track_uri')\n",
    "    print(track_uri_artist_popularity_df)\n",
    "    \n",
    "    song_features_df = song_features_df.join(track_uri_artist_popularity_df, on='id')\n",
    "    song_features_df = song_features_df.drop(columns=[\"type\", \"uri\", \"track_href\", \"analysis_url\"])\n",
    "\n",
    "    song_features_df = song_features_df.rename(mapper={\"artist_genres\": \"genres\", \"id\": \"track_id\"}, axis=1)\n",
    "\n",
    "    song_features_df = song_features_df[EXPECTED_COLUMN_ORDER]\n",
    "    \n",
    "    return song_features_df\n",
    "    \n",
    "    \n",
    "    \n",
    "\n",
    "args = (spotify, env_vars['client_id'], env_vars['client_secret'], \"spotify:playlist:76S2ElS2cyzY624wGBGKpB\")\n",
    "t = await(dataframe_from_playlist(*args))"
   ]
  },
  {
   "cell_type": "code",
   "execution_count": null,
   "metadata": {},
   "outputs": [],
   "source": [
    "t"
   ]
  },
  {
   "cell_type": "code",
   "execution_count": null,
   "metadata": {},
   "outputs": [],
   "source": []
  }
 ],
 "metadata": {
  "kernelspec": {
   "display_name": "Python 3 (ipykernel)",
   "language": "python",
   "name": "python3"
  },
  "language_info": {
   "codemirror_mode": {
    "name": "ipython",
    "version": 3
   },
   "file_extension": ".py",
   "mimetype": "text/x-python",
   "name": "python",
   "nbconvert_exporter": "python",
   "pygments_lexer": "ipython3",
   "version": "3.8.5"
  }
 },
 "nbformat": 4,
 "nbformat_minor": 1
}
