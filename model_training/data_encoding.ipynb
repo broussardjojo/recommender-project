{
 "cells": [
  {
   "cell_type": "markdown",
   "source": [
    "This file is the first attempt at encoding the music dataset into a form more compatible with ML models.\n",
    "Some of the transformation steps taken include:\n",
    "\n",
    "Transformation steps considered include:\n",
    "- One-hot encoding of all genres present\n",
    "- \ttoo big! Try TF/IDF???"
   ],
   "metadata": {
    "collapsed": false
   }
  },
  {
   "cell_type": "code",
   "execution_count": 79,
   "metadata": {
    "collapsed": true
   },
   "outputs": [],
   "source": [
    "import pathlib\n",
    "import pandas as pd\n",
    "REPO_ROOT = pathlib.Path.cwd().parent"
   ]
  },
  {
   "cell_type": "code",
   "execution_count": 80,
   "outputs": [],
   "source": [
    "# importing data\n",
    "music_dataset = pd.read_csv(REPO_ROOT / \"data/song_data/song_dataset_with_jojos_music.csv\")\n",
    "music_dataset = music_dataset.dropna()"
   ],
   "metadata": {
    "collapsed": false
   }
  },
  {
   "cell_type": "code",
   "execution_count": 81,
   "outputs": [
    {
     "name": "stdout",
     "output_type": "stream",
     "text": [
      "[array([ 0.,  1.,  2.,  3.,  4.,  5.,  6.,  7.,  8.,  9., 10., 11.])]\n",
      "[array([0., 1.])]\n",
      "[array([0., 1., 3., 4., 5.])]\n"
     ]
    }
   ],
   "source": [
    "from sklearn.preprocessing import OneHotEncoder\n",
    "# Encoding categorical variables: mode, key. time_signature\n",
    "key_encoder = OneHotEncoder(sparse=False)\n",
    "key_encoder.fit(music_dataset[['key']])\n",
    "print(key_encoder.categories_)\n",
    "mode_encoder = OneHotEncoder(sparse=False)\n",
    "mode_encoder.fit(music_dataset[['mode']])\n",
    "print(mode_encoder.categories_)\n",
    "time_signature_encoder = OneHotEncoder(sparse=False)\n",
    "time_signature_encoder.fit(music_dataset[['time_signature']])\n",
    "print(time_signature_encoder.categories_)"
   ],
   "metadata": {
    "collapsed": false
   }
  },
  {
   "cell_type": "code",
   "execution_count": 82,
   "outputs": [],
   "source": [
    "music_dataset[key_encoder.get_feature_names_out()] = key_encoder.transform(music_dataset[['key']])\n",
    "music_dataset[mode_encoder.get_feature_names_out()] = mode_encoder.transform(music_dataset[['mode']])\n",
    "music_dataset[time_signature_encoder.get_feature_names_out()] = time_signature_encoder.transform(music_dataset[['time_signature']])"
   ],
   "metadata": {
    "collapsed": false
   }
  },
  {
   "cell_type": "code",
   "execution_count": 83,
   "outputs": [],
   "source": [
    "from sklearn.preprocessing import MinMaxScaler\n",
    "# Normalizing all continuous features (duration_ms, danceability, energy, loudness, mode, speechiness, acousticness, instrumentalness, liveness, valence, tempo, artist_popularity\n",
    "for column in ['duration_ms', 'danceability', 'energy', 'loudness', 'mode', 'speechiness', 'acousticness', 'instrumentalness', 'liveness', 'valence', 'tempo', 'artist_popularity']:\n",
    "\tscaler = MinMaxScaler()\n",
    "\tscaler.fit(music_dataset[[column]])\n",
    "\tmusic_dataset[[column]] = scaler.transform(music_dataset[[column]])"
   ],
   "metadata": {
    "collapsed": false
   }
  },
  {
   "cell_type": "code",
   "execution_count": 84,
   "outputs": [
    {
     "data": {
      "text/plain": "                 track_id        artist_name                  track_name  \\\n0  5SuOikwiRyPMVoIQDJUgSV        Gen Hoshino                      Comedy   \n1  4qPNDBW1i3p13qLCt0Ki3A       Ben Woodward            Ghost - Acoustic   \n2  1iJBSr7s7jYXzM8EGcbK5b  Ingrid Michaelson              To Begin Again   \n3  6lfxq3CG4xtTiEg7opyCyx       Kina Grannis  Can't Help Falling In Love   \n4  5vjLSffimiIP26QG5WcN2K   Chord Overstreet                     Hold On   \n5  01MVOl9KtVTNfFiBU9I7dc       Tyrone Wells        Days I Will Remember   \n6  6Vc5wAMmXdKIAM7WUoEb7N  A Great Big World               Say Something   \n7  1EzrEOXmMH3G43AXT1y7pA         Jason Mraz                   I'm Yours   \n8  0IktbUcnAGrvD03AWnz3Q8         Jason Mraz                       Lucky   \n9  7k9GuJYLp2AzqokyEdwEw2     Ross Copperman                      Hunger   \n\n   duration_ms  danceability  energy   key  loudness  mode  speechiness  ...  \\\n0     0.040604      0.678715  0.4610   1.0  0.824174   0.0     0.148187  ...   \n1     0.026148      0.421687  0.1660   1.0  0.661843   1.0     0.079067  ...   \n2     0.037065      0.439759  0.3590   0.0  0.777931   1.0     0.057720  ...   \n3     0.035479      0.267068  0.0596   0.0  0.642034   1.0     0.037617  ...   \n4     0.034930      0.620482  0.4430   2.0  0.778751   1.0     0.054508  ...   \n5     0.037674      0.690763  0.4810   6.0  0.792277   1.0     0.108808  ...   \n6     0.040378      0.408635  0.1470   2.0  0.792045   1.0     0.036788  ...   \n7     0.042794      0.705823  0.4440  11.0  0.784168   1.0     0.043212  ...   \n8     0.033282      0.627510  0.4140   0.0  0.793933   1.0     0.038238  ...   \n9     0.036132      0.443775  0.6320   1.0  0.823803   1.0     0.030570  ...   \n\n   key_9.0  key_10.0  key_11.0  mode_0.0  mode_1.0  time_signature_0.0  \\\n0      0.0       0.0       0.0       1.0       0.0                 0.0   \n1      0.0       0.0       0.0       0.0       1.0                 0.0   \n2      0.0       0.0       0.0       0.0       1.0                 0.0   \n3      0.0       0.0       0.0       0.0       1.0                 0.0   \n4      0.0       0.0       0.0       0.0       1.0                 0.0   \n5      0.0       0.0       0.0       0.0       1.0                 0.0   \n6      0.0       0.0       0.0       0.0       1.0                 0.0   \n7      0.0       0.0       1.0       0.0       1.0                 0.0   \n8      0.0       0.0       0.0       0.0       1.0                 0.0   \n9      0.0       0.0       0.0       0.0       1.0                 0.0   \n\n  time_signature_1.0  time_signature_3.0  time_signature_4.0  \\\n0                0.0                 0.0                 1.0   \n1                0.0                 0.0                 1.0   \n2                0.0                 0.0                 1.0   \n3                0.0                 1.0                 0.0   \n4                0.0                 0.0                 1.0   \n5                0.0                 0.0                 1.0   \n6                0.0                 1.0                 0.0   \n7                0.0                 0.0                 1.0   \n8                0.0                 0.0                 1.0   \n9                0.0                 0.0                 1.0   \n\n   time_signature_5.0  \n0                 0.0  \n1                 0.0  \n2                 0.0  \n3                 0.0  \n4                 0.0  \n5                 0.0  \n6                 0.0  \n7                 0.0  \n8                 0.0  \n9                 0.0  \n\n[10 rows x 37 columns]",
      "text/html": "<div>\n<style scoped>\n    .dataframe tbody tr th:only-of-type {\n        vertical-align: middle;\n    }\n\n    .dataframe tbody tr th {\n        vertical-align: top;\n    }\n\n    .dataframe thead th {\n        text-align: right;\n    }\n</style>\n<table border=\"1\" class=\"dataframe\">\n  <thead>\n    <tr style=\"text-align: right;\">\n      <th></th>\n      <th>track_id</th>\n      <th>artist_name</th>\n      <th>track_name</th>\n      <th>duration_ms</th>\n      <th>danceability</th>\n      <th>energy</th>\n      <th>key</th>\n      <th>loudness</th>\n      <th>mode</th>\n      <th>speechiness</th>\n      <th>...</th>\n      <th>key_9.0</th>\n      <th>key_10.0</th>\n      <th>key_11.0</th>\n      <th>mode_0.0</th>\n      <th>mode_1.0</th>\n      <th>time_signature_0.0</th>\n      <th>time_signature_1.0</th>\n      <th>time_signature_3.0</th>\n      <th>time_signature_4.0</th>\n      <th>time_signature_5.0</th>\n    </tr>\n  </thead>\n  <tbody>\n    <tr>\n      <th>0</th>\n      <td>5SuOikwiRyPMVoIQDJUgSV</td>\n      <td>Gen Hoshino</td>\n      <td>Comedy</td>\n      <td>0.040604</td>\n      <td>0.678715</td>\n      <td>0.4610</td>\n      <td>1.0</td>\n      <td>0.824174</td>\n      <td>0.0</td>\n      <td>0.148187</td>\n      <td>...</td>\n      <td>0.0</td>\n      <td>0.0</td>\n      <td>0.0</td>\n      <td>1.0</td>\n      <td>0.0</td>\n      <td>0.0</td>\n      <td>0.0</td>\n      <td>0.0</td>\n      <td>1.0</td>\n      <td>0.0</td>\n    </tr>\n    <tr>\n      <th>1</th>\n      <td>4qPNDBW1i3p13qLCt0Ki3A</td>\n      <td>Ben Woodward</td>\n      <td>Ghost - Acoustic</td>\n      <td>0.026148</td>\n      <td>0.421687</td>\n      <td>0.1660</td>\n      <td>1.0</td>\n      <td>0.661843</td>\n      <td>1.0</td>\n      <td>0.079067</td>\n      <td>...</td>\n      <td>0.0</td>\n      <td>0.0</td>\n      <td>0.0</td>\n      <td>0.0</td>\n      <td>1.0</td>\n      <td>0.0</td>\n      <td>0.0</td>\n      <td>0.0</td>\n      <td>1.0</td>\n      <td>0.0</td>\n    </tr>\n    <tr>\n      <th>2</th>\n      <td>1iJBSr7s7jYXzM8EGcbK5b</td>\n      <td>Ingrid Michaelson</td>\n      <td>To Begin Again</td>\n      <td>0.037065</td>\n      <td>0.439759</td>\n      <td>0.3590</td>\n      <td>0.0</td>\n      <td>0.777931</td>\n      <td>1.0</td>\n      <td>0.057720</td>\n      <td>...</td>\n      <td>0.0</td>\n      <td>0.0</td>\n      <td>0.0</td>\n      <td>0.0</td>\n      <td>1.0</td>\n      <td>0.0</td>\n      <td>0.0</td>\n      <td>0.0</td>\n      <td>1.0</td>\n      <td>0.0</td>\n    </tr>\n    <tr>\n      <th>3</th>\n      <td>6lfxq3CG4xtTiEg7opyCyx</td>\n      <td>Kina Grannis</td>\n      <td>Can't Help Falling In Love</td>\n      <td>0.035479</td>\n      <td>0.267068</td>\n      <td>0.0596</td>\n      <td>0.0</td>\n      <td>0.642034</td>\n      <td>1.0</td>\n      <td>0.037617</td>\n      <td>...</td>\n      <td>0.0</td>\n      <td>0.0</td>\n      <td>0.0</td>\n      <td>0.0</td>\n      <td>1.0</td>\n      <td>0.0</td>\n      <td>0.0</td>\n      <td>1.0</td>\n      <td>0.0</td>\n      <td>0.0</td>\n    </tr>\n    <tr>\n      <th>4</th>\n      <td>5vjLSffimiIP26QG5WcN2K</td>\n      <td>Chord Overstreet</td>\n      <td>Hold On</td>\n      <td>0.034930</td>\n      <td>0.620482</td>\n      <td>0.4430</td>\n      <td>2.0</td>\n      <td>0.778751</td>\n      <td>1.0</td>\n      <td>0.054508</td>\n      <td>...</td>\n      <td>0.0</td>\n      <td>0.0</td>\n      <td>0.0</td>\n      <td>0.0</td>\n      <td>1.0</td>\n      <td>0.0</td>\n      <td>0.0</td>\n      <td>0.0</td>\n      <td>1.0</td>\n      <td>0.0</td>\n    </tr>\n    <tr>\n      <th>5</th>\n      <td>01MVOl9KtVTNfFiBU9I7dc</td>\n      <td>Tyrone Wells</td>\n      <td>Days I Will Remember</td>\n      <td>0.037674</td>\n      <td>0.690763</td>\n      <td>0.4810</td>\n      <td>6.0</td>\n      <td>0.792277</td>\n      <td>1.0</td>\n      <td>0.108808</td>\n      <td>...</td>\n      <td>0.0</td>\n      <td>0.0</td>\n      <td>0.0</td>\n      <td>0.0</td>\n      <td>1.0</td>\n      <td>0.0</td>\n      <td>0.0</td>\n      <td>0.0</td>\n      <td>1.0</td>\n      <td>0.0</td>\n    </tr>\n    <tr>\n      <th>6</th>\n      <td>6Vc5wAMmXdKIAM7WUoEb7N</td>\n      <td>A Great Big World</td>\n      <td>Say Something</td>\n      <td>0.040378</td>\n      <td>0.408635</td>\n      <td>0.1470</td>\n      <td>2.0</td>\n      <td>0.792045</td>\n      <td>1.0</td>\n      <td>0.036788</td>\n      <td>...</td>\n      <td>0.0</td>\n      <td>0.0</td>\n      <td>0.0</td>\n      <td>0.0</td>\n      <td>1.0</td>\n      <td>0.0</td>\n      <td>0.0</td>\n      <td>1.0</td>\n      <td>0.0</td>\n      <td>0.0</td>\n    </tr>\n    <tr>\n      <th>7</th>\n      <td>1EzrEOXmMH3G43AXT1y7pA</td>\n      <td>Jason Mraz</td>\n      <td>I'm Yours</td>\n      <td>0.042794</td>\n      <td>0.705823</td>\n      <td>0.4440</td>\n      <td>11.0</td>\n      <td>0.784168</td>\n      <td>1.0</td>\n      <td>0.043212</td>\n      <td>...</td>\n      <td>0.0</td>\n      <td>0.0</td>\n      <td>1.0</td>\n      <td>0.0</td>\n      <td>1.0</td>\n      <td>0.0</td>\n      <td>0.0</td>\n      <td>0.0</td>\n      <td>1.0</td>\n      <td>0.0</td>\n    </tr>\n    <tr>\n      <th>8</th>\n      <td>0IktbUcnAGrvD03AWnz3Q8</td>\n      <td>Jason Mraz</td>\n      <td>Lucky</td>\n      <td>0.033282</td>\n      <td>0.627510</td>\n      <td>0.4140</td>\n      <td>0.0</td>\n      <td>0.793933</td>\n      <td>1.0</td>\n      <td>0.038238</td>\n      <td>...</td>\n      <td>0.0</td>\n      <td>0.0</td>\n      <td>0.0</td>\n      <td>0.0</td>\n      <td>1.0</td>\n      <td>0.0</td>\n      <td>0.0</td>\n      <td>0.0</td>\n      <td>1.0</td>\n      <td>0.0</td>\n    </tr>\n    <tr>\n      <th>9</th>\n      <td>7k9GuJYLp2AzqokyEdwEw2</td>\n      <td>Ross Copperman</td>\n      <td>Hunger</td>\n      <td>0.036132</td>\n      <td>0.443775</td>\n      <td>0.6320</td>\n      <td>1.0</td>\n      <td>0.823803</td>\n      <td>1.0</td>\n      <td>0.030570</td>\n      <td>...</td>\n      <td>0.0</td>\n      <td>0.0</td>\n      <td>0.0</td>\n      <td>0.0</td>\n      <td>1.0</td>\n      <td>0.0</td>\n      <td>0.0</td>\n      <td>0.0</td>\n      <td>1.0</td>\n      <td>0.0</td>\n    </tr>\n  </tbody>\n</table>\n<p>10 rows × 37 columns</p>\n</div>"
     },
     "execution_count": 84,
     "metadata": {},
     "output_type": "execute_result"
    }
   ],
   "source": [
    "music_dataset.head(10)"
   ],
   "metadata": {
    "collapsed": false
   }
  },
  {
   "cell_type": "markdown",
   "source": [
    "Below this line is EDA :/"
   ],
   "metadata": {
    "collapsed": false
   }
  },
  {
   "cell_type": "code",
   "execution_count": 85,
   "outputs": [
    {
     "data": {
      "text/plain": "4380"
     },
     "execution_count": 85,
     "metadata": {},
     "output_type": "execute_result"
    }
   ],
   "source": [
    "# How many genres are there, and would one-hot encoding on these cause a state space explosion?\n",
    "\n",
    "# A ton of cleaning :/\n",
    "genres = music_dataset['genres'].dropna().values\n",
    "unique_genre_pairs = {genre for genre in genres}\n",
    "unique_genre_pairs = {genre_pair[1:-1] for genre_pair in unique_genre_pairs}\n",
    "unique_genre_pairs = {genre_pair.replace(\"'\", \"\") for genre_pair in unique_genre_pairs}\n",
    "unique_genre_pairs = {tuple(genre_pair.split(\",\")) for genre_pair in unique_genre_pairs}\n",
    "unique_genres = {genre for genres in unique_genre_pairs for genre in genres}\n",
    "unique_genres = {genre.strip() for genre in unique_genres}\n",
    "len(unique_genres)"
   ],
   "metadata": {
    "collapsed": false
   }
  },
  {
   "cell_type": "code",
   "execution_count": 86,
   "outputs": [],
   "source": [
    "# One-hot encoding genres would be the same as adding another ~4400 boolean columns. This is obviously not ideal as we have finite compute power.\n",
    "# How else can we encode lists of categorical variables?"
   ],
   "metadata": {
    "collapsed": false
   }
  }
 ],
 "metadata": {
  "kernelspec": {
   "display_name": "Python 3",
   "language": "python",
   "name": "python3"
  },
  "language_info": {
   "codemirror_mode": {
    "name": "ipython",
    "version": 2
   },
   "file_extension": ".py",
   "mimetype": "text/x-python",
   "name": "python",
   "nbconvert_exporter": "python",
   "pygments_lexer": "ipython2",
   "version": "2.7.6"
  }
 },
 "nbformat": 4,
 "nbformat_minor": 0
}
