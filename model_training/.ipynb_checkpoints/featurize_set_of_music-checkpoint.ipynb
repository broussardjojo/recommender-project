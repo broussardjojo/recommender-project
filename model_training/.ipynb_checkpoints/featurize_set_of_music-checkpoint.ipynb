{
 "cells": [
  {
   "cell_type": "code",
   "execution_count": 1,
   "metadata": {
    "pycharm": {
     "name": "#%%\n"
    }
   },
   "outputs": [],
   "source": [
    "import pathlib\n",
    "import pandas as pd\n",
    "import api_setup\n",
    "import spotipy\n",
    "REPO_ROOT = pathlib.Path.cwd().parent"
   ]
  },
  {
   "cell_type": "code",
   "execution_count": 2,
   "metadata": {
    "pycharm": {
     "name": "#%%\n"
    }
   },
   "outputs": [],
   "source": [
    "# API Auth\n",
    "env_vars = api_setup.parse_api_kvs(pathlib.Path.cwd().parent / \"api-keys\")\n",
    "auth_manager = spotipy.SpotifyClientCredentials(env_vars['client_id'], env_vars['client_secret'])\n",
    "spotify = spotipy.Spotify(client_credentials_manager=auth_manager, backoff_factor=2)"
   ]
  },
  {
   "cell_type": "code",
   "execution_count": 3,
   "metadata": {
    "pycharm": {
     "name": "#%%\n"
    }
   },
   "outputs": [],
   "source": [
    "from typing import List"
   ]
  },
  {
   "cell_type": "code",
   "execution_count": null,
   "metadata": {
    "pycharm": {
     "name": "#%%\n"
    }
   },
   "outputs": [],
   "source": [
    "def get_songs_from_playlist(spotify_client: spotipy.Spotify, playlist_uri: str) -> List[str]:\n",
    "    \"\"\"\n",
    "    Return a list of strings of the URIs of the tracks in this playlist.\n",
    "    \"\"\"\n",
    "    tracks_json = spotify_client.playlist_items(playlist_uri)\n",
    "    return [track['track']['uri'][14:] for track in tracks_json['items']]\n",
    "\n",
    "get_songs_from_playlist(spotify, \"spotify:playlist:76S2ElS2cyzY624wGBGKpB\")"
   ]
  },
  {
   "cell_type": "code",
   "execution_count": 5,
   "metadata": {
    "pycharm": {
     "name": "#%%\n"
    }
   },
   "outputs": [
    {
     "data": {
      "text/plain": [
       "['7yl0ItOwlAnALSctbUiavO',\n",
       " '4LpUpiYoZ2M3Z1kmhn4EQo',\n",
       " '1OuN92HcVG6NVpWbeESNB3',\n",
       " '44SO1hMPfH9xUvmI7bjhou',\n",
       " '58e7V70Em6FABOiln4jNoZ',\n",
       " '2Xl2dfsBQYaPP5I2viTVr9',\n",
       " '7L4G39PVgMfaeHRyi1ML7y',\n",
       " '1GpZofCtuWj4adPQLqpeFw',\n",
       " '3q6ygCZID0OKj6MUxInB48']"
      ]
     },
     "execution_count": 5,
     "metadata": {},
     "output_type": "execute_result"
    }
   ],
   "source": [
    "# async api calls\n",
    "async def get_audio_features(session: ClientSession, uri: str) -> dict:\n",
    "    \"\"\"\n",
    "    Return the audio features of the song with the given uri.\n",
    "    \"\"\"\n",
    "    endpoint = f\"https://api.spotify.com/v1/audio-features/{uri}\"\n",
    "\n",
    "    async with session.get(endpoint) as response:\n",
    "        response = await(response.json())\n",
    "    return uri, response\n",
    "\n",
    "def get_header_with_token(client_id: str, client_secret: str):\n",
    "    creds = f\"{env_vars['client_id']}:{env_vars['client_secret']}\"\n",
    "    creds_b64 = base64.b64encode(creds.encode())\n",
    "    headers= {\"Authorization\": f\"Basic {creds_b64.decode()}\"}\n",
    "    data= {\"grant_type\": \"client_credentials\"}\n",
    "    token = requests.post(\"https://accounts.spotify.com/api/token\", headers=headers, data=data)\n",
    "    token = token.json()['access_token']\n",
    "    return {\"Accept\": \"application/json\", \"Content-Type\": \"application/json\", \"Authorization\": f\"Bearer {token}\"}\n",
    "\n",
    "\n",
    "async def featurize_song_list(client_id:str, client_secret: str, song_uris: List[str]) -> dict:\n",
    "    request_headers = get_header_with_token(client_id, client_secret)\n",
    "    async with ClientSession(headers=request_headers) as session:\n",
    "        tasks = [asyncio.ensure_future(get_audio_features(session, uri)) for uri in song_uris]\n",
    "        features = await(asyncio.gather(*tasks))\n",
    "    return features\n",
    "\n",
    "async def featurize_playlist(spotify_client: spotipy.Spotify, client_id:str, client_secret: str, playlist_uri: str) -> dict:\n",
    "    song_uris = get_songs_from_playlist(spotify_client, playlist_uri)\n",
    "    playlist_song_features = await(featurize_song_list(client_id, client_secret, song_uris))\n",
    "    return playlist_song_features\n",
    "\n",
    "features = await(featurize_playlist(spotify, env_vars['client_id'], env_vars['client_secret'], \"spotify:playlist:76S2ElS2cyzY624wGBGKpB\"))\n",
    "features"
   ]
  }
 ],
 "metadata": {
  "kernelspec": {
   "display_name": "Python 3 (ipykernel)",
   "language": "python",
   "name": "python3"
  },
  "language_info": {
   "codemirror_mode": {
    "name": "ipython",
    "version": 3
   },
   "file_extension": ".py",
   "mimetype": "text/x-python",
   "name": "python",
   "nbconvert_exporter": "python",
   "pygments_lexer": "ipython3",
   "version": "3.8.5"
  }
 },
 "nbformat": 4,
 "nbformat_minor": 1
}
