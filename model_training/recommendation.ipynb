{
 "cells": [
  {
   "cell_type": "code",
   "execution_count": 1,
   "metadata": {
    "collapsed": true
   },
   "outputs": [],
   "source": [
    "import featurizing\n",
    "import encoding\n",
    "import recommending\n",
    "import playlist_creation\n",
    "\n",
    "import pathlib\n",
    "import spotipy\n",
    "import api_setup\n",
    "import pandas as pd\n",
    "\n",
    "\n",
    "REPO_ROOT = pathlib.Path.cwd().parent"
   ]
  },
  {
   "cell_type": "code",
   "execution_count": 2,
   "outputs": [
    {
     "name": "stderr",
     "output_type": "stream",
     "text": [
      "C:\\Users\\Jojo Broussard\\AppData\\Local\\Temp\\ipykernel_24736\\118604112.py:1: DtypeWarning: Columns (1,2,16) have mixed types. Specify dtype option on import or set low_memory=False.\n",
      "  training_dataset = pd.read_csv(REPO_ROOT / 'data/song_data/final_song_dataset.csv')\n"
     ]
    }
   ],
   "source": [
    "training_dataset = pd.read_csv(REPO_ROOT / 'data/song_data/final_song_dataset.csv')\n",
    "token = 'BQAeyeAntUlF8a_NYwD72ABcyaB4Bm8pLF-ZwxubHxJUITDpbanvYFVV0vEspkd-sXkDzRdxg19zUPj9iZKib6DBApmwRDGhrR7ZIkp9tvxyjdX8gE0BptoEV5i3D83dJSj1Vq8KzSnJzN4gQH-QR-xuZIgeKNlyvG9KEZYKg7QyQhuwZ_aPPLdDcxpoXS2j1nVAWiu5bXR9SgW-h0LZ-8UJQ0_OuJNiz3PUe1DK88Ou0Zm6CN4s7eHN2Yoq6zvO'\n",
    "playlist_uri = 'spotify:playlist:3rD2bNoBlynvDVKG7rFgSP'"
   ],
   "metadata": {
    "collapsed": false
   }
  },
  {
   "cell_type": "code",
   "execution_count": 3,
   "outputs": [],
   "source": [
    "# API Auth\n",
    "env_vars = api_setup.parse_api_kvs(REPO_ROOT / \"api-keys\")\n",
    "auth_manager = spotipy.SpotifyClientCredentials(env_vars['client_id'], env_vars['client_secret'])\n",
    "spotify = spotipy.Spotify(client_credentials_manager=auth_manager, backoff_factor=2)"
   ],
   "metadata": {
    "collapsed": false
   }
  },
  {
   "cell_type": "code",
   "execution_count": 4,
   "outputs": [],
   "source": [
    "training_dataset = pd.read_csv(REPO_ROOT / 'data/song_data/song_dataset_with_jojos_music.csv')\n",
    "training_dataset = training_dataset.dropna()\n",
    "training_dataset, training_scalers_and_encoders = encoding.encode_training_data(training_dataset)"
   ],
   "metadata": {
    "collapsed": false
   }
  },
  {
   "cell_type": "code",
   "execution_count": 5,
   "outputs": [
    {
     "ename": "JSONDecodeError",
     "evalue": "Expecting value: line 1 column 1 (char 0)",
     "output_type": "error",
     "traceback": [
      "\u001B[1;31m---------------------------------------------------------------------------\u001B[0m",
      "\u001B[1;31mJSONDecodeError\u001B[0m                           Traceback (most recent call last)",
      "Cell \u001B[1;32mIn [5], line 2\u001B[0m\n\u001B[0;32m      1\u001B[0m sample_args \u001B[38;5;241m=\u001B[39m [spotify, env_vars[\u001B[38;5;124m'\u001B[39m\u001B[38;5;124mclient_id\u001B[39m\u001B[38;5;124m'\u001B[39m], env_vars[\u001B[38;5;124m'\u001B[39m\u001B[38;5;124mclient_secret\u001B[39m\u001B[38;5;124m'\u001B[39m], playlist_uri, training_scalers_and_encoders]\n\u001B[1;32m----> 2\u001B[0m playlist_feature_vector \u001B[38;5;241m=\u001B[39m \u001B[38;5;28;01mawait\u001B[39;00m(featurizing\u001B[38;5;241m.\u001B[39mget_playlist_vector_from_uri(\u001B[38;5;241m*\u001B[39msample_args))\n",
      "File \u001B[1;32m~\\PycharmProjects\\recommender-project\\model_training\\featurizing.py:172\u001B[0m, in \u001B[0;36mget_playlist_vector_from_uri\u001B[1;34m(spotify_client, client_id, client_secret, playlist_uri, scalers_and_encoders)\u001B[0m\n\u001B[0;32m    170\u001B[0m \u001B[38;5;28;01masync\u001B[39;00m \u001B[38;5;28;01mdef\u001B[39;00m \u001B[38;5;21mget_playlist_vector_from_uri\u001B[39m(spotify_client: spotipy\u001B[38;5;241m.\u001B[39mSpotify, client_id: \u001B[38;5;28mstr\u001B[39m, client_secret: \u001B[38;5;28mstr\u001B[39m,\n\u001B[0;32m    171\u001B[0m                                        playlist_uri: \u001B[38;5;28mstr\u001B[39m, scalers_and_encoders: Optional[\u001B[38;5;28mdict\u001B[39m] \u001B[38;5;241m=\u001B[39m \u001B[38;5;28;01mNone\u001B[39;00m) \u001B[38;5;241m-\u001B[39m\u001B[38;5;241m>\u001B[39m pd\u001B[38;5;241m.\u001B[39mDataFrame:\n\u001B[1;32m--> 172\u001B[0m     playlist_features \u001B[38;5;241m=\u001B[39m \u001B[38;5;28;01mawait\u001B[39;00m dataframe_from_playlist(spotify_client, client_id, client_secret, playlist_uri)\n\u001B[0;32m    173\u001B[0m     \u001B[38;5;28;01mif\u001B[39;00m \u001B[38;5;129;01mnot\u001B[39;00m scalers_and_encoders:\n\u001B[0;32m    174\u001B[0m         scalers_and_encoders \u001B[38;5;241m=\u001B[39m encoding\u001B[38;5;241m.\u001B[39mfit_scalers_and_encoders(playlist_features)\n",
      "File \u001B[1;32m~\\PycharmProjects\\recommender-project\\model_training\\featurizing.py:154\u001B[0m, in \u001B[0;36mdataframe_from_playlist\u001B[1;34m(spotify_client, client_id, client_secret, playlist_uri)\u001B[0m\n\u001B[0;32m    152\u001B[0m \u001B[38;5;28;01masync\u001B[39;00m \u001B[38;5;28;01mwith\u001B[39;00m ClientSession(headers\u001B[38;5;241m=\u001B[39mget_header_with_token(client_id, client_secret)) \u001B[38;5;28;01mas\u001B[39;00m session:\n\u001B[0;32m    153\u001B[0m     tasks \u001B[38;5;241m=\u001B[39m [asyncio\u001B[38;5;241m.\u001B[39mensure_future(get_artist_from_track_uri(session, uri)) \u001B[38;5;28;01mfor\u001B[39;00m uri \u001B[38;5;129;01min\u001B[39;00m playlist_song_uris]\n\u001B[1;32m--> 154\u001B[0m     artist_info \u001B[38;5;241m=\u001B[39m \u001B[38;5;28;01mawait\u001B[39;00m(asyncio\u001B[38;5;241m.\u001B[39mgather(\u001B[38;5;241m*\u001B[39mtasks))\n\u001B[0;32m    156\u001B[0m \u001B[38;5;66;03m# Create the dataframe we expect >:(\u001B[39;00m\n\u001B[0;32m    157\u001B[0m song_features_df \u001B[38;5;241m=\u001B[39m pd\u001B[38;5;241m.\u001B[39mDataFrame\u001B[38;5;241m.\u001B[39mfrom_records(playlist_song_features)\n",
      "File \u001B[1;32m~\\PycharmProjects\\recommender-project\\model_training\\featurizing.py:107\u001B[0m, in \u001B[0;36mget_artist_from_track_uri\u001B[1;34m(session, track_uri)\u001B[0m\n\u001B[0;32m    105\u001B[0m \u001B[38;5;28;01masync\u001B[39;00m \u001B[38;5;28;01mwith\u001B[39;00m session\u001B[38;5;241m.\u001B[39mget(endpoint) \u001B[38;5;28;01mas\u001B[39;00m response:\n\u001B[0;32m    106\u001B[0m     \u001B[38;5;28;01mtry\u001B[39;00m:\n\u001B[1;32m--> 107\u001B[0m         response_json \u001B[38;5;241m=\u001B[39m \u001B[38;5;28;01mawait\u001B[39;00m(response\u001B[38;5;241m.\u001B[39mjson(content_type\u001B[38;5;241m=\u001B[39m\u001B[38;5;28;01mNone\u001B[39;00m))\n\u001B[0;32m    108\u001B[0m         track_name \u001B[38;5;241m=\u001B[39m response_json[\u001B[38;5;124m'\u001B[39m\u001B[38;5;124mname\u001B[39m\u001B[38;5;124m'\u001B[39m]\n\u001B[0;32m    109\u001B[0m         artist_uri \u001B[38;5;241m=\u001B[39m response_json[\u001B[38;5;124m'\u001B[39m\u001B[38;5;124martists\u001B[39m\u001B[38;5;124m'\u001B[39m][\u001B[38;5;241m0\u001B[39m][\u001B[38;5;124m'\u001B[39m\u001B[38;5;124muri\u001B[39m\u001B[38;5;124m'\u001B[39m]\n",
      "File \u001B[1;32m~\\PycharmProjects\\recommender-project\\venv\\lib\\site-packages\\aiohttp\\client_reqrep.py:1120\u001B[0m, in \u001B[0;36mClientResponse.json\u001B[1;34m(self, encoding, loads, content_type)\u001B[0m\n\u001B[0;32m   1117\u001B[0m \u001B[38;5;28;01mif\u001B[39;00m encoding \u001B[38;5;129;01mis\u001B[39;00m \u001B[38;5;28;01mNone\u001B[39;00m:\n\u001B[0;32m   1118\u001B[0m     encoding \u001B[38;5;241m=\u001B[39m \u001B[38;5;28mself\u001B[39m\u001B[38;5;241m.\u001B[39mget_encoding()\n\u001B[1;32m-> 1120\u001B[0m \u001B[38;5;28;01mreturn\u001B[39;00m \u001B[43mloads\u001B[49m\u001B[43m(\u001B[49m\u001B[43mstripped\u001B[49m\u001B[38;5;241;43m.\u001B[39;49m\u001B[43mdecode\u001B[49m\u001B[43m(\u001B[49m\u001B[43mencoding\u001B[49m\u001B[43m)\u001B[49m\u001B[43m)\u001B[49m\n",
      "File \u001B[1;32m~\\AppData\\Local\\Programs\\Python\\Python38\\lib\\json\\__init__.py:357\u001B[0m, in \u001B[0;36mloads\u001B[1;34m(s, cls, object_hook, parse_float, parse_int, parse_constant, object_pairs_hook, **kw)\u001B[0m\n\u001B[0;32m    352\u001B[0m     \u001B[38;5;28;01mdel\u001B[39;00m kw[\u001B[38;5;124m'\u001B[39m\u001B[38;5;124mencoding\u001B[39m\u001B[38;5;124m'\u001B[39m]\n\u001B[0;32m    354\u001B[0m \u001B[38;5;28;01mif\u001B[39;00m (\u001B[38;5;28mcls\u001B[39m \u001B[38;5;129;01mis\u001B[39;00m \u001B[38;5;28;01mNone\u001B[39;00m \u001B[38;5;129;01mand\u001B[39;00m object_hook \u001B[38;5;129;01mis\u001B[39;00m \u001B[38;5;28;01mNone\u001B[39;00m \u001B[38;5;129;01mand\u001B[39;00m\n\u001B[0;32m    355\u001B[0m         parse_int \u001B[38;5;129;01mis\u001B[39;00m \u001B[38;5;28;01mNone\u001B[39;00m \u001B[38;5;129;01mand\u001B[39;00m parse_float \u001B[38;5;129;01mis\u001B[39;00m \u001B[38;5;28;01mNone\u001B[39;00m \u001B[38;5;129;01mand\u001B[39;00m\n\u001B[0;32m    356\u001B[0m         parse_constant \u001B[38;5;129;01mis\u001B[39;00m \u001B[38;5;28;01mNone\u001B[39;00m \u001B[38;5;129;01mand\u001B[39;00m object_pairs_hook \u001B[38;5;129;01mis\u001B[39;00m \u001B[38;5;28;01mNone\u001B[39;00m \u001B[38;5;129;01mand\u001B[39;00m \u001B[38;5;129;01mnot\u001B[39;00m kw):\n\u001B[1;32m--> 357\u001B[0m     \u001B[38;5;28;01mreturn\u001B[39;00m \u001B[43m_default_decoder\u001B[49m\u001B[38;5;241;43m.\u001B[39;49m\u001B[43mdecode\u001B[49m\u001B[43m(\u001B[49m\u001B[43ms\u001B[49m\u001B[43m)\u001B[49m\n\u001B[0;32m    358\u001B[0m \u001B[38;5;28;01mif\u001B[39;00m \u001B[38;5;28mcls\u001B[39m \u001B[38;5;129;01mis\u001B[39;00m \u001B[38;5;28;01mNone\u001B[39;00m:\n\u001B[0;32m    359\u001B[0m     \u001B[38;5;28mcls\u001B[39m \u001B[38;5;241m=\u001B[39m JSONDecoder\n",
      "File \u001B[1;32m~\\AppData\\Local\\Programs\\Python\\Python38\\lib\\json\\decoder.py:337\u001B[0m, in \u001B[0;36mJSONDecoder.decode\u001B[1;34m(self, s, _w)\u001B[0m\n\u001B[0;32m    332\u001B[0m \u001B[38;5;28;01mdef\u001B[39;00m \u001B[38;5;21mdecode\u001B[39m(\u001B[38;5;28mself\u001B[39m, s, _w\u001B[38;5;241m=\u001B[39mWHITESPACE\u001B[38;5;241m.\u001B[39mmatch):\n\u001B[0;32m    333\u001B[0m     \u001B[38;5;124;03m\"\"\"Return the Python representation of ``s`` (a ``str`` instance\u001B[39;00m\n\u001B[0;32m    334\u001B[0m \u001B[38;5;124;03m    containing a JSON document).\u001B[39;00m\n\u001B[0;32m    335\u001B[0m \n\u001B[0;32m    336\u001B[0m \u001B[38;5;124;03m    \"\"\"\u001B[39;00m\n\u001B[1;32m--> 337\u001B[0m     obj, end \u001B[38;5;241m=\u001B[39m \u001B[38;5;28;43mself\u001B[39;49m\u001B[38;5;241;43m.\u001B[39;49m\u001B[43mraw_decode\u001B[49m\u001B[43m(\u001B[49m\u001B[43ms\u001B[49m\u001B[43m,\u001B[49m\u001B[43m \u001B[49m\u001B[43midx\u001B[49m\u001B[38;5;241;43m=\u001B[39;49m\u001B[43m_w\u001B[49m\u001B[43m(\u001B[49m\u001B[43ms\u001B[49m\u001B[43m,\u001B[49m\u001B[43m \u001B[49m\u001B[38;5;241;43m0\u001B[39;49m\u001B[43m)\u001B[49m\u001B[38;5;241;43m.\u001B[39;49m\u001B[43mend\u001B[49m\u001B[43m(\u001B[49m\u001B[43m)\u001B[49m\u001B[43m)\u001B[49m\n\u001B[0;32m    338\u001B[0m     end \u001B[38;5;241m=\u001B[39m _w(s, end)\u001B[38;5;241m.\u001B[39mend()\n\u001B[0;32m    339\u001B[0m     \u001B[38;5;28;01mif\u001B[39;00m end \u001B[38;5;241m!=\u001B[39m \u001B[38;5;28mlen\u001B[39m(s):\n",
      "File \u001B[1;32m~\\AppData\\Local\\Programs\\Python\\Python38\\lib\\json\\decoder.py:355\u001B[0m, in \u001B[0;36mJSONDecoder.raw_decode\u001B[1;34m(self, s, idx)\u001B[0m\n\u001B[0;32m    353\u001B[0m     obj, end \u001B[38;5;241m=\u001B[39m \u001B[38;5;28mself\u001B[39m\u001B[38;5;241m.\u001B[39mscan_once(s, idx)\n\u001B[0;32m    354\u001B[0m \u001B[38;5;28;01mexcept\u001B[39;00m \u001B[38;5;167;01mStopIteration\u001B[39;00m \u001B[38;5;28;01mas\u001B[39;00m err:\n\u001B[1;32m--> 355\u001B[0m     \u001B[38;5;28;01mraise\u001B[39;00m JSONDecodeError(\u001B[38;5;124m\"\u001B[39m\u001B[38;5;124mExpecting value\u001B[39m\u001B[38;5;124m\"\u001B[39m, s, err\u001B[38;5;241m.\u001B[39mvalue) \u001B[38;5;28;01mfrom\u001B[39;00m \u001B[38;5;28mNone\u001B[39m\n\u001B[0;32m    356\u001B[0m \u001B[38;5;28;01mreturn\u001B[39;00m obj, end\n",
      "\u001B[1;31mJSONDecodeError\u001B[0m: Expecting value: line 1 column 1 (char 0)"
     ]
    }
   ],
   "source": [
    "sample_args = [spotify, env_vars['client_id'], env_vars['client_secret'], playlist_uri, training_scalers_and_encoders]\n",
    "playlist_feature_vector = await(featurizing.get_playlist_vector_from_uri(*sample_args))"
   ],
   "metadata": {
    "collapsed": false
   }
  },
  {
   "cell_type": "code",
   "execution_count": null,
   "outputs": [],
   "source": [
    "playlist_feature_vector"
   ],
   "metadata": {
    "collapsed": false
   }
  },
  {
   "cell_type": "code",
   "execution_count": null,
   "outputs": [],
   "source": [
    "training_dataset"
   ],
   "metadata": {
    "collapsed": false
   }
  },
  {
   "cell_type": "code",
   "execution_count": null,
   "outputs": [],
   "source": [
    "given_auth_args = featurizing.auth_args()\n",
    "playlist_feature_vector = await featurizing.get_playlist_vector_from_uri(*given_auth_args, playlist_uri, training_scalers_and_encoders)"
   ],
   "metadata": {
    "collapsed": false
   }
  },
  {
   "cell_type": "code",
   "execution_count": null,
   "outputs": [],
   "source": [
    "playlist_feature_vector"
   ],
   "metadata": {
    "collapsed": false
   }
  },
  {
   "cell_type": "code",
   "execution_count": null,
   "outputs": [],
   "source": [
    "top_fifteen = await recommending.get_k_closest_songs(\"spotify:playlist:4BXcK5svYftLAgEX0JQEQc\", training_dataset, training_scalers_and_encoders, k=25)"
   ],
   "metadata": {
    "collapsed": false
   }
  },
  {
   "cell_type": "code",
   "execution_count": null,
   "outputs": [],
   "source": [
    "top_fifteen"
   ],
   "metadata": {
    "collapsed": false
   }
  },
  {
   "cell_type": "code",
   "execution_count": null,
   "outputs": [],
   "source": [
    "token = 'BQBrBeXVR_fT5lJlCNXWWWZZTR5bmVdOJ_X8JeXLlbYrhbI_r5siVObB6V8DjDJu9_vpO4zz2j8_WJ8_fUYlsyZ5YG_QbogtcZCljup1TjK7DLw4broG0HvQJvq00rsTYZ8ptPpi3V9dX43354PhxRteYHCPna3cR5AfIA2ZTqhx6D3ezH4zmV9dGv1BajVA70ygnoeZdFb6zrnnVAeaLz8GCe58bBgldoEJyoAEGrpA90QpK2w1zWdmxxo0s_fl'\n",
    "await playlist_creation.create_playlist(token, \"make out 2\", top_fifteen)"
   ],
   "metadata": {
    "collapsed": false
   }
  }
 ],
 "metadata": {
  "kernelspec": {
   "display_name": "Python 3",
   "language": "python",
   "name": "python3"
  },
  "language_info": {
   "codemirror_mode": {
    "name": "ipython",
    "version": 2
   },
   "file_extension": ".py",
   "mimetype": "text/x-python",
   "name": "python",
   "nbconvert_exporter": "python",
   "pygments_lexer": "ipython2",
   "version": "2.7.6"
  }
 },
 "nbformat": 4,
 "nbformat_minor": 0
}
