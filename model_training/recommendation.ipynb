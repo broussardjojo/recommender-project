{
 "cells": [
  {
   "cell_type": "code",
   "execution_count": 34,
   "metadata": {
    "collapsed": true
   },
   "outputs": [],
   "source": [
    "import featurizing\n",
    "import encoding\n",
    "import recommending\n",
    "import playlist_creation\n",
    "\n",
    "import pathlib\n",
    "import spotipy\n",
    "import api_setup\n",
    "import pandas as pd\n",
    "\n",
    "\n",
    "REPO_ROOT = pathlib.Path.cwd().parent"
   ]
  },
  {
   "cell_type": "code",
   "execution_count": 35,
   "outputs": [],
   "source": [
    "# API Auth\n",
    "env_vars = api_setup.parse_api_kvs(REPO_ROOT / \"api-keys\")\n",
    "auth_manager = spotipy.SpotifyClientCredentials(env_vars['client_id'], env_vars['client_secret'])\n",
    "spotify = spotipy.Spotify(client_credentials_manager=auth_manager, backoff_factor=2)"
   ],
   "metadata": {
    "collapsed": false
   }
  },
  {
   "cell_type": "code",
   "execution_count": 36,
   "outputs": [],
   "source": [
    "training_dataset = pd.read_csv(REPO_ROOT / 'data/song_data/song_dataset_with_jojos_music.csv')\n",
    "training_dataset = training_dataset.dropna()\n",
    "training_dataset, training_scalers_and_encoders = encoding.encode_training_data(training_dataset)"
   ],
   "metadata": {
    "collapsed": false
   }
  },
  {
   "cell_type": "code",
   "execution_count": 37,
   "outputs": [],
   "source": [
    "sample_args = [spotify, env_vars['client_id'], env_vars['client_secret'], \"spotify:playlist:76S2ElS2cyzY624wGBGKpB\", training_scalers_and_encoders]\n",
    "playlist_feature_vector = await(featurizing.get_playlist_vector_from_uri(*sample_args))"
   ],
   "metadata": {
    "collapsed": false
   }
  },
  {
   "cell_type": "code",
   "execution_count": 38,
   "outputs": [
    {
     "data": {
      "text/plain": "duration_ms           0.353627\ndanceability          5.545181\nenergy                5.050000\nloudness              6.910996\nspeechiness           1.348497\nacousticness          4.442068\ninstrumentalness      1.377029\nliveness              1.580600\nvalence               3.794800\ntempo                 4.863331\nartist_popularity     4.820000\nkey_0.0               2.000000\nkey_1.0               1.000000\nkey_2.0               0.000000\nkey_3.0               0.000000\nkey_4.0               0.000000\nkey_5.0               1.000000\nkey_6.0               1.000000\nkey_7.0               1.000000\nkey_8.0               0.000000\nkey_9.0               1.000000\nkey_10.0              1.000000\nkey_11.0              1.000000\nmode_0.0              6.000000\nmode_1.0              3.000000\ntime_signature_0.0    0.000000\ntime_signature_1.0    0.000000\ntime_signature_3.0    1.000000\ntime_signature_4.0    8.000000\ntime_signature_5.0    0.000000\ndtype: float64"
     },
     "execution_count": 38,
     "metadata": {},
     "output_type": "execute_result"
    }
   ],
   "source": [
    "playlist_feature_vector"
   ],
   "metadata": {
    "collapsed": false
   }
  },
  {
   "cell_type": "code",
   "execution_count": 39,
   "outputs": [
    {
     "data": {
      "text/plain": "                              artist_name  \\\ntrack_id                                    \n5SuOikwiRyPMVoIQDJUgSV        Gen Hoshino   \n4qPNDBW1i3p13qLCt0Ki3A       Ben Woodward   \n1iJBSr7s7jYXzM8EGcbK5b  Ingrid Michaelson   \n6lfxq3CG4xtTiEg7opyCyx       Kina Grannis   \n5vjLSffimiIP26QG5WcN2K   Chord Overstreet   \n...                                   ...   \n2ftuoAGu9MXl07iHdhx1Ce            Knowsum   \n6u7WoLDmBz5apGzhOMXI1A            DIAL UP   \n2e7Aud4N56k3UrhiUrgWPC  Basslovers United   \n5DjNHQmn16Wxh2TjTphmkq       Lo-Fi Tigers   \n0nKpHGrnuejevp6openGaF         Rich Brian   \n\n                                                    track_name  duration_ms  \\\ntrack_id                                                                      \n5SuOikwiRyPMVoIQDJUgSV                                  Comedy     0.040604   \n4qPNDBW1i3p13qLCt0Ki3A                        Ghost - Acoustic     0.026148   \n1iJBSr7s7jYXzM8EGcbK5b                          To Begin Again     0.037065   \n6lfxq3CG4xtTiEg7opyCyx              Can't Help Falling In Love     0.035479   \n5vjLSffimiIP26QG5WcN2K                                 Hold On     0.034930   \n...                                                        ...          ...   \n2ftuoAGu9MXl07iHdhx1Ce                              Inner View     0.022955   \n6u7WoLDmBz5apGzhOMXI1A                                  Dipset     0.031010   \n2e7Aud4N56k3UrhiUrgWPC  Undeniable - Scoon & Delore Radio Edit     0.043385   \n5DjNHQmn16Wxh2TjTphmkq                      Your Eyes My Ocean     0.029962   \n0nKpHGrnuejevp6openGaF                                    Cold     0.040205   \n\n                        danceability  energy  loudness  speechiness  \\\ntrack_id                                                              \n5SuOikwiRyPMVoIQDJUgSV      0.678715  0.4610  0.824174     0.148187   \n4qPNDBW1i3p13qLCt0Ki3A      0.421687  0.1660  0.661843     0.079067   \n1iJBSr7s7jYXzM8EGcbK5b      0.439759  0.3590  0.777931     0.057720   \n6lfxq3CG4xtTiEg7opyCyx      0.267068  0.0596  0.642034     0.037617   \n5vjLSffimiIP26QG5WcN2K      0.620482  0.4430  0.778751     0.054508   \n...                              ...     ...       ...          ...   \n2ftuoAGu9MXl07iHdhx1Ce      0.684739  0.4240  0.752720     0.074611   \n6u7WoLDmBz5apGzhOMXI1A      0.837349  0.4820  0.815554     0.317098   \n2e7Aud4N56k3UrhiUrgWPC      0.562249  0.9370  0.842560     0.092332   \n5DjNHQmn16Wxh2TjTphmkq      0.609438  0.5670  0.716614     0.028083   \n0nKpHGrnuejevp6openGaF      0.650602  0.7340  0.831247     0.308808   \n\n                        acousticness  instrumentalness  liveness  ...  \\\ntrack_id                                                          ...   \n5SuOikwiRyPMVoIQDJUgSV      0.032329          0.000001    0.3580  ...   \n4qPNDBW1i3p13qLCt0Ki3A      0.927711          0.000006    0.1010  ...   \n1iJBSr7s7jYXzM8EGcbK5b      0.210843          0.000000    0.1170  ...   \n6lfxq3CG4xtTiEg7opyCyx      0.908635          0.000071    0.1320  ...   \n5vjLSffimiIP26QG5WcN2K      0.470884          0.000000    0.0829  ...   \n...                              ...               ...       ...  ...   \n2ftuoAGu9MXl07iHdhx1Ce      0.627510          0.143000    0.2370  ...   \n6u7WoLDmBz5apGzhOMXI1A      0.052410          0.004070    0.0886  ...   \n2e7Aud4N56k3UrhiUrgWPC      0.008062          0.000098    0.4350  ...   \n5DjNHQmn16Wxh2TjTphmkq      0.008434          0.859000    0.6940  ...   \n0nKpHGrnuejevp6openGaF      0.369478          0.000000    0.0938  ...   \n\n                        key_9.0  key_10.0 key_11.0  mode_0.0  mode_1.0  \\\ntrack_id                                                                 \n5SuOikwiRyPMVoIQDJUgSV      0.0       0.0      0.0       1.0       0.0   \n4qPNDBW1i3p13qLCt0Ki3A      0.0       0.0      0.0       0.0       1.0   \n1iJBSr7s7jYXzM8EGcbK5b      0.0       0.0      0.0       0.0       1.0   \n6lfxq3CG4xtTiEg7opyCyx      0.0       0.0      0.0       0.0       1.0   \n5vjLSffimiIP26QG5WcN2K      0.0       0.0      0.0       0.0       1.0   \n...                         ...       ...      ...       ...       ...   \n2ftuoAGu9MXl07iHdhx1Ce      0.0       0.0      0.0       0.0       1.0   \n6u7WoLDmBz5apGzhOMXI1A      0.0       0.0      0.0       0.0       1.0   \n2e7Aud4N56k3UrhiUrgWPC      0.0       0.0      0.0       1.0       0.0   \n5DjNHQmn16Wxh2TjTphmkq      0.0       1.0      0.0       1.0       0.0   \n0nKpHGrnuejevp6openGaF      0.0       0.0      0.0       0.0       1.0   \n\n                        time_signature_0.0  time_signature_1.0  \\\ntrack_id                                                         \n5SuOikwiRyPMVoIQDJUgSV                 0.0                 0.0   \n4qPNDBW1i3p13qLCt0Ki3A                 0.0                 0.0   \n1iJBSr7s7jYXzM8EGcbK5b                 0.0                 0.0   \n6lfxq3CG4xtTiEg7opyCyx                 0.0                 0.0   \n5vjLSffimiIP26QG5WcN2K                 0.0                 0.0   \n...                                    ...                 ...   \n2ftuoAGu9MXl07iHdhx1Ce                 0.0                 0.0   \n6u7WoLDmBz5apGzhOMXI1A                 0.0                 0.0   \n2e7Aud4N56k3UrhiUrgWPC                 0.0                 0.0   \n5DjNHQmn16Wxh2TjTphmkq                 0.0                 0.0   \n0nKpHGrnuejevp6openGaF                 0.0                 0.0   \n\n                        time_signature_3.0  time_signature_4.0  \\\ntrack_id                                                         \n5SuOikwiRyPMVoIQDJUgSV                 0.0                 1.0   \n4qPNDBW1i3p13qLCt0Ki3A                 0.0                 1.0   \n1iJBSr7s7jYXzM8EGcbK5b                 0.0                 1.0   \n6lfxq3CG4xtTiEg7opyCyx                 1.0                 0.0   \n5vjLSffimiIP26QG5WcN2K                 0.0                 1.0   \n...                                    ...                 ...   \n2ftuoAGu9MXl07iHdhx1Ce                 0.0                 1.0   \n6u7WoLDmBz5apGzhOMXI1A                 0.0                 1.0   \n2e7Aud4N56k3UrhiUrgWPC                 0.0                 1.0   \n5DjNHQmn16Wxh2TjTphmkq                 0.0                 1.0   \n0nKpHGrnuejevp6openGaF                 0.0                 1.0   \n\n                        time_signature_5.0  \ntrack_id                                    \n5SuOikwiRyPMVoIQDJUgSV                 0.0  \n4qPNDBW1i3p13qLCt0Ki3A                 0.0  \n1iJBSr7s7jYXzM8EGcbK5b                 0.0  \n6lfxq3CG4xtTiEg7opyCyx                 0.0  \n5vjLSffimiIP26QG5WcN2K                 0.0  \n...                                    ...  \n2ftuoAGu9MXl07iHdhx1Ce                 0.0  \n6u7WoLDmBz5apGzhOMXI1A                 0.0  \n2e7Aud4N56k3UrhiUrgWPC                 0.0  \n5DjNHQmn16Wxh2TjTphmkq                 0.0  \n0nKpHGrnuejevp6openGaF                 0.0  \n\n[228629 rows x 33 columns]",
      "text/html": "<div>\n<style scoped>\n    .dataframe tbody tr th:only-of-type {\n        vertical-align: middle;\n    }\n\n    .dataframe tbody tr th {\n        vertical-align: top;\n    }\n\n    .dataframe thead th {\n        text-align: right;\n    }\n</style>\n<table border=\"1\" class=\"dataframe\">\n  <thead>\n    <tr style=\"text-align: right;\">\n      <th></th>\n      <th>artist_name</th>\n      <th>track_name</th>\n      <th>duration_ms</th>\n      <th>danceability</th>\n      <th>energy</th>\n      <th>loudness</th>\n      <th>speechiness</th>\n      <th>acousticness</th>\n      <th>instrumentalness</th>\n      <th>liveness</th>\n      <th>...</th>\n      <th>key_9.0</th>\n      <th>key_10.0</th>\n      <th>key_11.0</th>\n      <th>mode_0.0</th>\n      <th>mode_1.0</th>\n      <th>time_signature_0.0</th>\n      <th>time_signature_1.0</th>\n      <th>time_signature_3.0</th>\n      <th>time_signature_4.0</th>\n      <th>time_signature_5.0</th>\n    </tr>\n    <tr>\n      <th>track_id</th>\n      <th></th>\n      <th></th>\n      <th></th>\n      <th></th>\n      <th></th>\n      <th></th>\n      <th></th>\n      <th></th>\n      <th></th>\n      <th></th>\n      <th></th>\n      <th></th>\n      <th></th>\n      <th></th>\n      <th></th>\n      <th></th>\n      <th></th>\n      <th></th>\n      <th></th>\n      <th></th>\n      <th></th>\n    </tr>\n  </thead>\n  <tbody>\n    <tr>\n      <th>5SuOikwiRyPMVoIQDJUgSV</th>\n      <td>Gen Hoshino</td>\n      <td>Comedy</td>\n      <td>0.040604</td>\n      <td>0.678715</td>\n      <td>0.4610</td>\n      <td>0.824174</td>\n      <td>0.148187</td>\n      <td>0.032329</td>\n      <td>0.000001</td>\n      <td>0.3580</td>\n      <td>...</td>\n      <td>0.0</td>\n      <td>0.0</td>\n      <td>0.0</td>\n      <td>1.0</td>\n      <td>0.0</td>\n      <td>0.0</td>\n      <td>0.0</td>\n      <td>0.0</td>\n      <td>1.0</td>\n      <td>0.0</td>\n    </tr>\n    <tr>\n      <th>4qPNDBW1i3p13qLCt0Ki3A</th>\n      <td>Ben Woodward</td>\n      <td>Ghost - Acoustic</td>\n      <td>0.026148</td>\n      <td>0.421687</td>\n      <td>0.1660</td>\n      <td>0.661843</td>\n      <td>0.079067</td>\n      <td>0.927711</td>\n      <td>0.000006</td>\n      <td>0.1010</td>\n      <td>...</td>\n      <td>0.0</td>\n      <td>0.0</td>\n      <td>0.0</td>\n      <td>0.0</td>\n      <td>1.0</td>\n      <td>0.0</td>\n      <td>0.0</td>\n      <td>0.0</td>\n      <td>1.0</td>\n      <td>0.0</td>\n    </tr>\n    <tr>\n      <th>1iJBSr7s7jYXzM8EGcbK5b</th>\n      <td>Ingrid Michaelson</td>\n      <td>To Begin Again</td>\n      <td>0.037065</td>\n      <td>0.439759</td>\n      <td>0.3590</td>\n      <td>0.777931</td>\n      <td>0.057720</td>\n      <td>0.210843</td>\n      <td>0.000000</td>\n      <td>0.1170</td>\n      <td>...</td>\n      <td>0.0</td>\n      <td>0.0</td>\n      <td>0.0</td>\n      <td>0.0</td>\n      <td>1.0</td>\n      <td>0.0</td>\n      <td>0.0</td>\n      <td>0.0</td>\n      <td>1.0</td>\n      <td>0.0</td>\n    </tr>\n    <tr>\n      <th>6lfxq3CG4xtTiEg7opyCyx</th>\n      <td>Kina Grannis</td>\n      <td>Can't Help Falling In Love</td>\n      <td>0.035479</td>\n      <td>0.267068</td>\n      <td>0.0596</td>\n      <td>0.642034</td>\n      <td>0.037617</td>\n      <td>0.908635</td>\n      <td>0.000071</td>\n      <td>0.1320</td>\n      <td>...</td>\n      <td>0.0</td>\n      <td>0.0</td>\n      <td>0.0</td>\n      <td>0.0</td>\n      <td>1.0</td>\n      <td>0.0</td>\n      <td>0.0</td>\n      <td>1.0</td>\n      <td>0.0</td>\n      <td>0.0</td>\n    </tr>\n    <tr>\n      <th>5vjLSffimiIP26QG5WcN2K</th>\n      <td>Chord Overstreet</td>\n      <td>Hold On</td>\n      <td>0.034930</td>\n      <td>0.620482</td>\n      <td>0.4430</td>\n      <td>0.778751</td>\n      <td>0.054508</td>\n      <td>0.470884</td>\n      <td>0.000000</td>\n      <td>0.0829</td>\n      <td>...</td>\n      <td>0.0</td>\n      <td>0.0</td>\n      <td>0.0</td>\n      <td>0.0</td>\n      <td>1.0</td>\n      <td>0.0</td>\n      <td>0.0</td>\n      <td>0.0</td>\n      <td>1.0</td>\n      <td>0.0</td>\n    </tr>\n    <tr>\n      <th>...</th>\n      <td>...</td>\n      <td>...</td>\n      <td>...</td>\n      <td>...</td>\n      <td>...</td>\n      <td>...</td>\n      <td>...</td>\n      <td>...</td>\n      <td>...</td>\n      <td>...</td>\n      <td>...</td>\n      <td>...</td>\n      <td>...</td>\n      <td>...</td>\n      <td>...</td>\n      <td>...</td>\n      <td>...</td>\n      <td>...</td>\n      <td>...</td>\n      <td>...</td>\n      <td>...</td>\n    </tr>\n    <tr>\n      <th>2ftuoAGu9MXl07iHdhx1Ce</th>\n      <td>Knowsum</td>\n      <td>Inner View</td>\n      <td>0.022955</td>\n      <td>0.684739</td>\n      <td>0.4240</td>\n      <td>0.752720</td>\n      <td>0.074611</td>\n      <td>0.627510</td>\n      <td>0.143000</td>\n      <td>0.2370</td>\n      <td>...</td>\n      <td>0.0</td>\n      <td>0.0</td>\n      <td>0.0</td>\n      <td>0.0</td>\n      <td>1.0</td>\n      <td>0.0</td>\n      <td>0.0</td>\n      <td>0.0</td>\n      <td>1.0</td>\n      <td>0.0</td>\n    </tr>\n    <tr>\n      <th>6u7WoLDmBz5apGzhOMXI1A</th>\n      <td>DIAL UP</td>\n      <td>Dipset</td>\n      <td>0.031010</td>\n      <td>0.837349</td>\n      <td>0.4820</td>\n      <td>0.815554</td>\n      <td>0.317098</td>\n      <td>0.052410</td>\n      <td>0.004070</td>\n      <td>0.0886</td>\n      <td>...</td>\n      <td>0.0</td>\n      <td>0.0</td>\n      <td>0.0</td>\n      <td>0.0</td>\n      <td>1.0</td>\n      <td>0.0</td>\n      <td>0.0</td>\n      <td>0.0</td>\n      <td>1.0</td>\n      <td>0.0</td>\n    </tr>\n    <tr>\n      <th>2e7Aud4N56k3UrhiUrgWPC</th>\n      <td>Basslovers United</td>\n      <td>Undeniable - Scoon &amp; Delore Radio Edit</td>\n      <td>0.043385</td>\n      <td>0.562249</td>\n      <td>0.9370</td>\n      <td>0.842560</td>\n      <td>0.092332</td>\n      <td>0.008062</td>\n      <td>0.000098</td>\n      <td>0.4350</td>\n      <td>...</td>\n      <td>0.0</td>\n      <td>0.0</td>\n      <td>0.0</td>\n      <td>1.0</td>\n      <td>0.0</td>\n      <td>0.0</td>\n      <td>0.0</td>\n      <td>0.0</td>\n      <td>1.0</td>\n      <td>0.0</td>\n    </tr>\n    <tr>\n      <th>5DjNHQmn16Wxh2TjTphmkq</th>\n      <td>Lo-Fi Tigers</td>\n      <td>Your Eyes My Ocean</td>\n      <td>0.029962</td>\n      <td>0.609438</td>\n      <td>0.5670</td>\n      <td>0.716614</td>\n      <td>0.028083</td>\n      <td>0.008434</td>\n      <td>0.859000</td>\n      <td>0.6940</td>\n      <td>...</td>\n      <td>0.0</td>\n      <td>1.0</td>\n      <td>0.0</td>\n      <td>1.0</td>\n      <td>0.0</td>\n      <td>0.0</td>\n      <td>0.0</td>\n      <td>0.0</td>\n      <td>1.0</td>\n      <td>0.0</td>\n    </tr>\n    <tr>\n      <th>0nKpHGrnuejevp6openGaF</th>\n      <td>Rich Brian</td>\n      <td>Cold</td>\n      <td>0.040205</td>\n      <td>0.650602</td>\n      <td>0.7340</td>\n      <td>0.831247</td>\n      <td>0.308808</td>\n      <td>0.369478</td>\n      <td>0.000000</td>\n      <td>0.0938</td>\n      <td>...</td>\n      <td>0.0</td>\n      <td>0.0</td>\n      <td>0.0</td>\n      <td>0.0</td>\n      <td>1.0</td>\n      <td>0.0</td>\n      <td>0.0</td>\n      <td>0.0</td>\n      <td>1.0</td>\n      <td>0.0</td>\n    </tr>\n  </tbody>\n</table>\n<p>228629 rows × 33 columns</p>\n</div>"
     },
     "execution_count": 39,
     "metadata": {},
     "output_type": "execute_result"
    }
   ],
   "source": [
    "training_dataset"
   ],
   "metadata": {
    "collapsed": false
   }
  },
  {
   "cell_type": "code",
   "execution_count": 40,
   "outputs": [],
   "source": [
    "given_auth_args = featurizing.auth_args()\n",
    "playlist_uri = 'spotify:playlist:76S2ElS2cyzY624wGBGKpB'\n",
    "playlist_feature_vector = await featurizing.get_playlist_vector_from_uri(*given_auth_args, playlist_uri, training_scalers_and_encoders)"
   ],
   "metadata": {
    "collapsed": false
   }
  },
  {
   "cell_type": "code",
   "execution_count": 41,
   "outputs": [
    {
     "data": {
      "text/plain": "duration_ms           0.353627\ndanceability          5.545181\nenergy                5.050000\nloudness              6.910996\nspeechiness           1.348497\nacousticness          4.442068\ninstrumentalness      1.377029\nliveness              1.580600\nvalence               3.794800\ntempo                 4.863331\nartist_popularity     4.820000\nkey_0.0               2.000000\nkey_1.0               1.000000\nkey_2.0               0.000000\nkey_3.0               0.000000\nkey_4.0               0.000000\nkey_5.0               1.000000\nkey_6.0               1.000000\nkey_7.0               1.000000\nkey_8.0               0.000000\nkey_9.0               1.000000\nkey_10.0              1.000000\nkey_11.0              1.000000\nmode_0.0              6.000000\nmode_1.0              3.000000\ntime_signature_0.0    0.000000\ntime_signature_1.0    0.000000\ntime_signature_3.0    1.000000\ntime_signature_4.0    8.000000\ntime_signature_5.0    0.000000\ndtype: float64"
     },
     "execution_count": 41,
     "metadata": {},
     "output_type": "execute_result"
    }
   ],
   "source": [
    "playlist_feature_vector"
   ],
   "metadata": {
    "collapsed": false
   }
  },
  {
   "cell_type": "code",
   "execution_count": 42,
   "outputs": [],
   "source": [
    "top_fifteen = await recommending.get_k_closest_songs(\"spotify:playlist:7oNev4ys74Ba93ZwXc3dQY\", training_dataset, training_scalers_and_encoders, k=25)"
   ],
   "metadata": {
    "collapsed": false
   }
  },
  {
   "cell_type": "code",
   "execution_count": 43,
   "outputs": [
    {
     "data": {
      "text/plain": "['434qhYDxNYCvwimHtlSNvF',\n '4idgNC6Y7rd2XRfzPphIBw',\n '1aKRACWeXW0kXMhCWo35ub',\n '3R1Vu4Ws7UitwDxDHTol0P',\n '0dy6iXYIF0piirySAzCBwF',\n '1TKw0SUvq5P1Ljjr194juR',\n '0fNVNiEgtRNLg9RPa16Wfg',\n '5GIG1sTCCnFXxGRaoJkXAU',\n '4RCAkvftQY4ZLgsA45YWAW',\n '6bWj1Lr2CVhwzshkp42As8',\n '6VbgcAwkJA4STDsDQxV46D',\n '43P4CvRCS6HmVERmYfM8ma',\n '0Zy0kysvpcB164gvgQ6V5A',\n '5CwAO3Q0KF0vQFUZrLcREc',\n '4T5A2ztpNEcPiGgRRvPl8l',\n '5H0ZNJqdJOQlkuEZ7HFItU',\n '5ig7Zg3ULxQam70XgvYaJp',\n '1FPJZZjcwG2IGF0UVLrmKL',\n '58w9QjI9CFlQfAs1jwgPtS',\n '03yNxsKnNBhxegMYTmZKS4',\n '5Ejv7Ul5vtFq95qiBoWqOc',\n '1kuUcD74m4Pqmu3LYjNvMo',\n '08ArKWrAcc89qD70rSFqcW',\n '6mLGPVBN2iGclVHegZww3D',\n '0sdXjMYsRKtZGwxAwuaImH']"
     },
     "execution_count": 43,
     "metadata": {},
     "output_type": "execute_result"
    }
   ],
   "source": [
    "top_fifteen"
   ],
   "metadata": {
    "collapsed": false
   }
  },
  {
   "cell_type": "code",
   "execution_count": 44,
   "outputs": [
    {
     "name": "stdout",
     "output_type": "stream",
     "text": [
      "{\n",
      "  \"collaborative\" : false,\n",
      "  \"description\" : null,\n",
      "  \"external_urls\" : {\n",
      "    \"spotify\" : \"https://open.spotify.com/playlist/5TYSwKVLZTTXiaKYzyLCA9\"\n",
      "  },\n",
      "  \"followers\" : {\n",
      "    \"href\" : null,\n",
      "    \"total\" : 0\n",
      "  },\n",
      "  \"href\" : \"https://api.spotify.com/v1/playlists/5TYSwKVLZTTXiaKYzyLCA9\",\n",
      "  \"id\" : \"5TYSwKVLZTTXiaKYzyLCA9\",\n",
      "  \"images\" : [ ],\n",
      "  \"name\" : \"The Meat World\",\n",
      "  \"owner\" : {\n",
      "    \"display_name\" : \"jojo\",\n",
      "    \"external_urls\" : {\n",
      "      \"spotify\" : \"https://open.spotify.com/user/1741pbein76gu4uhomjri2oql\"\n",
      "    },\n",
      "    \"href\" : \"https://api.spotify.com/v1/users/1741pbein76gu4uhomjri2oql\",\n",
      "    \"id\" : \"1741pbein76gu4uhomjri2oql\",\n",
      "    \"type\" : \"user\",\n",
      "    \"uri\" : \"spotify:user:1741pbein76gu4uhomjri2oql\"\n",
      "  },\n",
      "  \"primary_color\" : null,\n",
      "  \"public\" : true,\n",
      "  \"snapshot_id\" : \"MSw3ZmQ0MjEwYWYzN2JjMTUxMDJhODc0NTk0NzIwOWRhYTJlNWE2YWMy\",\n",
      "  \"tracks\" : {\n",
      "    \"href\" : \"https://api.spotify.com/v1/playlists/5TYSwKVLZTTXiaKYzyLCA9/tracks\",\n",
      "    \"items\" : [ ],\n",
      "    \"limit\" : 100,\n",
      "    \"next\" : null,\n",
      "    \"offset\" : 0,\n",
      "    \"previous\" : null,\n",
      "    \"total\" : 0\n",
      "  },\n",
      "  \"type\" : \"playlist\",\n",
      "  \"uri\" : \"spotify:playlist:5TYSwKVLZTTXiaKYzyLCA9\"\n",
      "}\n",
      "<ClientResponse(https://api.spotify.com/v1/playlists/5TYSwKVLZTTXiaKYzyLCA9/tracks) [201 Created]>\n",
      "<CIMultiDictProxy('Content-Type': 'application/json; charset=utf-8', 'Cache-Control': 'private, max-age=0', 'x-robots-tag': 'noindex, nofollow', 'Access-Control-Allow-Origin': '*', 'Access-Control-Allow-Headers': 'Accept, App-Platform, Authorization, Content-Type, Origin, Retry-After, Spotify-App-Version, X-Cloud-Trace-Context, client-token, content-access-token', 'Access-Control-Allow-Methods': 'GET, POST, OPTIONS, PUT, DELETE, PATCH', 'Access-Control-Allow-Credentials': 'true', 'Access-Control-Max-Age': '604800', 'Content-Encoding': 'gzip', 'strict-transport-security': 'max-age=31536000', 'x-content-type-options': 'nosniff', 'Date': 'Thu, 01 Dec 2022 01:26:52 GMT', 'Server': 'envoy', 'Via': 'HTTP/2 edgeproxy, 1.1 google', 'Alt-Svc': 'h3=\":443\"; ma=2592000,h3-29=\":443\"; ma=2592000', 'Transfer-Encoding': 'chunked')>\n",
      "\n"
     ]
    }
   ],
   "source": [
    "token = 'BQAYbe_VJs2sN27UwIlYE-pV-wXRgB6A1ZgzC-CZlhLzjUGLIZn10xtLfj_0LJcdshoy192Rp0I2Wg1HjP7JfdHi4LGT_Qnietl4Sc--dNl_vqSf_j4hXTzXVrT3B35wRy7Z4U9Cc0Kz6YoCfM7k_r2F-_NqcaW7zQoojQ-XARunwe-vYEPhs3cuavuRL8GDnMadoPvhtzt6QJS0PsnhD57VAnm-5GP6iN3pNkxa3Fr36JdQJQqf7tHo_5m2CrDA'\n",
    "await playlist_creation.create_playlist(token, \"The Meat World\", top_fifteen)"
   ],
   "metadata": {
    "collapsed": false
   }
  }
 ],
 "metadata": {
  "kernelspec": {
   "display_name": "Python 3",
   "language": "python",
   "name": "python3"
  },
  "language_info": {
   "codemirror_mode": {
    "name": "ipython",
    "version": 2
   },
   "file_extension": ".py",
   "mimetype": "text/x-python",
   "name": "python",
   "nbconvert_exporter": "python",
   "pygments_lexer": "ipython2",
   "version": "2.7.6"
  }
 },
 "nbformat": 4,
 "nbformat_minor": 0
}
