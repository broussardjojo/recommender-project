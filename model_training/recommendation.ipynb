{
 "cells": [
  {
   "cell_type": "code",
   "execution_count": 1,
   "metadata": {
    "collapsed": true
   },
   "outputs": [],
   "source": [
    "import featurizing\n",
    "import encoding\n",
    "import recommending\n",
    "import playlist_creation\n",
    "\n",
    "import pathlib\n",
    "import spotipy\n",
    "import api_setup\n",
    "import pandas as pd\n",
    "\n",
    "\n",
    "REPO_ROOT = pathlib.Path.cwd().parent"
   ]
  },
  {
   "cell_type": "code",
   "execution_count": 2,
   "outputs": [],
   "source": [
    "# API Auth\n",
    "env_vars = api_setup.parse_api_kvs(REPO_ROOT / \"api-keys\")\n",
    "auth_manager = spotipy.SpotifyClientCredentials(env_vars['client_id'], env_vars['client_secret'])\n",
    "spotify = spotipy.Spotify(client_credentials_manager=auth_manager, backoff_factor=2)"
   ],
   "metadata": {
    "collapsed": false
   }
  },
  {
   "cell_type": "code",
   "execution_count": 3,
   "outputs": [],
   "source": [
    "training_dataset = pd.read_csv(REPO_ROOT / 'data/song_data/song_dataset_with_jojos_music.csv')\n",
    "training_dataset = training_dataset.dropna()\n",
    "training_dataset, training_scalers_and_encoders = encoding.encode_training_data(training_dataset)"
   ],
   "metadata": {
    "collapsed": false
   }
  },
  {
   "cell_type": "code",
   "execution_count": 4,
   "outputs": [],
   "source": [
    "sample_args = [spotify, env_vars['client_id'], env_vars['client_secret'], \"spotify:playlist:76S2ElS2cyzY624wGBGKpB\", training_scalers_and_encoders]\n",
    "playlist_feature_vector = await(featurizing.get_playlist_vector_from_uri(*sample_args))"
   ],
   "metadata": {
    "collapsed": false
   }
  },
  {
   "cell_type": "code",
   "execution_count": 5,
   "outputs": [
    {
     "data": {
      "text/plain": "duration_ms           0.353627\ndanceability          5.545181\nenergy                5.050000\nloudness              6.910996\nspeechiness           1.348497\nacousticness          4.442068\ninstrumentalness      1.377029\nliveness              1.580600\nvalence               3.794800\ntempo                 4.863331\nartist_popularity     4.820000\nkey_0.0               2.000000\nkey_1.0               1.000000\nkey_2.0               0.000000\nkey_3.0               0.000000\nkey_4.0               0.000000\nkey_5.0               1.000000\nkey_6.0               1.000000\nkey_7.0               1.000000\nkey_8.0               0.000000\nkey_9.0               1.000000\nkey_10.0              1.000000\nkey_11.0              1.000000\nmode_0.0              6.000000\nmode_1.0              3.000000\ntime_signature_0.0    0.000000\ntime_signature_1.0    0.000000\ntime_signature_3.0    1.000000\ntime_signature_4.0    8.000000\ntime_signature_5.0    0.000000\ndtype: float64"
     },
     "execution_count": 5,
     "metadata": {},
     "output_type": "execute_result"
    }
   ],
   "source": [
    "playlist_feature_vector"
   ],
   "metadata": {
    "collapsed": false
   }
  },
  {
   "cell_type": "code",
   "execution_count": 6,
   "outputs": [
    {
     "data": {
      "text/plain": "                              artist_name  \\\ntrack_id                                    \n5SuOikwiRyPMVoIQDJUgSV        Gen Hoshino   \n4qPNDBW1i3p13qLCt0Ki3A       Ben Woodward   \n1iJBSr7s7jYXzM8EGcbK5b  Ingrid Michaelson   \n6lfxq3CG4xtTiEg7opyCyx       Kina Grannis   \n5vjLSffimiIP26QG5WcN2K   Chord Overstreet   \n...                                   ...   \n2ftuoAGu9MXl07iHdhx1Ce            Knowsum   \n6u7WoLDmBz5apGzhOMXI1A            DIAL UP   \n2e7Aud4N56k3UrhiUrgWPC  Basslovers United   \n5DjNHQmn16Wxh2TjTphmkq       Lo-Fi Tigers   \n0nKpHGrnuejevp6openGaF         Rich Brian   \n\n                                                    track_name  duration_ms  \\\ntrack_id                                                                      \n5SuOikwiRyPMVoIQDJUgSV                                  Comedy     0.040604   \n4qPNDBW1i3p13qLCt0Ki3A                        Ghost - Acoustic     0.026148   \n1iJBSr7s7jYXzM8EGcbK5b                          To Begin Again     0.037065   \n6lfxq3CG4xtTiEg7opyCyx              Can't Help Falling In Love     0.035479   \n5vjLSffimiIP26QG5WcN2K                                 Hold On     0.034930   \n...                                                        ...          ...   \n2ftuoAGu9MXl07iHdhx1Ce                              Inner View     0.022955   \n6u7WoLDmBz5apGzhOMXI1A                                  Dipset     0.031010   \n2e7Aud4N56k3UrhiUrgWPC  Undeniable - Scoon & Delore Radio Edit     0.043385   \n5DjNHQmn16Wxh2TjTphmkq                      Your Eyes My Ocean     0.029962   \n0nKpHGrnuejevp6openGaF                                    Cold     0.040205   \n\n                        danceability  energy  loudness  speechiness  \\\ntrack_id                                                              \n5SuOikwiRyPMVoIQDJUgSV      0.678715  0.4610  0.824174     0.148187   \n4qPNDBW1i3p13qLCt0Ki3A      0.421687  0.1660  0.661843     0.079067   \n1iJBSr7s7jYXzM8EGcbK5b      0.439759  0.3590  0.777931     0.057720   \n6lfxq3CG4xtTiEg7opyCyx      0.267068  0.0596  0.642034     0.037617   \n5vjLSffimiIP26QG5WcN2K      0.620482  0.4430  0.778751     0.054508   \n...                              ...     ...       ...          ...   \n2ftuoAGu9MXl07iHdhx1Ce      0.684739  0.4240  0.752720     0.074611   \n6u7WoLDmBz5apGzhOMXI1A      0.837349  0.4820  0.815554     0.317098   \n2e7Aud4N56k3UrhiUrgWPC      0.562249  0.9370  0.842560     0.092332   \n5DjNHQmn16Wxh2TjTphmkq      0.609438  0.5670  0.716614     0.028083   \n0nKpHGrnuejevp6openGaF      0.650602  0.7340  0.831247     0.308808   \n\n                        acousticness  instrumentalness  liveness  ...  \\\ntrack_id                                                          ...   \n5SuOikwiRyPMVoIQDJUgSV      0.032329          0.000001    0.3580  ...   \n4qPNDBW1i3p13qLCt0Ki3A      0.927711          0.000006    0.1010  ...   \n1iJBSr7s7jYXzM8EGcbK5b      0.210843          0.000000    0.1170  ...   \n6lfxq3CG4xtTiEg7opyCyx      0.908635          0.000071    0.1320  ...   \n5vjLSffimiIP26QG5WcN2K      0.470884          0.000000    0.0829  ...   \n...                              ...               ...       ...  ...   \n2ftuoAGu9MXl07iHdhx1Ce      0.627510          0.143000    0.2370  ...   \n6u7WoLDmBz5apGzhOMXI1A      0.052410          0.004070    0.0886  ...   \n2e7Aud4N56k3UrhiUrgWPC      0.008062          0.000098    0.4350  ...   \n5DjNHQmn16Wxh2TjTphmkq      0.008434          0.859000    0.6940  ...   \n0nKpHGrnuejevp6openGaF      0.369478          0.000000    0.0938  ...   \n\n                        key_9.0  key_10.0 key_11.0  mode_0.0  mode_1.0  \\\ntrack_id                                                                 \n5SuOikwiRyPMVoIQDJUgSV      0.0       0.0      0.0       1.0       0.0   \n4qPNDBW1i3p13qLCt0Ki3A      0.0       0.0      0.0       0.0       1.0   \n1iJBSr7s7jYXzM8EGcbK5b      0.0       0.0      0.0       0.0       1.0   \n6lfxq3CG4xtTiEg7opyCyx      0.0       0.0      0.0       0.0       1.0   \n5vjLSffimiIP26QG5WcN2K      0.0       0.0      0.0       0.0       1.0   \n...                         ...       ...      ...       ...       ...   \n2ftuoAGu9MXl07iHdhx1Ce      0.0       0.0      0.0       0.0       1.0   \n6u7WoLDmBz5apGzhOMXI1A      0.0       0.0      0.0       0.0       1.0   \n2e7Aud4N56k3UrhiUrgWPC      0.0       0.0      0.0       1.0       0.0   \n5DjNHQmn16Wxh2TjTphmkq      0.0       1.0      0.0       1.0       0.0   \n0nKpHGrnuejevp6openGaF      0.0       0.0      0.0       0.0       1.0   \n\n                        time_signature_0.0  time_signature_1.0  \\\ntrack_id                                                         \n5SuOikwiRyPMVoIQDJUgSV                 0.0                 0.0   \n4qPNDBW1i3p13qLCt0Ki3A                 0.0                 0.0   \n1iJBSr7s7jYXzM8EGcbK5b                 0.0                 0.0   \n6lfxq3CG4xtTiEg7opyCyx                 0.0                 0.0   \n5vjLSffimiIP26QG5WcN2K                 0.0                 0.0   \n...                                    ...                 ...   \n2ftuoAGu9MXl07iHdhx1Ce                 0.0                 0.0   \n6u7WoLDmBz5apGzhOMXI1A                 0.0                 0.0   \n2e7Aud4N56k3UrhiUrgWPC                 0.0                 0.0   \n5DjNHQmn16Wxh2TjTphmkq                 0.0                 0.0   \n0nKpHGrnuejevp6openGaF                 0.0                 0.0   \n\n                        time_signature_3.0  time_signature_4.0  \\\ntrack_id                                                         \n5SuOikwiRyPMVoIQDJUgSV                 0.0                 1.0   \n4qPNDBW1i3p13qLCt0Ki3A                 0.0                 1.0   \n1iJBSr7s7jYXzM8EGcbK5b                 0.0                 1.0   \n6lfxq3CG4xtTiEg7opyCyx                 1.0                 0.0   \n5vjLSffimiIP26QG5WcN2K                 0.0                 1.0   \n...                                    ...                 ...   \n2ftuoAGu9MXl07iHdhx1Ce                 0.0                 1.0   \n6u7WoLDmBz5apGzhOMXI1A                 0.0                 1.0   \n2e7Aud4N56k3UrhiUrgWPC                 0.0                 1.0   \n5DjNHQmn16Wxh2TjTphmkq                 0.0                 1.0   \n0nKpHGrnuejevp6openGaF                 0.0                 1.0   \n\n                        time_signature_5.0  \ntrack_id                                    \n5SuOikwiRyPMVoIQDJUgSV                 0.0  \n4qPNDBW1i3p13qLCt0Ki3A                 0.0  \n1iJBSr7s7jYXzM8EGcbK5b                 0.0  \n6lfxq3CG4xtTiEg7opyCyx                 0.0  \n5vjLSffimiIP26QG5WcN2K                 0.0  \n...                                    ...  \n2ftuoAGu9MXl07iHdhx1Ce                 0.0  \n6u7WoLDmBz5apGzhOMXI1A                 0.0  \n2e7Aud4N56k3UrhiUrgWPC                 0.0  \n5DjNHQmn16Wxh2TjTphmkq                 0.0  \n0nKpHGrnuejevp6openGaF                 0.0  \n\n[228629 rows x 33 columns]",
      "text/html": "<div>\n<style scoped>\n    .dataframe tbody tr th:only-of-type {\n        vertical-align: middle;\n    }\n\n    .dataframe tbody tr th {\n        vertical-align: top;\n    }\n\n    .dataframe thead th {\n        text-align: right;\n    }\n</style>\n<table border=\"1\" class=\"dataframe\">\n  <thead>\n    <tr style=\"text-align: right;\">\n      <th></th>\n      <th>artist_name</th>\n      <th>track_name</th>\n      <th>duration_ms</th>\n      <th>danceability</th>\n      <th>energy</th>\n      <th>loudness</th>\n      <th>speechiness</th>\n      <th>acousticness</th>\n      <th>instrumentalness</th>\n      <th>liveness</th>\n      <th>...</th>\n      <th>key_9.0</th>\n      <th>key_10.0</th>\n      <th>key_11.0</th>\n      <th>mode_0.0</th>\n      <th>mode_1.0</th>\n      <th>time_signature_0.0</th>\n      <th>time_signature_1.0</th>\n      <th>time_signature_3.0</th>\n      <th>time_signature_4.0</th>\n      <th>time_signature_5.0</th>\n    </tr>\n    <tr>\n      <th>track_id</th>\n      <th></th>\n      <th></th>\n      <th></th>\n      <th></th>\n      <th></th>\n      <th></th>\n      <th></th>\n      <th></th>\n      <th></th>\n      <th></th>\n      <th></th>\n      <th></th>\n      <th></th>\n      <th></th>\n      <th></th>\n      <th></th>\n      <th></th>\n      <th></th>\n      <th></th>\n      <th></th>\n      <th></th>\n    </tr>\n  </thead>\n  <tbody>\n    <tr>\n      <th>5SuOikwiRyPMVoIQDJUgSV</th>\n      <td>Gen Hoshino</td>\n      <td>Comedy</td>\n      <td>0.040604</td>\n      <td>0.678715</td>\n      <td>0.4610</td>\n      <td>0.824174</td>\n      <td>0.148187</td>\n      <td>0.032329</td>\n      <td>0.000001</td>\n      <td>0.3580</td>\n      <td>...</td>\n      <td>0.0</td>\n      <td>0.0</td>\n      <td>0.0</td>\n      <td>1.0</td>\n      <td>0.0</td>\n      <td>0.0</td>\n      <td>0.0</td>\n      <td>0.0</td>\n      <td>1.0</td>\n      <td>0.0</td>\n    </tr>\n    <tr>\n      <th>4qPNDBW1i3p13qLCt0Ki3A</th>\n      <td>Ben Woodward</td>\n      <td>Ghost - Acoustic</td>\n      <td>0.026148</td>\n      <td>0.421687</td>\n      <td>0.1660</td>\n      <td>0.661843</td>\n      <td>0.079067</td>\n      <td>0.927711</td>\n      <td>0.000006</td>\n      <td>0.1010</td>\n      <td>...</td>\n      <td>0.0</td>\n      <td>0.0</td>\n      <td>0.0</td>\n      <td>0.0</td>\n      <td>1.0</td>\n      <td>0.0</td>\n      <td>0.0</td>\n      <td>0.0</td>\n      <td>1.0</td>\n      <td>0.0</td>\n    </tr>\n    <tr>\n      <th>1iJBSr7s7jYXzM8EGcbK5b</th>\n      <td>Ingrid Michaelson</td>\n      <td>To Begin Again</td>\n      <td>0.037065</td>\n      <td>0.439759</td>\n      <td>0.3590</td>\n      <td>0.777931</td>\n      <td>0.057720</td>\n      <td>0.210843</td>\n      <td>0.000000</td>\n      <td>0.1170</td>\n      <td>...</td>\n      <td>0.0</td>\n      <td>0.0</td>\n      <td>0.0</td>\n      <td>0.0</td>\n      <td>1.0</td>\n      <td>0.0</td>\n      <td>0.0</td>\n      <td>0.0</td>\n      <td>1.0</td>\n      <td>0.0</td>\n    </tr>\n    <tr>\n      <th>6lfxq3CG4xtTiEg7opyCyx</th>\n      <td>Kina Grannis</td>\n      <td>Can't Help Falling In Love</td>\n      <td>0.035479</td>\n      <td>0.267068</td>\n      <td>0.0596</td>\n      <td>0.642034</td>\n      <td>0.037617</td>\n      <td>0.908635</td>\n      <td>0.000071</td>\n      <td>0.1320</td>\n      <td>...</td>\n      <td>0.0</td>\n      <td>0.0</td>\n      <td>0.0</td>\n      <td>0.0</td>\n      <td>1.0</td>\n      <td>0.0</td>\n      <td>0.0</td>\n      <td>1.0</td>\n      <td>0.0</td>\n      <td>0.0</td>\n    </tr>\n    <tr>\n      <th>5vjLSffimiIP26QG5WcN2K</th>\n      <td>Chord Overstreet</td>\n      <td>Hold On</td>\n      <td>0.034930</td>\n      <td>0.620482</td>\n      <td>0.4430</td>\n      <td>0.778751</td>\n      <td>0.054508</td>\n      <td>0.470884</td>\n      <td>0.000000</td>\n      <td>0.0829</td>\n      <td>...</td>\n      <td>0.0</td>\n      <td>0.0</td>\n      <td>0.0</td>\n      <td>0.0</td>\n      <td>1.0</td>\n      <td>0.0</td>\n      <td>0.0</td>\n      <td>0.0</td>\n      <td>1.0</td>\n      <td>0.0</td>\n    </tr>\n    <tr>\n      <th>...</th>\n      <td>...</td>\n      <td>...</td>\n      <td>...</td>\n      <td>...</td>\n      <td>...</td>\n      <td>...</td>\n      <td>...</td>\n      <td>...</td>\n      <td>...</td>\n      <td>...</td>\n      <td>...</td>\n      <td>...</td>\n      <td>...</td>\n      <td>...</td>\n      <td>...</td>\n      <td>...</td>\n      <td>...</td>\n      <td>...</td>\n      <td>...</td>\n      <td>...</td>\n      <td>...</td>\n    </tr>\n    <tr>\n      <th>2ftuoAGu9MXl07iHdhx1Ce</th>\n      <td>Knowsum</td>\n      <td>Inner View</td>\n      <td>0.022955</td>\n      <td>0.684739</td>\n      <td>0.4240</td>\n      <td>0.752720</td>\n      <td>0.074611</td>\n      <td>0.627510</td>\n      <td>0.143000</td>\n      <td>0.2370</td>\n      <td>...</td>\n      <td>0.0</td>\n      <td>0.0</td>\n      <td>0.0</td>\n      <td>0.0</td>\n      <td>1.0</td>\n      <td>0.0</td>\n      <td>0.0</td>\n      <td>0.0</td>\n      <td>1.0</td>\n      <td>0.0</td>\n    </tr>\n    <tr>\n      <th>6u7WoLDmBz5apGzhOMXI1A</th>\n      <td>DIAL UP</td>\n      <td>Dipset</td>\n      <td>0.031010</td>\n      <td>0.837349</td>\n      <td>0.4820</td>\n      <td>0.815554</td>\n      <td>0.317098</td>\n      <td>0.052410</td>\n      <td>0.004070</td>\n      <td>0.0886</td>\n      <td>...</td>\n      <td>0.0</td>\n      <td>0.0</td>\n      <td>0.0</td>\n      <td>0.0</td>\n      <td>1.0</td>\n      <td>0.0</td>\n      <td>0.0</td>\n      <td>0.0</td>\n      <td>1.0</td>\n      <td>0.0</td>\n    </tr>\n    <tr>\n      <th>2e7Aud4N56k3UrhiUrgWPC</th>\n      <td>Basslovers United</td>\n      <td>Undeniable - Scoon &amp; Delore Radio Edit</td>\n      <td>0.043385</td>\n      <td>0.562249</td>\n      <td>0.9370</td>\n      <td>0.842560</td>\n      <td>0.092332</td>\n      <td>0.008062</td>\n      <td>0.000098</td>\n      <td>0.4350</td>\n      <td>...</td>\n      <td>0.0</td>\n      <td>0.0</td>\n      <td>0.0</td>\n      <td>1.0</td>\n      <td>0.0</td>\n      <td>0.0</td>\n      <td>0.0</td>\n      <td>0.0</td>\n      <td>1.0</td>\n      <td>0.0</td>\n    </tr>\n    <tr>\n      <th>5DjNHQmn16Wxh2TjTphmkq</th>\n      <td>Lo-Fi Tigers</td>\n      <td>Your Eyes My Ocean</td>\n      <td>0.029962</td>\n      <td>0.609438</td>\n      <td>0.5670</td>\n      <td>0.716614</td>\n      <td>0.028083</td>\n      <td>0.008434</td>\n      <td>0.859000</td>\n      <td>0.6940</td>\n      <td>...</td>\n      <td>0.0</td>\n      <td>1.0</td>\n      <td>0.0</td>\n      <td>1.0</td>\n      <td>0.0</td>\n      <td>0.0</td>\n      <td>0.0</td>\n      <td>0.0</td>\n      <td>1.0</td>\n      <td>0.0</td>\n    </tr>\n    <tr>\n      <th>0nKpHGrnuejevp6openGaF</th>\n      <td>Rich Brian</td>\n      <td>Cold</td>\n      <td>0.040205</td>\n      <td>0.650602</td>\n      <td>0.7340</td>\n      <td>0.831247</td>\n      <td>0.308808</td>\n      <td>0.369478</td>\n      <td>0.000000</td>\n      <td>0.0938</td>\n      <td>...</td>\n      <td>0.0</td>\n      <td>0.0</td>\n      <td>0.0</td>\n      <td>0.0</td>\n      <td>1.0</td>\n      <td>0.0</td>\n      <td>0.0</td>\n      <td>0.0</td>\n      <td>1.0</td>\n      <td>0.0</td>\n    </tr>\n  </tbody>\n</table>\n<p>228629 rows × 33 columns</p>\n</div>"
     },
     "execution_count": 6,
     "metadata": {},
     "output_type": "execute_result"
    }
   ],
   "source": [
    "training_dataset"
   ],
   "metadata": {
    "collapsed": false
   }
  },
  {
   "cell_type": "code",
   "execution_count": 7,
   "outputs": [],
   "source": [
    "given_auth_args = featurizing.auth_args()\n",
    "playlist_uri = 'spotify:playlist:76S2ElS2cyzY624wGBGKpB'\n",
    "playlist_feature_vector = await featurizing.get_playlist_vector_from_uri(*given_auth_args, playlist_uri, training_scalers_and_encoders)"
   ],
   "metadata": {
    "collapsed": false
   }
  },
  {
   "cell_type": "code",
   "execution_count": 8,
   "outputs": [
    {
     "data": {
      "text/plain": "duration_ms           0.353627\ndanceability          5.545181\nenergy                5.050000\nloudness              6.910996\nspeechiness           1.348497\nacousticness          4.442068\ninstrumentalness      1.377029\nliveness              1.580600\nvalence               3.794800\ntempo                 4.863331\nartist_popularity     4.820000\nkey_0.0               2.000000\nkey_1.0               1.000000\nkey_2.0               0.000000\nkey_3.0               0.000000\nkey_4.0               0.000000\nkey_5.0               1.000000\nkey_6.0               1.000000\nkey_7.0               1.000000\nkey_8.0               0.000000\nkey_9.0               1.000000\nkey_10.0              1.000000\nkey_11.0              1.000000\nmode_0.0              6.000000\nmode_1.0              3.000000\ntime_signature_0.0    0.000000\ntime_signature_1.0    0.000000\ntime_signature_3.0    1.000000\ntime_signature_4.0    8.000000\ntime_signature_5.0    0.000000\ndtype: float64"
     },
     "execution_count": 8,
     "metadata": {},
     "output_type": "execute_result"
    }
   ],
   "source": [
    "playlist_feature_vector"
   ],
   "metadata": {
    "collapsed": false
   }
  },
  {
   "cell_type": "code",
   "execution_count": 9,
   "outputs": [
    {
     "name": "stdout",
     "output_type": "stream",
     "text": [
      "                        duration_ms  danceability  energy  loudness  \\\n",
      "track_id                                                              \n",
      "3NHJ4SFz1CGtnJlvoiNpbe     0.009799      0.777108   0.827  0.853981   \n",
      "1Avnd5xLg7HmaNofmYk7RQ     0.036035      0.806225   0.662  0.803637   \n",
      "2SL00Ua6Ge1SFEr7DNvbBr     0.014631      0.590361   0.611  0.781057   \n",
      "36FEzEnq6g0uHsT3KppoWq     0.015577      0.664659   0.516  0.806825   \n",
      "16YMdUvNYqe9Nx0ifEaCEZ     0.021861      0.696787   0.458  0.821961   \n",
      "1Pfi65ofIHYvTf1bUlVHkt     0.020232      0.586345   0.686  0.804674   \n",
      "0weCzxz28mlnJktio98pJ8     0.053592      0.641566   0.622  0.748216   \n",
      "5nMWNjCkesUlHXjjfBNsAL     0.019262      0.838353   0.667  0.788408   \n",
      "7bSVtSGWoYjEWQHkja0ZAC     0.034851      0.736948   0.599  0.750754   \n",
      "0ypUOgzrWxxDwKRVDR0L9g     0.053050      0.706827   0.673  0.764312   \n",
      "27wpwM3fY7SEVG3aJSS9M3     0.029054      0.785141   0.499  0.753308   \n",
      "17lqwCvIzv7WDbDYBGt7pi     0.057946      0.762048   0.705  0.796332   \n",
      "0BWax5Tw19xdXmEaJP1NSK     0.019290      0.726908   0.648  0.742815   \n",
      "2ZbZjs4h1rTULbnrUHtuPk     0.026174      0.602410   0.644  0.853718   \n",
      "0ORp8JlYkPejmeL4X0Fu7r     0.032811      0.709839   0.616  0.774325   \n",
      "0zNnrjAohPi8ghYD3t5HIX     0.045781      0.823293   0.702  0.771090   \n",
      "5qyHP14pcc5Pn1j6EXha3b     0.035805      0.606426   0.809  0.781506   \n",
      "6VvYKjGL96kwsJJbzbSeYi     0.023549      0.715863   0.653  0.721736   \n",
      "4M7UWuLSDGn1L1ICwE5jGS     0.033154      0.718876   0.499  0.787944   \n",
      "27DbLUyeQa4I2vMdZhQQ73     0.026217      0.682731   0.466  0.694235   \n",
      "6NZZQo5RQKR6ZZpIM9oKuZ     0.019083      0.876506   0.742  0.807026   \n",
      "1l1q5sTYOWjwuWywQQKLzl     0.015363      0.740964   0.625  0.801857   \n",
      "4emOncXwptQyAKsd5aG4Du     0.056703      0.540161   0.540  0.764188   \n",
      "34zvr2f8rntekrdrBLeGnv     0.015768      0.738956   0.571  0.816544   \n",
      "69LhVMaVu2vZd02Wf9zARc     0.019390      0.908635   0.505  0.774139   \n",
      "\n",
      "                        speechiness  acousticness  instrumentalness  liveness  \\\n",
      "track_id                                                                        \n",
      "3NHJ4SFz1CGtnJlvoiNpbe     0.029637      0.777108             0.967    0.1020   \n",
      "1Avnd5xLg7HmaNofmYk7RQ     0.031917      0.644578             0.901    0.1510   \n",
      "2SL00Ua6Ge1SFEr7DNvbBr     0.029534      0.795181             0.939    0.2340   \n",
      "36FEzEnq6g0uHsT3KppoWq     0.215544      0.675703             0.925    0.1020   \n",
      "16YMdUvNYqe9Nx0ifEaCEZ     0.054819      0.868474             0.967    0.0991   \n",
      "1Pfi65ofIHYvTf1bUlVHkt     0.070777      0.721888             0.883    0.2030   \n",
      "0weCzxz28mlnJktio98pJ8     0.034819      0.788153             0.951    0.2180   \n",
      "5nMWNjCkesUlHXjjfBNsAL     0.138860      0.618474             0.843    0.0988   \n",
      "7bSVtSGWoYjEWQHkja0ZAC     0.125389      0.639558             0.873    0.1050   \n",
      "0ypUOgzrWxxDwKRVDR0L9g     0.043938      0.729920             0.851    0.1410   \n",
      "27wpwM3fY7SEVG3aJSS9M3     0.078342      0.735944             0.900    0.0812   \n",
      "17lqwCvIzv7WDbDYBGt7pi     0.037720      0.631526             0.749    0.0808   \n",
      "0BWax5Tw19xdXmEaJP1NSK     0.125389      0.543173             0.883    0.1030   \n",
      "2ZbZjs4h1rTULbnrUHtuPk     0.035130      0.832329             0.725    0.0792   \n",
      "0ORp8JlYkPejmeL4X0Fu7r     0.026218      0.790161             0.912    0.1940   \n",
      "0zNnrjAohPi8ghYD3t5HIX     0.047668      0.849398             0.867    0.1750   \n",
      "5qyHP14pcc5Pn1j6EXha3b     0.040104      0.649598             0.741    0.3330   \n",
      "6VvYKjGL96kwsJJbzbSeYi     0.036166      0.953815             0.884    0.1030   \n",
      "4M7UWuLSDGn1L1ICwE5jGS     0.034819      0.873494             0.924    0.1050   \n",
      "27DbLUyeQa4I2vMdZhQQ73     0.157513      0.857430             0.892    0.3100   \n",
      "6NZZQo5RQKR6ZZpIM9oKuZ     0.054508      0.636546             0.937    0.2160   \n",
      "1l1q5sTYOWjwuWywQQKLzl     0.034404      0.414659             0.921    0.3640   \n",
      "4emOncXwptQyAKsd5aG4Du     0.031710      0.854418             0.819    0.1030   \n",
      "34zvr2f8rntekrdrBLeGnv     0.155440      0.897590             0.893    0.1040   \n",
      "69LhVMaVu2vZd02Wf9zARc     0.041347      0.634538             0.836    0.1510   \n",
      "\n",
      "                        valence     tempo  ...  key_10.0  key_11.0  mode_0.0  \\\n",
      "track_id                                   ...                                 \n",
      "3NHJ4SFz1CGtnJlvoiNpbe    0.745  0.455575  ...       0.0       0.0       0.0   \n",
      "1Avnd5xLg7HmaNofmYk7RQ    0.814  0.420077  ...       0.0       0.0       0.0   \n",
      "2SL00Ua6Ge1SFEr7DNvbBr    0.826  0.600109  ...       0.0       0.0       0.0   \n",
      "36FEzEnq6g0uHsT3KppoWq    0.710  0.683086  ...       0.0       0.0       0.0   \n",
      "16YMdUvNYqe9Nx0ifEaCEZ    0.636  0.557754  ...       0.0       0.0       0.0   \n",
      "1Pfi65ofIHYvTf1bUlVHkt    0.712  0.615858  ...       0.0       0.0       0.0   \n",
      "0weCzxz28mlnJktio98pJ8    0.616  0.459567  ...       0.0       0.0       0.0   \n",
      "5nMWNjCkesUlHXjjfBNsAL    0.707  0.640148  ...       0.0       0.0       0.0   \n",
      "7bSVtSGWoYjEWQHkja0ZAC    0.530  0.524232  ...       0.0       0.0       0.0   \n",
      "0ypUOgzrWxxDwKRVDR0L9g    0.611  0.551986  ...       0.0       0.0       0.0   \n",
      "27wpwM3fY7SEVG3aJSS9M3    0.511  0.528636  ...       0.0       0.0       0.0   \n",
      "17lqwCvIzv7WDbDYBGt7pi    0.608  0.480301  ...       0.0       0.0       0.0   \n",
      "0BWax5Tw19xdXmEaJP1NSK    0.673  0.760380  ...       0.0       0.0       0.0   \n",
      "2ZbZjs4h1rTULbnrUHtuPk    0.793  0.499442  ...       0.0       0.0       0.0   \n",
      "0ORp8JlYkPejmeL4X0Fu7r    0.517  0.376126  ...       0.0       0.0       0.0   \n",
      "0zNnrjAohPi8ghYD3t5HIX    0.786  0.426409  ...       0.0       0.0       0.0   \n",
      "5qyHP14pcc5Pn1j6EXha3b    0.956  0.645132  ...       0.0       0.0       0.0   \n",
      "6VvYKjGL96kwsJJbzbSeYi    0.921  0.611074  ...       0.0       0.0       0.0   \n",
      "4M7UWuLSDGn1L1ICwE5jGS    0.604  0.432037  ...       0.0       0.0       0.0   \n",
      "27DbLUyeQa4I2vMdZhQQ73    0.700  0.512971  ...       0.0       0.0       0.0   \n",
      "6NZZQo5RQKR6ZZpIM9oKuZ    0.370  0.575855  ...       0.0       0.0       0.0   \n",
      "1l1q5sTYOWjwuWywQQKLzl    0.902  0.560214  ...       0.0       0.0       0.0   \n",
      "4emOncXwptQyAKsd5aG4Du    0.614  0.615646  ...       0.0       0.0       0.0   \n",
      "34zvr2f8rntekrdrBLeGnv    0.526  0.674458  ...       0.0       0.0       0.0   \n",
      "69LhVMaVu2vZd02Wf9zARc    0.973  0.464160  ...       0.0       0.0       0.0   \n",
      "\n",
      "                        mode_1.0  time_signature_0.0  time_signature_1.0  \\\n",
      "track_id                                                                   \n",
      "3NHJ4SFz1CGtnJlvoiNpbe       1.0                 0.0                 0.0   \n",
      "1Avnd5xLg7HmaNofmYk7RQ       1.0                 0.0                 0.0   \n",
      "2SL00Ua6Ge1SFEr7DNvbBr       1.0                 0.0                 0.0   \n",
      "36FEzEnq6g0uHsT3KppoWq       1.0                 0.0                 0.0   \n",
      "16YMdUvNYqe9Nx0ifEaCEZ       1.0                 0.0                 0.0   \n",
      "1Pfi65ofIHYvTf1bUlVHkt       1.0                 0.0                 0.0   \n",
      "0weCzxz28mlnJktio98pJ8       1.0                 0.0                 0.0   \n",
      "5nMWNjCkesUlHXjjfBNsAL       1.0                 0.0                 0.0   \n",
      "7bSVtSGWoYjEWQHkja0ZAC       1.0                 0.0                 0.0   \n",
      "0ypUOgzrWxxDwKRVDR0L9g       1.0                 0.0                 0.0   \n",
      "27wpwM3fY7SEVG3aJSS9M3       1.0                 0.0                 0.0   \n",
      "17lqwCvIzv7WDbDYBGt7pi       1.0                 0.0                 0.0   \n",
      "0BWax5Tw19xdXmEaJP1NSK       1.0                 0.0                 0.0   \n",
      "2ZbZjs4h1rTULbnrUHtuPk       1.0                 0.0                 0.0   \n",
      "0ORp8JlYkPejmeL4X0Fu7r       1.0                 0.0                 0.0   \n",
      "0zNnrjAohPi8ghYD3t5HIX       1.0                 0.0                 0.0   \n",
      "5qyHP14pcc5Pn1j6EXha3b       1.0                 0.0                 0.0   \n",
      "6VvYKjGL96kwsJJbzbSeYi       1.0                 0.0                 0.0   \n",
      "4M7UWuLSDGn1L1ICwE5jGS       1.0                 0.0                 0.0   \n",
      "27DbLUyeQa4I2vMdZhQQ73       1.0                 0.0                 0.0   \n",
      "6NZZQo5RQKR6ZZpIM9oKuZ       1.0                 0.0                 0.0   \n",
      "1l1q5sTYOWjwuWywQQKLzl       1.0                 0.0                 0.0   \n",
      "4emOncXwptQyAKsd5aG4Du       1.0                 0.0                 0.0   \n",
      "34zvr2f8rntekrdrBLeGnv       1.0                 0.0                 0.0   \n",
      "69LhVMaVu2vZd02Wf9zARc       1.0                 0.0                 0.0   \n",
      "\n",
      "                        time_signature_3.0  time_signature_4.0  \\\n",
      "track_id                                                         \n",
      "3NHJ4SFz1CGtnJlvoiNpbe                 0.0                 1.0   \n",
      "1Avnd5xLg7HmaNofmYk7RQ                 0.0                 1.0   \n",
      "2SL00Ua6Ge1SFEr7DNvbBr                 0.0                 1.0   \n",
      "36FEzEnq6g0uHsT3KppoWq                 0.0                 1.0   \n",
      "16YMdUvNYqe9Nx0ifEaCEZ                 0.0                 1.0   \n",
      "1Pfi65ofIHYvTf1bUlVHkt                 0.0                 1.0   \n",
      "0weCzxz28mlnJktio98pJ8                 0.0                 1.0   \n",
      "5nMWNjCkesUlHXjjfBNsAL                 0.0                 1.0   \n",
      "7bSVtSGWoYjEWQHkja0ZAC                 0.0                 1.0   \n",
      "0ypUOgzrWxxDwKRVDR0L9g                 0.0                 1.0   \n",
      "27wpwM3fY7SEVG3aJSS9M3                 0.0                 1.0   \n",
      "17lqwCvIzv7WDbDYBGt7pi                 0.0                 1.0   \n",
      "0BWax5Tw19xdXmEaJP1NSK                 0.0                 1.0   \n",
      "2ZbZjs4h1rTULbnrUHtuPk                 0.0                 1.0   \n",
      "0ORp8JlYkPejmeL4X0Fu7r                 0.0                 1.0   \n",
      "0zNnrjAohPi8ghYD3t5HIX                 0.0                 1.0   \n",
      "5qyHP14pcc5Pn1j6EXha3b                 0.0                 1.0   \n",
      "6VvYKjGL96kwsJJbzbSeYi                 0.0                 1.0   \n",
      "4M7UWuLSDGn1L1ICwE5jGS                 0.0                 1.0   \n",
      "27DbLUyeQa4I2vMdZhQQ73                 0.0                 1.0   \n",
      "6NZZQo5RQKR6ZZpIM9oKuZ                 0.0                 1.0   \n",
      "1l1q5sTYOWjwuWywQQKLzl                 0.0                 1.0   \n",
      "4emOncXwptQyAKsd5aG4Du                 0.0                 1.0   \n",
      "34zvr2f8rntekrdrBLeGnv                 0.0                 1.0   \n",
      "69LhVMaVu2vZd02Wf9zARc                 0.0                 1.0   \n",
      "\n",
      "                        time_signature_5.0  similarity  \n",
      "track_id                                                \n",
      "3NHJ4SFz1CGtnJlvoiNpbe                 0.0    0.917833  \n",
      "1Avnd5xLg7HmaNofmYk7RQ                 0.0    0.916881  \n",
      "2SL00Ua6Ge1SFEr7DNvbBr                 0.0    0.916753  \n",
      "36FEzEnq6g0uHsT3KppoWq                 0.0    0.915806  \n",
      "16YMdUvNYqe9Nx0ifEaCEZ                 0.0    0.915072  \n",
      "1Pfi65ofIHYvTf1bUlVHkt                 0.0    0.914804  \n",
      "0weCzxz28mlnJktio98pJ8                 0.0    0.914562  \n",
      "5nMWNjCkesUlHXjjfBNsAL                 0.0    0.913864  \n",
      "7bSVtSGWoYjEWQHkja0ZAC                 0.0    0.912769  \n",
      "0ypUOgzrWxxDwKRVDR0L9g                 0.0    0.912720  \n",
      "27wpwM3fY7SEVG3aJSS9M3                 0.0    0.912343  \n",
      "17lqwCvIzv7WDbDYBGt7pi                 0.0    0.912313  \n",
      "0BWax5Tw19xdXmEaJP1NSK                 0.0    0.912028  \n",
      "2ZbZjs4h1rTULbnrUHtuPk                 0.0    0.911917  \n",
      "0ORp8JlYkPejmeL4X0Fu7r                 0.0    0.911792  \n",
      "0zNnrjAohPi8ghYD3t5HIX                 0.0    0.911420  \n",
      "5qyHP14pcc5Pn1j6EXha3b                 0.0    0.911251  \n",
      "6VvYKjGL96kwsJJbzbSeYi                 0.0    0.911157  \n",
      "4M7UWuLSDGn1L1ICwE5jGS                 0.0    0.910990  \n",
      "27DbLUyeQa4I2vMdZhQQ73                 0.0    0.910761  \n",
      "6NZZQo5RQKR6ZZpIM9oKuZ                 0.0    0.910701  \n",
      "1l1q5sTYOWjwuWywQQKLzl                 0.0    0.910285  \n",
      "4emOncXwptQyAKsd5aG4Du                 0.0    0.910194  \n",
      "34zvr2f8rntekrdrBLeGnv                 0.0    0.909731  \n",
      "69LhVMaVu2vZd02Wf9zARc                 0.0    0.909673  \n",
      "\n",
      "[25 rows x 31 columns]\n"
     ]
    }
   ],
   "source": [
    "top_fifteen = await recommending.get_k_closest_songs(\"spotify:playlist:4BXcK5svYftLAgEX0JQEQc\", training_dataset, training_scalers_and_encoders, k=25)"
   ],
   "metadata": {
    "collapsed": false
   }
  },
  {
   "cell_type": "code",
   "execution_count": 10,
   "outputs": [
    {
     "data": {
      "text/plain": "['3NHJ4SFz1CGtnJlvoiNpbe',\n '1Avnd5xLg7HmaNofmYk7RQ',\n '2SL00Ua6Ge1SFEr7DNvbBr',\n '36FEzEnq6g0uHsT3KppoWq',\n '16YMdUvNYqe9Nx0ifEaCEZ',\n '1Pfi65ofIHYvTf1bUlVHkt',\n '0weCzxz28mlnJktio98pJ8',\n '5nMWNjCkesUlHXjjfBNsAL',\n '7bSVtSGWoYjEWQHkja0ZAC',\n '0ypUOgzrWxxDwKRVDR0L9g',\n '27wpwM3fY7SEVG3aJSS9M3',\n '17lqwCvIzv7WDbDYBGt7pi',\n '0BWax5Tw19xdXmEaJP1NSK',\n '2ZbZjs4h1rTULbnrUHtuPk',\n '0ORp8JlYkPejmeL4X0Fu7r',\n '0zNnrjAohPi8ghYD3t5HIX',\n '5qyHP14pcc5Pn1j6EXha3b',\n '6VvYKjGL96kwsJJbzbSeYi',\n '4M7UWuLSDGn1L1ICwE5jGS',\n '27DbLUyeQa4I2vMdZhQQ73',\n '6NZZQo5RQKR6ZZpIM9oKuZ',\n '1l1q5sTYOWjwuWywQQKLzl',\n '4emOncXwptQyAKsd5aG4Du',\n '34zvr2f8rntekrdrBLeGnv',\n '69LhVMaVu2vZd02Wf9zARc']"
     },
     "execution_count": 10,
     "metadata": {},
     "output_type": "execute_result"
    }
   ],
   "source": [
    "top_fifteen"
   ],
   "metadata": {
    "collapsed": false
   }
  },
  {
   "cell_type": "code",
   "execution_count": 11,
   "outputs": [
    {
     "name": "stdout",
     "output_type": "stream",
     "text": [
      "{\n",
      "  \"collaborative\" : false,\n",
      "  \"description\" : \"A robot made this :)\",\n",
      "  \"external_urls\" : {\n",
      "    \"spotify\" : \"https://open.spotify.com/playlist/2apJnpwxEsjXTNpBfUp6Go\"\n",
      "  },\n",
      "  \"followers\" : {\n",
      "    \"href\" : null,\n",
      "    \"total\" : 0\n",
      "  },\n",
      "  \"href\" : \"https://api.spotify.com/v1/playlists/2apJnpwxEsjXTNpBfUp6Go\",\n",
      "  \"id\" : \"2apJnpwxEsjXTNpBfUp6Go\",\n",
      "  \"images\" : [ ],\n",
      "  \"name\" : \"productivity 2\",\n",
      "  \"owner\" : {\n",
      "    \"display_name\" : \"jojo\",\n",
      "    \"external_urls\" : {\n",
      "      \"spotify\" : \"https://open.spotify.com/user/1741pbein76gu4uhomjri2oql\"\n",
      "    },\n",
      "    \"href\" : \"https://api.spotify.com/v1/users/1741pbein76gu4uhomjri2oql\",\n",
      "    \"id\" : \"1741pbein76gu4uhomjri2oql\",\n",
      "    \"type\" : \"user\",\n",
      "    \"uri\" : \"spotify:user:1741pbein76gu4uhomjri2oql\"\n",
      "  },\n",
      "  \"primary_color\" : null,\n",
      "  \"public\" : true,\n",
      "  \"snapshot_id\" : \"MSwwMjM3MmVmNDk3ODc4MzY4Mzc1ZTExMjdkMDhlZjU5YmJiMDFhNjNh\",\n",
      "  \"tracks\" : {\n",
      "    \"href\" : \"https://api.spotify.com/v1/playlists/2apJnpwxEsjXTNpBfUp6Go/tracks\",\n",
      "    \"items\" : [ ],\n",
      "    \"limit\" : 100,\n",
      "    \"next\" : null,\n",
      "    \"offset\" : 0,\n",
      "    \"previous\" : null,\n",
      "    \"total\" : 0\n",
      "  },\n",
      "  \"type\" : \"playlist\",\n",
      "  \"uri\" : \"spotify:playlist:2apJnpwxEsjXTNpBfUp6Go\"\n",
      "}\n",
      "<ClientResponse(https://api.spotify.com/v1/playlists/2apJnpwxEsjXTNpBfUp6Go/tracks) [201 Created]>\n",
      "<CIMultiDictProxy('Content-Type': 'application/json; charset=utf-8', 'Cache-Control': 'private, max-age=0', 'x-robots-tag': 'noindex, nofollow', 'Access-Control-Allow-Origin': '*', 'Access-Control-Allow-Headers': 'Accept, App-Platform, Authorization, Content-Type, Origin, Retry-After, Spotify-App-Version, X-Cloud-Trace-Context, client-token, content-access-token', 'Access-Control-Allow-Methods': 'GET, POST, OPTIONS, PUT, DELETE, PATCH', 'Access-Control-Allow-Credentials': 'true', 'Access-Control-Max-Age': '604800', 'Content-Encoding': 'gzip', 'strict-transport-security': 'max-age=31536000', 'x-content-type-options': 'nosniff', 'Date': 'Fri, 02 Dec 2022 02:28:36 GMT', 'Server': 'envoy', 'Via': 'HTTP/2 edgeproxy, 1.1 google', 'Alt-Svc': 'h3=\":443\"; ma=2592000,h3-29=\":443\"; ma=2592000', 'Transfer-Encoding': 'chunked')>\n",
      "\n"
     ]
    }
   ],
   "source": [
    "token = 'BQBrBeXVR_fT5lJlCNXWWWZZTR5bmVdOJ_X8JeXLlbYrhbI_r5siVObB6V8DjDJu9_vpO4zz2j8_WJ8_fUYlsyZ5YG_QbogtcZCljup1TjK7DLw4broG0HvQJvq00rsTYZ8ptPpi3V9dX43354PhxRteYHCPna3cR5AfIA2ZTqhx6D3ezH4zmV9dGv1BajVA70ygnoeZdFb6zrnnVAeaLz8GCe58bBgldoEJyoAEGrpA90QpK2w1zWdmxxo0s_fl'\n",
    "await playlist_creation.create_playlist(token, \"productivity 2\", top_fifteen)"
   ],
   "metadata": {
    "collapsed": false
   }
  }
 ],
 "metadata": {
  "kernelspec": {
   "display_name": "Python 3",
   "language": "python",
   "name": "python3"
  },
  "language_info": {
   "codemirror_mode": {
    "name": "ipython",
    "version": 2
   },
   "file_extension": ".py",
   "mimetype": "text/x-python",
   "name": "python",
   "nbconvert_exporter": "python",
   "pygments_lexer": "ipython2",
   "version": "2.7.6"
  }
 },
 "nbformat": 4,
 "nbformat_minor": 0
}
