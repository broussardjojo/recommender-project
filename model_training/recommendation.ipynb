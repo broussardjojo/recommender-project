{
 "cells": [
  {
   "cell_type": "code",
   "execution_count": 1,
   "metadata": {
    "collapsed": true
   },
   "outputs": [
    {
     "ename": "IndentationError",
     "evalue": "expected an indented block (featurizing.py, line 187)",
     "output_type": "error",
     "traceback": [
      "Traceback \u001B[1;36m(most recent call last)\u001B[0m:\n",
      "\u001B[0m  File \u001B[0;32m~\\PycharmProjects\\recommender-project\\venv\\lib\\site-packages\\IPython\\core\\interactiveshell.py:3433\u001B[0m in \u001B[0;35mrun_code\u001B[0m\n    exec(code_obj, self.user_global_ns, self.user_ns)\u001B[0m\n",
      "\u001B[1;36m  Cell \u001B[1;32mIn [1], line 1\u001B[1;36m\n\u001B[1;33m    import featurizing\u001B[1;36m\n",
      "\u001B[1;36m  File \u001B[1;32m~\\PycharmProjects\\recommender-project\\model_training\\featurizing.py:187\u001B[1;36m\u001B[0m\n\u001B[1;33m    if __name__ == '__main__':\u001B[0m\n\u001B[1;37m    ^\u001B[0m\n\u001B[1;31mIndentationError\u001B[0m\u001B[1;31m:\u001B[0m expected an indented block\n"
     ]
    }
   ],
   "source": [
    "import featurizing\n",
    "import encoding\n",
    "import recommending\n",
    "import playlist_creation\n",
    "\n",
    "import pathlib\n",
    "import spotipy\n",
    "import api_setup\n",
    "import pandas as pd\n",
    "\n",
    "\n",
    "REPO_ROOT = pathlib.Path.cwd().parent"
   ]
  },
  {
   "cell_type": "code",
   "execution_count": null,
   "outputs": [],
   "source": [
    "training_dataset = pd.read_csv(REPO_ROOT / 'data/song_data/final_song_dataset.csv')\n",
    "token = 'BQAeyeAntUlF8a_NYwD72ABcyaB4Bm8pLF-ZwxubHxJUITDpbanvYFVV0vEspkd-sXkDzRdxg19zUPj9iZKib6DBApmwRDGhrR7ZIkp9tvxyjdX8gE0BptoEV5i3D83dJSj1Vq8KzSnJzN4gQH-QR-xuZIgeKNlyvG9KEZYKg7QyQhuwZ_aPPLdDcxpoXS2j1nVAWiu5bXR9SgW-h0LZ-8UJQ0_OuJNiz3PUe1DK88Ou0Zm6CN4s7eHN2Yoq6zvO'\n",
    "playlist_uri = 'spotify:playlist:3rD2bNoBlynvDVKG7rFgSP'"
   ],
   "metadata": {
    "collapsed": false
   }
  },
  {
   "cell_type": "code",
   "execution_count": null,
   "outputs": [],
   "source": [
    "# API Auth\n",
    "env_vars = api_setup.parse_api_kvs(REPO_ROOT / \"api-keys\")\n",
    "auth_manager = spotipy.SpotifyClientCredentials(env_vars['client_id'], env_vars['client_secret'])\n",
    "spotify = spotipy.Spotify(client_credentials_manager=auth_manager, backoff_factor=2)"
   ],
   "metadata": {
    "collapsed": false
   }
  },
  {
   "cell_type": "code",
   "execution_count": null,
   "outputs": [],
   "source": [
    "training_dataset = pd.read_csv(REPO_ROOT / 'data/song_data/song_dataset_with_jojos_music.csv')\n",
    "training_dataset = training_dataset.dropna()\n",
    "training_dataset, training_scalers_and_encoders = encoding.encode_training_data(training_dataset)"
   ],
   "metadata": {
    "collapsed": false
   }
  },
  {
   "cell_type": "code",
   "execution_count": null,
   "outputs": [],
   "source": [
    "sample_args = [spotify, env_vars['client_id'], env_vars['client_secret'], playlist_uri, training_scalers_and_encoders]\n",
    "playlist_feature_vector = await(featurizing.get_playlist_vector_from_uri(*sample_args))"
   ],
   "metadata": {
    "collapsed": false
   }
  },
  {
   "cell_type": "code",
   "execution_count": null,
   "outputs": [],
   "source": [
    "playlist_feature_vector"
   ],
   "metadata": {
    "collapsed": false
   }
  },
  {
   "cell_type": "code",
   "execution_count": null,
   "outputs": [],
   "source": [
    "training_dataset"
   ],
   "metadata": {
    "collapsed": false
   }
  },
  {
   "cell_type": "code",
   "execution_count": null,
   "outputs": [],
   "source": [
    "given_auth_args = featurizing.auth_args()\n",
    "playlist_feature_vector = await featurizing.get_playlist_vector_from_uri(*given_auth_args, playlist_uri, training_scalers_and_encoders)"
   ],
   "metadata": {
    "collapsed": false
   }
  },
  {
   "cell_type": "code",
   "execution_count": null,
   "outputs": [],
   "source": [
    "playlist_feature_vector"
   ],
   "metadata": {
    "collapsed": false
   }
  },
  {
   "cell_type": "code",
   "execution_count": null,
   "outputs": [],
   "source": [
    "top_fifteen = await recommending.get_k_closest_songs(\"spotify:playlist:4BXcK5svYftLAgEX0JQEQc\", training_dataset, training_scalers_and_encoders, k=25)"
   ],
   "metadata": {
    "collapsed": false
   }
  },
  {
   "cell_type": "code",
   "execution_count": null,
   "outputs": [],
   "source": [
    "top_fifteen"
   ],
   "metadata": {
    "collapsed": false
   }
  },
  {
   "cell_type": "code",
   "execution_count": null,
   "outputs": [],
   "source": [
    "token = 'BQBrBeXVR_fT5lJlCNXWWWZZTR5bmVdOJ_X8JeXLlbYrhbI_r5siVObB6V8DjDJu9_vpO4zz2j8_WJ8_fUYlsyZ5YG_QbogtcZCljup1TjK7DLw4broG0HvQJvq00rsTYZ8ptPpi3V9dX43354PhxRteYHCPna3cR5AfIA2ZTqhx6D3ezH4zmV9dGv1BajVA70ygnoeZdFb6zrnnVAeaLz8GCe58bBgldoEJyoAEGrpA90QpK2w1zWdmxxo0s_fl'\n",
    "await playlist_creation.create_playlist(token, \"make out 2\", top_fifteen)"
   ],
   "metadata": {
    "collapsed": false
   }
  }
 ],
 "metadata": {
  "kernelspec": {
   "display_name": "Python 3",
   "language": "python",
   "name": "python3"
  },
  "language_info": {
   "codemirror_mode": {
    "name": "ipython",
    "version": 2
   },
   "file_extension": ".py",
   "mimetype": "text/x-python",
   "name": "python",
   "nbconvert_exporter": "python",
   "pygments_lexer": "ipython2",
   "version": "2.7.6"
  }
 },
 "nbformat": 4,
 "nbformat_minor": 0
}
