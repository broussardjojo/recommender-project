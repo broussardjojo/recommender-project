{
 "cells": [
  {
   "cell_type": "code",
   "execution_count": 13,
   "metadata": {
    "collapsed": true
   },
   "outputs": [],
   "source": [
    "import featurizing\n",
    "import encoding\n",
    "import recommending\n",
    "import playlist_creation\n",
    "\n",
    "import pathlib\n",
    "import spotipy\n",
    "import api_setup\n",
    "import pandas as pd\n",
    "\n",
    "\n",
    "REPO_ROOT = pathlib.Path.cwd().parent"
   ]
  },
  {
   "cell_type": "code",
   "execution_count": 14,
   "outputs": [],
   "source": [
    "# API Auth\n",
    "env_vars = api_setup.parse_api_kvs(REPO_ROOT / \"api-keys\")\n",
    "auth_manager = spotipy.SpotifyClientCredentials(env_vars['client_id'], env_vars['client_secret'])\n",
    "spotify = spotipy.Spotify(client_credentials_manager=auth_manager, backoff_factor=2)"
   ],
   "metadata": {
    "collapsed": false
   }
  },
  {
   "cell_type": "code",
   "execution_count": 15,
   "outputs": [],
   "source": [
    "training_dataset = pd.read_csv(REPO_ROOT / 'data/song_data/song_dataset_with_jojos_music.csv')\n",
    "training_dataset = training_dataset.dropna()\n",
    "training_dataset, training_scalers_and_encoders = encoding.encode_training_data(training_dataset)"
   ],
   "metadata": {
    "collapsed": false
   }
  },
  {
   "cell_type": "code",
   "execution_count": 16,
   "outputs": [
    {
     "ename": "ContentTypeError",
     "evalue": "0, message='Attempt to decode JSON with unexpected mimetype: ', url=URL('https://api.spotify.com/v1/tracks/58e7V70Em6FABOiln4jNoZ')",
     "output_type": "error",
     "traceback": [
      "\u001B[1;31m---------------------------------------------------------------------------\u001B[0m",
      "\u001B[1;31mContentTypeError\u001B[0m                          Traceback (most recent call last)",
      "Cell \u001B[1;32mIn [16], line 2\u001B[0m\n\u001B[0;32m      1\u001B[0m sample_args \u001B[38;5;241m=\u001B[39m [spotify, env_vars[\u001B[38;5;124m'\u001B[39m\u001B[38;5;124mclient_id\u001B[39m\u001B[38;5;124m'\u001B[39m], env_vars[\u001B[38;5;124m'\u001B[39m\u001B[38;5;124mclient_secret\u001B[39m\u001B[38;5;124m'\u001B[39m], \u001B[38;5;124m\"\u001B[39m\u001B[38;5;124mspotify:playlist:76S2ElS2cyzY624wGBGKpB\u001B[39m\u001B[38;5;124m\"\u001B[39m, training_scalers_and_encoders]\n\u001B[1;32m----> 2\u001B[0m playlist_feature_vector \u001B[38;5;241m=\u001B[39m \u001B[38;5;28;01mawait\u001B[39;00m(featurizing\u001B[38;5;241m.\u001B[39mget_playlist_vector_from_uri(\u001B[38;5;241m*\u001B[39msample_args))\n",
      "File \u001B[1;32m~\\PycharmProjects\\recommender-project\\model_training\\featurizing.py:169\u001B[0m, in \u001B[0;36mget_playlist_vector_from_uri\u001B[1;34m(spotify_client, client_id, client_secret, playlist_uri, scalers_and_encoders)\u001B[0m\n\u001B[0;32m    167\u001B[0m \u001B[38;5;28;01masync\u001B[39;00m \u001B[38;5;28;01mdef\u001B[39;00m \u001B[38;5;21mget_playlist_vector_from_uri\u001B[39m(spotify_client: spotipy\u001B[38;5;241m.\u001B[39mSpotify, client_id: \u001B[38;5;28mstr\u001B[39m, client_secret: \u001B[38;5;28mstr\u001B[39m,\n\u001B[0;32m    168\u001B[0m                                        playlist_uri: \u001B[38;5;28mstr\u001B[39m, scalers_and_encoders: Optional[\u001B[38;5;28mdict\u001B[39m] \u001B[38;5;241m=\u001B[39m \u001B[38;5;28;01mNone\u001B[39;00m) \u001B[38;5;241m-\u001B[39m\u001B[38;5;241m>\u001B[39m pd\u001B[38;5;241m.\u001B[39mDataFrame:\n\u001B[1;32m--> 169\u001B[0m     playlist_features \u001B[38;5;241m=\u001B[39m \u001B[38;5;28;01mawait\u001B[39;00m dataframe_from_playlist(spotify_client, client_id, client_secret, playlist_uri)\n\u001B[0;32m    170\u001B[0m     \u001B[38;5;28;01mif\u001B[39;00m \u001B[38;5;129;01mnot\u001B[39;00m scalers_and_encoders:\n\u001B[0;32m    171\u001B[0m         scalers_and_encoders \u001B[38;5;241m=\u001B[39m encoding\u001B[38;5;241m.\u001B[39mfit_scalers_and_encoders(playlist_features)\n",
      "File \u001B[1;32m~\\PycharmProjects\\recommender-project\\model_training\\featurizing.py:151\u001B[0m, in \u001B[0;36mdataframe_from_playlist\u001B[1;34m(spotify_client, client_id, client_secret, playlist_uri)\u001B[0m\n\u001B[0;32m    149\u001B[0m \u001B[38;5;28;01masync\u001B[39;00m \u001B[38;5;28;01mwith\u001B[39;00m ClientSession(headers\u001B[38;5;241m=\u001B[39mget_header_with_token(client_id, client_secret)) \u001B[38;5;28;01mas\u001B[39;00m session:\n\u001B[0;32m    150\u001B[0m     tasks \u001B[38;5;241m=\u001B[39m [asyncio\u001B[38;5;241m.\u001B[39mensure_future(get_artist_from_track_uri(session, uri)) \u001B[38;5;28;01mfor\u001B[39;00m uri \u001B[38;5;129;01min\u001B[39;00m playlist_song_uris]\n\u001B[1;32m--> 151\u001B[0m     artist_info \u001B[38;5;241m=\u001B[39m \u001B[38;5;28;01mawait\u001B[39;00m(asyncio\u001B[38;5;241m.\u001B[39mgather(\u001B[38;5;241m*\u001B[39mtasks))\n\u001B[0;32m    153\u001B[0m \u001B[38;5;66;03m# Create the dataframe we expect >:(\u001B[39;00m\n\u001B[0;32m    154\u001B[0m song_features_df \u001B[38;5;241m=\u001B[39m pd\u001B[38;5;241m.\u001B[39mDataFrame\u001B[38;5;241m.\u001B[39mfrom_records(playlist_song_features)\n",
      "File \u001B[1;32m~\\PycharmProjects\\recommender-project\\model_training\\featurizing.py:106\u001B[0m, in \u001B[0;36mget_artist_from_track_uri\u001B[1;34m(session, track_uri)\u001B[0m\n\u001B[0;32m    103\u001B[0m endpoint \u001B[38;5;241m=\u001B[39m \u001B[38;5;124mf\u001B[39m\u001B[38;5;124m\"\u001B[39m\u001B[38;5;124mhttps://api.spotify.com/v1/tracks/\u001B[39m\u001B[38;5;132;01m{\u001B[39;00muri\u001B[38;5;132;01m}\u001B[39;00m\u001B[38;5;124m\"\u001B[39m\n\u001B[0;32m    105\u001B[0m \u001B[38;5;28;01masync\u001B[39;00m \u001B[38;5;28;01mwith\u001B[39;00m session\u001B[38;5;241m.\u001B[39mget(endpoint) \u001B[38;5;28;01mas\u001B[39;00m response:\n\u001B[1;32m--> 106\u001B[0m     response \u001B[38;5;241m=\u001B[39m \u001B[38;5;28;01mawait\u001B[39;00m(response\u001B[38;5;241m.\u001B[39mjson())\n\u001B[0;32m    107\u001B[0m     track_name \u001B[38;5;241m=\u001B[39m response[\u001B[38;5;124m'\u001B[39m\u001B[38;5;124mname\u001B[39m\u001B[38;5;124m'\u001B[39m]\n\u001B[0;32m    108\u001B[0m     artist_uri \u001B[38;5;241m=\u001B[39m response[\u001B[38;5;124m'\u001B[39m\u001B[38;5;124martists\u001B[39m\u001B[38;5;124m'\u001B[39m][\u001B[38;5;241m0\u001B[39m][\u001B[38;5;124m'\u001B[39m\u001B[38;5;124muri\u001B[39m\u001B[38;5;124m'\u001B[39m]\n",
      "File \u001B[1;32m~\\PycharmProjects\\recommender-project\\venv\\lib\\site-packages\\aiohttp\\client_reqrep.py:1104\u001B[0m, in \u001B[0;36mClientResponse.json\u001B[1;34m(self, encoding, loads, content_type)\u001B[0m\n\u001B[0;32m   1102\u001B[0m     ctype \u001B[38;5;241m=\u001B[39m \u001B[38;5;28mself\u001B[39m\u001B[38;5;241m.\u001B[39mheaders\u001B[38;5;241m.\u001B[39mget(hdrs\u001B[38;5;241m.\u001B[39mCONTENT_TYPE, \u001B[38;5;124m\"\u001B[39m\u001B[38;5;124m\"\u001B[39m)\u001B[38;5;241m.\u001B[39mlower()\n\u001B[0;32m   1103\u001B[0m     \u001B[38;5;28;01mif\u001B[39;00m \u001B[38;5;129;01mnot\u001B[39;00m _is_expected_content_type(ctype, content_type):\n\u001B[1;32m-> 1104\u001B[0m         \u001B[38;5;28;01mraise\u001B[39;00m ContentTypeError(\n\u001B[0;32m   1105\u001B[0m             \u001B[38;5;28mself\u001B[39m\u001B[38;5;241m.\u001B[39mrequest_info,\n\u001B[0;32m   1106\u001B[0m             \u001B[38;5;28mself\u001B[39m\u001B[38;5;241m.\u001B[39mhistory,\n\u001B[0;32m   1107\u001B[0m             message\u001B[38;5;241m=\u001B[39m(\n\u001B[0;32m   1108\u001B[0m                 \u001B[38;5;124m\"\u001B[39m\u001B[38;5;124mAttempt to decode JSON with \u001B[39m\u001B[38;5;124m\"\u001B[39m \u001B[38;5;124m\"\u001B[39m\u001B[38;5;124munexpected mimetype: \u001B[39m\u001B[38;5;132;01m%s\u001B[39;00m\u001B[38;5;124m\"\u001B[39m \u001B[38;5;241m%\u001B[39m ctype\n\u001B[0;32m   1109\u001B[0m             ),\n\u001B[0;32m   1110\u001B[0m             headers\u001B[38;5;241m=\u001B[39m\u001B[38;5;28mself\u001B[39m\u001B[38;5;241m.\u001B[39mheaders,\n\u001B[0;32m   1111\u001B[0m         )\n\u001B[0;32m   1113\u001B[0m stripped \u001B[38;5;241m=\u001B[39m \u001B[38;5;28mself\u001B[39m\u001B[38;5;241m.\u001B[39m_body\u001B[38;5;241m.\u001B[39mstrip()  \u001B[38;5;66;03m# type: ignore[union-attr]\u001B[39;00m\n\u001B[0;32m   1114\u001B[0m \u001B[38;5;28;01mif\u001B[39;00m \u001B[38;5;129;01mnot\u001B[39;00m stripped:\n",
      "\u001B[1;31mContentTypeError\u001B[0m: 0, message='Attempt to decode JSON with unexpected mimetype: ', url=URL('https://api.spotify.com/v1/tracks/58e7V70Em6FABOiln4jNoZ')"
     ]
    }
   ],
   "source": [
    "sample_args = [spotify, env_vars['client_id'], env_vars['client_secret'], \"spotify:playlist:76S2ElS2cyzY624wGBGKpB\", training_scalers_and_encoders]\n",
    "playlist_feature_vector = await(featurizing.get_playlist_vector_from_uri(*sample_args))"
   ],
   "metadata": {
    "collapsed": false
   }
  },
  {
   "cell_type": "code",
   "execution_count": null,
   "outputs": [],
   "source": [
    "playlist_feature_vector"
   ],
   "metadata": {
    "collapsed": false
   }
  },
  {
   "cell_type": "code",
   "execution_count": null,
   "outputs": [],
   "source": [
    "training_dataset"
   ],
   "metadata": {
    "collapsed": false
   }
  },
  {
   "cell_type": "code",
   "execution_count": null,
   "outputs": [],
   "source": [
    "given_auth_args = featurizing.auth_args()\n",
    "playlist_uri = 'spotify:playlist:76S2ElS2cyzY624wGBGKpB'\n",
    "playlist_feature_vector = await featurizing.get_playlist_vector_from_uri(*given_auth_args, playlist_uri, training_scalers_and_encoders)"
   ],
   "metadata": {
    "collapsed": false
   }
  },
  {
   "cell_type": "code",
   "execution_count": null,
   "outputs": [],
   "source": [
    "playlist_feature_vector"
   ],
   "metadata": {
    "collapsed": false
   }
  },
  {
   "cell_type": "code",
   "execution_count": null,
   "outputs": [],
   "source": [
    "top_fifteen = await recommending.get_k_closest_songs(\"spotify:playlist:4BXcK5svYftLAgEX0JQEQc\", training_dataset, training_scalers_and_encoders, k=25)"
   ],
   "metadata": {
    "collapsed": false
   }
  },
  {
   "cell_type": "code",
   "execution_count": null,
   "outputs": [],
   "source": [
    "top_fifteen"
   ],
   "metadata": {
    "collapsed": false
   }
  },
  {
   "cell_type": "code",
   "execution_count": null,
   "outputs": [],
   "source": [
    "token = 'BQBrBeXVR_fT5lJlCNXWWWZZTR5bmVdOJ_X8JeXLlbYrhbI_r5siVObB6V8DjDJu9_vpO4zz2j8_WJ8_fUYlsyZ5YG_QbogtcZCljup1TjK7DLw4broG0HvQJvq00rsTYZ8ptPpi3V9dX43354PhxRteYHCPna3cR5AfIA2ZTqhx6D3ezH4zmV9dGv1BajVA70ygnoeZdFb6zrnnVAeaLz8GCe58bBgldoEJyoAEGrpA90QpK2w1zWdmxxo0s_fl'\n",
    "await playlist_creation.create_playlist(token, \"productivity 2\", top_fifteen)"
   ],
   "metadata": {
    "collapsed": false
   }
  }
 ],
 "metadata": {
  "kernelspec": {
   "display_name": "Python 3",
   "language": "python",
   "name": "python3"
  },
  "language_info": {
   "codemirror_mode": {
    "name": "ipython",
    "version": 2
   },
   "file_extension": ".py",
   "mimetype": "text/x-python",
   "name": "python",
   "nbconvert_exporter": "python",
   "pygments_lexer": "ipython2",
   "version": "2.7.6"
  }
 },
 "nbformat": 4,
 "nbformat_minor": 0
}
