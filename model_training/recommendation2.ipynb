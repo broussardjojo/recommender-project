{
 "cells": [
  {
   "cell_type": "code",
   "execution_count": 16,
   "metadata": {
    "collapsed": true
   },
   "outputs": [],
   "source": [
    "import featurizing\n",
    "import encoding\n",
    "import recommending\n",
    "import playlist_creation\n",
    "\n",
    "import pathlib\n",
    "import spotipy\n",
    "from spotipy.oauth2 import SpotifyOAuth\n",
    "import api_setup\n",
    "from sklearn.metrics.pairwise import cosine_similarity\n",
    "\n",
    "from typing import List, Optional, Callable\n",
    "import pandas as pd\n",
    "\n",
    "\n",
    "REPO_ROOT = pathlib.Path.cwd().parent\n",
    "\n",
    "EXPECTED_COLUMN_ORDER = ['track_id', 'artist_name', 'track_name', 'duration_ms', 'danceability', 'energy', 'key',\n",
    "                         'loudness', 'mode', 'speechiness', 'acousticness', 'instrumentalness', 'liveness', 'valence',\n",
    "                         'tempo', 'time_signature', 'genres', 'artist_popularity']"
   ]
  },
  {
   "cell_type": "code",
   "execution_count": 17,
   "outputs": [],
   "source": [
    "# API Auth\n",
    "scope = ['playlist-modify-public', 'playlist-modify-private']\n",
    "env_vars = api_setup.parse_api_kvs(REPO_ROOT / \"api-keys\")\n",
    "sp = spotipy.Spotify(auth_manager=SpotifyOAuth(client_id=env_vars['client_id'], client_secret=env_vars['client_secret'], redirect_uri=env_vars['redirect_uri'], scope=scope), retries=3)"
   ],
   "metadata": {
    "collapsed": false
   }
  },
  {
   "cell_type": "code",
   "execution_count": 18,
   "outputs": [],
   "source": [
    "playlist_uri = 'spotify:playlist:4BXcK5svYftLAgEX0JQEQc'\n",
    "playlist_length = 25\n",
    "new_playlist_name = \"productivity 2\""
   ],
   "metadata": {
    "collapsed": false
   }
  },
  {
   "cell_type": "code",
   "execution_count": 19,
   "outputs": [],
   "source": [
    "# Code using spotify API to featurize songs/playlists\n",
    "def split_into_sublists(input_list, chunk_size=25):\n",
    "\tupto = 0\n",
    "\toutput_lists = []\n",
    "\twhile True:\n",
    "\t\tif upto + chunk_size >= len(input_list):\n",
    "\t\t\toutput_lists.append(input_list[upto:-1])\n",
    "\t\t\tbreak\n",
    "\t\telse:\n",
    "\t\t\toutput_lists.append(input_list[upto:upto+chunk_size])\n",
    "\t\t\tupto += chunk_size\n",
    "\toutput_lists = [sublist for sublist in output_lists if sublist]\n",
    "\treturn output_lists\n",
    "\n",
    "def get_artist_from_track_uri(spotify: spotipy.Spotify, track_uri: str) -> dict:\n",
    "\turi = track_uri.split(\":\")[-1]\n",
    "\ttrack_info = spotify.track(uri)\n",
    "\tartist_info = spotify.artist(track_info['artists'][0]['uri'])\n",
    "\treturn {'track_uri': uri,\n",
    "\t\t\t'artist_name': artist_info['name'],\n",
    "\t\t\t'artist_popularity': artist_info['popularity'],\n",
    "\t\t\t'artist_genres': artist_info['genres'],\n",
    "\t\t\t'track_name': track_info['name']}\n",
    "\n",
    "def get_artists_from_track_uris(spotify: spotipy.Spotify, track_uris: str) -> List[dict]:\n",
    "\ttrack_uris = [track_uri.split(\":\")[-1] for track_uri in track_uris]\n",
    "\tchunked_track_uris = split_into_sublists(track_uris)\n",
    "\tresults = []\n",
    "\tfor chunk in chunked_track_uris:\n",
    "\t\t# ??? For some reason .tracks isn't working - gonna try to unchunk it\n",
    "\t\tfor uri in chunk:\n",
    "\t\t\ttrack_info = spotify.track(uri)\n",
    "\t\t\tartist = track_info['artists'][0]['id']\n",
    "\t\t\tartist_info = spotify.artist(artist)\n",
    "\t\t\tchunk_results = [{'track_uri': track_info['id'],\n",
    "\t\t\t\t\t\t\t  'artist_name': artist_info['name'],\n",
    "\t\t\t\t\t\t\t  'artist_popularity': artist_info['popularity'],\n",
    "\t\t\t\t\t\t\t  'artist_genres': artist_info['genres'],\n",
    "\t\t\t\t\t\t\t  'track_name': track_info['name']}]\n",
    "\t\t\tresults.extend(chunk_results)\n",
    "\treturn results\n",
    "\n",
    "def featurize_song_list(spotify: spotipy.Spotify, track_uris: List[str]) -> dict:\n",
    "\ttrack_uris_chunked = split_into_sublists(track_uris)\n",
    "\tfeatures = []\n",
    "\tfor chunk in track_uris_chunked:\n",
    "\t\tfeatures.extend(spotify.audio_features(chunk))\n",
    "\treturn features\n",
    "\n",
    "def get_songs_from_playlist(spotify_client: spotipy.Spotify, playlist_uri: str) -> List[str]:\n",
    "    \"\"\"\n",
    "    Return a list of strings of the URIs of the tracks in this playlist.\n",
    "    \"\"\"\n",
    "    tracks_json = spotify_client.playlist_items(playlist_uri)\n",
    "    return [track['track']['uri'].split(\":\")[-1] for track in tracks_json['items']]\n",
    "\n",
    "def get_playlist_song_features(spotify: spotipy.Spotify, playlist_uri: str) -> dict:\n",
    "\tsong_uris = get_songs_from_playlist(spotify, playlist_uri)\n",
    "\tplaylist_song_features = featurize_song_list(spotify, song_uris)\n",
    "\treturn playlist_song_features\n",
    "\n",
    "def dataframe_from_playlist(spotify: spotipy.Spotify, playlist_uri: str) -> pd.DataFrame:\n",
    "\tplaylist_song_features = get_playlist_song_features(spotify, playlist_uri)\n",
    "\tplaylist_song_uris = [features['uri'] for features in playlist_song_features]\n",
    "\tplaylist_artist_info = get_artists_from_track_uris(spotify, playlist_song_uris)\n",
    "\n",
    "\tsong_features_df = pd.DataFrame.from_records(playlist_song_features)\n",
    "\tartist_info_df = pd.DataFrame.from_records(playlist_artist_info).set_index('track_uri')\n",
    "\n",
    "\tsong_features_df = song_features_df.join(artist_info_df, on='id')\n",
    "\tsong_features_df = song_features_df.drop(columns=[\"type\", \"uri\", \"track_href\", \"analysis_url\"])\n",
    "\tsong_features_df = song_features_df.rename(mapper={\"artist_genres\": \"genres\", \"id\": \"track_id\"}, axis=1)\n",
    "\tsong_features_df = song_features_df[EXPECTED_COLUMN_ORDER]\n",
    "\treturn song_features_df\n",
    "\n",
    "def get_playlist_vector_from_uri(spotify: spotipy.Spotify, playlist_uri: str, scalers_and_encoders: Optional[dict] = None) -> pd.DataFrame:\n",
    "\tplaylist_features = dataframe_from_playlist(spotify, playlist_uri)\n",
    "\tif not scalers_and_encoders:\n",
    "\t\tscalers_and_encoders = encoding.fit_scalers_and_encoders(playlist_features)\n",
    "\tplaylist_features = encoding.encode_dataframe_given_scalers(playlist_features, scalers_and_encoders)\n",
    "\tplaylist_features = playlist_features.drop(columns=[*encoding.UNUSED_COLUMNS, 'track_id'])\n",
    "\tplaylist_feature_vector = playlist_features.sum(axis=0, numeric_only=False)\n",
    "\treturn playlist_feature_vector\n",
    "\n",
    "def get_k_closest_songs(spotify: spotipy.Spotify,\n",
    "\t\t\t\t\t\tplaylist_uri: str,\n",
    "                        training_data: pd.DataFrame,\n",
    "                        training_transformers: dict,\n",
    "                        k: int = 15,\n",
    "                        comparison: Callable = cosine_similarity) -> List[str]:\n",
    "    \"\"\"\n",
    "    Returns a list of the URIs of the k closest songs found in the dataset.\n",
    "    :param playlist_uri:\n",
    "    :param training_data:\n",
    "    :param training_transformers:\n",
    "    :param k:\n",
    "    :param comparison:\n",
    "    :return:\n",
    "    \"\"\"\n",
    "    training_data_to_use = training_data.drop(columns=[*encoding.UNUSED_COLUMNS, 'genres'])\n",
    "\n",
    "    playlist_feature_vector = get_playlist_vector_from_uri(spotify, playlist_uri, training_transformers)\n",
    "    training_data_to_use['similarity'] = comparison(playlist_feature_vector.values.reshape(1, -1),\n",
    "                                                    training_data_to_use[training_data_to_use.columns]).transpose()\n",
    "    training_data_to_use = training_data_to_use.sort_values(by='similarity', ascending=False)\n",
    "    return list(training_data_to_use.head(k+1).index)\n",
    "\n",
    "def create_playlist(spotify: spotipy.Spotify,\n",
    "\t\t\t\t\ttrack_uris_to_add: List[str],\n",
    "\t\t\t\t\tplaylist_name: str):\n",
    "\t# Get current user ID - the playlist will be created for this user\n",
    "\tcurrent_user = spotify.me()['id']\n",
    "\t# Create the playlist for the current user - Defaults to public and not collaborative\n",
    "\tplaylist_id = spotify.user_playlist_create(current_user, playlist_name)['id']\n",
    "\ttrack_uris_to_add_chunked = split_into_sublists(track_uris_to_add)\n",
    "\tfor chunk in track_uris_to_add_chunked:\n",
    "\t\tspotify.playlist_add_items(playlist_id, chunk)\n",
    "\tprint(f\"Playlist {playlist_name} created with ID {playlist_id} !\")\n"
   ],
   "metadata": {
    "collapsed": false
   }
  },
  {
   "cell_type": "code",
   "execution_count": 20,
   "outputs": [
    {
     "name": "stderr",
     "output_type": "stream",
     "text": [
      "C:\\Users\\Jojo Broussard\\AppData\\Local\\Temp\\ipykernel_2472\\1651847696.py:1: DtypeWarning: Columns (1,2,16) have mixed types. Specify dtype option on import or set low_memory=False.\n",
      "  training_dataset = pd.read_csv(REPO_ROOT / 'data/song_data/final_song_dataset.csv')\n"
     ]
    }
   ],
   "source": [
    "training_dataset = pd.read_csv(REPO_ROOT / 'data/song_data/final_song_dataset.csv')\n",
    "training_dataset = training_dataset.dropna(subset=['artist_popularity', 'key', 'mode', 'time_signature'])\n",
    "training_dataset, training_scalers_and_encoders = encoding.encode_training_data(training_dataset)"
   ],
   "metadata": {
    "collapsed": false
   }
  },
  {
   "cell_type": "code",
   "execution_count": 21,
   "outputs": [
    {
     "name": "stdout",
     "output_type": "stream",
     "text": [
      "Playlist productivity 2 created with ID 7CWZs4xnojrctX1bCsFjth !\n"
     ]
    }
   ],
   "source": [
    "songs_for_playlist = get_k_closest_songs(sp, playlist_uri, training_dataset, training_scalers_and_encoders, k=playlist_length)\n",
    "create_playlist(sp, songs_for_playlist, new_playlist_name)"
   ],
   "metadata": {
    "collapsed": false
   }
  },
  {
   "cell_type": "code",
   "execution_count": 22,
   "outputs": [
    {
     "data": {
      "text/plain": "['3NHJ4SFz1CGtnJlvoiNpbe',\n '2SL00Ua6Ge1SFEr7DNvbBr',\n '1Avnd5xLg7HmaNofmYk7RQ',\n '36FEzEnq6g0uHsT3KppoWq',\n '1Pfi65ofIHYvTf1bUlVHkt',\n '16YMdUvNYqe9Nx0ifEaCEZ',\n '0weCzxz28mlnJktio98pJ8',\n '5nMWNjCkesUlHXjjfBNsAL',\n '0ypUOgzrWxxDwKRVDR0L9g',\n '7bSVtSGWoYjEWQHkja0ZAC',\n '2ZbZjs4h1rTULbnrUHtuPk',\n '17lqwCvIzv7WDbDYBGt7pi',\n '27wpwM3fY7SEVG3aJSS9M3',\n '0BWax5Tw19xdXmEaJP1NSK',\n '6VvYKjGL96kwsJJbzbSeYi',\n '0ORp8JlYkPejmeL4X0Fu7r',\n '0zNnrjAohPi8ghYD3t5HIX',\n '4M7UWuLSDGn1L1ICwE5jGS',\n '5qyHP14pcc5Pn1j6EXha3b',\n '3KGskj4WfjTQ59wbigZjCQ',\n '27DbLUyeQa4I2vMdZhQQ73',\n '6NZZQo5RQKR6ZZpIM9oKuZ',\n '66lILWDSicIwMw0f2AbEAT',\n '5G26TAdsUTs4DU7iktdyBX',\n '4emOncXwptQyAKsd5aG4Du',\n '34zvr2f8rntekrdrBLeGnv']"
     },
     "execution_count": 22,
     "metadata": {},
     "output_type": "execute_result"
    }
   ],
   "source": [
    "songs_for_playlist"
   ],
   "metadata": {
    "collapsed": false
   }
  }
 ],
 "metadata": {
  "kernelspec": {
   "display_name": "Python 3",
   "language": "python",
   "name": "python3"
  },
  "language_info": {
   "codemirror_mode": {
    "name": "ipython",
    "version": 2
   },
   "file_extension": ".py",
   "mimetype": "text/x-python",
   "name": "python",
   "nbconvert_exporter": "python",
   "pygments_lexer": "ipython2",
   "version": "2.7.6"
  }
 },
 "nbformat": 4,
 "nbformat_minor": 0
}
