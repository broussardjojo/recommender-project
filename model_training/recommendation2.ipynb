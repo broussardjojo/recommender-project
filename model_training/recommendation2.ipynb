{
 "cells": [
  {
   "cell_type": "code",
   "execution_count": 1,
   "metadata": {
    "collapsed": true
   },
   "outputs": [],
   "source": [
    "import featurizing\n",
    "import encoding\n",
    "import recommending\n",
    "import playlist_creation\n",
    "\n",
    "import pathlib\n",
    "import spotipy\n",
    "from spotipy.oauth2 import SpotifyOAuth\n",
    "import api_setup\n",
    "from sklearn.metrics.pairwise import cosine_similarity\n",
    "\n",
    "from typing import List, Optional, Callable\n",
    "import pandas as pd\n",
    "\n",
    "\n",
    "REPO_ROOT = pathlib.Path.cwd().parent\n",
    "\n",
    "EXPECTED_COLUMN_ORDER = ['track_id', 'artist_name', 'track_name', 'duration_ms', 'danceability', 'energy', 'key',\n",
    "                         'loudness', 'mode', 'speechiness', 'acousticness', 'instrumentalness', 'liveness', 'valence',\n",
    "                         'tempo', 'time_signature', 'genres', 'artist_popularity']"
   ]
  },
  {
   "cell_type": "code",
   "execution_count": 2,
   "outputs": [],
   "source": [
    "# API Auth\n",
    "scope = ['playlist-modify-public', 'playlist-modify-private']\n",
    "env_vars = api_setup.parse_api_kvs(REPO_ROOT / \"api-keys\")\n",
    "sp = spotipy.Spotify(auth_manager=SpotifyOAuth(client_id=env_vars['client_id'], client_secret=env_vars['client_secret'], redirect_uri=env_vars['redirect_uri'], scope=scope))"
   ],
   "metadata": {
    "collapsed": false
   }
  },
  {
   "cell_type": "code",
   "execution_count": 3,
   "outputs": [],
   "source": [
    "playlist_uri = 'spotify:playlist:2uP6neXdGTbCZCDExKE6TI'"
   ],
   "metadata": {
    "collapsed": false
   }
  },
  {
   "cell_type": "code",
   "execution_count": 4,
   "outputs": [],
   "source": [
    "# Code using spotify API to featurize songs/playlists\n",
    "def split_into_sublists(input_list, chunk_size=50):\n",
    "    upto = 0\n",
    "    output_lists = []\n",
    "    while True:\n",
    "        if upto + chunk_size >= len(input_list):\n",
    "            output_lists.append(input_list[upto:-1])\n",
    "            break\n",
    "        else:\n",
    "            output_lists.append(input_list[upto:upto+chunk_size])\n",
    "            upto += chunk_size\n",
    "    return output_lists\n",
    "\n",
    "def get_artist_from_track_uri(spotify: spotipy.Spotify, track_uri: str) -> dict:\n",
    "\turi = track_uri.split(\":\")[-1]\n",
    "\ttrack_info = spotify.track(uri)\n",
    "\tartist_info = spotify.artist(track_info['artists'][0]['uri'])\n",
    "\treturn {'track_uri': uri,\n",
    "\t\t\t'artist_name': artist_info['name'],\n",
    "\t\t\t'artist_popularity': artist_info['popularity'],\n",
    "\t\t\t'artist_genres': artist_info['genres'],\n",
    "\t\t\t'track_name': track_info['name']}\n",
    "\n",
    "def get_artists_from_track_uris(spotify: spotipy.Spotify, track_uris: str) -> List[dict]:\n",
    "\ttrack_uris = [track_uri.split(\":\")[-1] for track_uri in track_uris]\n",
    "\tchunked_track_uris = split_into_sublists(track_uris)\n",
    "\tresults = []\n",
    "\tfor chunk in chunked_track_uris:\n",
    "\t\ttracks_info = spotify.tracks(chunk)['tracks']\n",
    "\t\tartists = [track_info['artists'][0]['id'] for track_info in tracks_info]\n",
    "\t\tartists_info = spotify.artists(artists)\n",
    "\t\tchunk_results = [{'track_uri': track_info['id'],\n",
    "\t\t\t\t\t\t  'artist_name': artist_info['name'],\n",
    "\t\t\t\t\t\t  'artist_popularity': artist_info['popularity'],\n",
    "\t\t\t\t\t\t  'artist_genres': artist_info['genres'],\n",
    "\t\t\t\t\t\t  'track_name': track_info['name']}\n",
    "\t\t\t\t\t\t for track_info, artist_info in zip(tracks_info, artists_info)]\n",
    "\t\tresults.extend(chunk_results)\n",
    "\treturn results\n",
    "\n",
    "def featurize_song_list(spotify: spotipy.Spotify, track_uris: List[str]) -> dict:\n",
    "\ttrack_uris_chunked = split_into_sublists(track_uris)\n",
    "\tfeatures = []\n",
    "\tfor chunk in track_uris_chunked:\n",
    "\t\tfeatures.extend(spotify.audio_features(chunk))\n",
    "\treturn features\n",
    "\n",
    "def get_songs_from_playlist(spotify_client: spotipy.Spotify, playlist_uri: str) -> List[str]:\n",
    "    \"\"\"\n",
    "    Return a list of strings of the URIs of the tracks in this playlist.\n",
    "    \"\"\"\n",
    "    tracks_json = spotify_client.playlist_items(playlist_uri)\n",
    "    return [track['track']['uri'].split(\":\")[-1] for track in tracks_json['items']]\n",
    "\n",
    "def get_playlist_song_features(spotify: spotipy.Spotify, playlist_uri: str) -> dict:\n",
    "\tsong_uris = get_songs_from_playlist(spotify, playlist_uri)\n",
    "\tplaylist_song_features = featurize_song_list(spotify, song_uris)\n",
    "\treturn playlist_song_features\n",
    "\n",
    "def dataframe_from_playlist(spotify: spotipy.Spotify, playlist_uri: str) -> pd.DataFrame:\n",
    "\tplaylist_song_features = get_playlist_song_features(spotify, playlist_uri)\n",
    "\tplaylist_song_uris = [features['uri'] for features in playlist_song_features]\n",
    "\tplaylist_artist_info = get_artists_from_track_uris(spotify, playlist_song_uris)\n",
    "\n",
    "\tsong_features_df = pd.DataFrame.from_records(playlist_song_features)\n",
    "\tartist_info_df = pd.DataFrame.from_records(playlist_artist_info)\n",
    "\n",
    "\tsong_features_df = song_features_df.join(artist_info_df, on='id')\n",
    "\tsong_features_df = song_features_df.drop(columns=[\"type\", \"uri\", \"track_href\", \"analysis_url\"])\n",
    "\tsong_features_df = song_features_df.rename(mapper={\"artist_genres\": \"genres\", \"id\": \"track_id\"}, axis=1)\n",
    "\tsong_features_df = song_features_df[EXPECTED_COLUMN_ORDER]\n",
    "\treturn song_features_df\n",
    "\n",
    "def get_playlist_vector_from_uri(spotify: spotipy.Spotify, playlist_uri: str, scalers_and_encoders: Optional[dict] = None) -> pd.DataFrame:\n",
    "\tplaylist_features = dataframe_from_playlist(spotify, playlist_uri)\n",
    "\tif not scalers_and_encoders:\n",
    "\t\tscalers_and_encoders = encoding.fit_scalers_and_encoders(playlist_features)\n",
    "\tplaylist_features = encoding.encode_dataframe_given_scalers(playlist_features, scalers_and_encoders)\n",
    "\tplaylist_features = playlist_features.drop(columns=[*encoding.UNUSED_COLUMNS, 'track_id'])\n",
    "\tplaylist_feature_vector = playlist_features.sum(axis=0, numeric_only=False)\n",
    "\treturn playlist_feature_vector\n",
    "\n",
    "def get_k_closest_songs(spotify: spotipy.Spotify,\n",
    "\t\t\t\t\t\tplaylist_uri: str,\n",
    "                        training_data: pd.DataFrame,\n",
    "                        training_transformers: dict,\n",
    "                        k: int = 15,\n",
    "                        comparison: Callable = cosine_similarity) -> List[str]:\n",
    "    \"\"\"\n",
    "    Returns a list of the URIs of the k closest songs found in the dataset.\n",
    "    :param playlist_uri:\n",
    "    :param training_data:\n",
    "    :param training_transformers:\n",
    "    :param k:\n",
    "    :param comparison:\n",
    "    :return:\n",
    "    \"\"\"\n",
    "    training_data_to_use = training_data.drop(columns=encoding.UNUSED_COLUMNS)\n",
    "\n",
    "    playlist_feature_vector = get_playlist_vector_from_uri(spotify, playlist_uri, training_transformers)\n",
    "    training_data_to_use['similarity'] = comparison(playlist_feature_vector.values.reshape(1, -1),\n",
    "                                                    training_data_to_use[training_data_to_use.columns]).transpose()\n",
    "    training_data_to_use = training_data_to_use.sort_values(by='similarity', ascending=False)\n",
    "    return list(training_data_to_use.head(k).index)"
   ],
   "metadata": {
    "collapsed": false
   }
  },
  {
   "cell_type": "code",
   "execution_count": 5,
   "outputs": [
    {
     "name": "stderr",
     "output_type": "stream",
     "text": [
      "C:\\Users\\Jojo Broussard\\AppData\\Local\\Temp\\ipykernel_3024\\1704423401.py:1: DtypeWarning: Columns (1,2,16) have mixed types. Specify dtype option on import or set low_memory=False.\n",
      "  training_dataset = pd.read_csv(REPO_ROOT / 'data/song_data/final_song_dataset.csv')\n"
     ]
    }
   ],
   "source": [
    "training_dataset = pd.read_csv(REPO_ROOT / 'data/song_data/final_song_dataset.csv')\n",
    "training_dataset, training_scalers_and_encoders = encoding.encode_training_data(training_dataset)"
   ],
   "metadata": {
    "collapsed": false
   }
  },
  {
   "cell_type": "code",
   "execution_count": 6,
   "outputs": [
    {
     "ename": "KeyboardInterrupt",
     "evalue": "",
     "output_type": "error",
     "traceback": [
      "\u001B[1;31m---------------------------------------------------------------------------\u001B[0m",
      "\u001B[1;31mKeyboardInterrupt\u001B[0m                         Traceback (most recent call last)",
      "Cell \u001B[1;32mIn [6], line 1\u001B[0m\n\u001B[1;32m----> 1\u001B[0m playlist_feature_vector \u001B[38;5;241m=\u001B[39m \u001B[43mget_playlist_vector_from_uri\u001B[49m\u001B[43m(\u001B[49m\u001B[43msp\u001B[49m\u001B[43m,\u001B[49m\u001B[43m \u001B[49m\u001B[43mplaylist_uri\u001B[49m\u001B[43m)\u001B[49m\n",
      "Cell \u001B[1;32mIn [4], line 75\u001B[0m, in \u001B[0;36mget_playlist_vector_from_uri\u001B[1;34m(spotify, playlist_uri, scalers_and_encoders)\u001B[0m\n\u001B[0;32m     74\u001B[0m \u001B[38;5;28;01mdef\u001B[39;00m \u001B[38;5;21mget_playlist_vector_from_uri\u001B[39m(spotify: spotipy\u001B[38;5;241m.\u001B[39mSpotify, playlist_uri: \u001B[38;5;28mstr\u001B[39m, scalers_and_encoders: Optional[\u001B[38;5;28mdict\u001B[39m] \u001B[38;5;241m=\u001B[39m \u001B[38;5;28;01mNone\u001B[39;00m) \u001B[38;5;241m-\u001B[39m\u001B[38;5;241m>\u001B[39m pd\u001B[38;5;241m.\u001B[39mDataFrame:\n\u001B[1;32m---> 75\u001B[0m \tplaylist_features \u001B[38;5;241m=\u001B[39m \u001B[43mdataframe_from_playlist\u001B[49m\u001B[43m(\u001B[49m\u001B[43mspotify\u001B[49m\u001B[43m,\u001B[49m\u001B[43m \u001B[49m\u001B[43mplaylist_uri\u001B[49m\u001B[43m)\u001B[49m\n\u001B[0;32m     76\u001B[0m \t\u001B[38;5;28;01mif\u001B[39;00m \u001B[38;5;129;01mnot\u001B[39;00m scalers_and_encoders:\n\u001B[0;32m     77\u001B[0m \t\tscalers_and_encoders \u001B[38;5;241m=\u001B[39m encoding\u001B[38;5;241m.\u001B[39mfit_scalers_and_encoders(playlist_features)\n",
      "Cell \u001B[1;32mIn [4], line 63\u001B[0m, in \u001B[0;36mdataframe_from_playlist\u001B[1;34m(spotify, playlist_uri)\u001B[0m\n\u001B[0;32m     61\u001B[0m playlist_song_features \u001B[38;5;241m=\u001B[39m get_playlist_song_features(spotify, playlist_uri)\n\u001B[0;32m     62\u001B[0m playlist_song_uris \u001B[38;5;241m=\u001B[39m [features[\u001B[38;5;124m'\u001B[39m\u001B[38;5;124muri\u001B[39m\u001B[38;5;124m'\u001B[39m] \u001B[38;5;28;01mfor\u001B[39;00m features \u001B[38;5;129;01min\u001B[39;00m playlist_song_features]\n\u001B[1;32m---> 63\u001B[0m playlist_artist_info \u001B[38;5;241m=\u001B[39m \u001B[43mget_artists_from_track_uris\u001B[49m\u001B[43m(\u001B[49m\u001B[43mspotify\u001B[49m\u001B[43m,\u001B[49m\u001B[43m \u001B[49m\u001B[43mplaylist_song_uris\u001B[49m\u001B[43m)\u001B[49m\n\u001B[0;32m     65\u001B[0m song_features_df \u001B[38;5;241m=\u001B[39m pd\u001B[38;5;241m.\u001B[39mDataFrame\u001B[38;5;241m.\u001B[39mfrom_records(playlist_song_features)\n\u001B[0;32m     66\u001B[0m artist_info_df \u001B[38;5;241m=\u001B[39m pd\u001B[38;5;241m.\u001B[39mDataFrame\u001B[38;5;241m.\u001B[39mfrom_records(playlist_artist_info)\n",
      "Cell \u001B[1;32mIn [4], line 29\u001B[0m, in \u001B[0;36mget_artists_from_track_uris\u001B[1;34m(spotify, track_uris)\u001B[0m\n\u001B[0;32m     27\u001B[0m results \u001B[38;5;241m=\u001B[39m []\n\u001B[0;32m     28\u001B[0m \u001B[38;5;28;01mfor\u001B[39;00m chunk \u001B[38;5;129;01min\u001B[39;00m chunked_track_uris:\n\u001B[1;32m---> 29\u001B[0m \ttracks_info \u001B[38;5;241m=\u001B[39m \u001B[43mspotify\u001B[49m\u001B[38;5;241;43m.\u001B[39;49m\u001B[43mtracks\u001B[49m\u001B[43m(\u001B[49m\u001B[43mchunk\u001B[49m\u001B[43m)\u001B[49m[\u001B[38;5;124m'\u001B[39m\u001B[38;5;124mtracks\u001B[39m\u001B[38;5;124m'\u001B[39m]\n\u001B[0;32m     30\u001B[0m \tartists \u001B[38;5;241m=\u001B[39m [track_info[\u001B[38;5;124m'\u001B[39m\u001B[38;5;124martists\u001B[39m\u001B[38;5;124m'\u001B[39m][\u001B[38;5;241m0\u001B[39m][\u001B[38;5;124m'\u001B[39m\u001B[38;5;124mid\u001B[39m\u001B[38;5;124m'\u001B[39m] \u001B[38;5;28;01mfor\u001B[39;00m track_info \u001B[38;5;129;01min\u001B[39;00m tracks_info]\n\u001B[0;32m     31\u001B[0m \tartists_info \u001B[38;5;241m=\u001B[39m spotify\u001B[38;5;241m.\u001B[39martists(artists)\n",
      "File \u001B[1;32m~\\PycharmProjects\\recommender-project\\venv\\lib\\site-packages\\spotipy\\client.py:356\u001B[0m, in \u001B[0;36mSpotify.tracks\u001B[1;34m(self, tracks, market)\u001B[0m\n\u001B[0;32m    348\u001B[0m \u001B[38;5;124;03m\"\"\" returns a list of tracks given a list of track IDs, URIs, or URLs\u001B[39;00m\n\u001B[0;32m    349\u001B[0m \n\u001B[0;32m    350\u001B[0m \u001B[38;5;124;03m    Parameters:\u001B[39;00m\n\u001B[0;32m    351\u001B[0m \u001B[38;5;124;03m        - tracks - a list of spotify URIs, URLs or IDs. Maximum: 50 IDs.\u001B[39;00m\n\u001B[0;32m    352\u001B[0m \u001B[38;5;124;03m        - market - an ISO 3166-1 alpha-2 country code.\u001B[39;00m\n\u001B[0;32m    353\u001B[0m \u001B[38;5;124;03m\"\"\"\u001B[39;00m\n\u001B[0;32m    355\u001B[0m tlist \u001B[38;5;241m=\u001B[39m [\u001B[38;5;28mself\u001B[39m\u001B[38;5;241m.\u001B[39m_get_id(\u001B[38;5;124m\"\u001B[39m\u001B[38;5;124mtrack\u001B[39m\u001B[38;5;124m\"\u001B[39m, t) \u001B[38;5;28;01mfor\u001B[39;00m t \u001B[38;5;129;01min\u001B[39;00m tracks]\n\u001B[1;32m--> 356\u001B[0m \u001B[38;5;28;01mreturn\u001B[39;00m \u001B[38;5;28;43mself\u001B[39;49m\u001B[38;5;241;43m.\u001B[39;49m\u001B[43m_get\u001B[49m\u001B[43m(\u001B[49m\u001B[38;5;124;43m\"\u001B[39;49m\u001B[38;5;124;43mtracks/?ids=\u001B[39;49m\u001B[38;5;124;43m\"\u001B[39;49m\u001B[43m \u001B[49m\u001B[38;5;241;43m+\u001B[39;49m\u001B[43m \u001B[49m\u001B[38;5;124;43m\"\u001B[39;49m\u001B[38;5;124;43m,\u001B[39;49m\u001B[38;5;124;43m\"\u001B[39;49m\u001B[38;5;241;43m.\u001B[39;49m\u001B[43mjoin\u001B[49m\u001B[43m(\u001B[49m\u001B[43mtlist\u001B[49m\u001B[43m)\u001B[49m\u001B[43m,\u001B[49m\u001B[43m \u001B[49m\u001B[43mmarket\u001B[49m\u001B[38;5;241;43m=\u001B[39;49m\u001B[43mmarket\u001B[49m\u001B[43m)\u001B[49m\n",
      "File \u001B[1;32m~\\PycharmProjects\\recommender-project\\venv\\lib\\site-packages\\spotipy\\client.py:297\u001B[0m, in \u001B[0;36mSpotify._get\u001B[1;34m(self, url, args, payload, **kwargs)\u001B[0m\n\u001B[0;32m    294\u001B[0m \u001B[38;5;28;01mif\u001B[39;00m args:\n\u001B[0;32m    295\u001B[0m     kwargs\u001B[38;5;241m.\u001B[39mupdate(args)\n\u001B[1;32m--> 297\u001B[0m \u001B[38;5;28;01mreturn\u001B[39;00m \u001B[38;5;28;43mself\u001B[39;49m\u001B[38;5;241;43m.\u001B[39;49m\u001B[43m_internal_call\u001B[49m\u001B[43m(\u001B[49m\u001B[38;5;124;43m\"\u001B[39;49m\u001B[38;5;124;43mGET\u001B[39;49m\u001B[38;5;124;43m\"\u001B[39;49m\u001B[43m,\u001B[49m\u001B[43m \u001B[49m\u001B[43murl\u001B[49m\u001B[43m,\u001B[49m\u001B[43m \u001B[49m\u001B[43mpayload\u001B[49m\u001B[43m,\u001B[49m\u001B[43m \u001B[49m\u001B[43mkwargs\u001B[49m\u001B[43m)\u001B[49m\n",
      "File \u001B[1;32m~\\PycharmProjects\\recommender-project\\venv\\lib\\site-packages\\spotipy\\client.py:240\u001B[0m, in \u001B[0;36mSpotify._internal_call\u001B[1;34m(self, method, url, payload, params)\u001B[0m\n\u001B[0;32m    236\u001B[0m logger\u001B[38;5;241m.\u001B[39mdebug(\u001B[38;5;124m'\u001B[39m\u001B[38;5;124mSending \u001B[39m\u001B[38;5;132;01m%s\u001B[39;00m\u001B[38;5;124m to \u001B[39m\u001B[38;5;132;01m%s\u001B[39;00m\u001B[38;5;124m with Params: \u001B[39m\u001B[38;5;132;01m%s\u001B[39;00m\u001B[38;5;124m Headers: \u001B[39m\u001B[38;5;132;01m%s\u001B[39;00m\u001B[38;5;124m and Body: \u001B[39m\u001B[38;5;132;01m%r\u001B[39;00m\u001B[38;5;124m \u001B[39m\u001B[38;5;124m'\u001B[39m,\n\u001B[0;32m    237\u001B[0m              method, url, args\u001B[38;5;241m.\u001B[39mget(\u001B[38;5;124m\"\u001B[39m\u001B[38;5;124mparams\u001B[39m\u001B[38;5;124m\"\u001B[39m), headers, args\u001B[38;5;241m.\u001B[39mget(\u001B[38;5;124m'\u001B[39m\u001B[38;5;124mdata\u001B[39m\u001B[38;5;124m'\u001B[39m))\n\u001B[0;32m    239\u001B[0m \u001B[38;5;28;01mtry\u001B[39;00m:\n\u001B[1;32m--> 240\u001B[0m     response \u001B[38;5;241m=\u001B[39m \u001B[38;5;28;43mself\u001B[39;49m\u001B[38;5;241;43m.\u001B[39;49m\u001B[43m_session\u001B[49m\u001B[38;5;241;43m.\u001B[39;49m\u001B[43mrequest\u001B[49m\u001B[43m(\u001B[49m\n\u001B[0;32m    241\u001B[0m \u001B[43m        \u001B[49m\u001B[43mmethod\u001B[49m\u001B[43m,\u001B[49m\u001B[43m \u001B[49m\u001B[43murl\u001B[49m\u001B[43m,\u001B[49m\u001B[43m \u001B[49m\u001B[43mheaders\u001B[49m\u001B[38;5;241;43m=\u001B[39;49m\u001B[43mheaders\u001B[49m\u001B[43m,\u001B[49m\u001B[43m \u001B[49m\u001B[43mproxies\u001B[49m\u001B[38;5;241;43m=\u001B[39;49m\u001B[38;5;28;43mself\u001B[39;49m\u001B[38;5;241;43m.\u001B[39;49m\u001B[43mproxies\u001B[49m\u001B[43m,\u001B[49m\n\u001B[0;32m    242\u001B[0m \u001B[43m        \u001B[49m\u001B[43mtimeout\u001B[49m\u001B[38;5;241;43m=\u001B[39;49m\u001B[38;5;28;43mself\u001B[39;49m\u001B[38;5;241;43m.\u001B[39;49m\u001B[43mrequests_timeout\u001B[49m\u001B[43m,\u001B[49m\u001B[43m \u001B[49m\u001B[38;5;241;43m*\u001B[39;49m\u001B[38;5;241;43m*\u001B[39;49m\u001B[43margs\u001B[49m\n\u001B[0;32m    243\u001B[0m \u001B[43m    \u001B[49m\u001B[43m)\u001B[49m\n\u001B[0;32m    245\u001B[0m     response\u001B[38;5;241m.\u001B[39mraise_for_status()\n\u001B[0;32m    246\u001B[0m     results \u001B[38;5;241m=\u001B[39m response\u001B[38;5;241m.\u001B[39mjson()\n",
      "File \u001B[1;32m~\\PycharmProjects\\recommender-project\\venv\\lib\\site-packages\\requests\\sessions.py:587\u001B[0m, in \u001B[0;36mSession.request\u001B[1;34m(self, method, url, params, data, headers, cookies, files, auth, timeout, allow_redirects, proxies, hooks, stream, verify, cert, json)\u001B[0m\n\u001B[0;32m    582\u001B[0m send_kwargs \u001B[38;5;241m=\u001B[39m {\n\u001B[0;32m    583\u001B[0m     \u001B[38;5;124m\"\u001B[39m\u001B[38;5;124mtimeout\u001B[39m\u001B[38;5;124m\"\u001B[39m: timeout,\n\u001B[0;32m    584\u001B[0m     \u001B[38;5;124m\"\u001B[39m\u001B[38;5;124mallow_redirects\u001B[39m\u001B[38;5;124m\"\u001B[39m: allow_redirects,\n\u001B[0;32m    585\u001B[0m }\n\u001B[0;32m    586\u001B[0m send_kwargs\u001B[38;5;241m.\u001B[39mupdate(settings)\n\u001B[1;32m--> 587\u001B[0m resp \u001B[38;5;241m=\u001B[39m \u001B[38;5;28;43mself\u001B[39;49m\u001B[38;5;241;43m.\u001B[39;49m\u001B[43msend\u001B[49m\u001B[43m(\u001B[49m\u001B[43mprep\u001B[49m\u001B[43m,\u001B[49m\u001B[43m \u001B[49m\u001B[38;5;241;43m*\u001B[39;49m\u001B[38;5;241;43m*\u001B[39;49m\u001B[43msend_kwargs\u001B[49m\u001B[43m)\u001B[49m\n\u001B[0;32m    589\u001B[0m \u001B[38;5;28;01mreturn\u001B[39;00m resp\n",
      "File \u001B[1;32m~\\PycharmProjects\\recommender-project\\venv\\lib\\site-packages\\requests\\sessions.py:701\u001B[0m, in \u001B[0;36mSession.send\u001B[1;34m(self, request, **kwargs)\u001B[0m\n\u001B[0;32m    698\u001B[0m start \u001B[38;5;241m=\u001B[39m preferred_clock()\n\u001B[0;32m    700\u001B[0m \u001B[38;5;66;03m# Send the request\u001B[39;00m\n\u001B[1;32m--> 701\u001B[0m r \u001B[38;5;241m=\u001B[39m \u001B[43madapter\u001B[49m\u001B[38;5;241;43m.\u001B[39;49m\u001B[43msend\u001B[49m\u001B[43m(\u001B[49m\u001B[43mrequest\u001B[49m\u001B[43m,\u001B[49m\u001B[43m \u001B[49m\u001B[38;5;241;43m*\u001B[39;49m\u001B[38;5;241;43m*\u001B[39;49m\u001B[43mkwargs\u001B[49m\u001B[43m)\u001B[49m\n\u001B[0;32m    703\u001B[0m \u001B[38;5;66;03m# Total elapsed time of the request (approximately)\u001B[39;00m\n\u001B[0;32m    704\u001B[0m elapsed \u001B[38;5;241m=\u001B[39m preferred_clock() \u001B[38;5;241m-\u001B[39m start\n",
      "File \u001B[1;32m~\\PycharmProjects\\recommender-project\\venv\\lib\\site-packages\\requests\\adapters.py:489\u001B[0m, in \u001B[0;36mHTTPAdapter.send\u001B[1;34m(self, request, stream, timeout, verify, cert, proxies)\u001B[0m\n\u001B[0;32m    487\u001B[0m \u001B[38;5;28;01mtry\u001B[39;00m:\n\u001B[0;32m    488\u001B[0m     \u001B[38;5;28;01mif\u001B[39;00m \u001B[38;5;129;01mnot\u001B[39;00m chunked:\n\u001B[1;32m--> 489\u001B[0m         resp \u001B[38;5;241m=\u001B[39m \u001B[43mconn\u001B[49m\u001B[38;5;241;43m.\u001B[39;49m\u001B[43murlopen\u001B[49m\u001B[43m(\u001B[49m\n\u001B[0;32m    490\u001B[0m \u001B[43m            \u001B[49m\u001B[43mmethod\u001B[49m\u001B[38;5;241;43m=\u001B[39;49m\u001B[43mrequest\u001B[49m\u001B[38;5;241;43m.\u001B[39;49m\u001B[43mmethod\u001B[49m\u001B[43m,\u001B[49m\n\u001B[0;32m    491\u001B[0m \u001B[43m            \u001B[49m\u001B[43murl\u001B[49m\u001B[38;5;241;43m=\u001B[39;49m\u001B[43murl\u001B[49m\u001B[43m,\u001B[49m\n\u001B[0;32m    492\u001B[0m \u001B[43m            \u001B[49m\u001B[43mbody\u001B[49m\u001B[38;5;241;43m=\u001B[39;49m\u001B[43mrequest\u001B[49m\u001B[38;5;241;43m.\u001B[39;49m\u001B[43mbody\u001B[49m\u001B[43m,\u001B[49m\n\u001B[0;32m    493\u001B[0m \u001B[43m            \u001B[49m\u001B[43mheaders\u001B[49m\u001B[38;5;241;43m=\u001B[39;49m\u001B[43mrequest\u001B[49m\u001B[38;5;241;43m.\u001B[39;49m\u001B[43mheaders\u001B[49m\u001B[43m,\u001B[49m\n\u001B[0;32m    494\u001B[0m \u001B[43m            \u001B[49m\u001B[43mredirect\u001B[49m\u001B[38;5;241;43m=\u001B[39;49m\u001B[38;5;28;43;01mFalse\u001B[39;49;00m\u001B[43m,\u001B[49m\n\u001B[0;32m    495\u001B[0m \u001B[43m            \u001B[49m\u001B[43massert_same_host\u001B[49m\u001B[38;5;241;43m=\u001B[39;49m\u001B[38;5;28;43;01mFalse\u001B[39;49;00m\u001B[43m,\u001B[49m\n\u001B[0;32m    496\u001B[0m \u001B[43m            \u001B[49m\u001B[43mpreload_content\u001B[49m\u001B[38;5;241;43m=\u001B[39;49m\u001B[38;5;28;43;01mFalse\u001B[39;49;00m\u001B[43m,\u001B[49m\n\u001B[0;32m    497\u001B[0m \u001B[43m            \u001B[49m\u001B[43mdecode_content\u001B[49m\u001B[38;5;241;43m=\u001B[39;49m\u001B[38;5;28;43;01mFalse\u001B[39;49;00m\u001B[43m,\u001B[49m\n\u001B[0;32m    498\u001B[0m \u001B[43m            \u001B[49m\u001B[43mretries\u001B[49m\u001B[38;5;241;43m=\u001B[39;49m\u001B[38;5;28;43mself\u001B[39;49m\u001B[38;5;241;43m.\u001B[39;49m\u001B[43mmax_retries\u001B[49m\u001B[43m,\u001B[49m\n\u001B[0;32m    499\u001B[0m \u001B[43m            \u001B[49m\u001B[43mtimeout\u001B[49m\u001B[38;5;241;43m=\u001B[39;49m\u001B[43mtimeout\u001B[49m\u001B[43m,\u001B[49m\n\u001B[0;32m    500\u001B[0m \u001B[43m        \u001B[49m\u001B[43m)\u001B[49m\n\u001B[0;32m    502\u001B[0m     \u001B[38;5;66;03m# Send the request.\u001B[39;00m\n\u001B[0;32m    503\u001B[0m     \u001B[38;5;28;01melse\u001B[39;00m:\n\u001B[0;32m    504\u001B[0m         \u001B[38;5;28;01mif\u001B[39;00m \u001B[38;5;28mhasattr\u001B[39m(conn, \u001B[38;5;124m\"\u001B[39m\u001B[38;5;124mproxy_pool\u001B[39m\u001B[38;5;124m\"\u001B[39m):\n",
      "File \u001B[1;32m~\\PycharmProjects\\recommender-project\\venv\\lib\\site-packages\\urllib3\\connectionpool.py:876\u001B[0m, in \u001B[0;36mHTTPConnectionPool.urlopen\u001B[1;34m(self, method, url, body, headers, retries, redirect, assert_same_host, timeout, pool_timeout, release_conn, chunked, body_pos, **response_kw)\u001B[0m\n\u001B[0;32m    873\u001B[0m     \u001B[38;5;28;01mreturn\u001B[39;00m response\n\u001B[0;32m    875\u001B[0m response\u001B[38;5;241m.\u001B[39mdrain_conn()\n\u001B[1;32m--> 876\u001B[0m \u001B[43mretries\u001B[49m\u001B[38;5;241;43m.\u001B[39;49m\u001B[43msleep\u001B[49m\u001B[43m(\u001B[49m\u001B[43mresponse\u001B[49m\u001B[43m)\u001B[49m\n\u001B[0;32m    877\u001B[0m log\u001B[38;5;241m.\u001B[39mdebug(\u001B[38;5;124m\"\u001B[39m\u001B[38;5;124mRetry: \u001B[39m\u001B[38;5;132;01m%s\u001B[39;00m\u001B[38;5;124m\"\u001B[39m, url)\n\u001B[0;32m    878\u001B[0m \u001B[38;5;28;01mreturn\u001B[39;00m \u001B[38;5;28mself\u001B[39m\u001B[38;5;241m.\u001B[39murlopen(\n\u001B[0;32m    879\u001B[0m     method,\n\u001B[0;32m    880\u001B[0m     url,\n\u001B[1;32m   (...)\u001B[0m\n\u001B[0;32m    891\u001B[0m     \u001B[38;5;241m*\u001B[39m\u001B[38;5;241m*\u001B[39mresponse_kw\n\u001B[0;32m    892\u001B[0m )\n",
      "File \u001B[1;32m~\\PycharmProjects\\recommender-project\\venv\\lib\\site-packages\\urllib3\\util\\retry.py:428\u001B[0m, in \u001B[0;36mRetry.sleep\u001B[1;34m(self, response)\u001B[0m\n\u001B[0;32m    419\u001B[0m \u001B[38;5;124;03m\"\"\"Sleep between retry attempts.\u001B[39;00m\n\u001B[0;32m    420\u001B[0m \n\u001B[0;32m    421\u001B[0m \u001B[38;5;124;03mThis method will respect a server's ``Retry-After`` response header\u001B[39;00m\n\u001B[1;32m   (...)\u001B[0m\n\u001B[0;32m    424\u001B[0m \u001B[38;5;124;03mthis method will return immediately.\u001B[39;00m\n\u001B[0;32m    425\u001B[0m \u001B[38;5;124;03m\"\"\"\u001B[39;00m\n\u001B[0;32m    427\u001B[0m \u001B[38;5;28;01mif\u001B[39;00m \u001B[38;5;28mself\u001B[39m\u001B[38;5;241m.\u001B[39mrespect_retry_after_header \u001B[38;5;129;01mand\u001B[39;00m response:\n\u001B[1;32m--> 428\u001B[0m     slept \u001B[38;5;241m=\u001B[39m \u001B[38;5;28;43mself\u001B[39;49m\u001B[38;5;241;43m.\u001B[39;49m\u001B[43msleep_for_retry\u001B[49m\u001B[43m(\u001B[49m\u001B[43mresponse\u001B[49m\u001B[43m)\u001B[49m\n\u001B[0;32m    429\u001B[0m     \u001B[38;5;28;01mif\u001B[39;00m slept:\n\u001B[0;32m    430\u001B[0m         \u001B[38;5;28;01mreturn\u001B[39;00m\n",
      "File \u001B[1;32m~\\PycharmProjects\\recommender-project\\venv\\lib\\site-packages\\urllib3\\util\\retry.py:407\u001B[0m, in \u001B[0;36mRetry.sleep_for_retry\u001B[1;34m(self, response)\u001B[0m\n\u001B[0;32m    405\u001B[0m retry_after \u001B[38;5;241m=\u001B[39m \u001B[38;5;28mself\u001B[39m\u001B[38;5;241m.\u001B[39mget_retry_after(response)\n\u001B[0;32m    406\u001B[0m \u001B[38;5;28;01mif\u001B[39;00m retry_after:\n\u001B[1;32m--> 407\u001B[0m     \u001B[43mtime\u001B[49m\u001B[38;5;241;43m.\u001B[39;49m\u001B[43msleep\u001B[49m\u001B[43m(\u001B[49m\u001B[43mretry_after\u001B[49m\u001B[43m)\u001B[49m\n\u001B[0;32m    408\u001B[0m     \u001B[38;5;28;01mreturn\u001B[39;00m \u001B[38;5;28;01mTrue\u001B[39;00m\n\u001B[0;32m    410\u001B[0m \u001B[38;5;28;01mreturn\u001B[39;00m \u001B[38;5;28;01mFalse\u001B[39;00m\n",
      "\u001B[1;31mKeyboardInterrupt\u001B[0m: "
     ]
    }
   ],
   "source": [
    "playlist_feature_vector = get_playlist_vector_from_uri(sp, playlist_uri)"
   ],
   "metadata": {
    "collapsed": false
   }
  },
  {
   "cell_type": "code",
   "execution_count": null,
   "outputs": [],
   "source": [
    "playlist_feature_vector"
   ],
   "metadata": {
    "collapsed": false
   }
  }
 ],
 "metadata": {
  "kernelspec": {
   "display_name": "Python 3",
   "language": "python",
   "name": "python3"
  },
  "language_info": {
   "codemirror_mode": {
    "name": "ipython",
    "version": 2
   },
   "file_extension": ".py",
   "mimetype": "text/x-python",
   "name": "python",
   "nbconvert_exporter": "python",
   "pygments_lexer": "ipython2",
   "version": "2.7.6"
  }
 },
 "nbformat": 4,
 "nbformat_minor": 0
}
